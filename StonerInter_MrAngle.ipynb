{
 "cells": [
  {
   "cell_type": "markdown",
   "metadata": {},
   "source": [
    "   # Extending Single Domain Approach: the effect of interactions\n",
    "\n",
    "## Here it will be implemented 'my approach' to include interactions in the free energy density within the Stoner-Wohlfarth (single-domain) framework. It will be addressed magnetic interactions, such as dipole-dipole, exchange and dzyaloshinskii-moriya to calculate magnetization curves. Basically, for a given particle 'j' of the array in the step 'k' of the hysteresis procedure, the magnetization value ( described by $(\\theta_j,\\phi_j)$) of its neighbors will be approximated by its value in the step 'k-1'th (previous computation of the magnetic moments orientation). In this way, starting from technical saturation at high fields, the magnetization angles of the whole array can be calculated through common energy minimization procedures. The approach succeeds when the field-step is small enough to assure convergence of the calculations."
   ]
  },
  {
   "cell_type": "code",
   "execution_count": null,
   "metadata": {},
   "outputs": [],
   "source": []
  },
  {
   "cell_type": "code",
   "execution_count": null,
   "metadata": {},
   "outputs": [],
   "source": []
  },
  {
   "cell_type": "code",
   "execution_count": 258,
   "metadata": {},
   "outputs": [],
   "source": [
    "# the necessary import statements!\n",
    "\n",
    "# to paralelize and accelerate the calculations\n",
    "import numba as nb\n",
    "from numba import jit\n",
    "from numba import njit\n",
    "\n",
    "\n",
    "import joblib\n",
    "from joblib import Parallel, delayed\n",
    "import multiprocessing\n",
    "\n",
    "\n",
    "# numpy for fast calculations using arrays\n",
    "import numpy as np\n",
    "\n",
    "# scipy for minimization\n",
    "import scipy\n",
    "from scipy import optimize\n",
    "from scipy.optimize import minimize as spmin\n",
    "from scipy.optimize import Bounds\n",
    "\n",
    "# some trigonometric functions\n",
    "from math import pi, sin, cos, sqrt\n",
    "import math\n",
    "\n",
    "# to plot graphics\n",
    "import matplotlib.pyplot as plt\n",
    "%matplotlib inline\n",
    "\n",
    "# the time of some calculations\n",
    "import timeit\n",
    "\n",
    "import dlib\n",
    "\n",
    "import random\n",
    "\n",
    "from tqdm import tnrange, tqdm_notebook"
   ]
  },
  {
   "cell_type": "code",
   "execution_count": 259,
   "metadata": {},
   "outputs": [],
   "source": [
    "#from numba import numba_scipy"
   ]
  },
  {
   "cell_type": "code",
   "execution_count": 546,
   "metadata": {},
   "outputs": [],
   "source": [
    "# parameters of the simulation\n",
    "\n",
    "Msat=float(1000)\n",
    "Ms=float(1/1000)\n",
    "\n",
    "#K1=float(((1*1.00)*10**4))\n",
    "K1=float(((-1*6.00)*10**4))\n",
    "K2=float((-0*0.05*10**5))\n",
    "Kuni=float((-0*0.3*10**4))\n",
    "Kuni2=float((0*0.5*10**4))\n",
    "K1mel=float((0*0.5*10**4))\n",
    "K1out=float((0*2.0*10**4))\n",
    "Knucl=float((0*1.0*10**4))\n",
    "\n",
    "Neff=float(-0.00*1.000)\n",
    "#field-dependent anisotropy\n",
    "Kfd=float(-0*0.30*10**0)\n",
    "#Krot=float((1*2.50*10**4))\n",
    "Krot=float((-0*1.65*10**4))\n",
    "Krot2=float((-0*1.80*10**3))\n",
    "htheta=float(+2*pi/4.+1.00*pi/180.)\n",
    "hphi=float(0*pi/4+5.00*pi/180.)\n",
    "\n",
    "# Nanoparticle arrangement order\n",
    "# 1-> square\n",
    "# 2-> ring\n",
    "# 3-> nanomembrane\n",
    "np_order = 3\n",
    "\n",
    "\n",
    "Nparticles=10\n",
    "\n",
    "height=40\n",
    "\n",
    "NN=Nparticles**3\n",
    "NN2=Nparticles**2\n",
    "\n",
    "NN2=10\n",
    "\n",
    "# interaction strengths!\n",
    "\n",
    "m = -0*0.008\n",
    "\n",
    "beta = 1*0.005\n",
    "\n",
    "jota = -0*0.004\n",
    "\n",
    "jotabi = -0*0.04\n",
    "\n"
   ]
  },
  {
   "cell_type": "code",
   "execution_count": 547,
   "metadata": {},
   "outputs": [
    {
     "data": {
      "text/plain": [
       "(1.2309594173407747, 0.9461686134701807)"
      ]
     },
     "execution_count": 547,
     "metadata": {},
     "output_type": "execute_result"
    }
   ],
   "source": [
    "np.arccos(1/3.),np.arccos(1/1.71)"
   ]
  },
  {
   "cell_type": "code",
   "execution_count": 548,
   "metadata": {},
   "outputs": [
    {
     "data": {
      "text/plain": [
       "1.5882496193148399"
      ]
     },
     "execution_count": 548,
     "metadata": {},
     "output_type": "execute_result"
    }
   ],
   "source": [
    "htheta"
   ]
  },
  {
   "cell_type": "code",
   "execution_count": 549,
   "metadata": {},
   "outputs": [
    {
     "name": "stdout",
     "output_type": "stream",
     "text": [
      "0.005 0.0 0.0 -0.06 0.0\n"
     ]
    }
   ],
   "source": [
    "print(beta,Krot/Msat**2,m,K1/Msat**2,Kuni)"
   ]
  },
  {
   "cell_type": "code",
   "execution_count": 550,
   "metadata": {},
   "outputs": [
    {
     "name": "stdout",
     "output_type": "stream",
     "text": [
      "-60000.0 0.0 0.0 1000.0 600\n"
     ]
    }
   ],
   "source": [
    "# applied field parameters\n",
    "\n",
    "hini=-104.00*1\n",
    "hfinal=104.00*1\n",
    "step=600*1\n",
    "stepmag=0.15/step\n",
    "stepmag=0.00/step\n",
    "hpasso=(hfinal-hini)/step\n",
    "print(K1,K2,Krot,Msat,step)"
   ]
  },
  {
   "cell_type": "code",
   "execution_count": 551,
   "metadata": {},
   "outputs": [],
   "source": [
    "# array for angle dispersion in 'phi' and 'theta'\n",
    "\n",
    "phi_np = np.array([0*random.random() for x in range(NN2)],dtype=np.float64)\n",
    "theta_np = np.array([0*random.random() for x in range(NN2)],dtype=np.float64)\n",
    "#print(phi_np)"
   ]
  },
  {
   "cell_type": "code",
   "execution_count": 552,
   "metadata": {},
   "outputs": [],
   "source": [
    "# the function that defines the common magnetic anisotropy terms\n",
    "#@jit(nopython=True)\n",
    "@jit(nopython=True,parallel=True)\n",
    "#def anisotropy(phi,theta,K1,K2,h,htheta,hphi,Msat,i):\n",
    "def anisotropy(phi,theta,K1,K2,h,htheta,hphi,Msat,i,phiantarray,thetaantarray):\n",
    "\n",
    "    phiant=phiantarray[i]\n",
    "    thetaant=thetaantarray[i]\n",
    "\n",
    "#    anis+=Kuni/(Msat**2)*np.sin(phi-3.1415/4.)**2*np.sin(theta-3.1415/4.)**2\n",
    "#    anis=Kuni/(Msat**2)*np.sin(phi-3.1415/4.)**2*np.sin(theta-0.94)**2\n",
    "\n",
    "    anis=Kuni/(Msat**2)*np.cos(phi-3.1415/4.)**2*np.sin(phi-3.1415/4.)**2*np.sin(theta)**2\n",
    "#    anis=Kuni/(Msat**2)*(np.sin(phi-phi_np[i])**2*np.cos(phi-phi_np[i])**2*np.sin(theta-theta_np[i])**4+np.sin(phi-phi_np[i])**2*np.sin(theta-theta_np[i])**2*np.cos(theta-theta_np[i])**2+np.cos(phi-phi_np[i])**2*np.sin(theta-theta_np[i])**2*np.cos(theta-theta_np[i])**2)\n",
    "#    anis=Kuni/(Msat**2)*(np.sin(phi-phi_np[i])**2*np.cos(phi-phi_np[i])**2*np.sin(theta-theta_np[i])**4)\n",
    "    \n",
    "#    theta=theta+0.97\n",
    "#    phi=phi-3.1415/4.\n",
    "\n",
    "    \n",
    "# first-order cubic magnetocrystalline anisotropy\n",
    "#    anis=K1/(Msat**2)*(np.sin(phi-3.14/4.)**2*np.cos(phi-3.14/4.)**2*np.sin(theta-0.94)**4+np.sin(phi-3.14/4.)**2*np.sin(theta-0.94)**2*np.cos(theta-0.94)**2+np.cos(phi-3.14/4.)**2*np.sin(theta-0.94)**2*np.cos(theta-0.94)**2)\n",
    "#    anis=K1/(Msat**2)*(np.sin(phi-3.14/4.)**2*np.cos(phi-3.14/4.)**2*np.sin(theta)**4+np.sin(phi-3.14/4.)**2*np.sin(theta)**2*np.cos(theta)**2+np.cos(phi-3.14/4.)**2*np.sin(theta)**2*np.cos(theta)**2)\n",
    "    anis+=K1/(Msat**2)*(np.sin(phi-phi_np[i])**2*np.cos(phi-phi_np[i])**2*np.sin(theta-theta_np[i])**4+np.sin(phi-phi_np[i])**2*np.sin(theta-theta_np[i])**2*np.cos(theta-theta_np[i])**2+np.cos(phi-phi_np[i])**2*np.sin(theta-theta_np[i])**2*np.cos(theta-theta_np[i])**2)\n",
    "\n",
    "# second-order cubic magnetocrystalline anisotropy    \n",
    "    anis+=K2/(Msat**2)*np.sin(phi)**2*np.sin(theta)**2*np.cos(phi)**2*np.sin(theta)**2*np.cos(theta)**2\n",
    "\n",
    "    \n",
    "    \n",
    "    \n",
    "# demagnetizing energy\n",
    "    anis+=2*3.1415*Neff*np.cos(theta)**2\n",
    "\n",
    "    anis+=Knucl/(Msat**2)*np.sin(theta-thetaant)*np.cos(phi-phiant)**1\n",
    "    \n",
    "    anis+=K1out/(Msat**2)*np.cos(theta)**2\n",
    "\n",
    "    \n",
    "    # magelas anisotropy \n",
    "    \n",
    "#    anis+=K1mel/(Msat**2)*np.cos(phi-phi_np[i])**2*np.sin(theta-theta_np[i])**2\n",
    "#    anis+=K1mel/(Msat**2)*np.cos(theta)**2\n",
    "    anis+=K1mel/(Msat**2)*np.cos(phi-phi_np[i])**2*np.sin(theta-theta_np[i])**2\n",
    "    \n",
    "    \n",
    "# uniaxial anisotropy \n",
    "    \n",
    "    \n",
    "# uniaxial anisotropy \n",
    "    \n",
    "    anis+=Kuni2/(Msat**2)*np.sin(phi-3.1415/4.)**4*np.sin(theta-0.94)**4\n",
    "\n",
    "# field dependent anis!\n",
    "\n",
    "#    anis+=Kfd/(Msat**2)*h*Msat*(np.sin(htheta)*np.sin(theta)*np.cos(phi-hphi)+np.cos(htheta)*np.cos(theta))\n",
    "    anis+=Kfd/(Msat**2)*h*Msat**2*(np.sin(theta)*np.cos(phi-3.1415/4.))**2\n",
    "    \n",
    "# rotatable anis!\n",
    "\n",
    "#    anis+=Krot/(Msat**2)*(h*Msat)**1*(np.sin(htheta)*np.sin(theta)*np.cos(phi-hphi)+np.cos(htheta)*np.cos(theta))**1\n",
    "    anis+=Krot/(Msat**2)*(np.sin(htheta)*np.sin(theta-theta_np[i])*np.cos(phi-phi_np[i]-hphi)+np.cos(htheta)*np.cos(theta-theta_np[i]))**2\n",
    "    \n",
    "\n",
    "    \"\"\"\n",
    "    if(abs(h*Msat)>100):\n",
    "    \n",
    "        anis+=0*Krot/(Msat**2)*(np.sin(htheta)*np.sin(theta)*np.cos(phi-hphi)+np.cos(htheta)*np.cos(theta))**2\n",
    "    else:\n",
    "        anis+=(100-abs(h*Msat))/100.*Krot/(Msat**2)*(np.sin(htheta)*np.sin(theta)*np.cos(phi-hphi)+np.cos(htheta)*np.cos(theta))**2\n",
    "    \"\"\"\n",
    "    \n",
    "    anis+=Krot2/(Msat**2)*(np.sin(htheta)*np.sin(theta)*np.cos(phi-hphi)+np.cos(htheta)*np.cos(theta))**4\n",
    "    \n",
    "    \n",
    "    return anis\n",
    "    "
   ]
  },
  {
   "cell_type": "code",
   "execution_count": 553,
   "metadata": {},
   "outputs": [],
   "source": [
    "# Zeeman Energy\n",
    "\n",
    "#@jit(nopython=True)\n",
    "@jit(nopython=True,parallel=True)\n",
    "def zeeman_energy(phi,theta,K1,K2,h,htheta,hphi,Msat,i):\n",
    "    \n",
    "\n",
    "    zeeman=-h*(np.sin(htheta)*np.sin(theta)*np.cos(phi-hphi)+np.cos(htheta)*np.cos(theta))\n",
    "\n",
    "\n",
    "    return zeeman\n"
   ]
  },
  {
   "cell_type": "code",
   "execution_count": 554,
   "metadata": {},
   "outputs": [],
   "source": [
    "# creating positions!\n",
    "# this is for creating positions!\n",
    "\n",
    "#@jit(nopython=True,parallel=True)\n",
    "#@jit(nopython=True)\n",
    "def create_pos(np_order,NN2):\n",
    "    \n",
    "    if(np_order==1):\n",
    "        \n",
    "        nnx=int(sqrt(NN2))\n",
    "        nny=int(sqrt(NN2))\n",
    "        \n",
    "        coord_pos = []\n",
    "#        coord_pos = np.zeros((nnx,nny,nnx))\n",
    "#        coord_pos = np.zeros(NN2)\n",
    "        \n",
    "        for i in range(nnx):\n",
    "\n",
    "            for j in range(nnx):\n",
    "                \n",
    "#                coord_pos.append([i,j,0])\n",
    "                coord_pos.append([1*i,1*j,0])\n",
    "#                coord_pos = np.append(coord_pos,[1*i,1*j,0])\n",
    "\n",
    "#                coord_pos[i][j][0] = np.array([1*i,1*j,0])\n",
    "    \n",
    "    elif(np_order==2):\n",
    "        \n",
    "        coord_pos=[]\n",
    "        \n",
    "        for i in range(NN2):\n",
    "            \n",
    "            coord_pos.append([NN2*math.cos(2*pi*i/NN2),NN2*math.sin(2*pi*i/NN2),0])\n",
    "    \n",
    "    elif(np_order==3):\n",
    "        \n",
    "        coord_pos=[]\n",
    "        \n",
    "        for j in range(height):\n",
    "        \n",
    "            for i in range(NN2):\n",
    "\n",
    "                coord_pos.append([NN2*math.cos(2*pi*i/NN2),j,NN2*math.sin(2*pi*i/NN2)])\n",
    "\n",
    "    return np.array(coord_pos,dtype=np.float64)\n"
   ]
  },
  {
   "cell_type": "code",
   "execution_count": 555,
   "metadata": {},
   "outputs": [],
   "source": [
    "# this is to create the angles, which are used in the computation of the interactions!\n",
    "\n",
    "ar_pos=create_pos(np_order,NN2)\n",
    "\n",
    "\n",
    "#@jit(nopython=True,parallel=True)\n",
    "@jit(nopython=True)\n",
    "def angles_vecs(NN2):\n",
    "\n",
    "    print(np_order)\n",
    "#    ar_pos=create_pos(np_order,NN2)\n",
    "\n",
    "#    print(ar_pos)\n",
    "    \n",
    "    x_coord = [ar_pos[i][0] for i in range(NN2*height)]\n",
    "    y_coord = [ar_pos[i][1] for i in range(NN2*height)]\n",
    "    z_coord = [ar_pos[i][2] for i in range(NN2*height)]\n",
    "\n",
    "    x_ang = []\n",
    "    y_ang = []\n",
    "    \n",
    "    for i in range(NN2*height):\n",
    "        x_ang_menor=[]\n",
    "        y_ang_menor=[]\n",
    "        \n",
    "        for j in range(NN2*height):\n",
    "            \n",
    "            if(i!=j):\n",
    "                innerproduct = x_coord[i]*x_coord[j]+y_coord[i]*y_coord[j]\n",
    "\n",
    "                dist1 = sqrt(x_coord[i]**2+y_coord[i]**2+z_coord[i]**2)\n",
    "                dist2 = sqrt(x_coord[j]**2+y_coord[j]**2+z_coord[j]**2)\n",
    "                \n",
    "                distnewvec = sqrt((x_coord[j]-x_coord[i])**2+(y_coord[j]-y_coord[i])**2+(z_coord[j]-z_coord[i])**2)\n",
    "                distnewvecplane = sqrt((x_coord[j]-x_coord[i])**2+(y_coord[j]-y_coord[i])**2)\n",
    "                \n",
    "                if(distnewvecplane!=0.0):\n",
    "#                    angphi = math.acos((x_coord[j]-x_coord[i])/distnewvecplane)\n",
    "#                    angtheta = math.acos((z_coord[j]-z_coord[i])/distnewvec)\n",
    "                    angphi = math.acos((x_coord[i]-x_coord[j])/distnewvecplane)\n",
    "                    angtheta = math.acos((z_coord[i]-z_coord[j])/distnewvec)\n",
    "                elif(distnewvecplane == 0.0):\n",
    "                    angphi = 0.0\n",
    "                    angtheta = 3.1415/2.\n",
    "                x_ang_menor.append(angphi)\n",
    "                y_ang_menor.append(angtheta)\n",
    "                \n",
    "            elif(i==j):\n",
    "                \n",
    "                x_ang_menor.append(0.0)\n",
    "                y_ang_menor.append(0.0)\n",
    "                \n",
    "        x_ang.append(x_ang_menor)\n",
    "        y_ang.append(y_ang_menor)\n",
    "        x_ang_menor=[]\n",
    "        y_ang_menor=[]\n",
    "                \n",
    "\n",
    "                \n",
    "#    return np.array(x_ang,dtype=np.float64),np.array(y_ang,np.float64)\n",
    "#    return np.array(x_ang),np.array(y_ang)\n",
    "    return x_ang,y_ang"
   ]
  },
  {
   "cell_type": "code",
   "execution_count": 556,
   "metadata": {},
   "outputs": [],
   "source": [
    "# Function to calculate the distance between particles 'i' and 'j'\n",
    "\n",
    "#@jit(nopython=True)\n",
    "def dist_dipolar(i,j):\n",
    "    sizex=int(sqrt(NN2))\n",
    "    sizey=int(sqrt(NN2))\n",
    "    \n",
    "    # distance of particle 'j' from particle 'i'\n",
    "#    distdip=[]\n",
    "    '''\n",
    "    for ii in range(sizex):\n",
    "        for jj in range(sizey):\n",
    "            distdip.append(sqrt((int(i/sizex)-ii)**2+(int(i%sizey)-jj)**2))\n",
    "    '''\n",
    "    \n",
    "    '''\n",
    "    distdip=sqrt((int(i/sizex)-int(j/sizex))**2+(int(i%sizey)-int(j%sizey))**2)\n",
    "    '''\n",
    "\n",
    "    if(np_order==1):\n",
    "\n",
    "        distdip=[]\n",
    "        for ii in range(NN2):\n",
    "            distdip1=[]\n",
    "            for jj in range(NN2):\n",
    "                distdip1.append(sqrt((int(ii/sizex)-int(jj/sizex))**2+(int(ii%sizey)-int(jj%sizey))**2))\n",
    "            distdip.append(distdip1)\n",
    "            \n",
    "    elif(np_order==2):\n",
    "        \n",
    "        distdip=[]\n",
    "#        distdip=np.empty(NN2)\n",
    "        for ii in range(NN2):\n",
    "            distmin=[]\n",
    "            distdip1=[]\n",
    "            for jj in range(NN2):\n",
    "                distdip1.append(sqrt((math.cos(2*pi*ii/NN2)-math.cos(2*pi*jj/NN2))**2+(math.sin(2*pi*ii/NN2)-math.sin(2*pi*jj/NN2))**2))\n",
    "            \n",
    "                if(ii!=jj):\n",
    "                    distmin.append(sqrt((math.cos(2*pi*ii/NN2)-math.cos(2*pi*jj/NN2))**2+(math.sin(2*pi*ii/NN2)-math.sin(2*pi*jj/NN2))**2))\n",
    "\n",
    "            arraydistmin=np.array(distmin)\n",
    "            \n",
    "            distdip1new=[]\n",
    "            \n",
    "            for u in range(NN2):\n",
    "                distdip1new.append(distdip1[u]/np.amin(arraydistmin))\n",
    "            \n",
    "            distdip.append(distdip1new)\n",
    "#            distdip1=np.array(distdip1)\n",
    "#            distmin=np.array(distmin)\n",
    "#            distdip[ii]=distdip1/np.amin(distmin)\n",
    "#            distdip=np.array(distdip)\n",
    "\n",
    "\n",
    "    elif(np_order==3):\n",
    "        \n",
    "        distdip=[]\n",
    "#        distdip=np.empty(NN2)\n",
    "        for ii in range(NN2*height):\n",
    "            distmin=[]\n",
    "            distdip1=[]\n",
    "            for jj in range(NN2*height):\n",
    "#                for kkk in range(height):\n",
    "#                    for kk in range(height):\n",
    "           \n",
    "                distdip1.append(sqrt((math.cos(2*pi*(ii%NN2)/NN2)-math.cos(2*pi*(jj%NN2)/NN2))**2+(math.sin(2*pi*(ii%NN2)/NN2)-math.sin(2*pi*(jj%NN2)/NN2))**2+((int(ii/NN2)-int(jj/NN2))/height)**2))\n",
    "\n",
    "                if(ii!=jj):\n",
    "                \n",
    "                    distmin.append(sqrt((math.cos(2*pi*(ii%NN2)/NN2)-math.cos(2*pi*(jj%NN2)/NN2))**2+(math.sin(2*pi*(ii%NN2)/NN2)-math.sin(2*pi*(jj%NN2)/NN2))**2+((int(ii/NN2)-int(jj/NN2))/height)**2))\n",
    "\n",
    "            arraydistmin=np.array(distmin)\n",
    "\n",
    "            distdip1new=[]\n",
    "            if(np.amin(arraydistmin)==0.0):\n",
    "                print(ii,'ii')\n",
    "                print(distdip1[1])\n",
    "                print('zerou',np.argmin(arraydistmin),arraydistmin[np.argmin(arraydistmin)-1])\n",
    "                break\n",
    "\n",
    "            for u in range(NN2*height):\n",
    "                distdip1new.append(distdip1[u]/np.amin(arraydistmin))\n",
    "\n",
    "            distdip.append(distdip1new)\n",
    "\n",
    "\n",
    "\n",
    "#        distdip=[]\n",
    "        \n",
    "#    return np.array(distdip,dtype=np.float64)\n",
    "#    return distdip[j]\n",
    "    return distdip\n"
   ]
  },
  {
   "cell_type": "code",
   "execution_count": 557,
   "metadata": {},
   "outputs": [
    {
     "name": "stdout",
     "output_type": "stream",
     "text": [
      "400\n"
     ]
    },
    {
     "data": {
      "text/plain": [
       "24.741576708046885"
      ]
     },
     "execution_count": 557,
     "metadata": {},
     "output_type": "execute_result"
    }
   ],
   "source": [
    "ii=20\n",
    "jj=30\n",
    "print(len(dist_dipolar(2,3)))\n",
    "dist_dipolar(20,30)[14][25]"
   ]
  },
  {
   "cell_type": "code",
   "execution_count": 558,
   "metadata": {},
   "outputs": [
    {
     "data": {
      "text/plain": [
       "0.04000000000000001"
      ]
     },
     "execution_count": 558,
     "metadata": {},
     "output_type": "execute_result"
    }
   ],
   "source": [
    "sqrt((10%height/height)**2)\n",
    "(((0%height)-(int(320/height)))/height)**2"
   ]
  },
  {
   "cell_type": "code",
   "execution_count": 559,
   "metadata": {},
   "outputs": [
    {
     "data": {
      "text/plain": [
       "-0.8090169943749473"
      ]
     },
     "execution_count": 559,
     "metadata": {},
     "output_type": "execute_result"
    }
   ],
   "source": [
    "math.cos(2*pi*(64%NN2)/NN2)"
   ]
  },
  {
   "cell_type": "code",
   "execution_count": 560,
   "metadata": {},
   "outputs": [
    {
     "name": "stdout",
     "output_type": "stream",
     "text": [
      "0\n",
      "[0 array([1, 2]) 0 0 0 0 0 0 0]\n"
     ]
    }
   ],
   "source": [
    "dd=np.zeros((9),dtype=np.object)\n",
    "print(dd[2])\n",
    "dd[1]=np.array((1,2))\n",
    "print(dd)"
   ]
  },
  {
   "cell_type": "code",
   "execution_count": 561,
   "metadata": {},
   "outputs": [
    {
     "name": "stdout",
     "output_type": "stream",
     "text": [
      "1 3.3333333333333335\n",
      "3\n"
     ]
    }
   ],
   "source": [
    "print(10%int(sqrt(NN2)),10/int(sqrt(NN2)))\n",
    "print(int(sqrt(NN2)))"
   ]
  },
  {
   "cell_type": "code",
   "execution_count": 562,
   "metadata": {},
   "outputs": [],
   "source": [
    "vec_dip=np.array(dist_dipolar(20,30))"
   ]
  },
  {
   "cell_type": "code",
   "execution_count": 563,
   "metadata": {},
   "outputs": [
    {
     "data": {
      "text/plain": [
       "400"
      ]
     },
     "execution_count": 563,
     "metadata": {},
     "output_type": "execute_result"
    }
   ],
   "source": [
    "len(vec_dip[13])"
   ]
  },
  {
   "cell_type": "code",
   "execution_count": 564,
   "metadata": {},
   "outputs": [],
   "source": [
    "import itertools"
   ]
  },
  {
   "cell_type": "code",
   "execution_count": 565,
   "metadata": {},
   "outputs": [
    {
     "name": "stdout",
     "output_type": "stream",
     "text": [
      "3\n"
     ]
    }
   ],
   "source": [
    "x_ang,y_ang = angles_vecs(NN2)\n",
    "#rr=dist_dipolar(i)\n",
    "x_ang=np.array(x_ang,dtype=np.float64)\n",
    "y_ang=np.array(y_ang,dtype=np.float64)"
   ]
  },
  {
   "cell_type": "code",
   "execution_count": 566,
   "metadata": {},
   "outputs": [
    {
     "data": {
      "text/plain": [
       "400"
      ]
     },
     "execution_count": 566,
     "metadata": {},
     "output_type": "execute_result"
    }
   ],
   "source": [
    "len(x_ang[13])"
   ]
  },
  {
   "cell_type": "code",
   "execution_count": 567,
   "metadata": {},
   "outputs": [
    {
     "data": {
      "text/plain": [
       "array([0.94386071, 1.25780607, 1.57079633, 1.57079633, 0.95177434,\n",
       "       0.63325472, 0.31996844, 0.05252476, 0.31797675, 0.63021424,\n",
       "       0.9424778 , 1.25663706, 1.57079633, 0.        , 0.9424778 ,\n",
       "       0.62831853, 0.31415927, 0.        , 0.31415927, 0.62831853,\n",
       "       0.94386071, 1.25780607, 1.57079633, 1.57079633, 0.95177434,\n",
       "       0.63325472, 0.31996844, 0.05252476, 0.31797675, 0.63021424,\n",
       "       0.94795442, 1.26123625, 1.57079633, 1.57079633, 0.97733676,\n",
       "       0.64756183, 0.33662958, 0.10476128, 0.3290907 , 0.63582576,\n",
       "       0.95459984, 1.26671065, 1.57079633, 1.57079633, 1.01363285,\n",
       "       0.66988323, 0.36220139, 0.15643074, 0.34659638, 0.64493539,\n",
       "       0.9635508 , 1.27390846, 1.57079633, 1.57079633, 1.05474203,\n",
       "       0.69836501, 0.39430838, 0.20727227, 0.36927952, 0.65720843,\n",
       "       0.97449824, 1.28245275, 1.57079633, 1.57079633, 1.09621474,\n",
       "       0.7310465 , 0.43073081, 0.25705029, 0.39587281, 0.67222826,\n",
       "       0.98709755, 1.29195722, 1.57079633, 1.57079633, 1.13543901,\n",
       "       0.76614763, 0.46966203, 0.30555984, 0.42522259, 0.68953446,\n",
       "       1.00099448, 1.30206271, 1.57079633, 1.57079633, 1.17121969,\n",
       "       0.80221494, 0.50973662, 0.35262998, 0.45635975, 0.7086575 ,\n",
       "       1.01584681, 1.31245996, 1.57079633, 1.57079633, 1.20322934,\n",
       "       0.8381549 , 0.54996514, 0.39812507, 0.48850852, 0.72914639,\n",
       "       1.03134014, 1.32289925, 1.57079633, 1.57079633, 1.23159347,\n",
       "       0.87320161, 0.58965121, 0.44194436, 0.52106625, 0.7505878 ,\n",
       "       1.04719755, 1.3331903 , 1.57079633, 1.57079633, 1.25663706,\n",
       "       0.90685727, 0.62831853, 0.48401997, 0.55357436, 0.77261709,\n",
       "       1.06318408, 1.34319624, 1.57079633, 1.57079633, 1.27874749,\n",
       "       0.93882859, 0.66565361, 0.52431395, 0.58569004, 0.79492291,\n",
       "       1.07910702, 1.35282487, 1.57079633, 1.57079633, 1.29830751,\n",
       "       0.96897032, 0.70146231, 0.56281455, 0.61716186, 0.81724689,\n",
       "       1.09481341, 1.36201943, 1.57079633, 1.57079633, 1.31566637,\n",
       "       0.99723976, 0.73563749, 0.59953231, 0.64780997, 0.83938036,\n",
       "       1.11018597, 1.37075002, 1.57079633, 1.57079633, 1.33113036,\n",
       "       1.02366217, 0.76813471, 0.63449601, 0.67751023, 0.8611593 ,\n",
       "       1.12513815, 1.37900635, 1.57079633, 1.57079633, 1.34496262,\n",
       "       1.0483056 , 0.79895417, 0.66774891, 0.70618174, 0.8824585 ,\n",
       "       1.1396092 , 1.38679198, 1.57079633, 1.57079633, 1.3573868 ,\n",
       "       1.0712631 , 0.82812716, 0.69934528, 0.73377694, 0.90318563,\n",
       "       1.15355937, 1.39411978, 1.57079633, 1.57079633, 1.36859213,\n",
       "       1.09264053, 0.855706  , 0.72934736, 0.76027381, 0.92327573,\n",
       "       1.16696567, 1.40100859, 1.57079633, 1.57079633, 1.37873848,\n",
       "       1.11254846, 0.88175653, 0.75782279, 0.78566971, 0.94268609,\n",
       "       1.17981823, 1.40748078, 1.57079633, 1.57079633, 1.38796105,\n",
       "       1.13109688, 0.90635267, 0.78484241, 0.80997652, 0.96139185,\n",
       "       1.19211718, 1.41356048, 1.57079633, 1.57079633, 1.39637448,\n",
       "       1.14839195, 0.92957244, 0.81047853, 0.83321678, 0.97938225,\n",
       "       1.20387014, 1.41927241, 1.57079633, 1.57079633, 1.40407623,\n",
       "       1.16453415, 0.95149506, 0.83480355, 0.85542064, 0.99665743,\n",
       "       1.21509015, 1.42464104, 1.57079633, 1.57079633, 1.41114945,\n",
       "       1.17961727, 0.97219898, 0.85788885, 0.87662358, 1.01322588,\n",
       "       1.22579407, 1.42969006, 1.57079633, 1.57079633, 1.41766542,\n",
       "       1.19372805, 0.99176054, 0.87980405, 0.89686448, 1.02910225,\n",
       "       1.23600132, 1.43444205, 1.57079633, 1.57079633, 1.4236854 ,\n",
       "       1.20694617, 1.01025302, 0.90061639, 0.91618426, 1.04430571,\n",
       "       1.24573287, 1.43891831, 1.57079633, 1.57079633, 1.42926231,\n",
       "       1.21934453, 1.02774614, 0.92039034, 0.93462477, 1.05885854,\n",
       "       1.25501053, 1.44313874, 1.57079633, 1.57079633, 1.43444205,\n",
       "       1.23098959, 1.04430571, 0.93918736, 0.95222796, 1.07278508,\n",
       "       1.26385637, 1.44712189, 1.57079633, 1.57079633, 1.43926455,\n",
       "       1.24194184, 1.05999357, 0.95706576, 0.96903529, 1.08611089,\n",
       "       1.27229231, 1.4508849 , 1.57079633, 1.57079633, 1.4437647 ,\n",
       "       1.25225627, 1.07486753, 0.97408064, 0.9850873 , 1.09886211,\n",
       "       1.28033984, 1.45444363, 1.57079633, 1.57079633, 1.44797309,\n",
       "       1.26198284, 1.08898151, 0.99028392, 1.00042322, 1.11106497,\n",
       "       1.28801977, 1.45781267, 1.57079633, 1.57079633, 1.45191667,\n",
       "       1.27116693, 1.10238568, 1.00572439, 1.01508087, 1.12274543,\n",
       "       1.29535216, 1.46100546, 1.57079633, 1.57079633, 1.45561921,\n",
       "       1.2798498 , 1.1151266 , 1.0204478 , 1.0290964 , 1.13392887,\n",
       "       1.30235615, 1.46403436, 1.57079633, 1.57079633, 1.45910178,\n",
       "       1.28806893, 1.12724749, 1.03449702, 1.04250431, 1.14463996,\n",
       "       1.30904998, 1.46691071, 1.57079633, 1.57079633, 1.4623831 ,\n",
       "       1.29585846, 1.13878838, 1.04791213, 1.05533737, 1.15490249,\n",
       "       1.31545092, 1.46964496, 1.57079633, 1.57079633, 1.46547986,\n",
       "       1.30324947, 1.14978637, 1.0607306 , 1.06762663, 1.16473926,\n",
       "       1.32157532, 1.4722467 , 1.57079633, 1.57079633, 1.46840701,\n",
       "       1.3102703 , 1.16027582, 1.07298742, 1.07940146, 1.17417209,\n",
       "       1.32743857, 1.47472474, 1.57079633, 1.57079633, 1.4711779 ,\n",
       "       1.31694681, 1.17028853, 1.08471527, 1.09068956, 1.18322176,\n",
       "       1.33305517, 1.4770872 , 1.57079633, 1.57079633, 1.47380458,\n",
       "       1.32330265, 1.17985399, 1.09594463, 1.10151707, 1.19190799,\n",
       "       1.33843876, 1.47934155, 1.57079633, 1.57079633, 1.47629787,\n",
       "       1.32935944, 1.18899949, 1.10670397, 1.1119086 , 1.20024951])"
      ]
     },
     "execution_count": 567,
     "metadata": {},
     "output_type": "execute_result"
    }
   ],
   "source": [
    "y_ang[13]"
   ]
  },
  {
   "cell_type": "code",
   "execution_count": 568,
   "metadata": {},
   "outputs": [],
   "source": [
    "# the interactions\n",
    "#vec_dip_called = np.array(vec_dip)\n",
    "\n",
    "#@jit(nopython=True)\n",
    "@jit(nopython=True,parallel=True,fastmath=True)\n",
    "def energy_interdipolar(phi,theta,phiantarray,thetaantarray,K1,K2,h,htheta,hphi,i,j):\n",
    "\n",
    "    #obtaining the angles to calculate the interactions!\n",
    "\n",
    "#    print(i,'i before')\n",
    "#    print(j,'j before')\n",
    "    \n",
    "#    x_ang,y_ang = angles_vecs(NN2)\n",
    "#    print(i,'i')\n",
    "#    print(j,'j')\n",
    "#    print(phiantarray)\n",
    "    phiant = phiantarray[j]\n",
    "    thetaant = thetaantarray[j]\n",
    "# dipolar energy\n",
    "\n",
    "#    phiant=phi+phiantarray[j]-phiantarray[i]\n",
    "#    thetaant=theta+thetaantarray[j]-thetaantarray[i]\n",
    "\n",
    "#    print(beta,'beta')\n",
    "\n",
    "    rr=vec_dip[i][j]\n",
    "#    rr=vec_dip_called[i][j]\n",
    "\n",
    "#    create_pos(np_order,NN2)\n",
    "    inter_dipolar=-3*beta/(rr**3)*(np.sin(theta)*np.sin(y_ang[i][j])*np.cos(phi-x_ang[i][j])+np.cos(theta)*np.cos(y_ang[i][j]))*(np.sin(thetaant)*np.sin(y_ang[i][j])*np.cos(phiant-x_ang[i][j])+np.cos(thetaant)*np.cos(y_ang[i][j]));\n",
    "    inter_dipolar+=beta/(rr**3)*(np.sin(theta)*np.sin(thetaant)*np.cos(phi-phiant)+np.cos(theta)*np.cos(thetaant))\n",
    "\n",
    "#    print(inter_dipolar,'dipolar')\n",
    "    \n",
    "    return inter_dipolar\n",
    "    \n",
    "# exchange energy\n",
    "\n",
    "# moriya energy\n",
    "\n"
   ]
  },
  {
   "cell_type": "code",
   "execution_count": 569,
   "metadata": {},
   "outputs": [
    {
     "name": "stderr",
     "output_type": "stream",
     "text": [
      "/home/vagner/anaconda3/lib/python3.6/site-packages/numba/compiler.py:602: NumbaPerformanceWarning: \u001b[1m\n",
      "The keyword argument 'parallel=True' was specified but no transformation for parallel execution was possible.\n",
      "\n",
      "To find out why, try turning on parallel diagnostics, see http://numba.pydata.org/numba-doc/latest/user/parallel.html#diagnostics for help.\n",
      "\u001b[1m\n",
      "File \"<ipython-input-568-48bf7c2af5c4>\", line 6:\u001b[0m\n",
      "\u001b[1m@jit(nopython=True,parallel=True,fastmath=True)\n",
      "\u001b[1mdef energy_interdipolar(phi,theta,phiantarray,thetaantarray,K1,K2,h,htheta,hphi,i,j):\n",
      "\u001b[0m\u001b[1m^\u001b[0m\u001b[0m\n",
      "\u001b[0m\n",
      "  self.func_ir.loc))\n"
     ]
    },
    {
     "data": {
      "text/plain": [
       "-4.789127229553799e-07"
      ]
     },
     "execution_count": 569,
     "metadata": {},
     "output_type": "execute_result"
    }
   ],
   "source": [
    "energy_interdipolar(0.2,0.5,phiantarray,thetaantarray,K1,K2,0.3,htheta,hphi,4,5)"
   ]
  },
  {
   "cell_type": "code",
   "execution_count": null,
   "metadata": {},
   "outputs": [],
   "source": []
  },
  {
   "cell_type": "code",
   "execution_count": 570,
   "metadata": {},
   "outputs": [],
   "source": [
    "@jit(nopython=True,parallel=True,fastmath=True)\n",
    "def energy_interexchange(phi,theta,phiantarray,thetaantarray,K1,K2,h,htheta,hphi,i,j):\n",
    "    #obtaining the angles to calculate the interactions!\n",
    "\n",
    "#    print(i,'i before')\n",
    "#    print(j,'j before')\n",
    "    \n",
    "#    x_ang,y_ang = angles_vecs(NN2)\n",
    "#    print(i,'i')\n",
    "#    print(j,'j')\n",
    "#    print(phiantarray)\n",
    "    phiant = phiantarray[j]\n",
    "    thetaant = thetaantarray[j]\n",
    "# dipolar energy\n",
    "\n",
    "#    phiant=phi+phiantarray[j]-phiantarray[i]\n",
    "#    thetaant=theta+thetaantarray[j]-thetaantarray[i]\n",
    "\n",
    "#    print(beta,'beta')\n",
    "\n",
    "    rr=vec_dip[i][j]\n",
    "#    rr=vec_dip_called[i][j]\n",
    "\n",
    "#    create_pos(np_order,NN2)\n",
    "    inter_exc=jota*np.exp(-rr**9)/np.exp(-1.0)*(np.sin(theta)*np.sin(thetaant)*np.cos(phi-phiant)+np.cos(theta)*np.cos(thetaant))\n",
    "#    print(jota*np.exp(-rr)/np.exp(-1.0))\n",
    "#    print((np.sin(theta)*np.sin(thetaant)*np.cos(phi-phiant)+np.cos(theta)*np.cos(thetaant)))\n",
    "\n",
    "#    print(inter_dipolar,'dipolar')\n",
    "    \n",
    "    return inter_exc\n"
   ]
  },
  {
   "cell_type": "code",
   "execution_count": null,
   "metadata": {},
   "outputs": [],
   "source": []
  },
  {
   "cell_type": "code",
   "execution_count": null,
   "metadata": {},
   "outputs": [],
   "source": []
  },
  {
   "cell_type": "code",
   "execution_count": 571,
   "metadata": {},
   "outputs": [],
   "source": [
    "@jit(nopython=True,parallel=True,fastmath=True)\n",
    "def energy_biinterexchange(phi,theta,phiantarray,thetaantarray,K1,K2,h,htheta,hphi,i,j):\n",
    "    #obtaining the angles to calculate the interactions!\n",
    "\n",
    "#    print(i,'i before')\n",
    "#    print(j,'j before')\n",
    "    \n",
    "#    x_ang,y_ang = angles_vecs(NN2)\n",
    "#    print(i,'i')\n",
    "#    print(j,'j')\n",
    "#    print(phiantarray)\n",
    "    phiant = phiantarray[j]\n",
    "    thetaant = thetaantarray[j]\n",
    "# dipolar energy\n",
    "\n",
    "#    phiant=phi+phiantarray[j]-phiantarray[i]\n",
    "#    thetaant=theta+thetaantarray[j]-thetaantarray[i]\n",
    "\n",
    "#    print(beta,'beta')\n",
    "\n",
    "    rr=vec_dip[i][j]\n",
    "#    rr=vec_dip_called[i][j]\n",
    "\n",
    "#    create_pos(np_order,NN2)\n",
    "    inter_excbi=jotabi*np.exp(-rr**9)/np.exp(-1.0)*(np.sin(theta)*np.sin(thetaant)*np.cos(phi-phiant)+np.cos(theta)*np.cos(thetaant))**2\n",
    "#    print(jota*np.exp(-rr)/np.exp(-1.0))\n",
    "#    print((np.sin(theta)*np.sin(thetaant)*np.cos(phi-phiant)+np.cos(theta)*np.cos(thetaant)))\n",
    "\n",
    "#    print(inter_dipolar,'dipolar')\n",
    "    \n",
    "    return inter_excbi\n"
   ]
  },
  {
   "cell_type": "code",
   "execution_count": null,
   "metadata": {},
   "outputs": [],
   "source": []
  },
  {
   "cell_type": "code",
   "execution_count": 572,
   "metadata": {},
   "outputs": [],
   "source": [
    "# the interactions\n",
    "#vec_dip_called = np.array(vec_dip)\n",
    "\n",
    "#@jit(nopython=True)\n",
    "@jit(nopython=True,parallel=True,fastmath=True)\n",
    "def energy_moriya(phi,theta,phiantarray,thetaantarray,K1,K2,h,htheta,hphi,i,j):\n",
    "\n",
    "    #obtaining the angles to calculate the interactions!\n",
    "\n",
    "#    print(i,'i before')\n",
    "#    print(j,'j before')\n",
    "    \n",
    "#    x_ang,y_ang = angles_vecs(NN2)\n",
    "#    print(i,'i')\n",
    "#    print(j,'j')\n",
    "#    print(phiantarray)\n",
    "    phiant = phiantarray[j]\n",
    "    thetaant = thetaantarray[j]\n",
    "# dipolar energy\n",
    "\n",
    "#    phiant=phi+phiantarray[j]-phiantarray[i]\n",
    "#    thetaant=theta+thetaantarray[j]-thetaantarray[i]\n",
    "\n",
    "#    print(beta,'beta')\n",
    "\n",
    "    rr=vec_dip[i][j]\n",
    "#    rr=vec_dip_called[i][j]\n",
    "\n",
    "#    create_pos(np_order,NN2)\n",
    "\n",
    "#   vectorial product with k^ versor !\n",
    "\n",
    "    if(i<=j):\n",
    "        if(j==i+1):\n",
    "            ## produto vetorial z^ vec x^ = y^!\n",
    "#            inter_moriya=m*np.exp(-rr**9)/np.exp(-1.0)*(np.cos(phiant)*np.cos(theta)*np.sin(thetaant)-np.cos(phi)*np.cos(thetaant)*np.sin(theta));\n",
    "\n",
    "#            inter_moriya=m/2.*np.exp(-rr**9)/np.exp(-1.0)*(np.cos(phiant)*np.cos(theta)*np.sin(thetaant)-np.cos(phi)*np.cos(thetaant)*np.sin(theta));\n",
    "#            inter_moriya+=-m/2.*np.exp(-rr**9)/np.exp(-1.0)*(np.cos(thetaant)*np.sin(phi)*np.sin(theta)-np.cos(theta)*np.sin(phiant)*np.sin(thetaant));\n",
    "        \n",
    "            # biquadratic\n",
    "#            inter_moriya=m/2.*np.exp(-rr**9)/np.exp(-1.0)*(np.cos(phiant)*np.cos(theta)*np.sin(thetaant)-np.cos(phi)*np.cos(thetaant)*np.sin(theta))**2;\n",
    "#            inter_moriya+=m/2.*np.exp(-rr**9)/np.exp(-1.0)*(np.cos(thetaant)*np.sin(phi)*np.sin(theta)-np.cos(theta)*np.sin(phiant)*np.sin(thetaant))**2;\n",
    "#            inter_moriya+=m/2.*np.exp(-rr**9)/np.exp(-1.0)*(np.sin(thetaant)*np.cos(phiant)*np.sin(theta)*np.sin(phi)-np.sin(theta)*np.cos(phi)*np.sin(thetaant)*np.sin(phiant))**2;\n",
    "        \n",
    "            # chiral multi spin\n",
    "            inter_moriya=m/2.*np.exp(-rr**9)/np.exp(-1.0)*(np.cos(phiant)*np.cos(theta)*np.sin(thetaant)-np.cos(phi)*np.cos(thetaant)*np.sin(theta))*(np.sin(theta)*np.sin(thetaant)*np.cos(phi-phiant)+np.cos(theta)*np.cos(thetaant));\n",
    "            inter_moriya+=m/2.*np.exp(-rr**9)/np.exp(-1.0)*(np.cos(thetaant)*np.sin(phi)*np.sin(theta)-np.cos(theta)*np.sin(phiant)*np.sin(thetaant))*(np.sin(theta)*np.sin(thetaant)*np.cos(phi-phiant)+np.cos(theta)*np.cos(thetaant));\n",
    "            \n",
    "        else:\n",
    "            ## produto vetorial z^ vec y^ = - x^!\n",
    "#            inter_moriya=-m*np.exp(-rr**9)/np.exp(-1.0)*(np.cos(thetaant)*np.sin(phi)*np.sin(theta)-np.cos(theta)*np.sin(phiant)*np.sin(thetaant));\n",
    "\n",
    "#            inter_moriya=-m/2.*np.exp(-rr**9)/np.exp(-1.0)*(np.cos(thetaant)*np.sin(phi)*np.sin(theta)-np.cos(theta)*np.sin(phiant)*np.sin(thetaant));\n",
    "#            inter_moriya+=+m/2.*np.exp(-rr**9)/np.exp(-1.0)*(np.cos(phiant)*np.cos(theta)*np.sin(thetaant)-np.cos(phi)*np.cos(thetaant)*np.sin(theta));\n",
    "        \n",
    "            # biquadratic\n",
    "#            inter_moriya=m/2.*np.exp(-rr**9)/np.exp(-1.0)*(np.cos(thetaant)*np.sin(phi)*np.sin(theta)-np.cos(theta)*np.sin(phiant)*np.sin(thetaant))**2;\n",
    "#            inter_moriya+=+m/2.*np.exp(-rr**9)/np.exp(-1.0)*(np.cos(phiant)*np.cos(theta)*np.sin(thetaant)-np.cos(phi)*np.cos(thetaant)*np.sin(theta))**2;\n",
    "#            inter_moriya+=m/2.*np.exp(-rr**9)/np.exp(-1.0)*(np.sin(thetaant)*np.cos(phiant)*np.sin(theta)*np.sin(phi)-np.sin(theta)*np.cos(phi)*np.sin(thetaant)*np.sin(phiant))**2;\n",
    "        \n",
    "        \n",
    "            # chiral multi spin\n",
    "            inter_moriya=m/2.*np.exp(-rr**9)/np.exp(-1.0)*(np.cos(phiant)*np.cos(theta)*np.sin(thetaant)-np.cos(phi)*np.cos(thetaant)*np.sin(theta))*(np.sin(theta)*np.sin(thetaant)*np.cos(phi-phiant)+np.cos(theta)*np.cos(thetaant));\n",
    "            inter_moriya+=m/2.*np.exp(-rr**9)/np.exp(-1.0)*(np.cos(thetaant)*np.sin(phi)*np.sin(theta)-np.cos(theta)*np.sin(phiant)*np.sin(thetaant))*(np.sin(theta)*np.sin(thetaant)*np.cos(phi-phiant)+np.cos(theta)*np.cos(thetaant));\n",
    "        \n",
    "    elif(i>=j):\n",
    "        if(j==i-1):\n",
    "#            inter_moriya=-m*np.exp(-rr**9)/np.exp(-1.0)*(np.cos(phiant)*np.cos(theta)*np.sin(thetaant)-np.cos(phi)*np.cos(thetaant)*np.sin(theta));\n",
    "\n",
    "#            inter_moriya=-m/2.*np.exp(-rr**9)/np.exp(-1.0)*(np.cos(phiant)*np.cos(theta)*np.sin(thetaant)-np.cos(phi)*np.cos(thetaant)*np.sin(theta));\n",
    "#            inter_moriya+=m/2.*np.exp(-rr**9)/np.exp(-1.0)*(np.cos(thetaant)*np.sin(phi)*np.sin(theta)-np.cos(theta)*np.sin(phiant)*np.sin(thetaant));\n",
    "        \n",
    "            # biquadratic\n",
    "#            inter_moriya=m/2.*np.exp(-rr**9)/np.exp(-1.0)*(np.cos(phiant)*np.cos(theta)*np.sin(thetaant)-np.cos(phi)*np.cos(thetaant)*np.sin(theta))**2;\n",
    "#            inter_moriya+=m/2.*np.exp(-rr**9)/np.exp(-1.0)*(np.cos(thetaant)*np.sin(phi)*np.sin(theta)-np.cos(theta)*np.sin(phiant)*np.sin(thetaant))**2;\n",
    "#            inter_moriya+=m/2.*np.exp(-rr**9)/np.exp(-1.0)*(np.sin(thetaant)*np.cos(phiant)*np.sin(theta)*np.sin(phi)-np.sin(theta)*np.cos(phi)*np.sin(thetaant)*np.sin(phiant))**2;\n",
    "        \n",
    "            # chiral multi spin\n",
    "            inter_moriya=m/2.*np.exp(-rr**9)/np.exp(-1.0)*(np.cos(phiant)*np.cos(theta)*np.sin(thetaant)-np.cos(phi)*np.cos(thetaant)*np.sin(theta))*(np.sin(theta)*np.sin(thetaant)*np.cos(phi-phiant)+np.cos(theta)*np.cos(thetaant));\n",
    "            inter_moriya+=m/2.*np.exp(-rr**9)/np.exp(-1.0)*(np.cos(thetaant)*np.sin(phi)*np.sin(theta)-np.cos(theta)*np.sin(phiant)*np.sin(thetaant))*(np.sin(theta)*np.sin(thetaant)*np.cos(phi-phiant)+np.cos(theta)*np.cos(thetaant));\n",
    "            \n",
    "        else:\n",
    "#            inter_moriya=m*np.exp(-rr**9)/np.exp(-1.0)*(np.cos(thetaant)*np.sin(phi)*np.sin(theta)-np.cos(theta)*np.sin(phiant)*np.sin(thetaant));\n",
    "\n",
    "#            inter_moriya=m/2.*np.exp(-rr**9)/np.exp(-1.0)*(np.cos(thetaant)*np.sin(phi)*np.sin(theta)-np.cos(theta)*np.sin(phiant)*np.sin(thetaant));\n",
    "#            inter_moriya+=-m/2.*np.exp(-rr**9)/np.exp(-1.0)*(np.cos(phiant)*np.cos(theta)*np.sin(thetaant)-np.cos(phi)*np.cos(thetaant)*np.sin(theta));\n",
    "            \n",
    "            # biquadratic\n",
    "#            inter_moriya=m/2.*np.exp(-rr**9)/np.exp(-1.0)*(np.cos(thetaant)*np.sin(phi)*np.sin(theta)-np.cos(theta)*np.sin(phiant)*np.sin(thetaant))**2;\n",
    "#            inter_moriya+=m/2.*np.exp(-rr**9)/np.exp(-1.0)*(np.cos(phiant)*np.cos(theta)*np.sin(thetaant)-np.cos(phi)*np.cos(thetaant)*np.sin(theta))**2;\n",
    "#            inter_moriya+=m/2.*np.exp(-rr**9)/np.exp(-1.0)*(np.sin(thetaant)*np.cos(phiant)*np.sin(theta)*np.sin(phi)-np.sin(theta)*np.cos(phi)*np.sin(thetaant)*np.sin(phiant))**2;\n",
    "            \n",
    "            # chiral multi spin\n",
    "            inter_moriya=m/2.*np.exp(-rr**9)/np.exp(-1.0)*(np.cos(phiant)*np.cos(theta)*np.sin(thetaant)-np.cos(phi)*np.cos(thetaant)*np.sin(theta))*(np.sin(theta)*np.sin(thetaant)*np.cos(phi-phiant)+np.cos(theta)*np.cos(thetaant));\n",
    "            inter_moriya+=m/2.*np.exp(-rr**9)/np.exp(-1.0)*(np.cos(thetaant)*np.sin(phi)*np.sin(theta)-np.cos(theta)*np.sin(phiant)*np.sin(thetaant))*(np.sin(theta)*np.sin(thetaant)*np.cos(phi-phiant)+np.cos(theta)*np.cos(thetaant));\n",
    "\n",
    "#            inter_moriya=-m*np.exp(-rr**9)/np.exp(-1.0)*(np.cos(thetaant)*np.sin(phi)*np.sin(theta)-np.cos(theta)*np.sin(phiant)*np.sin(thetaant));\n",
    "\n",
    "\n",
    "#    inter_moriya=m*np.exp(-rr**3)/np.exp(-1.0)*(np.cos(phi)*np.sin(phiant)*np.sin(theta)*np.sin(thetaant)-np.cos(phiant)*np.sin(phi)*np.sin(theta)*np.sin(thetaant));\n",
    "#    inter_moriya=m*np.exp(-rr**9)/np.exp(-1.0)*(np.sin(theta)*np.sin(thetaant)*np.sin(phi-phiant));\n",
    "\n",
    "    \n",
    "\n",
    "    \n",
    "#    inter_moriya+=beta/(rr**3)*(np.sin(theta)*np.sin(thetaant)*np.cos(phi-phiant)+np.cos(theta)*np.cos(thetaant))\n",
    "\n",
    "#    print(m,'dipolar')\n",
    "    \n",
    "    return inter_moriya\n",
    "    \n",
    "# exchange energy\n",
    "\n",
    "# moriya energy\n",
    "\n"
   ]
  },
  {
   "cell_type": "code",
   "execution_count": null,
   "metadata": {},
   "outputs": [],
   "source": []
  },
  {
   "cell_type": "code",
   "execution_count": 573,
   "metadata": {},
   "outputs": [
    {
     "name": "stderr",
     "output_type": "stream",
     "text": [
      "/home/vagner/anaconda3/lib/python3.6/site-packages/numba/compiler.py:602: NumbaPerformanceWarning: \u001b[1m\n",
      "The keyword argument 'parallel=True' was specified but no transformation for parallel execution was possible.\n",
      "\n",
      "To find out why, try turning on parallel diagnostics, see http://numba.pydata.org/numba-doc/latest/user/parallel.html#diagnostics for help.\n",
      "\u001b[1m\n",
      "File \"<ipython-input-572-db1f95ca756b>\", line 6:\u001b[0m\n",
      "\u001b[1m@jit(nopython=True,parallel=True,fastmath=True)\n",
      "\u001b[1mdef energy_moriya(phi,theta,phiantarray,thetaantarray,K1,K2,h,htheta,hphi,i,j):\n",
      "\u001b[0m\u001b[1m^\u001b[0m\u001b[0m\n",
      "\u001b[0m\n",
      "  self.func_ir.loc))\n"
     ]
    },
    {
     "data": {
      "text/plain": [
       "0.0"
      ]
     },
     "execution_count": 573,
     "metadata": {},
     "output_type": "execute_result"
    }
   ],
   "source": [
    "energy_moriya(1.0,3.0,phiantarray,thetaantarray,K1,K2,0.3,htheta,hphi,11,10)"
   ]
  },
  {
   "cell_type": "code",
   "execution_count": 574,
   "metadata": {},
   "outputs": [
    {
     "data": {
      "text/plain": [
       "(0.36787944117144233,\n",
       " array([76.0845213 , 64.72135955, 47.02282018, 24.72135955,  0.        ,\n",
       "        24.72135955, 47.02282018, 64.72135955, 76.0845213 , 80.        ,\n",
       "        76.09109266, 64.72908451, 47.03345212, 24.74157671,  1.        ,\n",
       "        24.74157671, 47.03345212, 64.72908451, 76.09109266, 80.00624976,\n",
       "        76.11080332, 64.75225388, 47.06533351, 24.8021293 ,  2.        ,\n",
       "        24.8021293 , 47.06533351, 64.75225388, 76.11080332, 80.02499609,\n",
       "        76.14364308, 64.79085107, 47.11842122, 24.9027231 ,  3.        ,\n",
       "        24.9027231 , 47.11842122, 64.79085107, 76.14364308, 80.05623024,\n",
       "        76.18959497, 64.84484854, 47.19264369, 25.04287559,  4.        ,\n",
       "        25.04287559, 47.19264369, 64.84484854, 76.18959497, 80.09993758,\n",
       "        76.24863528, 64.91420786, 47.28790139, 25.22192733,  5.        ,\n",
       "        25.22192733, 47.28790139, 64.91420786, 76.24863528, 80.15609771,\n",
       "        76.32073363, 64.99887985, 47.40406753, 25.43905694,  6.        ,\n",
       "        25.43905694, 47.40406753, 64.99887985, 76.32073363, 80.22468448,\n",
       "        76.40585306, 65.09880477, 47.54098882, 25.69329909,  7.        ,\n",
       "        25.69329909, 47.54098882, 65.09880477, 76.40585306, 80.30566605,\n",
       "        76.50395011, 65.21391249, 47.69848654, 25.98356438,  8.        ,\n",
       "        25.98356438, 47.69848654, 65.21391249, 76.50395011, 80.39900497,\n",
       "        76.61497492, 65.34412278, 47.87635761, 26.30866051,  9.        ,\n",
       "        26.30866051, 47.87635761, 65.34412278, 76.61497492, 80.50465825,\n",
       "        76.73887139, 65.48934556, 48.0743759 , 26.66731366, 10.        ,\n",
       "        26.66731366, 48.0743759 , 65.48934556, 76.73887139, 80.62257748,\n",
       "        76.87557728, 65.6494812 , 48.29229357, 27.05818948, 11.        ,\n",
       "        27.05818948, 48.29229357, 65.6494812 , 76.87557728, 80.75270893,\n",
       "        77.02502439, 65.82442086, 48.52984255, 27.47991299, 12.        ,\n",
       "        27.47991299, 48.52984255, 65.82442086, 77.02502439, 80.89499366,\n",
       "        77.18713871, 66.01404685, 48.78673609, 27.93108695, 13.        ,\n",
       "        27.93108695, 48.78673609, 66.01404685, 77.18713871, 81.04936767,\n",
       "        77.36184061, 66.218233  , 49.06267031, 28.41030831, 14.        ,\n",
       "        28.41030831, 49.06267031, 66.218233  , 77.36184061, 81.21576202,\n",
       "        77.54904501, 66.43684506, 49.35732588, 28.91618263, 15.        ,\n",
       "        28.91618263, 49.35732588, 66.43684506, 77.54904501, 81.39410298,\n",
       "        77.74866161, 66.66974113, 49.67036962, 29.44733635, 16.        ,\n",
       "        29.44733635, 49.67036962, 66.66974113, 77.74866161, 81.58431222,\n",
       "        77.96059506, 66.91677205, 50.00145616, 30.00242687, 17.        ,\n",
       "        30.00242687, 50.00145616, 66.91677205, 77.96059506, 81.78630692,\n",
       "        78.1847452 , 67.17778191, 50.35022957, 30.58015072, 18.        ,\n",
       "        30.58015072, 50.35022957, 67.17778191, 78.1847452 , 82.        ,\n",
       "        78.42100727, 67.45260842, 50.71632497, 31.1792498 , 19.        ,\n",
       "        31.1792498 , 50.71632497, 67.45260842, 78.42100727, 82.22530024,\n",
       "        78.66927216, 67.74108341, 51.09937004, 31.79851597, 20.        ,\n",
       "        31.79851597, 51.09937004, 67.74108341, 78.66927216, 82.46211251,\n",
       "        78.92942659, 68.04303331, 51.49898657, 32.4367942 , 21.        ,\n",
       "        32.4367942 , 51.49898657, 68.04303331, 78.92942659, 82.71033793,\n",
       "        79.20135341, 68.35827954, 51.9147919 , 33.09298442, 22.        ,\n",
       "        33.09298442, 51.9147919 , 68.35827954, 79.20135341, 82.96987405,\n",
       "        79.48493179, 68.68663904, 52.34640024, 33.76604238, 23.        ,\n",
       "        33.76604238, 52.34640024, 68.68663904, 79.48493179, 83.24061509,\n",
       "        79.78003749, 69.02792465, 52.793424  , 34.45497958, 24.        ,\n",
       "        34.45497958, 52.793424  , 69.02792465, 79.78003749, 83.52245207,\n",
       "        80.08654308, 69.38194565, 53.255475  , 35.15886258, 25.        ,\n",
       "        35.15886258, 53.255475  , 69.38194565, 80.08654308, 83.81527307,\n",
       "        80.40431818, 69.7485081 , 53.73216558, 35.8768117 , 26.        ,\n",
       "        35.8768117 , 53.73216558, 69.7485081 , 80.40431818, 84.11896338,\n",
       "        80.73322973, 70.12741534, 54.22310963, 36.60799937, 27.        ,\n",
       "        36.60799937, 54.22310963, 70.12741534, 80.73322973, 84.43340571,\n",
       "        81.07314217, 70.51846838, 54.72792357, 37.35164813, 28.        ,\n",
       "        37.35164813, 54.72792357, 70.51846838, 81.07314217, 84.7584804 ,\n",
       "        81.42391775, 70.9214663 , 55.24622718, 38.10702846, 29.        ,\n",
       "        38.10702846, 55.24622718, 70.9214663 , 81.42391775, 85.0940656 ,\n",
       "        81.78541668, 71.33620667, 55.77764443, 38.87345647, 30.        ,\n",
       "        38.87345647, 55.77764443, 71.33620667, 81.78541668, 85.44003745,\n",
       "        82.15749742, 71.7624859 , 56.32180411, 39.65029152, 31.        ,\n",
       "        39.65029152, 56.32180411, 71.7624859 , 82.15749742, 85.79627032,\n",
       "        82.54001685, 72.2000996 , 56.8783405 , 40.43693384, 32.        ,\n",
       "        40.43693384, 56.8783405 , 72.2000996 , 82.54001685, 86.16263691,\n",
       "        82.93283054, 72.64884295, 57.44689389, 41.2328221 , 33.        ,\n",
       "        41.2328221 , 57.44689389, 72.64884295, 82.93283054, 86.53900855,\n",
       "        83.33579292, 73.10851101, 58.02711106, 42.03743115, 34.        ,\n",
       "        42.03743115, 58.02711106, 73.10851101, 83.33579292, 86.92525525,\n",
       "        83.7487575 , 73.57889903, 58.61864565, 42.85026975, 35.        ,\n",
       "        42.85026975, 58.61864565, 73.57889903, 83.7487575 , 87.32124598,\n",
       "        84.17157704, 74.05980274, 59.22115853, 43.67087837, 36.        ,\n",
       "        43.67087837, 59.22115853, 74.05980274, 84.17157704, 87.7268488 ,\n",
       "        84.60410381, 74.55101865, 59.83431806, 44.49882715, 37.        ,\n",
       "        44.49882715, 59.83431806, 74.55101865, 84.60410381, 88.141931  ,\n",
       "        85.0461897 , 75.05234428, 60.45780031, 45.33371392, 38.        ,\n",
       "        45.33371392, 60.45780031, 75.05234428, 85.0461897 , 88.5663593 ,\n",
       "        85.49768641, 75.56357841, 61.09128922, 46.17516235, 39.        ,\n",
       "        46.17516235, 61.09128922, 75.56357841, 85.49768641, 89.        ]))"
      ]
     },
     "execution_count": 574,
     "metadata": {},
     "output_type": "execute_result"
    }
   ],
   "source": [
    "np.exp(-1.0),vec_dip[4]"
   ]
  },
  {
   "cell_type": "code",
   "execution_count": 575,
   "metadata": {},
   "outputs": [
    {
     "name": "stderr",
     "output_type": "stream",
     "text": [
      "/home/vagner/anaconda3/lib/python3.6/site-packages/numba/compiler.py:602: NumbaPerformanceWarning: \u001b[1m\n",
      "The keyword argument 'parallel=True' was specified but no transformation for parallel execution was possible.\n",
      "\n",
      "To find out why, try turning on parallel diagnostics, see http://numba.pydata.org/numba-doc/latest/user/parallel.html#diagnostics for help.\n",
      "\u001b[1m\n",
      "File \"<ipython-input-570-ced6ec3e3998>\", line 2:\u001b[0m\n",
      "\u001b[1m@jit(nopython=True,parallel=True,fastmath=True)\n",
      "\u001b[1mdef energy_interexchange(phi,theta,phiantarray,thetaantarray,K1,K2,h,htheta,hphi,i,j):\n",
      "\u001b[0m\u001b[1m^\u001b[0m\u001b[0m\n",
      "\u001b[0m\n",
      "  self.func_ir.loc))\n"
     ]
    },
    {
     "data": {
      "text/plain": [
       "0.0"
      ]
     },
     "execution_count": 575,
     "metadata": {},
     "output_type": "execute_result"
    }
   ],
   "source": [
    "energy_interexchange(0.0,0.0,phiantarray,thetaantarray,K1,K2,0.3,htheta,hphi,4,5)"
   ]
  },
  {
   "cell_type": "code",
   "execution_count": 576,
   "metadata": {},
   "outputs": [
    {
     "name": "stderr",
     "output_type": "stream",
     "text": [
      "/home/vagner/anaconda3/lib/python3.6/site-packages/numba/compiler.py:602: NumbaPerformanceWarning: \u001b[1m\n",
      "The keyword argument 'parallel=True' was specified but no transformation for parallel execution was possible.\n",
      "\n",
      "To find out why, try turning on parallel diagnostics, see http://numba.pydata.org/numba-doc/latest/user/parallel.html#diagnostics for help.\n",
      "\u001b[1m\n",
      "File \"<ipython-input-571-c27d49cfb87b>\", line 2:\u001b[0m\n",
      "\u001b[1m@jit(nopython=True,parallel=True,fastmath=True)\n",
      "\u001b[1mdef energy_biinterexchange(phi,theta,phiantarray,thetaantarray,K1,K2,h,htheta,hphi,i,j):\n",
      "\u001b[0m\u001b[1m^\u001b[0m\u001b[0m\n",
      "\u001b[0m\n",
      "  self.func_ir.loc))\n"
     ]
    },
    {
     "data": {
      "text/plain": [
       "0.0"
      ]
     },
     "execution_count": 576,
     "metadata": {},
     "output_type": "execute_result"
    }
   ],
   "source": [
    "energy_biinterexchange(0.0,0.0,phiantarray,thetaantarray,K1,K2,0.3,htheta,hphi,4,5)"
   ]
  },
  {
   "cell_type": "code",
   "execution_count": 577,
   "metadata": {},
   "outputs": [],
   "source": [
    "# energy array\n",
    "\n",
    "#@jit(nopython=True,parallel=True)\n",
    "#@jit(nopython=True)\n",
    "@njit(fastmath=True,parallel=True)\n",
    "def energy_array_inter(phi,theta,phiantarray,thetaantarray,K1,K2,h,htheta,hphi,i,j):\n",
    "\n",
    "    '''\n",
    "    \n",
    "    listaNN1=[0. for x in range(int(sqrt(NN2))-2)]\n",
    "    \n",
    "    for x in range(0,int(sqrt(NN2))-2):\n",
    "        listaNN1[x] = int(sqrt(NN2))-x-2\n",
    "                                \n",
    "    listaNN2=[0. for x in range(int(sqrt(NN2))-2)]\n",
    "    \n",
    "    for x in range(0,int(sqrt(NN2))-2):\n",
    "        listaNN2[x] = int(sqrt(NN2))*(x+2)-1\n",
    "                                \n",
    "    listaNN3=[0. for x in range(int(sqrt(NN2))-2)]\n",
    "    \n",
    "    for x in range(0,int(sqrt(NN2))-2):\n",
    "        listaNN3[x] = NN2-x-2\n",
    "    \n",
    "    listaNN4=[0. for x in range(int(sqrt(NN2))-2)]\n",
    "    \n",
    "    for x in range(0,int(sqrt(NN2))-2):\n",
    "        listaNN4[x] = int(sqrt(NN2))*(x+1)\n",
    "\n",
    "#    print('listas',listaNN1,listaNN2,listaNN3,listaNN4)\n",
    "\n",
    "    \"\"\"\n",
    "    for x in range(NN2):\n",
    "        \n",
    "        x=i\n",
    "        for y in range(int(sqrt(NN2))-2):\n",
    "            \n",
    "            print(listaNN3[y]==x)\n",
    "#            print(x,y,'xy')\n",
    "                                \n",
    "            if(listaNN1[y]==x):\n",
    "                                \n",
    "                foi=-1\n",
    "                                \n",
    "            elif(listaNN2[y]==x):\n",
    "                                \n",
    "                foi=-2\n",
    "#                print(foi,'foi dentro',listaNN3[y],x)\n",
    "                                \n",
    "            elif(listaNN3[y]==x):\n",
    "                                \n",
    "                foi=-3\n",
    "#                print(foi,'foi dentro',listaNN3[y],x)\n",
    "                                \n",
    "            elif(listaNN4[y]==x):\n",
    "                                \n",
    "                foi=-4\n",
    "            else:\n",
    "                                \n",
    "                foi=-5\n",
    "#            print(foi,'foi dentro',listaNN3[y],x)\n",
    "    \"\"\"                         \n",
    "\n",
    "    \n",
    "        \n",
    "    x=i\n",
    "    for y in range(int(sqrt(NN2))-2):\n",
    "            \n",
    "#        print(listaNN3[y]==x)\n",
    "#            print(x,y,'xy')\n",
    "                                \n",
    "        if(listaNN1[y]==x):\n",
    "                                \n",
    "            foi=-1\n",
    "            break\n",
    "                                \n",
    "        elif(listaNN2[y]==x):\n",
    "                                \n",
    "            foi=-2\n",
    "#                print(foi,'foi dentro',listaNN3[y],x)\n",
    "            break\n",
    "                                \n",
    "        elif(listaNN3[y]==x):\n",
    "                                \n",
    "            foi=-3\n",
    "            break\n",
    "#                print(foi,'foi dentro',listaNN3[y],x)\n",
    "                                \n",
    "        elif(listaNN4[y]==x):\n",
    "                                \n",
    "            foi=-4\n",
    "            break\n",
    "        else:\n",
    "                                \n",
    "            foi=-5\n",
    "#            print(foi,'foi dentro',listaNN3[y],x)\n",
    "    \n",
    "    \n",
    "    \n",
    "#    print(foi,'foi fora')\n",
    "                                \n",
    "#    print(i,j)\n",
    "    \n",
    "    # defining the energy array!\n",
    "    energy_vec=[0.0 for x in range(NN2)]\n",
    "    \n",
    "    \n",
    "    if(np_order==1):\n",
    "        \n",
    "        if(i==0):\n",
    "        \n",
    "            dip_b=energy_interdipolar(phi,theta,phiantarray,thetaantarray,K1,K2,h,htheta,hphi,0,1)\n",
    "            dip_b+=energy_interdipolar(phi,theta,phiantarray,thetaantarray,K1,K2,h,htheta,hphi,0,int(sqrt(NN2)))\n",
    "            dip_b+=energy_interdipolar(phi,theta,phiantarray,thetaantarray,K1,K2,h,htheta,hphi,0,int(sqrt(NN2))-1)\n",
    "            dip_b+=energy_interdipolar(phi,theta,phiantarray,thetaantarray,K1,K2,h,htheta,hphi,0,NN2-int(sqrt(NN2)))\n",
    "            \n",
    "            \n",
    "            energy_vec[i]=dip_b\n",
    "\n",
    "    \n",
    "        elif(foi==-1):\n",
    "                \n",
    "                \n",
    "#            print(i,'i dentro de foi=-1')\n",
    "            \n",
    "            dip_f=energy_interdipolar(phi,theta,phiantarray,thetaantarray,K1,K2,h,htheta,hphi,i,i-1)\n",
    "            dip_f+=energy_interdipolar(phi,theta,phiantarray,thetaantarray,K1,K2,h,htheta,hphi,i,i+1)\n",
    "            dip_f+=energy_interdipolar(phi,theta,phiantarray,thetaantarray,K1,K2,h,htheta,hphi,i,i+int(sqrt(NN2)))\n",
    "            dip_f+=energy_interdipolar(phi,theta,phiantarray,thetaantarray,K1,K2,h,htheta,hphi,i,NN2-int(sqrt(NN2))+i)\n",
    "            \n",
    "#            print(dip_f,'dip_f')\n",
    "    \n",
    "            energy_vec[i]=dip_f\n",
    "\n",
    "        elif(i==int(sqrt(NN2)-1)):\n",
    "                                \n",
    "            dip_c=energy_interdipolar(phi,theta,phiantarray,thetaantarray,K1,K2,h,htheta,hphi,int(sqrt(NN2))-1,int(sqrt(NN2))-2)\n",
    "            dip_c+=energy_interdipolar(phi,theta,phiantarray,thetaantarray,K1,K2,h,htheta,hphi,int(sqrt(NN2))-1,2*int(sqrt(NN2))-1)\n",
    "            dip_c+=energy_interdipolar(phi,theta,phiantarray,thetaantarray,K1,K2,h,htheta,hphi,int(sqrt(NN2))-1,0)\n",
    "            dip_c+=energy_interdipolar(phi,theta,phiantarray,thetaantarray,K1,K2,h,htheta,hphi,int(sqrt(NN2))-1,NN2-1)\n",
    "\n",
    "            energy_vec[i]=dip_c\n",
    "\n",
    "        elif(foi==-2):\n",
    "\n",
    "            \n",
    "            dip_q=energy_interdipolar(phi,theta,phiantarray,thetaantarray,K1,K2,h,htheta,hphi,i,i-1)\n",
    "            dip_q+=energy_interdipolar(phi,theta,phiantarray,thetaantarray,K1,K2,h,htheta,hphi,i,i+int(sqrt(NN2)))\n",
    "            dip_q+=energy_interdipolar(phi,theta,phiantarray,thetaantarray,K1,K2,h,htheta,hphi,i,i-int(sqrt(NN2)))\n",
    "            dip_q+=energy_interdipolar(phi,theta,phiantarray,thetaantarray,K1,K2,h,htheta,hphi,i,i-int(sqrt(NN2))+1)\n",
    "            \n",
    "            energy_vec[i]=dip_q\n",
    "\n",
    "        elif(i==NN2-1):\n",
    "                                \n",
    "            dip_e=energy_interdipolar(phi,theta,phiantarray,thetaantarray,K1,K2,h,htheta,hphi,NN2-1,NN2-1-int(sqrt(NN2))-2)\n",
    "            dip_e+=energy_interdipolar(phi,theta,phiantarray,thetaantarray,K1,K2,h,htheta,hphi,NN2-1,NN2-1-1)\n",
    "            dip_e+=energy_interdipolar(phi,theta,phiantarray,thetaantarray,K1,K2,h,htheta,hphi,NN2-1,NN2-1-int(sqrt(NN2))+1)\n",
    "            dip_e+=energy_interdipolar(phi,theta,phiantarray,thetaantarray,K1,K2,h,htheta,hphi,NN2-1,int(sqrt(NN2))-1)\n",
    "                                \n",
    "            energy_vec[i]=dip_e\n",
    "\n",
    "        elif(i==NN2-int(sqrt(NN2))):\n",
    "                                \n",
    "            dip_d=energy_interdipolar(phi,theta,phiantarray,thetaantarray,K1,K2,h,htheta,hphi,NN2-int(sqrt(NN2)),NN2-int(sqrt(NN2))+1)\n",
    "            dip_d+=energy_interdipolar(phi,theta,phiantarray,thetaantarray,K1,K2,h,htheta,hphi,NN2-int(sqrt(NN2)),NN2-2*int(sqrt(NN2)))\n",
    "            dip_d+=energy_interdipolar(phi,theta,phiantarray,thetaantarray,K1,K2,h,htheta,hphi,NN2-int(sqrt(NN2)),NN2-1)\n",
    "            dip_d+=energy_interdipolar(phi,theta,phiantarray,thetaantarray,K1,K2,h,htheta,hphi,NN2-int(sqrt(NN2)),0)\n",
    "                                \n",
    "            energy_vec[i]=dip_d\n",
    "                                \n",
    "        elif(foi==-3):\n",
    "                                \n",
    "            dip_g=energy_interdipolar(phi,theta,phiantarray,thetaantarray,K1,K2,h,htheta,hphi,i,i-1)\n",
    "            dip_g+=energy_interdipolar(phi,theta,phiantarray,thetaantarray,K1,K2,h,htheta,hphi,i,i+1)\n",
    "            dip_g+=energy_interdipolar(phi,theta,phiantarray,thetaantarray,K1,K2,h,htheta,hphi,i,i-int(sqrt(NN2)))\n",
    "            dip_g+=energy_interdipolar(phi,theta,phiantarray,thetaantarray,K1,K2,h,htheta,hphi,i,i-i%(int(sqrt(NN2))))\n",
    "            \n",
    "            energy_vec[i]=dip_g\n",
    "                                \n",
    "        elif(foi==-4):\n",
    "            \n",
    "            \n",
    "#            print('aqui o erro!')\n",
    "            \n",
    "            dip_p=energy_interdipolar(phi,theta,phiantarray,thetaantarray,K1,K2,h,htheta,hphi,i,i+1)\n",
    "            dip_p+=energy_interdipolar(phi,theta,phiantarray,thetaantarray,K1,K2,h,htheta,hphi,i,i+int(sqrt(NN2)))\n",
    "            dip_p+=energy_interdipolar(phi,theta,phiantarray,thetaantarray,K1,K2,h,htheta,hphi,i,i-int(sqrt(NN2)))\n",
    "            dip_p=energy_interdipolar(phi,theta,phiantarray,thetaantarray,K1,K2,h,htheta,hphi,i,i+int(sqrt(NN2))-1)\n",
    "                                \n",
    "            energy_vec[i]=dip_p\n",
    "                                \n",
    "        else:\n",
    "            \n",
    "#            print('aqui o erro!')\n",
    "            \n",
    "                                \n",
    "            dip_a=energy_interdipolar(phi,theta,phiantarray,thetaantarray,K1,K2,h,htheta,hphi,i,i+1)\n",
    "            dip_a+=energy_interdipolar(phi,theta,phiantarray,thetaantarray,K1,K2,h,htheta,hphi,i,i-1)\n",
    "            dip_a+=energy_interdipolar(phi,theta,phiantarray,thetaantarray,K1,K2,h,htheta,hphi,i,i-int(sqrt(NN2)))\n",
    "            dip_a+=energy_interdipolar(phi,theta,phiantarray,thetaantarray,K1,K2,h,htheta,hphi,i,i+int(sqrt(NN2)))\n",
    "                                \n",
    "            energy_vec[i]=dip_a\n",
    "    '''                         \n",
    "    # defining the energy array!\n",
    "#    energy_vec=[0.0 for x in range(NN2)]\n",
    "\n",
    "    # summing up all the contributions    \n",
    "#    '''\n",
    "    if(np_order==1 or np_order==2):\n",
    "        soma_dip = 0.0\n",
    "        for j in nb.prange(NN2):\n",
    "            if(i!=j):\n",
    "                soma_dip+= energy_interdipolar(phi,theta,phiantarray,thetaantarray,K1,K2,h,htheta,hphi,i,j)\n",
    "                soma_dip+= energy_interexchange(phi,theta,phiantarray,thetaantarray,K1,K2,h,htheta,hphi,i,j)\n",
    "                soma_dip+= energy_biinterexchange(phi,theta,phiantarray,thetaantarray,K1,K2,h,htheta,hphi,i,j)\n",
    "                soma_dip+= energy_moriya(phi,theta,phiantarray,thetaantarray,K1,K2,h,htheta,hphi,i,j)\n",
    "    elif(np_order==3):\n",
    "        soma_dip = 0.0\n",
    "        for j in nb.prange(NN2*height):\n",
    "#        for j in range(NN2*height):\n",
    "            if(i!=j):\n",
    "                soma_dip+= energy_interdipolar(phi,theta,phiantarray,thetaantarray,K1,K2,h,htheta,hphi,i,j)\n",
    "                soma_dip+= energy_interexchange(phi,theta,phiantarray,thetaantarray,K1,K2,h,htheta,hphi,i,j)\n",
    "#                print(j,soma_dip)\n",
    "#    '''\n",
    "#    soma_dip = sum(energy_interdipolar(phi,theta,phiantarray,thetaantarray,K1,K2,h,htheta,hphi,i,j) for j in range(NN2))\n",
    "    '''\n",
    "\n",
    "    soma_dip = []\n",
    "    soma_dip=np.array([energy_interdipolar(phi,theta,phiantarray,thetaantarray,K1,K2,h,htheta,hphi,i,j) for j in range(NN2) if i!=j])\n",
    "    soma_dip=np.sum(soma_dip)\n",
    "    '''\n",
    "    \n",
    "#    energy_vec[i]=soma_dip\n",
    "                                \n",
    "                                \n",
    "#    return energy_vec\n",
    "#    return np.array(energy_vec)\n",
    "    return soma_dip\n",
    "                                \n",
    "                                \n",
    "                                \n",
    "                                \n",
    "                                \n",
    "                                \n",
    "                                \n",
    "                                "
   ]
  },
  {
   "cell_type": "code",
   "execution_count": 578,
   "metadata": {},
   "outputs": [
    {
     "name": "stdout",
     "output_type": "stream",
     "text": [
      "3\n"
     ]
    }
   ],
   "source": [
    "xx,yy=angles_vecs(NN2)"
   ]
  },
  {
   "cell_type": "code",
   "execution_count": 579,
   "metadata": {},
   "outputs": [
    {
     "data": {
      "text/plain": [
       "list"
      ]
     },
     "execution_count": 579,
     "metadata": {},
     "output_type": "execute_result"
    }
   ],
   "source": [
    "#xx\n",
    "type(list(range(NN2)))\n",
    "#list(range(NN2))"
   ]
  },
  {
   "cell_type": "code",
   "execution_count": 580,
   "metadata": {},
   "outputs": [
    {
     "name": "stdout",
     "output_type": "stream",
     "text": [
      "0\n"
     ]
    }
   ],
   "source": [
    "for k in range(int(sqrt(NN2))-2):\n",
    "    print(k)"
   ]
  },
  {
   "cell_type": "code",
   "execution_count": 581,
   "metadata": {},
   "outputs": [
    {
     "data": {
      "text/plain": [
       "array([4.26995164e-01, 8.62563950e-01, 8.31116216e-01, 6.43780377e-01,\n",
       "       2.11783802e-01, 3.97680370e-01, 6.45029483e-01, 7.00933451e-01,\n",
       "       2.12755345e-01, 7.79272898e-01, 8.99165977e-01, 9.48589494e-01,\n",
       "       1.22568642e-01, 7.15513753e-01, 8.86471436e-01, 1.45638375e-02,\n",
       "       9.51772090e-01, 9.30483690e-01, 3.33329298e-01, 6.55927556e-01,\n",
       "       2.66873550e-01, 3.30549560e-01, 9.57395040e-01, 5.28419132e-01,\n",
       "       3.82972106e-01, 8.67991698e-01, 7.52638991e-01, 1.15236563e-01,\n",
       "       1.64173282e-01, 5.44965299e-01, 5.34545432e-01, 6.78394719e-01,\n",
       "       7.99422241e-01, 6.41232803e-02, 8.19307862e-01, 8.57850806e-01,\n",
       "       3.06889506e-01, 7.70359328e-01, 7.79348084e-01, 6.75195595e-02,\n",
       "       6.79955570e-01, 4.79988308e-01, 7.94139308e-01, 9.90651495e-01,\n",
       "       1.25678946e-01, 7.95001173e-01, 8.27416711e-01, 4.89470849e-01,\n",
       "       5.90772793e-01, 7.83294421e-01, 9.52924471e-01, 6.31838984e-01,\n",
       "       7.61677817e-01, 2.85539370e-01, 7.68862624e-03, 3.74118788e-01,\n",
       "       9.09045076e-01, 6.63922017e-01, 2.60157097e-01, 8.73145791e-01,\n",
       "       7.59707557e-01, 7.37170841e-01, 8.74373225e-03, 4.86070747e-02,\n",
       "       6.46978299e-03, 3.60755352e-02, 2.55768028e-01, 3.49906429e-01,\n",
       "       9.12934701e-01, 5.82128374e-01, 7.18971430e-02, 3.43158884e-01,\n",
       "       9.17033520e-01, 6.96276857e-01, 8.35596902e-01, 8.25175363e-01,\n",
       "       4.75151715e-01, 2.43633037e-02, 6.33809401e-01, 3.37623024e-01,\n",
       "       1.80395474e-01, 2.69799979e-01, 7.30607597e-01, 3.12560348e-01,\n",
       "       7.59581890e-01, 3.51804336e-01, 9.60039792e-01, 2.03297332e-01,\n",
       "       6.07975437e-01, 2.77714019e-01, 6.13313399e-03, 2.06648809e-01,\n",
       "       4.53580975e-01, 4.25905955e-01, 6.15627867e-02, 5.72042421e-01,\n",
       "       5.86690987e-04, 4.37414085e-01, 2.54180269e-01, 7.23582853e-01])"
      ]
     },
     "execution_count": 581,
     "metadata": {},
     "output_type": "execute_result"
    }
   ],
   "source": [
    "phiantarray"
   ]
  },
  {
   "cell_type": "code",
   "execution_count": 582,
   "metadata": {},
   "outputs": [
    {
     "data": {
      "text/plain": [
       "array([0.70407696, 0.88201019, 0.8756494 , 0.09411896, 0.97322235,\n",
       "       0.92547025, 0.86031681, 0.90771982, 0.34534952, 0.7757186 ,\n",
       "       0.69476191, 0.63320726, 0.71065686, 0.08840952, 0.8336456 ,\n",
       "       0.5968978 , 0.7341822 , 0.03434052, 0.77227111, 0.75875332,\n",
       "       0.70116039, 0.66397793, 0.01630946, 0.53964419, 0.08821134,\n",
       "       0.32227824, 0.05279838, 0.70489406, 0.37418815, 0.05707557,\n",
       "       0.75531942, 0.27619609, 0.45102299, 0.72026533, 0.57699858,\n",
       "       0.7400997 , 0.78797806, 0.10746868, 0.75398607, 0.70083496,\n",
       "       0.14438329, 0.03276279, 0.5710322 , 0.24826993, 0.71909657,\n",
       "       0.36501503, 0.31047002, 0.92568817, 0.91406353, 0.32339193,\n",
       "       0.85419794, 0.36318388, 0.9467155 , 0.1083456 , 0.45551611,\n",
       "       0.65930934, 0.71571662, 0.50182748, 0.51381426, 0.81658931,\n",
       "       0.6062132 , 0.505191  , 0.85879841, 0.21229475, 0.35247638,\n",
       "       0.91038613, 0.47111809, 0.76182587, 0.68470138, 0.16874261,\n",
       "       0.79398859, 0.90090615, 0.29172519, 0.07153796, 0.24490187,\n",
       "       0.91544006, 0.50778526, 0.00936497, 0.04484283, 0.31427639,\n",
       "       0.44206548, 0.52794409, 0.1542026 , 0.14646205, 0.31154297,\n",
       "       0.4984555 , 0.0132441 , 0.14433966, 0.6785984 , 0.82862678,\n",
       "       0.82949542, 0.58825416, 0.75869701, 0.4939282 , 0.83048415,\n",
       "       0.25581761, 0.58971802, 0.95228816, 0.95024597, 0.2703416 ])"
      ]
     },
     "execution_count": 582,
     "metadata": {},
     "output_type": "execute_result"
    }
   ],
   "source": [
    "thetaantarray"
   ]
  },
  {
   "cell_type": "code",
   "execution_count": 583,
   "metadata": {},
   "outputs": [
    {
     "name": "stderr",
     "output_type": "stream",
     "text": [
      "<ipython-input-577-99a4e3765717>:223: NumbaPerformanceWarning: \u001b[1m\u001b[1m\n",
      "The keyword argument 'parallel=True' was specified but no transformation for parallel execution was possible.\n",
      "\n",
      "To find out why, try turning on parallel diagnostics, see http://numba.pydata.org/numba-doc/latest/user/parallel.html#diagnostics for help.\n",
      "\u001b[1m\n",
      "File \"<ipython-input-568-48bf7c2af5c4>\", line 6:\u001b[0m\n",
      "\u001b[1m@jit(nopython=True,parallel=True,fastmath=True)\n",
      "\u001b[1mdef energy_interdipolar(phi,theta,phiantarray,thetaantarray,K1,K2,h,htheta,hphi,i,j):\n",
      "\u001b[0m\u001b[1m^\u001b[0m\u001b[0m\n",
      "\u001b[0m\u001b[0m\n",
      "  soma_dip+= energy_interdipolar(phi,theta,phiantarray,thetaantarray,K1,K2,h,htheta,hphi,i,j)\n",
      "<ipython-input-577-99a4e3765717>:224: NumbaPerformanceWarning: \u001b[1m\u001b[1m\n",
      "The keyword argument 'parallel=True' was specified but no transformation for parallel execution was possible.\n",
      "\n",
      "To find out why, try turning on parallel diagnostics, see http://numba.pydata.org/numba-doc/latest/user/parallel.html#diagnostics for help.\n",
      "\u001b[1m\n",
      "File \"<ipython-input-570-ced6ec3e3998>\", line 2:\u001b[0m\n",
      "\u001b[1m@jit(nopython=True,parallel=True,fastmath=True)\n",
      "\u001b[1mdef energy_interexchange(phi,theta,phiantarray,thetaantarray,K1,K2,h,htheta,hphi,i,j):\n",
      "\u001b[0m\u001b[1m^\u001b[0m\u001b[0m\n",
      "\u001b[0m\u001b[0m\n",
      "  soma_dip+= energy_interexchange(phi,theta,phiantarray,thetaantarray,K1,K2,h,htheta,hphi,i,j)\n",
      "<ipython-input-577-99a4e3765717>:223: NumbaPerformanceWarning: \u001b[1m\u001b[1m\n",
      "The keyword argument 'parallel=True' was specified but no transformation for parallel execution was possible.\n",
      "\n",
      "To find out why, try turning on parallel diagnostics, see http://numba.pydata.org/numba-doc/latest/user/parallel.html#diagnostics for help.\n",
      "\u001b[1m\n",
      "File \"<ipython-input-568-48bf7c2af5c4>\", line 6:\u001b[0m\n",
      "\u001b[1m@jit(nopython=True,parallel=True,fastmath=True)\n",
      "\u001b[1mdef energy_interdipolar(phi,theta,phiantarray,thetaantarray,K1,K2,h,htheta,hphi,i,j):\n",
      "\u001b[0m\u001b[1m^\u001b[0m\u001b[0m\n",
      "\u001b[0m\u001b[0m\n",
      "  soma_dip+= energy_interdipolar(phi,theta,phiantarray,thetaantarray,K1,K2,h,htheta,hphi,i,j)\n",
      "<ipython-input-577-99a4e3765717>:224: NumbaPerformanceWarning: \u001b[1m\u001b[1m\n",
      "The keyword argument 'parallel=True' was specified but no transformation for parallel execution was possible.\n",
      "\n",
      "To find out why, try turning on parallel diagnostics, see http://numba.pydata.org/numba-doc/latest/user/parallel.html#diagnostics for help.\n",
      "\u001b[1m\n",
      "File \"<ipython-input-570-ced6ec3e3998>\", line 2:\u001b[0m\n",
      "\u001b[1m@jit(nopython=True,parallel=True,fastmath=True)\n",
      "\u001b[1mdef energy_interexchange(phi,theta,phiantarray,thetaantarray,K1,K2,h,htheta,hphi,i,j):\n",
      "\u001b[0m\u001b[1m^\u001b[0m\u001b[0m\n",
      "\u001b[0m\u001b[0m\n",
      "  soma_dip+= energy_interexchange(phi,theta,phiantarray,thetaantarray,K1,K2,h,htheta,hphi,i,j)\n"
     ]
    },
    {
     "data": {
      "text/plain": [
       "nan"
      ]
     },
     "execution_count": 583,
     "metadata": {},
     "output_type": "execute_result"
    }
   ],
   "source": [
    "energy_array_inter(1,0,phiantarray,thetaantarray,K1,K2,h,htheta,hphi,4,5)\n",
    "#print(beta)"
   ]
  },
  {
   "cell_type": "code",
   "execution_count": 584,
   "metadata": {},
   "outputs": [
    {
     "data": {
      "text/plain": [
       "-5.01"
      ]
     },
     "execution_count": 584,
     "metadata": {},
     "output_type": "execute_result"
    }
   ],
   "source": [
    "h"
   ]
  },
  {
   "cell_type": "code",
   "execution_count": 585,
   "metadata": {},
   "outputs": [
    {
     "name": "stdout",
     "output_type": "stream",
     "text": [
      "[10.0, 8.090169943749475, 3.0901699437494745, -3.0901699437494736, -8.090169943749473, -10.0, -8.090169943749476, -3.0901699437494754, 3.0901699437494723, 8.090169943749473]\n",
      "[0.0, 0.0, 0.0, 0.0, 0.0, 0.0, 0.0, 0.0, 0.0, 0.0]\n",
      "[0.0, 5.877852522924732, 9.510565162951535, 9.510565162951536, 5.877852522924733, 1.2246467991473533e-15, -5.87785252292473, -9.510565162951535, -9.510565162951536, -5.877852522924734]\n"
     ]
    }
   ],
   "source": [
    "\n",
    "ar_pos=create_pos(np_order,NN2)\n",
    "\n",
    "ar_pos[0][0]\n",
    "\n",
    "x_coord = [ar_pos[i][0] for i in range(NN2)]\n",
    "y_coord = [ar_pos[i][1] for i in range(NN2)]\n",
    "z_coord = [ar_pos[i][2] for i in range(NN2)]\n",
    "\n",
    "print(x_coord)\n",
    "print(y_coord)\n",
    "print(z_coord)\n"
   ]
  },
  {
   "cell_type": "code",
   "execution_count": 586,
   "metadata": {},
   "outputs": [
    {
     "name": "stdout",
     "output_type": "stream",
     "text": [
      "3\n"
     ]
    },
    {
     "data": {
      "text/plain": [
       "3"
      ]
     },
     "execution_count": 586,
     "metadata": {},
     "output_type": "execute_result"
    }
   ],
   "source": [
    "a,b=angles_vecs(NN2)\n",
    "int(sqrt(NN2))"
   ]
  },
  {
   "cell_type": "code",
   "execution_count": 587,
   "metadata": {},
   "outputs": [
    {
     "data": {
      "text/plain": [
       "[0, 2, 0, 0, 0, 0, 0, 0, 0, 0]"
      ]
     },
     "execution_count": 587,
     "metadata": {},
     "output_type": "execute_result"
    }
   ],
   "source": [
    "energy_vec=[0 for x in range(NN2)]\n",
    "\n",
    "energy_vec[1]=2\n",
    "\n",
    "energy_vec"
   ]
  },
  {
   "cell_type": "code",
   "execution_count": 588,
   "metadata": {},
   "outputs": [
    {
     "name": "stderr",
     "output_type": "stream",
     "text": [
      "<ipython-input-577-99a4e3765717>:223: NumbaPerformanceWarning: \u001b[1m\u001b[1m\n",
      "The keyword argument 'parallel=True' was specified but no transformation for parallel execution was possible.\n",
      "\n",
      "To find out why, try turning on parallel diagnostics, see http://numba.pydata.org/numba-doc/latest/user/parallel.html#diagnostics for help.\n",
      "\u001b[1m\n",
      "File \"<ipython-input-568-48bf7c2af5c4>\", line 6:\u001b[0m\n",
      "\u001b[1m@jit(nopython=True,parallel=True,fastmath=True)\n",
      "\u001b[1mdef energy_interdipolar(phi,theta,phiantarray,thetaantarray,K1,K2,h,htheta,hphi,i,j):\n",
      "\u001b[0m\u001b[1m^\u001b[0m\u001b[0m\n",
      "\u001b[0m\u001b[0m\n",
      "  soma_dip+= energy_interdipolar(phi,theta,phiantarray,thetaantarray,K1,K2,h,htheta,hphi,i,j)\n",
      "<ipython-input-577-99a4e3765717>:224: NumbaPerformanceWarning: \u001b[1m\u001b[1m\n",
      "The keyword argument 'parallel=True' was specified but no transformation for parallel execution was possible.\n",
      "\n",
      "To find out why, try turning on parallel diagnostics, see http://numba.pydata.org/numba-doc/latest/user/parallel.html#diagnostics for help.\n",
      "\u001b[1m\n",
      "File \"<ipython-input-570-ced6ec3e3998>\", line 2:\u001b[0m\n",
      "\u001b[1m@jit(nopython=True,parallel=True,fastmath=True)\n",
      "\u001b[1mdef energy_interexchange(phi,theta,phiantarray,thetaantarray,K1,K2,h,htheta,hphi,i,j):\n",
      "\u001b[0m\u001b[1m^\u001b[0m\u001b[0m\n",
      "\u001b[0m\u001b[0m\n",
      "  soma_dip+= energy_interexchange(phi,theta,phiantarray,thetaantarray,K1,K2,h,htheta,hphi,i,j)\n"
     ]
    },
    {
     "name": "stdout",
     "output_type": "stream",
     "text": [
      "0.0010924259480735961\n"
     ]
    }
   ],
   "source": [
    "import random\n",
    "\n",
    "phiantarray=np.array([random.random() for x in range(NN2*height)],dtype=np.float64)\n",
    "thetaantarray=np.array([random.random() for x in range(NN2*height)])\n",
    "h=0.16\n",
    "ii=3\n",
    "print(energy_array_inter(-0.8,-1.2,phiantarray,thetaantarray,K1,K2,h,htheta,hphi,ii,2))\n",
    "\n",
    "#phiantarray\n",
    "#thetaantarray"
   ]
  },
  {
   "cell_type": "code",
   "execution_count": 589,
   "metadata": {},
   "outputs": [
    {
     "data": {
      "text/plain": [
       "array([0.78882211, 0.60943335, 0.78066278, 0.55694109, 0.83221214,\n",
       "       0.80388649, 0.30576535, 0.67311753, 0.9698321 , 0.165174  ,\n",
       "       0.57519785, 0.6680316 , 0.24073655, 0.6218504 , 0.58748536,\n",
       "       0.53868793, 0.80175388, 0.82951742, 0.11665681, 0.42400316,\n",
       "       0.40057088, 0.32103935, 0.68828108, 0.00284988, 0.03558717,\n",
       "       0.82050144, 0.386052  , 0.63232392, 0.08542952, 0.99151968,\n",
       "       0.57572095, 0.68349881, 0.85685308, 0.08734723, 0.65269061,\n",
       "       0.93919789, 0.14678971, 0.61578447, 0.08634626, 0.14546972,\n",
       "       0.79954236, 0.0514273 , 0.84992536, 0.01553629, 0.84515516,\n",
       "       0.68149672, 0.40735867, 0.94665026, 0.5296104 , 0.28364895,\n",
       "       0.27901907, 0.78318493, 0.98181043, 0.17266429, 0.14305307,\n",
       "       0.07502218, 0.98032869, 0.13938392, 0.88184602, 0.56079435,\n",
       "       0.58044971, 0.19732443, 0.29190862, 0.73064375, 0.51933869,\n",
       "       0.08708863, 0.9441543 , 0.29315096, 0.99505744, 0.50734471,\n",
       "       0.16966364, 0.02548884, 0.99912265, 0.10064299, 0.32380092,\n",
       "       0.40511951, 0.96982171, 0.87934647, 0.84566016, 0.20052179,\n",
       "       0.10121259, 0.34689846, 0.32760782, 0.55719793, 0.39375223,\n",
       "       0.97828849, 0.65622185, 0.90149686, 0.84758543, 0.81800407,\n",
       "       0.25540243, 0.2402617 , 0.64561913, 0.72869851, 0.82848125,\n",
       "       0.79585055, 0.12272062, 0.62082013, 0.78111321, 0.78806784,\n",
       "       0.44833231, 0.81359515, 0.98920851, 0.25923247, 0.26964967,\n",
       "       0.75114092, 0.63501447, 0.85455338, 0.52034076, 0.83587628,\n",
       "       0.01066436, 0.67900206, 0.57540043, 0.67002259, 0.09981502,\n",
       "       0.82252929, 0.3499133 , 0.12300939, 0.00638464, 0.84826087,\n",
       "       0.29822327, 0.67883047, 0.84986665, 0.39776816, 0.7231994 ,\n",
       "       0.0759769 , 0.90200451, 0.19141143, 0.37154431, 0.33776961,\n",
       "       0.5836011 , 0.93944874, 0.46128607, 0.09648332, 0.33946007,\n",
       "       0.38205963, 0.99699158, 0.26285497, 0.74136989, 0.80228758,\n",
       "       0.92454972, 0.06232374, 0.76030706, 0.14159298, 0.24423709,\n",
       "       0.17963725, 0.13459518, 0.13783345, 0.0449794 , 0.73984757,\n",
       "       0.99256083, 0.77057316, 0.88237905, 0.79129268, 0.36874714,\n",
       "       0.93359392, 0.40157743, 0.52058093, 0.18731776, 0.75064636,\n",
       "       0.03655694, 0.07354755, 0.96122139, 0.47134927, 0.73109127,\n",
       "       0.4950503 , 0.63021426, 0.60556124, 0.95612204, 0.868004  ,\n",
       "       0.97232108, 0.61523635, 0.74537885, 0.17328191, 0.39683861,\n",
       "       0.482323  , 0.71115133, 0.51911307, 0.93817205, 0.72456403,\n",
       "       0.56293682, 0.17445297, 0.29931622, 0.27226393, 0.20637129,\n",
       "       0.1408532 , 0.06587204, 0.2258794 , 0.85085276, 0.2011948 ,\n",
       "       0.63987804, 0.53539106, 0.84676933, 0.3893375 , 0.20060778,\n",
       "       0.51017823, 0.18469552, 0.88225315, 0.43247937, 0.03167244,\n",
       "       0.5371386 , 0.64614103, 0.88122304, 0.68142162, 0.73159456,\n",
       "       0.07609735, 0.64602047, 0.96271042, 0.72770039, 0.09898618,\n",
       "       0.10778343, 0.51498225, 0.85660498, 0.7965261 , 0.91898385,\n",
       "       0.81845145, 0.12833443, 0.68623262, 0.4294547 , 0.66338199,\n",
       "       0.45294767, 0.36242238, 0.48719387, 0.04154475, 0.94198003,\n",
       "       0.63695054, 0.7080486 , 0.30850965, 0.48516101, 0.90770722,\n",
       "       0.94775233, 0.21889009, 0.2898815 , 0.500001  , 0.10212242,\n",
       "       0.38975699, 0.62515547, 0.60067224, 0.38187051, 0.13304634,\n",
       "       0.04295368, 0.50336512, 0.98636044, 0.15563075, 0.72852064,\n",
       "       0.30535735, 0.68078973, 0.97258286, 0.8747186 , 0.09558068,\n",
       "       0.1203837 , 0.85230279, 0.7446965 , 0.29993609, 0.63664172,\n",
       "       0.6311675 , 0.61384093, 0.61365426, 0.97852376, 0.57882353,\n",
       "       0.49298372, 0.46144247, 0.27345721, 0.62990016, 0.80068835,\n",
       "       0.15547165, 0.22191826, 0.57393963, 0.47412025, 0.19350663,\n",
       "       0.03544538, 0.1212037 , 0.62356343, 0.90876975, 0.17120597,\n",
       "       0.07897462, 0.72368832, 0.21219958, 0.19696647, 0.57939547,\n",
       "       0.20013835, 0.24329103, 0.46156984, 0.0960924 , 0.76527275,\n",
       "       0.91336316, 0.52992021, 0.77969512, 0.76205821, 0.91408336,\n",
       "       0.01950457, 0.5775149 , 0.1579435 , 0.74914765, 0.32628317,\n",
       "       0.63227175, 0.16387808, 0.79350571, 0.99685827, 0.69825456,\n",
       "       0.44361194, 0.67881882, 0.36808434, 0.11197517, 0.34670653,\n",
       "       0.33956426, 0.89924468, 0.29318058, 0.16643874, 0.01130026,\n",
       "       0.38425206, 0.22535977, 0.48934249, 0.09983141, 0.01071138,\n",
       "       0.97804818, 0.95816517, 0.28098029, 0.89053238, 0.476538  ,\n",
       "       0.03215461, 0.01533486, 0.34027935, 0.1462226 , 0.63347709,\n",
       "       0.95537266, 0.31123694, 0.99620256, 0.25327208, 0.54268147,\n",
       "       0.90388392, 0.01355409, 0.18601201, 0.31079245, 0.36997939,\n",
       "       0.10784486, 0.98664386, 0.57016442, 0.86584989, 0.62749467,\n",
       "       0.58160206, 0.56697463, 0.13784056, 0.52338588, 0.98501705,\n",
       "       0.15587507, 0.53677311, 0.60895636, 0.9731882 , 0.98256978,\n",
       "       0.03023473, 0.58712933, 0.78052214, 0.41466488, 0.3471938 ,\n",
       "       0.25580928, 0.53246559, 0.08889193, 0.62741043, 0.01297303,\n",
       "       0.39179115, 0.13969414, 0.41746648, 0.70046646, 0.50924377,\n",
       "       0.85827084, 0.36991917, 0.09688839, 0.6355088 , 0.00478245,\n",
       "       0.62445505, 0.20211849, 0.64615359, 0.60232702, 0.52540304,\n",
       "       0.03166195, 0.21032991, 0.38996019, 0.91376459, 0.16133258,\n",
       "       0.44794152, 0.48932338, 0.29203351, 0.5825565 , 0.5245799 ,\n",
       "       0.55988749, 0.1495636 , 0.86729542, 0.17141541, 0.64138769,\n",
       "       0.74159421, 0.99163787, 0.33029828, 0.07251133, 0.29556169,\n",
       "       0.34327084, 0.05001441, 0.37944539, 0.78909174, 0.46456549])"
      ]
     },
     "execution_count": 589,
     "metadata": {},
     "output_type": "execute_result"
    }
   ],
   "source": [
    "phiantarray"
   ]
  },
  {
   "cell_type": "code",
   "execution_count": 590,
   "metadata": {},
   "outputs": [],
   "source": [
    "#@jit(nopython=True,parallel=True)\n",
    "@jit(nopython=True,fastmath=True)\n",
    "def free_energy(xx,K1,K2,h,htheta,hphi,Msat,i,phiantarray,thetaantarray):\n",
    "\n",
    "#    anis = anisotropy(xx[0],xx[1],K1,K2,h,htheta,hphi,Msat,i)\n",
    "    anis = anisotropy(xx[0],xx[1],K1,K2,h,htheta,hphi,Msat,i,phiantarray,thetaantarray)\n",
    "\n",
    "    zeeman = zeeman_energy(xx[0],xx[1],K1,K2,h,htheta,hphi,Msat,i)\n",
    "\n",
    "    inter = energy_array_inter(xx[0],xx[1],phiantarray,thetaantarray,K1,K2,h,htheta,hphi,i,0)\n",
    "#    inter = energy_array_inter(xx[0],xx[1],phiantarray,thetaantarray,K1,K2,h,htheta,hphi,3,0)\n",
    "    \n",
    "    expr_calc = anis + zeeman + inter\n",
    "    \n",
    "#    return np.array(expr_calc,dtype=np.float64)\n",
    "    return expr_calc\n",
    "    \n",
    "    "
   ]
  },
  {
   "cell_type": "code",
   "execution_count": 591,
   "metadata": {},
   "outputs": [
    {
     "name": "stdout",
     "output_type": "stream",
     "text": [
      "4.991019250106509\n",
      "      fun: -5.0112295951835355\n",
      " hess_inv: <2x2 LbfgsInvHessProduct with dtype=float64>\n",
      "      jac: array([8.8817842e-08, 8.8817842e-08])\n",
      "  message: b'CONVERGENCE: REL_REDUCTION_OF_F_<=_FACTR*EPSMCH'\n",
      "     nfev: 54\n",
      "      nit: 10\n",
      "   status: 0\n",
      "  success: True\n",
      "        x: array([-3.05237998,  1.55411879])\n"
     ]
    },
    {
     "name": "stderr",
     "output_type": "stream",
     "text": [
      "<ipython-input-590-69ff38b5522a>:6: NumbaPerformanceWarning: \u001b[1m\u001b[1m\n",
      "The keyword argument 'parallel=True' was specified but no transformation for parallel execution was possible.\n",
      "\n",
      "To find out why, try turning on parallel diagnostics, see http://numba.pydata.org/numba-doc/latest/user/parallel.html#diagnostics for help.\n",
      "\u001b[1m\n",
      "File \"<ipython-input-552-d9c42d22c1b9>\", line 4:\u001b[0m\n",
      "\u001b[1m@jit(nopython=True,parallel=True)\n",
      "\u001b[1m#def anisotropy(phi,theta,K1,K2,h,htheta,hphi,Msat,i):\n",
      "\u001b[0m\u001b[1m^\u001b[0m\u001b[0m\n",
      "\u001b[0m\u001b[0m\n",
      "  anis = anisotropy(xx[0],xx[1],K1,K2,h,htheta,hphi,Msat,i,phiantarray,thetaantarray)\n",
      "<ipython-input-590-69ff38b5522a>:8: NumbaPerformanceWarning: \u001b[1m\u001b[1m\n",
      "The keyword argument 'parallel=True' was specified but no transformation for parallel execution was possible.\n",
      "\n",
      "To find out why, try turning on parallel diagnostics, see http://numba.pydata.org/numba-doc/latest/user/parallel.html#diagnostics for help.\n",
      "\u001b[1m\n",
      "File \"<ipython-input-553-4696f8b24567>\", line 5:\u001b[0m\n",
      "\u001b[1m@jit(nopython=True,parallel=True)\n",
      "\u001b[1mdef zeeman_energy(phi,theta,K1,K2,h,htheta,hphi,Msat,i):\n",
      "\u001b[0m\u001b[1m^\u001b[0m\u001b[0m\n",
      "\u001b[0m\u001b[0m\n",
      "  zeeman = zeeman_energy(xx[0],xx[1],K1,K2,h,htheta,hphi,Msat,i)\n"
     ]
    }
   ],
   "source": [
    "#testing!\n",
    "h=-5.01\n",
    "ii=3\n",
    "x0=np.array([0,1.57],dtype=np.float64)\n",
    "a=free_energy(np.array([0,1.57],dtype=np.float64),K1,K2,h,htheta,hphi,Msat,ii,phiantarray,thetaantarray)\n",
    "print(a)\n",
    "minxy=spmin(free_energy,x0,args=(K1,K2,h,htheta,hphi,Msat,ii,phiantarray,thetaantarray),bounds=[[-100*3.1415,100*3.1415],[-100*3.1415,100*3.1415]],tol=1e-100,options={'ftol': 1e-30})\n",
    "print(minxy)"
   ]
  },
  {
   "cell_type": "code",
   "execution_count": 592,
   "metadata": {},
   "outputs": [],
   "source": [
    "hini,NN2,step\n",
    "from numba import vectorize,stencil"
   ]
  },
  {
   "cell_type": "code",
   "execution_count": 615,
   "metadata": {},
   "outputs": [],
   "source": [
    "# the main program, where minimization of overall energy is performed!\n",
    "\n",
    "\n",
    "\n",
    "#@jit(nopython=True)\n",
    "#@jit(fastmath=True)\n",
    "#@vectorize\n",
    "#@stencil\n",
    "def hysteresis_inter(NN2,Msat,hpasso):\n",
    "    \n",
    "    \n",
    "    hnow=hini/Msat\n",
    "    \n",
    "#    hnowlist=np.array([])\n",
    "#    maglist=np.array([])\n",
    "#    maglistend=np.array([])\n",
    "\n",
    "\n",
    "    hnowlist=np.empty(step+1)\n",
    "    maglist=np.zeros(NN2*height+1)\n",
    "    maglistend=np.array([])\n",
    "\n",
    "\n",
    "    Msat0=Msat\n",
    "#    for particle in range(NN2):\n",
    "#    for i in range(1,int(step+1)):\n",
    "\n",
    "    Msat=Msat0\n",
    "#    maglistend0=np.array([[]])\n",
    "    maglistend0 = np.empty(step, dtype=object)\n",
    "#    maglistend0 = np.zeros(step, dtype=np.float64)\n",
    "    \n",
    "    hnow=hini/Msat\n",
    "    htest=np.array([])\n",
    "    hlist=np.array([])\n",
    "\n",
    "\n",
    "#    for i in range(1,step+1):\n",
    "\n",
    "\n",
    "    for i in range(1,step+1):\n",
    "#    for i in tnrange(step+1,desc='Calculation Progress'):\n",
    "\n",
    "        if(i==0):\n",
    "            continue\n",
    "        \n",
    "        if(hnow>=0):\n",
    "            coefmag=(1+(step/2-i)*2*stepmag)\n",
    "#            coefmag=(1-(step/2-i)*stepmag)\n",
    "        else:\n",
    "            coefmag=(1+(i-step/2)*2*stepmag)\n",
    "#            coefmag=(1-(i-step/2)*stepmag)\n",
    "        \n",
    "#        phiantarraynew=np.array([])\n",
    "#        thetaantarraynew=np.array([])\n",
    "        phiantarraynew=np.empty(NN2*height)\n",
    "        thetaantarraynew=np.empty(NN2*height)\n",
    "        \n",
    "#        for i in range(1,int(step+1)):\n",
    "        for particle in range(NN2*height):\n",
    "            \n",
    "#            print(particle,'particle')\n",
    "            \n",
    "                \n",
    "#            print(coefmag,'coefmag')\n",
    "#            print(i,'i loop')\n",
    "            if(i==1):\n",
    "            \n",
    "                angx=hphi#+np.pi\n",
    "                angy=htheta#+np.pi\n",
    "                \n",
    "                phiantarray_vai=np.array([hphi for x in range(NN2*height)],dtype=np.float64)\n",
    "                thetaantarray_vai=np.array([htheta for x in range(NN2*height)],dtype=np.float64)\n",
    "#                phiantarray=np.array(phiantarray)\n",
    "#                thetaantarray=np.array(thetaantarray)\n",
    "                \n",
    "#                print(phiantarray_vai)\n",
    "\n",
    "                h=hnow\n",
    "                    \n",
    "                Msat=Msat0*coefmag\n",
    "                \n",
    "                angx=phiantarray_vai[particle]\n",
    "                angy=thetaantarray_vai[particle]\n",
    "                \n",
    "                x0=np.array([angx,angy],dtype=np.float64)\n",
    "                \n",
    "#                print(x0,'x0')\n",
    "#                minxy=spmin(free_energy,[x0],args=(K1,K2,h,htheta,hphi,Msat),bounds=[[-100*3.1415,100*3.1415],[-100*3.1415,100*3.1415]],tol=1e-100,options={'ftol': 1e-30})\n",
    "#                minxy=spmin(free_energy,x0,args=(K1,K2,h,htheta,hphi,Msat,particle,phiantarray_vai,thetaantarray_vai),bounds=[[-100*3.1415,100*3.1415],[-100*3.1415,100*3.1415]],tol=1e-100,options={'ftol': 1e-30})\n",
    "#                minxy=spmin(free_energy,x0,args=(K1,K2,h,htheta,hphi,Msat,particle,phiantarray_vai,thetaantarray_vai),bounds=[[-2000*3.1415,4000*3.1415],[-1000*3.1415,2000*3.1415]],tol=1e-100,options={'ftol': 1e-30})\n",
    "                minxy=scipy.optimize.minimize(free_energy,x0,args=(K1,K2,h,htheta,hphi,Msat,particle,phiantarray_vai,thetaantarray_vai),bounds=[[-2000*3.1415,4000*3.1415],[-1000*3.1415,2000*3.1415]],tol=1e-400,options={'ftol': 1e-300})\n",
    "                \n",
    "#                print('chegaaqui')\n",
    "            \n",
    "                angx=minxy.x[0]\n",
    "                angy=minxy.x[1]\n",
    "                #print(angx,'angx')\n",
    "#                phiantarraynew.append(angx)\n",
    "#                thetaantarraynew.append(angy)\n",
    "#                phiantarraynew=np.append(phiantarraynew,angx)\n",
    "#                thetaantarraynew=np.append(thetaantarraynew,angy)\n",
    "                phiantarraynew[particle] = angx\n",
    "                thetaantarraynew[particle] = angy\n",
    "\n",
    "        \n",
    "        \n",
    "        \n",
    "        \n",
    "#                print(phiantarraynew,np.array([angx]))\n",
    "#                dfsol=minxy.x[2]\n",
    "#                print(phiantarraynew)\n",
    "#                hlist.append(hnow*Msat)\n",
    "#                maglist.append(coefmag*((np.sin(htheta)*np.sin(angy)*np.cos(angx-hphi)+np.cos(htheta)*np.cos(angy))))\n",
    "#                maglist=np.append(maglist,coefmag*((np.sin(htheta)*np.sin(angy)*np.cos(angx-hphi)+np.cos(htheta)*np.cos(angy))))\n",
    "                maglist[particle] = coefmag*((np.sin(htheta)*np.sin(angy)*np.cos(angx-hphi)+np.cos(htheta)*np.cos(angy)))\n",
    "\n",
    "                if(particle==NN2*height-1):\n",
    "                    phiantarraynew2=np.copy(phiantarraynew)\n",
    "                    thetaantarraynew2=np.copy(thetaantarraynew)\n",
    "#                    print(phiantarraynew)\n",
    "                    \n",
    "#                phiantarraynew=[]\n",
    "#                thetaantarraynew=[]\n",
    "#            hnow=hnow+hpasso/Msat\n",
    "\n",
    "#            hnowlist.append(hnow*Msat)\n",
    "#            hnowlist=np.append(hnowlist,hnow*Msat)\n",
    "\n",
    "            \n",
    "#            print(i,'ii')    \n",
    "#            print(phiantarraynew2,'phiant2')\n",
    "#            print(maglist,'maglist')\n",
    "\n",
    "#            phiantarraynew=[]\n",
    "#            thetaantarraynew=[]\n",
    "            \n",
    "            \n",
    "            if(i!=1):\n",
    "                \n",
    "                if(particle==0):\n",
    "                    phiantarray_vai=np.copy(phiantarraynew2)\n",
    "                    thetaantarray_vai=np.copy(thetaantarraynew2)\n",
    "#                print(phiantarray_vai)\n",
    "\n",
    "#                phiantarray=np.array(phiantarray)\n",
    "#                thetaantarray=np.array(thetaantarray)\n",
    "#                print(phiantarray,'secondphiantarray')\n",
    "\n",
    "                angx=phiantarray_vai[particle]\n",
    "                angy=thetaantarray_vai[particle]\n",
    "                \n",
    "                Msat=Msat0*coefmag\n",
    "                #            x0=np.array([angx,angy,dfsol],dtype=\"float\")\n",
    "                x0=np.array([angx,angy],dtype=np.float64)\n",
    "                h=hnow\n",
    "                \n",
    "#                minxy=spmin(free_energy,x0,args=(K1,K2,h,htheta,hphi,Msat),bounds=[[-10000*3.1415,10000*3.1415],[-10000*3.1415,10000*3.1415]],tol=1e-100,options={'ftol': 1e-30})\n",
    "#                minxy=spmin(free_energy,x0,args=(K1,K2,h,htheta,hphi,Msat,particle,phiantarray_vai,thetaantarray_vai),bounds=[[-10000*3.1415,10000*3.1415],[-10000*3.1415,10000*3.1415]],tol=1e-100,options={'ftol': 1e-30})\n",
    "#                minxy=spmin(free_energy,x0,args=(K1,K2,h,htheta,hphi,Msat,particle,phiantarray_vai,thetaantarray_vai),bounds=[[-2000*3.1415,4000*3.1415],[-1000*3.1415,2000*3.1415]],tol=1e-100,options={'ftol': 1e-30})\n",
    "#                minxy=scipy.optimize.minimize(free_energy,x0,args=(K1,K2,h,htheta,hphi,Msat,particle,phiantarray_vai,thetaantarray_vai),method='nelder-mead',tol=1e-400,options={'ftol': 1e-300})\n",
    "                minxy=scipy.optimize.minimize(free_energy,x0,args=(K1,K2,h,htheta,hphi,Msat,particle,phiantarray_vai,thetaantarray_vai),bounds=[[-2000*3.1415,4000*3.1415],[-1000*3.1415,2000*3.1415]],tol=1e-400,options={'ftol': 1e-300})\n",
    "                \n",
    "                angx=minxy.x[0]\n",
    "                angy=minxy.x[1]\n",
    "#                phiantarraynew.append(angx)\n",
    "#                thetaantarraynew.append(angy)\n",
    "#                phiantarraynew=np.append(phiantarraynew,angx)\n",
    "#                thetaantarraynew=np.append(thetaantarraynew,angy)\n",
    "                phiantarraynew[particle] = angx\n",
    "                thetaantarraynew[particle] = angy\n",
    "        \n",
    "#                maglist.append(coefmag*((np.sin(htheta)*np.sin(angy)*np.cos(angx-hphi)+np.cos(htheta)*np.cos(angy))))\n",
    "\n",
    "#                maglist=np.append(maglist,coefmag*((np.sin(htheta)*np.sin(angy)*np.cos(angx-hphi)+np.cos(htheta)*np.cos(angy))))\n",
    "                maglist[particle] = coefmag*((np.sin(htheta)*np.sin(angy)*np.cos(angx-hphi)+np.cos(htheta)*np.cos(angy)))\n",
    "            \n",
    "#                hlist.append(hnow*Msat)\n",
    "#                phiantarraynew3=np.copy(phiantarraynew)\n",
    "#                thetaantarraynew3=np.copy(thetaantarraynew)\n",
    "#                phiantarraynew=[]\n",
    "#                thetaantarraynew=[]\n",
    "\n",
    "#                htest.append(minxy)\n",
    "#                htest=np.append(htest,minxy)\n",
    "\n",
    "                \n",
    "                if(particle==NN2*height-1):\n",
    "                    phiantarraynew2=np.copy(phiantarraynew)\n",
    "                    thetaantarraynew2=np.copy(thetaantarraynew)\n",
    "                    phiantarraynew=[]\n",
    "                    thetaantarraynew=[]\n",
    "#                    print(thetaantarraynew2)\n",
    "#            hnow=hnow+hpasso/Msat\n",
    "\n",
    "#            hnowlist.append(hnow*Msat)\n",
    "#        hnowlist=np.append(hnowlist,hnow*Msat)\n",
    "        hnowlist[i] = hnow*Msat\n",
    "            \n",
    "            #phiantarraynew=[]\n",
    "            #thetaantarraynew=[]\n",
    "\n",
    "#        hlist.append(hnow*Msat)\n",
    "        hlist=np.append(hlist,hnow*Msat)\n",
    "#        if(i==int(step/2)):\n",
    "#            hpasso=-hpasso\n",
    "            \n",
    "            \n",
    "#        hnow=hnow+2*hpasso/Msat            \n",
    "        hnow=hnow+1*hpasso/Msat            \n",
    "#        if(hnow>0.):\n",
    "#            break\n",
    "\n",
    "#        maglistend0.append(np.array(maglist)) \n",
    "#        maglist=[]\n",
    "#        print(maglist,'maglist')\n",
    "        if(i==1):\n",
    "#            maglistend0=np.array([maglist])\n",
    "            maglistend0[i-1] = maglist\n",
    "        else:\n",
    "#            maglistend0=np.concatenate((maglistend0,np.array([maglist])),axis=0)\n",
    "            maglistend0[i-1] = maglist\n",
    "#            print(len(maglist),'lenmag')\n",
    "#        maglist=np.array([])\n",
    "        maglist=np.zeros(NN2*height+1)\n",
    "            \n",
    "#    print(maglistend0)\n",
    "#    print(len(maglistend0))\n",
    "#    maglistend2=np.array([])\n",
    "    maglistend2=np.empty(step)\n",
    "\n",
    "    for j in range(len(maglistend0)):\n",
    "        soma=0\n",
    "        for i in range(len(maglistend0[0])):\n",
    "            try:\n",
    "                soma+=maglistend0[j][i]\n",
    "            except:\n",
    "                continue\n",
    "#        maglistend2.append(soma/NN2)\n",
    "#        maglistend2=np.append(maglistend2,soma/NN2)\n",
    "#        print(soma/NN2,'soma')\n",
    "        maglistend2[j]=soma/NN2/height\n",
    "#        print(maglistend2[i],'aq')\n",
    "#    maglistend.append(np.array(maglistend2)) \n",
    "#    maglistend=np.append(maglistend,maglistend2)\n",
    "    maglistend=maglistend2\n",
    "\n",
    "#    print(len(maglistend),'lastmagend')\n",
    "#    hlist=[((hini+hpasso*x)) for x in range(step)]\n",
    "#    print(len(htest),'htest')\n",
    "    \n",
    "    return maglistend,hlist,htest,hnowlist\n",
    "\n",
    "\n"
   ]
  },
  {
   "cell_type": "code",
   "execution_count": null,
   "metadata": {},
   "outputs": [],
   "source": []
  },
  {
   "cell_type": "code",
   "execution_count": null,
   "metadata": {},
   "outputs": [],
   "source": []
  },
  {
   "cell_type": "code",
   "execution_count": null,
   "metadata": {},
   "outputs": [],
   "source": []
  },
  {
   "cell_type": "code",
   "execution_count": null,
   "metadata": {},
   "outputs": [],
   "source": []
  },
  {
   "cell_type": "code",
   "execution_count": null,
   "metadata": {},
   "outputs": [],
   "source": []
  },
  {
   "cell_type": "code",
   "execution_count": null,
   "metadata": {},
   "outputs": [],
   "source": []
  },
  {
   "cell_type": "code",
   "execution_count": null,
   "metadata": {},
   "outputs": [],
   "source": []
  },
  {
   "cell_type": "code",
   "execution_count": 594,
   "metadata": {},
   "outputs": [
    {
     "data": {
      "application/vnd.jupyter.widget-view+json": {
       "model_id": "3eee3f8dc5454e80a291d5b99038114f",
       "version_major": 2,
       "version_minor": 0
      },
      "text/plain": [
       "HBox(children=(IntProgress(value=0, max=19), HTML(value='')))"
      ]
     },
     "metadata": {},
     "output_type": "display_data"
    },
    {
     "name": "stdout",
     "output_type": "stream",
     "text": [
      "-0.7802974750408831\n",
      "-0.8053359023759382\n",
      "-0.8060676240197129\n",
      "-0.7826908375998904\n",
      "-0.7326394269784932\n",
      "-0.7336935560025699\n",
      "-0.7830579349629562\n",
      "-0.8060257426655539\n",
      "-0.8049735103533486\n",
      "-0.7797098423420313\n",
      "-0.7307641210876781\n",
      "-0.6604659841719774\n",
      "-0.5699785893740921\n",
      "-0.4619331613208325\n",
      "-0.4624760928189756\n",
      "-0.5704264619378969\n",
      "-0.6610133628120949\n",
      "-0.7312066908354128\n",
      "-0.7801708570870713\n",
      "5452.770820617676\n"
     ]
    }
   ],
   "source": [
    "import time\n",
    "start=time.time()\n",
    "#m_inter,h_inter,h_test,hnowlist = hysteresis_inter(NN2,Msat,hpasso)\n",
    "divphi=18\n",
    "phi_ini=3.14515/4.\n",
    "phi_final=1*3.1415+3.1415/4.\n",
    "phi_step=(phi_final-phi_ini)/divphi\n",
    "hphi=phi_ini\n",
    "\n",
    "list_mrem=[]\n",
    "for l in tnrange(divphi+1):\n",
    "#for l in tnrange(1):\n",
    "    m_inter,h_inter,h_test,hnowlist = hysteresis_inter(NN2,Msat,hpasso)\n",
    "#    mrem=m_inter[step-1]\n",
    "    mrem=m_inter[int(len(m_inter)/2.)-1]\n",
    "    print(mrem)\n",
    "    list_mrem.append([phi_ini-3.1415/4.,mrem])\n",
    "    phi_ini+=phi_step\n",
    "    hphi+=phi_step\n",
    "    \n",
    "    \n",
    "list_mrem=np.array(list_mrem)\n",
    "    \n",
    "stop=time.time()\n",
    "print(-start+stop)"
   ]
  },
  {
   "cell_type": "code",
   "execution_count": 595,
   "metadata": {},
   "outputs": [
    {
     "data": {
      "text/plain": [
       "array([-0.99544998, -0.99663831, -0.99628262, -0.99627857, -0.99626072,\n",
       "       -0.9962468 , -0.99623183, -0.99621699, -0.99620199, -0.99618689,\n",
       "       -0.99617169, -0.99615637, -0.99614095, -0.99612542, -0.99610978,\n",
       "       -0.99609402, -0.99607815, -0.99606217, -0.99604607, -0.99602985,\n",
       "       -0.99601351, -0.99599705, -0.99598046, -0.99596375, -0.99594692,\n",
       "       -0.99592996, -0.99591286, -0.99589564, -0.99587829, -0.9958608 ,\n",
       "       -0.99584317, -0.99582541, -0.9958075 , -0.99578946, -0.99577127,\n",
       "       -0.99575294, -0.99573445, -0.99571582, -0.99569704, -0.9956781 ,\n",
       "       -0.995659  , -0.99563975, -0.99562034, -0.99560076, -0.99558101,\n",
       "       -0.9955611 , -0.99554102, -0.99552076, -0.99550033, -0.99547971,\n",
       "       -0.99545892, -0.99543794, -0.99541677, -0.99539541, -0.99537385,\n",
       "       -0.9953521 , -0.99533014, -0.99530798, -0.99528561, -0.99526303,\n",
       "       -0.99524023, -0.99521721, -0.99519397, -0.9951705 , -0.99514679,\n",
       "       -0.99512285, -0.99509866, -0.99507423, -0.99504954, -0.99502459,\n",
       "       -0.99499938, -0.99497391, -0.99494815, -0.99492212, -0.99489579,\n",
       "       -0.99486918, -0.99484226, -0.99481503, -0.99478749, -0.99475962,\n",
       "       -0.99473141, -0.99470287, -0.99467398, -0.99464472, -0.9946151 ,\n",
       "       -0.9945851 , -0.9945547 , -0.9945239 , -0.99449269, -0.99446104,\n",
       "       -0.99442896, -0.99439642, -0.9943634 , -0.9943299 , -0.9942959 ,\n",
       "       -0.99426137, -0.9942263 , -0.99419067, -0.99415445, -0.99411763,\n",
       "       -0.99408017, -0.99404206, -0.99400325, -0.99396373, -0.99392346,\n",
       "       -0.9938824 , -0.99384051, -0.99379776, -0.9937541 , -0.99370947,\n",
       "       -0.99366383, -0.99361711, -0.99356925, -0.99352017, -0.99346979,\n",
       "       -0.99341802, -0.99336474, -0.99330983, -0.99325314, -0.99319447,\n",
       "       -0.9931336 , -0.99307023, -0.99300395, -0.99293424, -0.99286032,\n",
       "       -0.99278112, -0.99269501, -0.99259965, -0.9924917 , -0.99236691,\n",
       "       -0.99222074, -0.99204921, -0.99184812, -0.99161057, -0.99132633,\n",
       "       -0.99098134, -0.99054435, -0.98997736, -0.98923721, -0.98831867,\n",
       "       -0.98720845, -0.98595485, -0.98448211, -0.98296268, -0.98104017,\n",
       "       -0.97889193, -0.97627789, -0.97436096, -0.97278794, -0.97174707,\n",
       "       -0.97066469, -0.96982372, -0.9688265 , -0.96799358, -0.96701624,\n",
       "       -0.96616659, -0.96520531, -0.9643368 , -0.9633916 , -0.96250359,\n",
       "       -0.96157363, -0.9606655 , -0.95974981, -0.95882104, -0.95791885,\n",
       "       -0.95696907, -0.95607975, -0.95510868, -0.95423172, -0.95323915,\n",
       "       -0.95237408, -0.95135984, -0.95050624, -0.9494702 , -0.94862768,\n",
       "       -0.94756972, -0.9467379 , -0.94565795, -0.94483647, -0.94373443,\n",
       "       -0.94292293, -0.94179875, -0.94099688, -0.93985049, -0.93905792,\n",
       "       -0.93800278, -0.93707471, -0.93595628, -0.93556274, -0.93447316,\n",
       "       -0.93387968, -0.93285474, -0.9321388 , -0.93082258, -0.92952564,\n",
       "       -0.92848093, -0.92745265, -0.92642956, -0.92540289, -0.92437255,\n",
       "       -0.92333814, -0.92229962, -0.92125691, -0.92020996, -0.91915871,\n",
       "       -0.9181031 , -0.91704307, -0.91597854, -0.91490946, -0.91383577,\n",
       "       -0.91275738, -0.91167424, -0.91058628, -0.90949342, -0.90839559,\n",
       "       -0.90729272, -0.90618472, -0.90507153, -0.90395306, -0.90282923,\n",
       "       -0.90169995, -0.90056514, -0.89942471, -0.89827858, -0.89712664,\n",
       "       -0.89596881, -0.89480498, -0.89363506, -0.89245895, -0.89127654,\n",
       "       -0.89008771, -0.88889237, -0.8876904 , -0.88648167, -0.88526608,\n",
       "       -0.88404349, -0.88281378, -0.88157681, -0.88033246, -0.87908058,\n",
       "       -0.87782104, -0.87655367, -0.87527834, -0.87399488, -0.87270313,\n",
       "       -0.87140293, -0.87009411, -0.86877648, -0.86744987, -0.86611409,\n",
       "       -0.86476893, -0.8634142 , -0.86204969, -0.86067519, -0.85929046,\n",
       "       -0.85789529, -0.85648942, -0.85507262, -0.85364462, -0.85220516,\n",
       "       -0.85075396, -0.84929074, -0.84781519, -0.84632702, -0.84482589,\n",
       "       -0.84331148, -0.84178344, -0.84024141, -0.83868501, -0.83711385,\n",
       "       -0.83552753, -0.83392562, -0.83230768, -0.83067324, -0.82902183,\n",
       "       -0.82735294, -0.82566603, -0.82396057, -0.82223597, -0.82049163,\n",
       "       -0.81872691, -0.81694115, -0.81513364, -0.81330366, -0.81145042,\n",
       "       -0.8095731 , -0.80767086, -0.80574277, -0.80378788, -0.80180517,\n",
       "       -0.79979355, -0.79775189, -0.79567895, -0.79357344, -0.79143396,\n",
       "       -0.78925903, -0.78704705, -0.78479629, -0.7825049 , -0.78017086,\n",
       "        0.        ,  0.        ,  0.        ,  0.        ,  0.        ,\n",
       "        0.        ,  0.        ,  0.        ,  0.        ,  0.        ,\n",
       "        0.        ,  0.        ,  0.        ,  0.        ,  0.        ,\n",
       "        0.        ,  0.        ,  0.        ,  0.        ,  0.        ,\n",
       "        0.        ,  0.        ,  0.        ,  0.        ,  0.        ,\n",
       "        0.        ,  0.        ,  0.        ,  0.        ,  0.        ,\n",
       "        0.        ,  0.        ,  0.        ,  0.        ,  0.        ,\n",
       "        0.        ,  0.        ,  0.        ,  0.        ,  0.        ,\n",
       "        0.        ,  0.        ,  0.        ,  0.        ,  0.        ,\n",
       "        0.        ,  0.        ,  0.        ,  0.        ,  0.        ,\n",
       "        0.        ,  0.        ,  0.        ,  0.        ,  0.        ,\n",
       "        0.        ,  0.        ,  0.        ,  0.        ,  0.        ,\n",
       "        0.        ,  0.        ,  0.        ,  0.        ,  0.        ,\n",
       "        0.        ,  0.        ,  0.        ,  0.        ,  0.        ,\n",
       "        0.        ,  0.        ,  0.        ,  0.        ,  0.        ,\n",
       "        0.        ,  0.        ,  0.        ,  0.        ,  0.        ,\n",
       "        0.        ,  0.        ,  0.        ,  0.        ,  0.        ,\n",
       "        0.        ,  0.        ,  0.        ,  0.        ,  0.        ,\n",
       "        0.        ,  0.        ,  0.        ,  0.        ,  0.        ,\n",
       "        0.        ,  0.        ,  0.        ,  0.        ,  0.        ,\n",
       "        0.        ,  0.        ,  0.        ,  0.        ,  0.        ,\n",
       "        0.        ,  0.        ,  0.        ,  0.        ,  0.        ,\n",
       "        0.        ,  0.        ,  0.        ,  0.        ,  0.        ,\n",
       "        0.        ,  0.        ,  0.        ,  0.        ,  0.        ,\n",
       "        0.        ,  0.        ,  0.        ,  0.        ,  0.        ,\n",
       "        0.        ,  0.        ,  0.        ,  0.        ,  0.        ,\n",
       "        0.        ,  0.        ,  0.        ,  0.        ,  0.        ,\n",
       "        0.        ,  0.        ,  0.        ,  0.        ,  0.        ,\n",
       "        0.        ,  0.        ,  0.        ,  0.        ,  0.        ,\n",
       "        0.        ,  0.        ,  0.        ,  0.        ,  0.        ,\n",
       "        0.        ,  0.        ,  0.        ,  0.        ,  0.        ,\n",
       "        0.        ,  0.        ,  0.        ,  0.        ,  0.        ,\n",
       "        0.        ,  0.        ,  0.        ,  0.        ,  0.        ,\n",
       "        0.        ,  0.        ,  0.        ,  0.        ,  0.        ,\n",
       "        0.        ,  0.        ,  0.        ,  0.        ,  0.        ,\n",
       "        0.        ,  0.        ,  0.        ,  0.        ,  0.        ,\n",
       "        0.        ,  0.        ,  0.        ,  0.        ,  0.        ,\n",
       "        0.        ,  0.        ,  0.        ,  0.        ,  0.        ,\n",
       "        0.        ,  0.        ,  0.        ,  0.        ,  0.        ,\n",
       "        0.        ,  0.        ,  0.        ,  0.        ,  0.        ,\n",
       "        0.        ,  0.        ,  0.        ,  0.        ,  0.        ,\n",
       "        0.        ,  0.        ,  0.        ,  0.        ,  0.        ,\n",
       "        0.        ,  0.        ,  0.        ,  0.        ,  0.        ,\n",
       "        0.        ,  0.        ,  0.        ,  0.        ,  0.        ,\n",
       "        0.        ,  0.        ,  0.        ,  0.        ,  0.        ,\n",
       "        0.        ,  0.        ,  0.        ,  0.        ,  0.        ,\n",
       "        0.        ,  0.        ,  0.        ,  0.        ,  0.        ,\n",
       "        0.        ,  0.        ,  0.        ,  0.        ,  0.        ,\n",
       "        0.        ,  0.        ,  0.        ,  0.        ,  0.        ,\n",
       "        0.        ,  0.        ,  0.        ,  0.        ,  0.        ,\n",
       "        0.        ,  0.        ,  0.        ,  0.        ,  0.        ,\n",
       "        0.        ,  0.        ,  0.        ,  0.        ,  0.        ,\n",
       "        0.        ,  0.        ,  0.        ,  0.        ,  0.        ,\n",
       "        0.        ,  0.        ,  0.        ,  0.        ,  0.        ,\n",
       "        0.        ,  0.        ,  0.        ,  0.        ,  0.        ,\n",
       "        0.        ,  0.        ,  0.        ,  0.        ,  0.        ,\n",
       "        0.        ,  0.        ,  0.        ,  0.        ,  0.        ,\n",
       "        0.        ,  0.        ,  0.        ,  0.        ,  0.        ,\n",
       "        0.        ,  0.        ,  0.        ,  0.        ,  0.        ,\n",
       "        0.        ,  0.        ,  0.        ,  0.        ,  0.        ])"
      ]
     },
     "execution_count": 595,
     "metadata": {},
     "output_type": "execute_result"
    }
   ],
   "source": [
    "m_inter"
   ]
  },
  {
   "cell_type": "code",
   "execution_count": 495,
   "metadata": {},
   "outputs": [
    {
     "data": {
      "text/plain": [
       "array([[ 9.12500000e-04, -7.31556719e-01],\n",
       "       [ 1.75389583e-01, -7.65508541e-01],\n",
       "       [ 3.49866667e-01, -7.76263018e-01],\n",
       "       [ 5.24343750e-01, -7.65634379e-01],\n",
       "       [ 6.98820833e-01, -7.32164409e-01],\n",
       "       [ 8.73297917e-01, -7.31784488e-01],\n",
       "       [ 1.04777500e+00, -7.66390761e-01],\n",
       "       [ 1.22225208e+00, -7.77347534e-01],\n",
       "       [ 1.39672917e+00, -7.65140805e-01],\n",
       "       [ 1.57120625e+00, -7.30749857e-01],\n",
       "       [ 1.74568333e+00, -6.72992224e-01],\n",
       "       [ 1.92016042e+00, -5.95391186e-01],\n",
       "       [ 2.09463750e+00, -5.00274605e-01],\n",
       "       [ 2.26911458e+00, -3.85939559e-01],\n",
       "       [ 2.44359167e+00, -3.87559376e-01],\n",
       "       [ 2.61806875e+00, -5.01227906e-01],\n",
       "       [ 2.79254583e+00, -5.96839016e-01],\n",
       "       [ 2.96702292e+00, -6.74278808e-01],\n",
       "       [ 3.14150000e+00, -7.31535992e-01]])"
      ]
     },
     "execution_count": 495,
     "metadata": {},
     "output_type": "execute_result"
    }
   ],
   "source": [
    "list_mrem"
   ]
  },
  {
   "cell_type": "code",
   "execution_count": 601,
   "metadata": {},
   "outputs": [],
   "source": [
    "x_rem=[]\n",
    "y_rem=[]\n",
    "\n",
    "for i in range(len(list_mrem)):\n",
    "    x_rem.append(list_mrem[i][0])\n",
    "    y_rem.append(list_mrem[i][1])    \n",
    "    \n",
    "    "
   ]
  },
  {
   "cell_type": "code",
   "execution_count": 602,
   "metadata": {},
   "outputs": [],
   "source": [
    "y_rem=abs(np.array(y_rem))"
   ]
  },
  {
   "cell_type": "code",
   "execution_count": 603,
   "metadata": {},
   "outputs": [
    {
     "data": {
      "text/plain": [
       "0.8049735103533486"
      ]
     },
     "execution_count": 603,
     "metadata": {},
     "output_type": "execute_result"
    }
   ],
   "source": [
    "y_rem[8]"
   ]
  },
  {
   "cell_type": "code",
   "execution_count": 604,
   "metadata": {},
   "outputs": [
    {
     "data": {
      "text/plain": [
       "[<matplotlib.lines.Line2D at 0x7f22dc3d7f60>]"
      ]
     },
     "execution_count": 604,
     "metadata": {},
     "output_type": "execute_result"
    },
    {
     "data": {
      "image/png": "[encoded data removed]",
      "text/plain": [
       "<Figure size 432x288 with 1 Axes>"
      ]
     },
     "metadata": {
      "needs_background": "light"
     },
     "output_type": "display_data"
    }
   ],
   "source": [
    "\n",
    "plt.polar(x_rem,y_rem,'v')\n"
   ]
  },
  {
   "cell_type": "code",
   "execution_count": 605,
   "metadata": {},
   "outputs": [
    {
     "data": {
      "image/png": "[encoded data removed]",
      "text/plain": [
       "<Figure size 432x288 with 1 Axes>"
      ]
     },
     "metadata": {
      "needs_background": "light"
     },
     "output_type": "display_data"
    }
   ],
   "source": [
    "import matplotlib.pyplot as plt\n",
    "\n",
    "ax = plt.subplot(111, projection='polar')\n",
    "ax.plot(x_rem, abs(np.array(y_rem)), marker = 'x')\n",
    "ax.set_rmax(1)\n",
    "ax.set_rmin(0)\n",
    "plt.show()"
   ]
  },
  {
   "cell_type": "code",
   "execution_count": 606,
   "metadata": {},
   "outputs": [
    {
     "name": "stdout",
     "output_type": "stream",
     "text": [
      "0\t935\n",
      "\n"
     ]
    }
   ],
   "source": [
    "# experimental data\n",
    "path='/home/vagner/Desktop/galfenol/galmrtheta.txt'\n",
    "#path='/home/vagner/Desktop/galfenol/gal90deg.txt'\n",
    "#path='/home/vagner/Desktop/galfenol/gal50deg.txt'\n",
    "#path = '/home/vagner/Desktop/galfenol/gal0deg.txt'\n",
    "\n",
    "hexp10ktube = open(path,'r')\n",
    "hexp=hexp10ktube.readlines()\n",
    "\n",
    "print(hexp[0])\n",
    "#print(a1[0][1])\n",
    "\n",
    "theta_on=[]\n",
    "mexp_on=[]\n",
    "hexp10ktube.close()\n",
    "for i in range(len(hexp)):\n",
    "    listexp=hexp[i].split('\\t')\n",
    "    theta_on.append(float(listexp[0]))\n",
    "    mexp_on.append(float(listexp[1].split('\\n')[0]))\n",
    "\n",
    "\n",
    "\n"
   ]
  },
  {
   "cell_type": "code",
   "execution_count": 607,
   "metadata": {},
   "outputs": [],
   "source": [
    "#mexp_on=np.array(mexp_on)/1214.\n",
    "mexp_on=np.array(mexp_on)/1050."
   ]
  },
  {
   "cell_type": "code",
   "execution_count": 608,
   "metadata": {},
   "outputs": [],
   "source": [
    "theta_on=np.array(theta_on)/180.0*3.1415"
   ]
  },
  {
   "cell_type": "code",
   "execution_count": 609,
   "metadata": {},
   "outputs": [
    {
     "data": {
      "text/plain": [
       "array([0.89047619, 0.93761905, 0.98533333, 0.98095238, 0.96914286,\n",
       "       0.96346667, 0.95428571, 0.81571429, 0.78338095, 0.67871429,\n",
       "       0.70964762, 0.76548571, 0.79199048, 0.85672381, 0.87092381,\n",
       "       0.88038095, 0.86684762, 0.8426    , 0.82254286])"
      ]
     },
     "execution_count": 609,
     "metadata": {},
     "output_type": "execute_result"
    }
   ],
   "source": [
    "mexp_on"
   ]
  },
  {
   "cell_type": "code",
   "execution_count": 610,
   "metadata": {},
   "outputs": [
    {
     "data": {
      "text/plain": [
       "[<matplotlib.lines.Line2D at 0x7f22dcdd8748>]"
      ]
     },
     "execution_count": 610,
     "metadata": {},
     "output_type": "execute_result"
    },
    {
     "data": {
      "image/png": "[encoded data removed]",
      "text/plain": [
       "<Figure size 432x288 with 1 Axes>"
      ]
     },
     "metadata": {
      "needs_background": "light"
     },
     "output_type": "display_data"
    }
   ],
   "source": [
    "plt.polar(theta_on,mexp_on,'ro')"
   ]
  },
  {
   "cell_type": "code",
   "execution_count": 611,
   "metadata": {},
   "outputs": [
    {
     "data": {
      "text/plain": [
       "0.9853333333333333"
      ]
     },
     "execution_count": 611,
     "metadata": {},
     "output_type": "execute_result"
    }
   ],
   "source": [
    "max(mexp_on)"
   ]
  },
  {
   "cell_type": "code",
   "execution_count": 612,
   "metadata": {},
   "outputs": [
    {
     "data": {
      "text/plain": [
       "[<matplotlib.lines.Line2D at 0x7f23077c9390>]"
      ]
     },
     "execution_count": 612,
     "metadata": {},
     "output_type": "execute_result"
    },
    {
     "data": {
      "image/png": "[encoded data removed]",
      "text/plain": [
       "<Figure size 432x288 with 1 Axes>"
      ]
     },
     "metadata": {
      "needs_background": "light"
     },
     "output_type": "display_data"
    }
   ],
   "source": [
    "plt.polar(theta_on,mexp_on/max(mexp_on),'ro')\n",
    "#plt.polar(theta_on,mexp_on/1,'ro')\n",
    "plt.polar(x_rem,np.array(y_rem)*1,'ro',color='b')\n"
   ]
  },
  {
   "cell_type": "code",
   "execution_count": 613,
   "metadata": {},
   "outputs": [
    {
     "data": {
      "image/png": "[encoded data removed]",
      "text/plain": [
       "<Figure size 432x288 with 1 Axes>"
      ]
     },
     "metadata": {
      "needs_background": "light"
     },
     "output_type": "display_data"
    }
   ],
   "source": [
    "import matplotlib.pyplot as plt\n",
    "\n",
    "ax = plt.subplot(111, projection='polar')\n",
    "l1=ax.plot(x_rem, abs(np.array(y_rem)), marker = 'v',color='black',label='Simulation')\n",
    "#l2=ax.plot(theta_on, mexp_on/1, marker = 'o',color='red',label='Experimental')\n",
    "\n",
    "#l2=ax.plot(theta_on, mexp_on/max(mexp_on), marker = 'o',color='red',label='Experimental')\n",
    "\n",
    "ax.legend()\n",
    "#plt.legend((l1,l2),('90 deg','50 deg'),fontsize=20)\n",
    "\n",
    "ax.set_rmax(1.0)\n",
    "ax.set_rmin(0)\n",
    "\n",
    "# filme\n",
    "#plt.savefig(\"polarplot_mr_intermoriyaquadratic\")\n",
    "#plt.savefig(\"polarplot_mr_interdipolar\")\n",
    "#plt.savefig(\"polarplot_mr_interexchange\")\n",
    "#plt.savefig(\"polarplot_mr_intermoriya\")\n",
    "#plt.savefig(\"polarplot_mr_intermoriyamultichiralspin\")\n",
    "#plt.savefig(\"polarplot_mr_interexchangebiquad\")\n",
    "\n",
    "# nanomembrane!\n",
    "#plt.savefig(\"polarplot_mr_intermoriyamultichiralspin_nmb\")\n",
    "#plt.savefig(\"polarplot_mr_interdipolar_nmb\")\n",
    "#plt.savefig(\"polarplot_mr_interdipolar_nmb_longer\")\n",
    "\n",
    "\n",
    "plt.show()"
   ]
  },
  {
   "cell_type": "code",
   "execution_count": null,
   "metadata": {},
   "outputs": [],
   "source": []
  },
  {
   "cell_type": "code",
   "execution_count": null,
   "metadata": {},
   "outputs": [],
   "source": []
  },
  {
   "cell_type": "code",
   "execution_count": null,
   "metadata": {},
   "outputs": [],
   "source": []
  },
  {
   "cell_type": "code",
   "execution_count": null,
   "metadata": {},
   "outputs": [],
   "source": []
  },
  {
   "cell_type": "code",
   "execution_count": null,
   "metadata": {},
   "outputs": [],
   "source": []
  },
  {
   "cell_type": "code",
   "execution_count": 616,
   "metadata": {},
   "outputs": [
    {
     "data": {
      "application/vnd.jupyter.widget-view+json": {
       "model_id": "494dd1ca18654091a15f30e740984bd5",
       "version_major": 2,
       "version_minor": 0
      },
      "text/plain": [
       "HBox(children=(IntProgress(value=0, max=19), HTML(value='')))"
      ]
     },
     "metadata": {},
     "output_type": "display_data"
    },
    {
     "name": "stdout",
     "output_type": "stream",
     "text": [
      "20.79999999999955\n",
      "18.719999999999555\n",
      "19.759999999999554\n",
      "20.106666666666218\n",
      "19.066666666666222\n",
      "19.066666666666222\n",
      "20.106666666666218\n",
      "19.413333333332886\n",
      "19.066666666666222\n",
      "20.79999999999955\n",
      "22.87999999999954\n",
      "19.413333333332886\n",
      "14.906666666666233\n",
      "4.853333333332891\n",
      "4.853333333332891\n",
      "14.906666666666233\n",
      "19.413333333332886\n",
      "22.87999999999954\n",
      "20.79999999999955\n",
      "11505.167591571808\n"
     ]
    }
   ],
   "source": [
    "import time\n",
    "start=time.time()\n",
    "#m_inter,h_inter,h_test,hnowlist = hysteresis_inter(NN2,Msat,hpasso)\n",
    "divphi=18\n",
    "phi_ini=3.14515/4.\n",
    "phi_final=1*3.1415+3.1415/4.\n",
    "phi_step=(phi_final-phi_ini)/divphi\n",
    "hphi=phi_ini\n",
    "\n",
    "list_hc=[]\n",
    "for l in tnrange(divphi+1):\n",
    "#for l in tnrange(5):\n",
    "    m_inter,h_inter,h_test,hnowlist = hysteresis_inter(NN2,Msat,hpasso)\n",
    "    for i in range(len(m_inter)):\n",
    "        if(m_inter[i]>0 and h_inter[i]>=0.0):\n",
    "            hc=h_inter[i]\n",
    "            break\n",
    "#    hc=h_inter[-1]\n",
    "    print(hc)\n",
    "    list_hc.append([phi_ini-3.1415/4.,hc])\n",
    "    phi_ini+=phi_step\n",
    "    hphi+=phi_step\n",
    "    \n",
    "    \n",
    "list_hc=np.array(list_hc)\n",
    "    \n",
    "stop=time.time()\n",
    "print(-start+stop)"
   ]
  },
  {
   "cell_type": "code",
   "execution_count": 617,
   "metadata": {},
   "outputs": [
    {
     "data": {
      "text/plain": [
       "array([-0.99544998, -0.99663831, -0.99628262, -0.99627857, -0.99626072,\n",
       "       -0.9962468 , -0.99623183, -0.99621699, -0.99620199, -0.99618689,\n",
       "       -0.99617169, -0.99615637, -0.99614095, -0.99612542, -0.99610978,\n",
       "       -0.99609402, -0.99607815, -0.99606217, -0.99604607, -0.99602985,\n",
       "       -0.99601351, -0.99599705, -0.99598046, -0.99596375, -0.99594692,\n",
       "       -0.99592996, -0.99591286, -0.99589564, -0.99587829, -0.9958608 ,\n",
       "       -0.99584317, -0.99582541, -0.9958075 , -0.99578946, -0.99577127,\n",
       "       -0.99575294, -0.99573445, -0.99571582, -0.99569704, -0.9956781 ,\n",
       "       -0.995659  , -0.99563975, -0.99562034, -0.99560076, -0.99558101,\n",
       "       -0.9955611 , -0.99554102, -0.99552076, -0.99550033, -0.99547971,\n",
       "       -0.99545892, -0.99543794, -0.99541677, -0.99539541, -0.99537385,\n",
       "       -0.9953521 , -0.99533014, -0.99530798, -0.99528561, -0.99526303,\n",
       "       -0.99524023, -0.99521721, -0.99519397, -0.9951705 , -0.99514679,\n",
       "       -0.99512285, -0.99509866, -0.99507423, -0.99504954, -0.99502459,\n",
       "       -0.99499938, -0.99497391, -0.99494815, -0.99492212, -0.99489579,\n",
       "       -0.99486918, -0.99484226, -0.99481503, -0.99478749, -0.99475962,\n",
       "       -0.99473141, -0.99470287, -0.99467398, -0.99464472, -0.9946151 ,\n",
       "       -0.9945851 , -0.9945547 , -0.9945239 , -0.99449269, -0.99446104,\n",
       "       -0.99442896, -0.99439642, -0.9943634 , -0.9943299 , -0.9942959 ,\n",
       "       -0.99426137, -0.9942263 , -0.99419067, -0.99415445, -0.99411763,\n",
       "       -0.99408017, -0.99404206, -0.99400325, -0.99396373, -0.99392346,\n",
       "       -0.9938824 , -0.99384051, -0.99379776, -0.9937541 , -0.99370947,\n",
       "       -0.99366383, -0.99361711, -0.99356925, -0.99352017, -0.99346979,\n",
       "       -0.99341802, -0.99336474, -0.99330983, -0.99325314, -0.99319447,\n",
       "       -0.9931336 , -0.99307023, -0.99300395, -0.99293424, -0.99286032,\n",
       "       -0.99278112, -0.99269501, -0.99259965, -0.9924917 , -0.99236691,\n",
       "       -0.99222074, -0.99204921, -0.99184812, -0.99161057, -0.99132633,\n",
       "       -0.99098134, -0.99054435, -0.98997736, -0.98923721, -0.98831867,\n",
       "       -0.98720845, -0.98595485, -0.98448211, -0.98296268, -0.98104017,\n",
       "       -0.97889193, -0.97627789, -0.97436096, -0.97278794, -0.97174707,\n",
       "       -0.97066469, -0.96982372, -0.9688265 , -0.96799358, -0.96701624,\n",
       "       -0.96616659, -0.96520531, -0.9643368 , -0.9633916 , -0.96250359,\n",
       "       -0.96157363, -0.9606655 , -0.95974981, -0.95882104, -0.95791885,\n",
       "       -0.95696907, -0.95607975, -0.95510868, -0.95423172, -0.95323915,\n",
       "       -0.95237408, -0.95135984, -0.95050624, -0.9494702 , -0.94862768,\n",
       "       -0.94756972, -0.9467379 , -0.94565795, -0.94483647, -0.94373443,\n",
       "       -0.94292293, -0.94179875, -0.94099688, -0.93985049, -0.93905792,\n",
       "       -0.93800278, -0.93707471, -0.93595628, -0.93556274, -0.93447316,\n",
       "       -0.93387968, -0.93285474, -0.9321388 , -0.93082258, -0.92952564,\n",
       "       -0.92848093, -0.92745265, -0.92642956, -0.92540289, -0.92437255,\n",
       "       -0.92333814, -0.92229962, -0.92125691, -0.92020996, -0.91915871,\n",
       "       -0.9181031 , -0.91704307, -0.91597854, -0.91490946, -0.91383577,\n",
       "       -0.91275738, -0.91167424, -0.91058628, -0.90949342, -0.90839559,\n",
       "       -0.90729272, -0.90618472, -0.90507153, -0.90395306, -0.90282923,\n",
       "       -0.90169995, -0.90056514, -0.89942471, -0.89827858, -0.89712664,\n",
       "       -0.89596881, -0.89480498, -0.89363506, -0.89245895, -0.89127654,\n",
       "       -0.89008771, -0.88889237, -0.8876904 , -0.88648167, -0.88526608,\n",
       "       -0.88404349, -0.88281378, -0.88157681, -0.88033246, -0.87908058,\n",
       "       -0.87782104, -0.87655367, -0.87527834, -0.87399488, -0.87270313,\n",
       "       -0.87140293, -0.87009411, -0.86877648, -0.86744987, -0.86611409,\n",
       "       -0.86476893, -0.8634142 , -0.86204969, -0.86067519, -0.85929046,\n",
       "       -0.85789529, -0.85648942, -0.85507262, -0.85364462, -0.85220516,\n",
       "       -0.85075396, -0.84929074, -0.84781519, -0.84632702, -0.84482589,\n",
       "       -0.84331148, -0.84178344, -0.84024141, -0.83868501, -0.83711385,\n",
       "       -0.83552753, -0.83392562, -0.83230768, -0.83067324, -0.82902183,\n",
       "       -0.82735294, -0.82566603, -0.82396057, -0.82223597, -0.82049163,\n",
       "       -0.81872691, -0.81694115, -0.81513364, -0.81330366, -0.81145042,\n",
       "       -0.8095731 , -0.80767086, -0.80574277, -0.80378788, -0.80180517,\n",
       "       -0.79979355, -0.79775189, -0.79567895, -0.79357344, -0.79143396,\n",
       "       -0.78925903, -0.78704705, -0.78479629, -0.7825049 , -0.78017086,\n",
       "       -0.77779198, -0.77536587, -0.7728899 , -0.7703612 , -0.76777656,\n",
       "       -0.7651324 , -0.76242472, -0.75964899, -0.75680003, -0.75387188,\n",
       "       -0.75085758, -0.74774893, -0.74453607, -0.74120697, -0.73774651,\n",
       "       -0.73413518, -0.73034646, -0.72634117, -0.72204815, -0.69346033,\n",
       "       -0.69329396, -0.68618233, -0.65953795, -0.42509012, -0.45614999,\n",
       "       -0.41964788, -0.4190103 , -0.41457791, -0.41117394, -0.40757163,\n",
       "       -0.40394938, -0.40021542, -0.39637158, -0.39237656, -0.38818951,\n",
       "       -0.38373669, -0.37890244, -0.37348548, -0.36714269, -0.35936947,\n",
       "       -0.34973628, -0.33221492, -0.32371098, -0.3062738 , -0.29736381,\n",
       "       -0.27752024, -0.26839641, -0.26435606, -0.25662611, -0.23966423,\n",
       "       -0.22854354, -0.21311198, -0.19195295, -0.17299402, -0.14867103,\n",
       "       -0.12816304, -0.09635178, -0.07797832, -0.04824435, -0.02025896,\n",
       "        0.01089525,  0.037671  ,  0.06816473,  0.0896798 ,  0.10665556,\n",
       "        0.12706902,  0.14385291,  0.18331891,  0.20540697,  0.24373861,\n",
       "        0.26824465,  0.30816043,  0.3348095 ,  0.39441805,  0.4386233 ,\n",
       "        0.53472345,  0.66377532,  0.7725258 ,  0.8829036 ,  0.89937277,\n",
       "        0.90308948,  0.90436058,  0.90551525,  0.90663821,  0.90775081,\n",
       "        0.90885802,  0.90996017,  0.91105759,  0.91215038,  0.91323872,\n",
       "        0.9143228 ,  0.91540285,  0.91647927,  0.91755272,  0.91862472,\n",
       "        0.91954352,  0.91990416,  0.92032142,  0.92117037,  0.92218469,\n",
       "        0.92322485,  0.92426472,  0.92530155,  0.92633456,  0.92736375,\n",
       "        0.92838914,  0.92941078,  0.93042875,  0.93144309,  0.93245385,\n",
       "        0.93346111,  0.93446492,  0.93546533,  0.93646241,  0.93745623,\n",
       "        0.93844683,  0.93943431,  0.94041872,  0.94140015,  0.94237869,\n",
       "        0.94335444,  0.94432756,  0.94529825,  0.94626693,  0.94723544,\n",
       "        0.94816785,  0.94912155,  0.95007654,  0.95102985,  0.95198152,\n",
       "        0.95293162,  0.95388094,  0.95483071,  0.95578498,  0.95659952,\n",
       "        0.95742322,  0.95828073,  0.95915908,  0.96006715,  0.96098363,\n",
       "        0.9619003 ,  0.96281588,  0.96372969,  0.96464168,  0.96555188,\n",
       "        0.96646024,  0.96736692,  0.9682715 ,  0.96916455,  0.9699955 ,\n",
       "        0.97082122,  0.97170618,  0.97258892,  0.9734837 ,  0.97437646,\n",
       "        0.97527168,  0.97616641,  0.97706261,  0.97795471,  0.97886167,\n",
       "        0.97974498,  0.98067719,  0.98155305,  0.98241781,  0.98320917,\n",
       "        0.98402528,  0.9848027 ,  0.98558984,  0.98635696,  0.98711928,\n",
       "        0.98785937,  0.98857896,  0.98926549,  0.98991459,  0.99051455,\n",
       "        0.99106108,  0.99154264,  0.99196176,  0.99230828,  0.99259623,\n",
       "        0.99281775,  0.99299733,  0.99312769,  0.99323719,  0.99331622,\n",
       "        0.99339013,  0.99344668,  0.99350538,  0.99355374,  0.99360575,\n",
       "        0.99365106,  0.99369921,  0.99374282,  0.99378808,  0.99383028,\n",
       "        0.99387315,  0.99391398,  0.99395485,  0.99399434,  0.99403351,\n",
       "        0.99407168,  0.99410938,  0.9941463 ,  0.99418269,  0.99421843,\n",
       "        0.99425364,  0.99428828,  0.99432241,  0.99435601,  0.99438914,\n",
       "        0.99442178,  0.99445396,  0.9944857 ,  0.99451701,  0.9945479 ,\n",
       "        0.99457839,  0.99460848,  0.99463819,  0.99466753,  0.9946965 ,\n",
       "        0.99472513,  0.99475341,  0.99478135,  0.99480897,  0.99483627,\n",
       "        0.99486327,  0.99488995,  0.99491635,  0.99494245,  0.99496827,\n",
       "        0.99499381,  0.99501908,  0.99504409,  0.99506884,  0.99509333,\n",
       "        0.99511758,  0.99514158,  0.99516534,  0.99518887,  0.99521216,\n",
       "        0.99523524,  0.99525809,  0.99528072,  0.99530314,  0.99532535,\n",
       "        0.99534735,  0.99536915,  0.99539075,  0.99541216,  0.99543337,\n",
       "        0.99545439,  0.99547523,  0.99549588,  0.99551636,  0.99553666,\n",
       "        0.99555678,  0.99557673,  0.99559651,  0.99561612,  0.99563557,\n",
       "        0.99565486,  0.99567399,  0.99569296,  0.99571178,  0.99573045,\n",
       "        0.99574896,  0.99576732,  0.99578554,  0.99580362,  0.99582155,\n",
       "        0.99583934,  0.995857  ,  0.99587451,  0.9958919 ,  0.99590915,\n",
       "        0.99592626,  0.99594325,  0.99596011,  0.99597684,  0.99599345,\n",
       "        0.99600994,  0.9960263 ,  0.99604254,  0.99605867,  0.99607468,\n",
       "        0.99609057,  0.99610634,  0.99612201,  0.99613756,  0.996153  ,\n",
       "        0.99616833,  0.99618355,  0.99619867,  0.99621368,  0.99622859,\n",
       "        0.99624339,  0.9962581 ,  0.9962727 ,  0.9962872 ,  0.9963016 ])"
      ]
     },
     "execution_count": 617,
     "metadata": {},
     "output_type": "execute_result"
    }
   ],
   "source": [
    "m_inter"
   ]
  },
  {
   "cell_type": "code",
   "execution_count": 618,
   "metadata": {},
   "outputs": [
    {
     "data": {
      "text/plain": [
       "20.79999999999955"
      ]
     },
     "execution_count": 618,
     "metadata": {},
     "output_type": "execute_result"
    }
   ],
   "source": [
    "hc"
   ]
  },
  {
   "cell_type": "code",
   "execution_count": 619,
   "metadata": {},
   "outputs": [
    {
     "data": {
      "text/plain": [
       "array([[9.12500000e-04, 2.08000000e+01],\n",
       "       [1.75389583e-01, 1.87200000e+01],\n",
       "       [3.49866667e-01, 1.97600000e+01],\n",
       "       [5.24343750e-01, 2.01066667e+01],\n",
       "       [6.98820833e-01, 1.90666667e+01],\n",
       "       [8.73297917e-01, 1.90666667e+01],\n",
       "       [1.04777500e+00, 2.01066667e+01],\n",
       "       [1.22225208e+00, 1.94133333e+01],\n",
       "       [1.39672917e+00, 1.90666667e+01],\n",
       "       [1.57120625e+00, 2.08000000e+01],\n",
       "       [1.74568333e+00, 2.28800000e+01],\n",
       "       [1.92016042e+00, 1.94133333e+01],\n",
       "       [2.09463750e+00, 1.49066667e+01],\n",
       "       [2.26911458e+00, 4.85333333e+00],\n",
       "       [2.44359167e+00, 4.85333333e+00],\n",
       "       [2.61806875e+00, 1.49066667e+01],\n",
       "       [2.79254583e+00, 1.94133333e+01],\n",
       "       [2.96702292e+00, 2.28800000e+01],\n",
       "       [3.14150000e+00, 2.08000000e+01]])"
      ]
     },
     "execution_count": 619,
     "metadata": {},
     "output_type": "execute_result"
    }
   ],
   "source": [
    "list_hc"
   ]
  },
  {
   "cell_type": "code",
   "execution_count": 622,
   "metadata": {},
   "outputs": [],
   "source": [
    "x_hc=[]\n",
    "y_hc=[]\n",
    "\n",
    "for i in range(len(list_hc)):\n",
    "    x_hc.append(list_hc[i][0])\n",
    "    y_hc.append(list_hc[i][1])    \n",
    "    \n",
    "    "
   ]
  },
  {
   "cell_type": "code",
   "execution_count": 623,
   "metadata": {},
   "outputs": [
    {
     "data": {
      "image/png": "[encoded data removed]",
      "text/plain": [
       "<Figure size 432x288 with 1 Axes>"
      ]
     },
     "metadata": {
      "needs_background": "light"
     },
     "output_type": "display_data"
    }
   ],
   "source": [
    "import matplotlib.pyplot as plt\n",
    "\n",
    "ax = plt.subplot(111, projection='polar')\n",
    "ax.plot(x_hc, abs(np.array(y_hc)), marker = 'x')\n",
    "ax.set_rmax(31)\n",
    "ax.set_rmin(0)\n",
    "plt.show()"
   ]
  },
  {
   "cell_type": "code",
   "execution_count": 624,
   "metadata": {},
   "outputs": [
    {
     "name": "stdout",
     "output_type": "stream",
     "text": [
      "0\t33.3\n",
      "\n"
     ]
    }
   ],
   "source": [
    "# experimental data\n",
    "path='/home/vagner/Desktop/galfenol/galhctheta.txt'\n",
    "#path='/home/vagner/Desktop/galfenol/gal90deg.txt'\n",
    "#path='/home/vagner/Desktop/galfenol/gal50deg.txt'\n",
    "#path = '/home/vagner/Desktop/galfenol/gal0deg.txt'\n",
    "\n",
    "hexp10ktube = open(path,'r')\n",
    "hexp=hexp10ktube.readlines()\n",
    "\n",
    "print(hexp[0])\n",
    "#print(a1[0][1])\n",
    "\n",
    "hc_on=[]\n",
    "mexp_on=[]\n",
    "hexp10ktube.close()\n",
    "for i in range(len(hexp)):\n",
    "    listexp=hexp[i].split('\\t')\n",
    "    hc_on.append(float(listexp[0]))\n",
    "    mexp_on.append(float(listexp[1].split('\\n')[0]))\n",
    "\n",
    "theta_on=np.array(hc_on)\n",
    "hc_on=np.array(mexp_on)\n",
    "\n"
   ]
  },
  {
   "cell_type": "code",
   "execution_count": 625,
   "metadata": {},
   "outputs": [],
   "source": [
    "theta_on=theta_on*3.1415/180."
   ]
  },
  {
   "cell_type": "code",
   "execution_count": 626,
   "metadata": {},
   "outputs": [
    {
     "data": {
      "text/plain": [
       "array([0.        , 0.17452778, 0.34905556, 0.52358333, 0.69811111,\n",
       "       0.87263889, 1.04716667, 1.22169444, 1.39622222, 1.57075   ,\n",
       "       1.74527778, 1.91980556, 2.09433333, 2.26886111, 2.44338889,\n",
       "       2.61791667, 2.79244444, 2.96697222, 3.1415    ])"
      ]
     },
     "execution_count": 626,
     "metadata": {},
     "output_type": "execute_result"
    }
   ],
   "source": [
    "theta_on"
   ]
  },
  {
   "cell_type": "code",
   "execution_count": 627,
   "metadata": {},
   "outputs": [
    {
     "data": {
      "text/plain": [
       "array([33.3 , 31.03, 31.29, 31.74, 28.  , 27.73, 32.33, 20.81, 20.81,\n",
       "       22.66, 20.97, 20.18, 29.93, 27.63, 27.44, 29.77, 30.04, 33.57,\n",
       "       37.03])"
      ]
     },
     "execution_count": 627,
     "metadata": {},
     "output_type": "execute_result"
    }
   ],
   "source": [
    "hc_on"
   ]
  },
  {
   "cell_type": "code",
   "execution_count": 629,
   "metadata": {},
   "outputs": [
    {
     "data": {
      "image/png": "[encoded data removed]",
      "text/plain": [
       "<Figure size 432x288 with 1 Axes>"
      ]
     },
     "metadata": {
      "needs_background": "light"
     },
     "output_type": "display_data"
    }
   ],
   "source": [
    "import matplotlib.pyplot as plt\n",
    "\n",
    "ax = plt.subplot(111, projection='polar')\n",
    "l1=ax.plot(x_hc, abs(np.array(y_hc)), marker = 'v',color='black',label='Simulation')\n",
    "#l2=ax.plot(theta_on, hc_on/1, marker = 'o',color='red',label='Experimental')\n",
    "\n",
    "#l2=ax.plot(theta_on, mexp_on/1, marker = 'o',color='blue',label='Experimental')\n",
    "\n",
    "ax.legend()\n",
    "#plt.legend((l1,l2),('90 deg','50 deg'),fontsize=20)\n",
    "\n",
    "ax.set_rmax(40)\n",
    "ax.set_rmin(0)\n",
    "\n",
    "# filme\n",
    "#plt.savefig(\"polarplot_hc_cubic_moriyaquad.png\")\n",
    "#plt.savefig(\"polarplot_hc_cubic_dipolar.png\")\n",
    "#plt.savefig(\"polarplot_hc_cubic_exchange.png\")\n",
    "#plt.savefig(\"polarplot_hc_cubic_moriya.png\")\n",
    "#plt.savefig(\"polarplot_hc_cubic_moriyachiralmultispin.png\")\n",
    "#plt.savefig(\"polarplot_hc_cubic_exchangebiquad.png\")\n",
    "\n",
    "# nanomembrane!\n",
    "\n",
    "#plt.savefig(\"polarplot_hc_cubic_moriyachiralmultispin_nmb.png\")\n",
    "#plt.savefig(\"polarplot_hc_cubic_dipolar_nmb.png\")\n",
    "#plt.savefig(\"polarplot_hc_cubic_dipolar_nmb_longer.png\")\n",
    "\n",
    "plt.show()"
   ]
  },
  {
   "cell_type": "code",
   "execution_count": null,
   "metadata": {},
   "outputs": [],
   "source": []
  },
  {
   "cell_type": "code",
   "execution_count": null,
   "metadata": {},
   "outputs": [],
   "source": []
  },
  {
   "cell_type": "code",
   "execution_count": null,
   "metadata": {},
   "outputs": [],
   "source": []
  },
  {
   "cell_type": "code",
   "execution_count": null,
   "metadata": {},
   "outputs": [],
   "source": []
  },
  {
   "cell_type": "code",
   "execution_count": null,
   "metadata": {},
   "outputs": [],
   "source": []
  },
  {
   "cell_type": "code",
   "execution_count": 630,
   "metadata": {},
   "outputs": [
    {
     "data": {
      "text/plain": [
       "0.9963016000309219"
      ]
     },
     "execution_count": 630,
     "metadata": {},
     "output_type": "execute_result"
    }
   ],
   "source": [
    "m_inter[step-1]"
   ]
  },
  {
   "cell_type": "code",
   "execution_count": 631,
   "metadata": {},
   "outputs": [
    {
     "name": "stdout",
     "output_type": "stream",
     "text": [
      "[ 3 23] 2\n"
     ]
    }
   ],
   "source": [
    "vv=[]\n",
    "vv1=np.array([2,3])\n",
    "vv1=np.array([vv1])\n",
    "#print(vv1)\n",
    "zzz=np.array([[1,2],[4,5]])\n",
    "#vv1=np.append(zzz,np.array([vv1]))\n",
    "vv1=np.concatenate((zzz,vv1),axis=0)\n",
    "vv1=np.concatenate((np.array([[3,23]]),vv1),axis=0)\n",
    "print(vv1[0],len(vv1[0]))"
   ]
  },
  {
   "cell_type": "code",
   "execution_count": 632,
   "metadata": {},
   "outputs": [],
   "source": [
    "desired_length = 50\n",
    "resultsnew = np.empty(desired_length)\n",
    "#print(resultsnew,len(maglist))"
   ]
  },
  {
   "cell_type": "code",
   "execution_count": 633,
   "metadata": {},
   "outputs": [
    {
     "data": {
      "text/plain": [
       "array([[1, 2],\n",
       "       [4, 5]])"
      ]
     },
     "execution_count": 633,
     "metadata": {},
     "output_type": "execute_result"
    }
   ],
   "source": [
    "zzz"
   ]
  },
  {
   "cell_type": "code",
   "execution_count": 634,
   "metadata": {},
   "outputs": [
    {
     "name": "stdout",
     "output_type": "stream",
     "text": [
      "[20, 2, 3] [1 2 3]\n"
     ]
    }
   ],
   "source": [
    "lis=[1,2,3]\n",
    "zz=np.copy(lis)\n",
    "zz\n",
    "lis[0]=20\n",
    "print(lis,zz)"
   ]
  },
  {
   "cell_type": "code",
   "execution_count": 635,
   "metadata": {},
   "outputs": [
    {
     "name": "stdout",
     "output_type": "stream",
     "text": [
      "0.005 0.3466666666666667\n"
     ]
    }
   ],
   "source": [
    "Msat\n",
    "print(beta,hpasso)"
   ]
  },
  {
   "cell_type": "code",
   "execution_count": 636,
   "metadata": {},
   "outputs": [
    {
     "name": "stdout",
     "output_type": "stream",
     "text": [
      "-11505.167591571808\n"
     ]
    }
   ],
   "source": [
    "print(start-stop)"
   ]
  },
  {
   "cell_type": "code",
   "execution_count": 637,
   "metadata": {},
   "outputs": [
    {
     "data": {
      "text/plain": [
       "(103.65333333333244, 6.9065114821197e-310)"
      ]
     },
     "execution_count": 637,
     "metadata": {},
     "output_type": "execute_result"
    }
   ],
   "source": [
    "hnowlist[-1],hnowlist[0]"
   ]
  },
  {
   "cell_type": "code",
   "execution_count": 638,
   "metadata": {},
   "outputs": [
    {
     "data": {
      "text/plain": [
       "(-104.0, 103.65333333333244)"
      ]
     },
     "execution_count": 638,
     "metadata": {},
     "output_type": "execute_result"
    }
   ],
   "source": [
    "h_inter[0],h_inter[-1]"
   ]
  },
  {
   "cell_type": "code",
   "execution_count": 639,
   "metadata": {},
   "outputs": [
    {
     "name": "stdout",
     "output_type": "stream",
     "text": [
      "[-0.99544998 -0.99663831 -0.99628262 -0.99627857 -0.99626072 -0.9962468\n",
      " -0.99623183 -0.99621699 -0.99620199 -0.99618689 -0.99617169 -0.99615637\n",
      " -0.99614095 -0.99612542 -0.99610978 -0.99609402 -0.99607815 -0.99606217\n",
      " -0.99604607 -0.99602985 -0.99601351 -0.99599705 -0.99598046 -0.99596375\n",
      " -0.99594692 -0.99592996 -0.99591286 -0.99589564 -0.99587829 -0.9958608\n",
      " -0.99584317 -0.99582541 -0.9958075  -0.99578946 -0.99577127 -0.99575294\n",
      " -0.99573445 -0.99571582 -0.99569704 -0.9956781  -0.995659   -0.99563975\n",
      " -0.99562034 -0.99560076 -0.99558101 -0.9955611  -0.99554102 -0.99552076\n",
      " -0.99550033 -0.99547971 -0.99545892 -0.99543794 -0.99541677 -0.99539541\n",
      " -0.99537385 -0.9953521  -0.99533014 -0.99530798 -0.99528561 -0.99526303\n",
      " -0.99524023 -0.99521721 -0.99519397 -0.9951705  -0.99514679 -0.99512285\n",
      " -0.99509866 -0.99507423 -0.99504954 -0.99502459 -0.99499938 -0.99497391\n",
      " -0.99494815 -0.99492212 -0.99489579 -0.99486918 -0.99484226 -0.99481503\n",
      " -0.99478749 -0.99475962 -0.99473141 -0.99470287 -0.99467398 -0.99464472\n",
      " -0.9946151  -0.9945851  -0.9945547  -0.9945239  -0.99449269 -0.99446104\n",
      " -0.99442896 -0.99439642 -0.9943634  -0.9943299  -0.9942959  -0.99426137\n",
      " -0.9942263  -0.99419067 -0.99415445 -0.99411763 -0.99408017 -0.99404206\n",
      " -0.99400325 -0.99396373 -0.99392346 -0.9938824  -0.99384051 -0.99379776\n",
      " -0.9937541  -0.99370947 -0.99366383 -0.99361711 -0.99356925 -0.99352017\n",
      " -0.99346979 -0.99341802 -0.99336474 -0.99330983 -0.99325314 -0.99319447\n",
      " -0.9931336  -0.99307023 -0.99300395 -0.99293424 -0.99286032 -0.99278112\n",
      " -0.99269501 -0.99259965 -0.9924917  -0.99236691 -0.99222074 -0.99204921\n",
      " -0.99184812 -0.99161057 -0.99132633 -0.99098134 -0.99054435 -0.98997736\n",
      " -0.98923721 -0.98831867 -0.98720845 -0.98595485 -0.98448211 -0.98296268\n",
      " -0.98104017 -0.97889193 -0.97627789 -0.97436096 -0.97278794 -0.97174707\n",
      " -0.97066469 -0.96982372 -0.9688265  -0.96799358 -0.96701624 -0.96616659\n",
      " -0.96520531 -0.9643368  -0.9633916  -0.96250359 -0.96157363 -0.9606655\n",
      " -0.95974981 -0.95882104 -0.95791885 -0.95696907 -0.95607975 -0.95510868\n",
      " -0.95423172 -0.95323915 -0.95237408 -0.95135984 -0.95050624 -0.9494702\n",
      " -0.94862768 -0.94756972 -0.9467379  -0.94565795 -0.94483647 -0.94373443\n",
      " -0.94292293 -0.94179875 -0.94099688 -0.93985049 -0.93905792 -0.93800278\n",
      " -0.93707471 -0.93595628 -0.93556274 -0.93447316 -0.93387968 -0.93285474\n",
      " -0.9321388  -0.93082258 -0.92952564 -0.92848093 -0.92745265 -0.92642956\n",
      " -0.92540289 -0.92437255 -0.92333814 -0.92229962 -0.92125691 -0.92020996\n",
      " -0.91915871 -0.9181031  -0.91704307 -0.91597854 -0.91490946 -0.91383577\n",
      " -0.91275738 -0.91167424 -0.91058628 -0.90949342 -0.90839559 -0.90729272\n",
      " -0.90618472 -0.90507153 -0.90395306 -0.90282923 -0.90169995 -0.90056514\n",
      " -0.89942471 -0.89827858 -0.89712664 -0.89596881 -0.89480498 -0.89363506\n",
      " -0.89245895 -0.89127654 -0.89008771 -0.88889237 -0.8876904  -0.88648167\n",
      " -0.88526608 -0.88404349 -0.88281378 -0.88157681 -0.88033246 -0.87908058\n",
      " -0.87782104 -0.87655367 -0.87527834 -0.87399488 -0.87270313 -0.87140293\n",
      " -0.87009411 -0.86877648 -0.86744987 -0.86611409 -0.86476893 -0.8634142\n",
      " -0.86204969 -0.86067519 -0.85929046 -0.85789529 -0.85648942 -0.85507262\n",
      " -0.85364462 -0.85220516 -0.85075396 -0.84929074 -0.84781519 -0.84632702\n",
      " -0.84482589 -0.84331148 -0.84178344 -0.84024141 -0.83868501 -0.83711385\n",
      " -0.83552753 -0.83392562 -0.83230768 -0.83067324 -0.82902183 -0.82735294\n",
      " -0.82566603 -0.82396057 -0.82223597 -0.82049163 -0.81872691 -0.81694115\n",
      " -0.81513364 -0.81330366 -0.81145042 -0.8095731  -0.80767086 -0.80574277\n",
      " -0.80378788 -0.80180517 -0.79979355 -0.79775189 -0.79567895 -0.79357344\n",
      " -0.79143396 -0.78925903 -0.78704705 -0.78479629 -0.7825049  -0.78017086\n",
      " -0.77779198 -0.77536587 -0.7728899  -0.7703612  -0.76777656 -0.7651324\n",
      " -0.76242472 -0.75964899 -0.75680003 -0.75387188 -0.75085758 -0.74774893\n",
      " -0.74453607 -0.74120697 -0.73774651 -0.73413518 -0.73034646 -0.72634117\n",
      " -0.72204815 -0.69346033 -0.69329396 -0.68618233 -0.65953795 -0.42509012\n",
      " -0.45614999 -0.41964788 -0.4190103  -0.41457791 -0.41117394 -0.40757163\n",
      " -0.40394938 -0.40021542 -0.39637158 -0.39237656 -0.38818951 -0.38373669\n",
      " -0.37890244 -0.37348548 -0.36714269 -0.35936947 -0.34973628 -0.33221492\n",
      " -0.32371098 -0.3062738  -0.29736381 -0.27752024 -0.26839641 -0.26435606\n",
      " -0.25662611 -0.23966423 -0.22854354 -0.21311198 -0.19195295 -0.17299402\n",
      " -0.14867103 -0.12816304 -0.09635178 -0.07797832 -0.04824435 -0.02025896\n",
      "  0.01089525  0.037671    0.06816473  0.0896798   0.10665556  0.12706902\n",
      "  0.14385291  0.18331891  0.20540697  0.24373861  0.26824465  0.30816043\n",
      "  0.3348095   0.39441805  0.4386233   0.53472345  0.66377532  0.7725258\n",
      "  0.8829036   0.89937277  0.90308948  0.90436058  0.90551525  0.90663821\n",
      "  0.90775081  0.90885802  0.90996017  0.91105759  0.91215038  0.91323872\n",
      "  0.9143228   0.91540285  0.91647927  0.91755272  0.91862472  0.91954352\n",
      "  0.91990416  0.92032142  0.92117037  0.92218469  0.92322485  0.92426472\n",
      "  0.92530155  0.92633456  0.92736375  0.92838914  0.92941078  0.93042875\n",
      "  0.93144309  0.93245385  0.93346111  0.93446492  0.93546533  0.93646241\n",
      "  0.93745623  0.93844683  0.93943431  0.94041872  0.94140015  0.94237869\n",
      "  0.94335444  0.94432756  0.94529825  0.94626693  0.94723544  0.94816785\n",
      "  0.94912155  0.95007654  0.95102985  0.95198152  0.95293162  0.95388094\n",
      "  0.95483071  0.95578498  0.95659952  0.95742322  0.95828073  0.95915908\n",
      "  0.96006715  0.96098363  0.9619003   0.96281588  0.96372969  0.96464168\n",
      "  0.96555188  0.96646024  0.96736692  0.9682715   0.96916455  0.9699955\n",
      "  0.97082122  0.97170618  0.97258892  0.9734837   0.97437646  0.97527168\n",
      "  0.97616641  0.97706261  0.97795471  0.97886167  0.97974498  0.98067719\n",
      "  0.98155305  0.98241781  0.98320917  0.98402528  0.9848027   0.98558984\n",
      "  0.98635696  0.98711928  0.98785937  0.98857896  0.98926549  0.98991459\n",
      "  0.99051455  0.99106108  0.99154264  0.99196176  0.99230828  0.99259623\n",
      "  0.99281775  0.99299733  0.99312769  0.99323719  0.99331622  0.99339013\n",
      "  0.99344668  0.99350538  0.99355374  0.99360575  0.99365106  0.99369921\n",
      "  0.99374282  0.99378808  0.99383028  0.99387315  0.99391398  0.99395485\n",
      "  0.99399434  0.99403351  0.99407168  0.99410938  0.9941463   0.99418269\n",
      "  0.99421843  0.99425364  0.99428828  0.99432241  0.99435601  0.99438914\n",
      "  0.99442178  0.99445396  0.9944857   0.99451701  0.9945479   0.99457839\n",
      "  0.99460848  0.99463819  0.99466753  0.9946965   0.99472513  0.99475341\n",
      "  0.99478135  0.99480897  0.99483627  0.99486327  0.99488995  0.99491635\n",
      "  0.99494245  0.99496827  0.99499381  0.99501908  0.99504409  0.99506884\n",
      "  0.99509333  0.99511758  0.99514158  0.99516534  0.99518887  0.99521216\n",
      "  0.99523524  0.99525809  0.99528072  0.99530314  0.99532535  0.99534735\n",
      "  0.99536915  0.99539075  0.99541216  0.99543337  0.99545439  0.99547523\n",
      "  0.99549588  0.99551636  0.99553666  0.99555678  0.99557673  0.99559651\n",
      "  0.99561612  0.99563557  0.99565486  0.99567399  0.99569296  0.99571178\n",
      "  0.99573045  0.99574896  0.99576732  0.99578554  0.99580362  0.99582155\n",
      "  0.99583934  0.995857    0.99587451  0.9958919   0.99590915  0.99592626\n",
      "  0.99594325  0.99596011  0.99597684  0.99599345  0.99600994  0.9960263\n",
      "  0.99604254  0.99605867  0.99607468  0.99609057  0.99610634  0.99612201\n",
      "  0.99613756  0.996153    0.99616833  0.99618355  0.99619867  0.99621368\n",
      "  0.99622859  0.99624339  0.9962581   0.9962727   0.9962872   0.9963016 ]\n",
      "600\n"
     ]
    }
   ],
   "source": [
    "print(m_inter)\n",
    "print(len(m_inter))"
   ]
  },
  {
   "cell_type": "code",
   "execution_count": 640,
   "metadata": {},
   "outputs": [
    {
     "ename": "TypeError",
     "evalue": "object of type 'numpy.float64' has no len()",
     "output_type": "error",
     "traceback": [
      "\u001b[0;31m---------------------------------------------------------------------------\u001b[0m",
      "\u001b[0;31mTypeError\u001b[0m                                 Traceback (most recent call last)",
      "\u001b[0;32m<ipython-input-640-2a888c6d9516>\u001b[0m in \u001b[0;36m<module>\u001b[0;34m()\u001b[0m\n\u001b[1;32m      2\u001b[0m \u001b[0;32mfor\u001b[0m \u001b[0mj\u001b[0m \u001b[0;32min\u001b[0m \u001b[0mrange\u001b[0m\u001b[0;34m(\u001b[0m\u001b[0mlen\u001b[0m\u001b[0;34m(\u001b[0m\u001b[0mm_inter\u001b[0m\u001b[0;34m)\u001b[0m\u001b[0;34m)\u001b[0m\u001b[0;34m:\u001b[0m\u001b[0;34m\u001b[0m\u001b[0;34m\u001b[0m\u001b[0m\n\u001b[1;32m      3\u001b[0m     \u001b[0msoma\u001b[0m\u001b[0;34m=\u001b[0m\u001b[0;36m0\u001b[0m\u001b[0;34m\u001b[0m\u001b[0;34m\u001b[0m\u001b[0m\n\u001b[0;32m----> 4\u001b[0;31m     \u001b[0;32mfor\u001b[0m \u001b[0mi\u001b[0m \u001b[0;32min\u001b[0m \u001b[0mrange\u001b[0m\u001b[0;34m(\u001b[0m\u001b[0mlen\u001b[0m\u001b[0;34m(\u001b[0m\u001b[0mm_inter\u001b[0m\u001b[0;34m[\u001b[0m\u001b[0;36m0\u001b[0m\u001b[0;34m]\u001b[0m\u001b[0;34m)\u001b[0m\u001b[0;34m)\u001b[0m\u001b[0;34m:\u001b[0m\u001b[0;34m\u001b[0m\u001b[0;34m\u001b[0m\u001b[0m\n\u001b[0m\u001b[1;32m      5\u001b[0m \u001b[0;31m#        print(i)\u001b[0m\u001b[0;34m\u001b[0m\u001b[0;34m\u001b[0m\u001b[0;34m\u001b[0m\u001b[0m\n\u001b[1;32m      6\u001b[0m         \u001b[0msoma\u001b[0m\u001b[0;34m+=\u001b[0m\u001b[0mm_inter\u001b[0m\u001b[0;34m[\u001b[0m\u001b[0mj\u001b[0m\u001b[0;34m]\u001b[0m\u001b[0;34m[\u001b[0m\u001b[0mi\u001b[0m\u001b[0;34m]\u001b[0m\u001b[0;34m\u001b[0m\u001b[0;34m\u001b[0m\u001b[0m\n",
      "\u001b[0;31mTypeError\u001b[0m: object of type 'numpy.float64' has no len()"
     ]
    }
   ],
   "source": [
    "maglistend2=[]\n",
    "for j in range(len(m_inter)):\n",
    "    soma=0\n",
    "    for i in range(len(m_inter[0])):\n",
    "#        print(i)\n",
    "        soma+=m_inter[j][i]\n",
    "    maglistend2.append(soma/NN2)\n",
    "        "
   ]
  },
  {
   "cell_type": "code",
   "execution_count": 641,
   "metadata": {},
   "outputs": [
    {
     "name": "stdout",
     "output_type": "stream",
     "text": [
      "[]\n",
      "0\n"
     ]
    }
   ],
   "source": [
    "print(maglistend2)\n",
    "print(len(maglistend2))"
   ]
  },
  {
   "cell_type": "code",
   "execution_count": 642,
   "metadata": {},
   "outputs": [],
   "source": [
    "#h_test[8]\n"
   ]
  },
  {
   "cell_type": "code",
   "execution_count": 643,
   "metadata": {},
   "outputs": [
    {
     "data": {
      "text/plain": [
       "1000.0"
      ]
     },
     "execution_count": 643,
     "metadata": {},
     "output_type": "execute_result"
    }
   ],
   "source": [
    "Msat"
   ]
  },
  {
   "cell_type": "code",
   "execution_count": 644,
   "metadata": {},
   "outputs": [
    {
     "data": {
      "text/plain": [
       "-104.0"
      ]
     },
     "execution_count": 644,
     "metadata": {},
     "output_type": "execute_result"
    }
   ],
   "source": [
    "hini"
   ]
  },
  {
   "cell_type": "code",
   "execution_count": 645,
   "metadata": {},
   "outputs": [
    {
     "data": {
      "text/plain": [
       "array([-0.99544998, -0.99663831, -0.99628262, -0.99627857, -0.99626072,\n",
       "       -0.9962468 , -0.99623183, -0.99621699, -0.99620199, -0.99618689,\n",
       "       -0.99617169, -0.99615637, -0.99614095, -0.99612542, -0.99610978,\n",
       "       -0.99609402, -0.99607815, -0.99606217, -0.99604607, -0.99602985,\n",
       "       -0.99601351, -0.99599705, -0.99598046, -0.99596375, -0.99594692,\n",
       "       -0.99592996, -0.99591286, -0.99589564, -0.99587829, -0.9958608 ,\n",
       "       -0.99584317, -0.99582541, -0.9958075 , -0.99578946, -0.99577127,\n",
       "       -0.99575294, -0.99573445, -0.99571582, -0.99569704, -0.9956781 ,\n",
       "       -0.995659  , -0.99563975, -0.99562034, -0.99560076, -0.99558101,\n",
       "       -0.9955611 , -0.99554102, -0.99552076, -0.99550033, -0.99547971,\n",
       "       -0.99545892, -0.99543794, -0.99541677, -0.99539541, -0.99537385,\n",
       "       -0.9953521 , -0.99533014, -0.99530798, -0.99528561, -0.99526303,\n",
       "       -0.99524023, -0.99521721, -0.99519397, -0.9951705 , -0.99514679,\n",
       "       -0.99512285, -0.99509866, -0.99507423, -0.99504954, -0.99502459,\n",
       "       -0.99499938, -0.99497391, -0.99494815, -0.99492212, -0.99489579,\n",
       "       -0.99486918, -0.99484226, -0.99481503, -0.99478749, -0.99475962,\n",
       "       -0.99473141, -0.99470287, -0.99467398, -0.99464472, -0.9946151 ,\n",
       "       -0.9945851 , -0.9945547 , -0.9945239 , -0.99449269, -0.99446104,\n",
       "       -0.99442896, -0.99439642, -0.9943634 , -0.9943299 , -0.9942959 ,\n",
       "       -0.99426137, -0.9942263 , -0.99419067, -0.99415445, -0.99411763,\n",
       "       -0.99408017, -0.99404206, -0.99400325, -0.99396373, -0.99392346,\n",
       "       -0.9938824 , -0.99384051, -0.99379776, -0.9937541 , -0.99370947,\n",
       "       -0.99366383, -0.99361711, -0.99356925, -0.99352017, -0.99346979,\n",
       "       -0.99341802, -0.99336474, -0.99330983, -0.99325314, -0.99319447,\n",
       "       -0.9931336 , -0.99307023, -0.99300395, -0.99293424, -0.99286032,\n",
       "       -0.99278112, -0.99269501, -0.99259965, -0.9924917 , -0.99236691,\n",
       "       -0.99222074, -0.99204921, -0.99184812, -0.99161057, -0.99132633,\n",
       "       -0.99098134, -0.99054435, -0.98997736, -0.98923721, -0.98831867,\n",
       "       -0.98720845, -0.98595485, -0.98448211, -0.98296268, -0.98104017,\n",
       "       -0.97889193, -0.97627789, -0.97436096, -0.97278794, -0.97174707,\n",
       "       -0.97066469, -0.96982372, -0.9688265 , -0.96799358, -0.96701624,\n",
       "       -0.96616659, -0.96520531, -0.9643368 , -0.9633916 , -0.96250359,\n",
       "       -0.96157363, -0.9606655 , -0.95974981, -0.95882104, -0.95791885,\n",
       "       -0.95696907, -0.95607975, -0.95510868, -0.95423172, -0.95323915,\n",
       "       -0.95237408, -0.95135984, -0.95050624, -0.9494702 , -0.94862768,\n",
       "       -0.94756972, -0.9467379 , -0.94565795, -0.94483647, -0.94373443,\n",
       "       -0.94292293, -0.94179875, -0.94099688, -0.93985049, -0.93905792,\n",
       "       -0.93800278, -0.93707471, -0.93595628, -0.93556274, -0.93447316,\n",
       "       -0.93387968, -0.93285474, -0.9321388 , -0.93082258, -0.92952564,\n",
       "       -0.92848093, -0.92745265, -0.92642956, -0.92540289, -0.92437255,\n",
       "       -0.92333814, -0.92229962, -0.92125691, -0.92020996, -0.91915871,\n",
       "       -0.9181031 , -0.91704307, -0.91597854, -0.91490946, -0.91383577,\n",
       "       -0.91275738, -0.91167424, -0.91058628, -0.90949342, -0.90839559,\n",
       "       -0.90729272, -0.90618472, -0.90507153, -0.90395306, -0.90282923,\n",
       "       -0.90169995, -0.90056514, -0.89942471, -0.89827858, -0.89712664,\n",
       "       -0.89596881, -0.89480498, -0.89363506, -0.89245895, -0.89127654,\n",
       "       -0.89008771, -0.88889237, -0.8876904 , -0.88648167, -0.88526608,\n",
       "       -0.88404349, -0.88281378, -0.88157681, -0.88033246, -0.87908058,\n",
       "       -0.87782104, -0.87655367, -0.87527834, -0.87399488, -0.87270313,\n",
       "       -0.87140293, -0.87009411, -0.86877648, -0.86744987, -0.86611409,\n",
       "       -0.86476893, -0.8634142 , -0.86204969, -0.86067519, -0.85929046,\n",
       "       -0.85789529, -0.85648942, -0.85507262, -0.85364462, -0.85220516,\n",
       "       -0.85075396, -0.84929074, -0.84781519, -0.84632702, -0.84482589,\n",
       "       -0.84331148, -0.84178344, -0.84024141, -0.83868501, -0.83711385,\n",
       "       -0.83552753, -0.83392562, -0.83230768, -0.83067324, -0.82902183,\n",
       "       -0.82735294, -0.82566603, -0.82396057, -0.82223597, -0.82049163,\n",
       "       -0.81872691, -0.81694115, -0.81513364, -0.81330366, -0.81145042,\n",
       "       -0.8095731 , -0.80767086, -0.80574277, -0.80378788, -0.80180517,\n",
       "       -0.79979355, -0.79775189, -0.79567895, -0.79357344, -0.79143396,\n",
       "       -0.78925903, -0.78704705, -0.78479629, -0.7825049 , -0.78017086,\n",
       "       -0.77779198, -0.77536587, -0.7728899 , -0.7703612 , -0.76777656,\n",
       "       -0.7651324 , -0.76242472, -0.75964899, -0.75680003, -0.75387188,\n",
       "       -0.75085758, -0.74774893, -0.74453607, -0.74120697, -0.73774651,\n",
       "       -0.73413518, -0.73034646, -0.72634117, -0.72204815, -0.69346033,\n",
       "       -0.69329396, -0.68618233, -0.65953795, -0.42509012, -0.45614999,\n",
       "       -0.41964788, -0.4190103 , -0.41457791, -0.41117394, -0.40757163,\n",
       "       -0.40394938, -0.40021542, -0.39637158, -0.39237656, -0.38818951,\n",
       "       -0.38373669, -0.37890244, -0.37348548, -0.36714269, -0.35936947,\n",
       "       -0.34973628, -0.33221492, -0.32371098, -0.3062738 , -0.29736381,\n",
       "       -0.27752024, -0.26839641, -0.26435606, -0.25662611, -0.23966423,\n",
       "       -0.22854354, -0.21311198, -0.19195295, -0.17299402, -0.14867103,\n",
       "       -0.12816304, -0.09635178, -0.07797832, -0.04824435, -0.02025896,\n",
       "        0.01089525,  0.037671  ,  0.06816473,  0.0896798 ,  0.10665556,\n",
       "        0.12706902,  0.14385291,  0.18331891,  0.20540697,  0.24373861,\n",
       "        0.26824465,  0.30816043,  0.3348095 ,  0.39441805,  0.4386233 ,\n",
       "        0.53472345,  0.66377532,  0.7725258 ,  0.8829036 ,  0.89937277,\n",
       "        0.90308948,  0.90436058,  0.90551525,  0.90663821,  0.90775081,\n",
       "        0.90885802,  0.90996017,  0.91105759,  0.91215038,  0.91323872,\n",
       "        0.9143228 ,  0.91540285,  0.91647927,  0.91755272,  0.91862472,\n",
       "        0.91954352,  0.91990416,  0.92032142,  0.92117037,  0.92218469,\n",
       "        0.92322485,  0.92426472,  0.92530155,  0.92633456,  0.92736375,\n",
       "        0.92838914,  0.92941078,  0.93042875,  0.93144309,  0.93245385,\n",
       "        0.93346111,  0.93446492,  0.93546533,  0.93646241,  0.93745623,\n",
       "        0.93844683,  0.93943431,  0.94041872,  0.94140015,  0.94237869,\n",
       "        0.94335444,  0.94432756,  0.94529825,  0.94626693,  0.94723544,\n",
       "        0.94816785,  0.94912155,  0.95007654,  0.95102985,  0.95198152,\n",
       "        0.95293162,  0.95388094,  0.95483071,  0.95578498,  0.95659952,\n",
       "        0.95742322,  0.95828073,  0.95915908,  0.96006715,  0.96098363,\n",
       "        0.9619003 ,  0.96281588,  0.96372969,  0.96464168,  0.96555188,\n",
       "        0.96646024,  0.96736692,  0.9682715 ,  0.96916455,  0.9699955 ,\n",
       "        0.97082122,  0.97170618,  0.97258892,  0.9734837 ,  0.97437646,\n",
       "        0.97527168,  0.97616641,  0.97706261,  0.97795471,  0.97886167,\n",
       "        0.97974498,  0.98067719,  0.98155305,  0.98241781,  0.98320917,\n",
       "        0.98402528,  0.9848027 ,  0.98558984,  0.98635696,  0.98711928,\n",
       "        0.98785937,  0.98857896,  0.98926549,  0.98991459,  0.99051455,\n",
       "        0.99106108,  0.99154264,  0.99196176,  0.99230828,  0.99259623,\n",
       "        0.99281775,  0.99299733,  0.99312769,  0.99323719,  0.99331622,\n",
       "        0.99339013,  0.99344668,  0.99350538,  0.99355374,  0.99360575,\n",
       "        0.99365106,  0.99369921,  0.99374282,  0.99378808,  0.99383028,\n",
       "        0.99387315,  0.99391398,  0.99395485,  0.99399434,  0.99403351,\n",
       "        0.99407168,  0.99410938,  0.9941463 ,  0.99418269,  0.99421843,\n",
       "        0.99425364,  0.99428828,  0.99432241,  0.99435601,  0.99438914,\n",
       "        0.99442178,  0.99445396,  0.9944857 ,  0.99451701,  0.9945479 ,\n",
       "        0.99457839,  0.99460848,  0.99463819,  0.99466753,  0.9946965 ,\n",
       "        0.99472513,  0.99475341,  0.99478135,  0.99480897,  0.99483627,\n",
       "        0.99486327,  0.99488995,  0.99491635,  0.99494245,  0.99496827,\n",
       "        0.99499381,  0.99501908,  0.99504409,  0.99506884,  0.99509333,\n",
       "        0.99511758,  0.99514158,  0.99516534,  0.99518887,  0.99521216,\n",
       "        0.99523524,  0.99525809,  0.99528072,  0.99530314,  0.99532535,\n",
       "        0.99534735,  0.99536915,  0.99539075,  0.99541216,  0.99543337,\n",
       "        0.99545439,  0.99547523,  0.99549588,  0.99551636,  0.99553666,\n",
       "        0.99555678,  0.99557673,  0.99559651,  0.99561612,  0.99563557,\n",
       "        0.99565486,  0.99567399,  0.99569296,  0.99571178,  0.99573045,\n",
       "        0.99574896,  0.99576732,  0.99578554,  0.99580362,  0.99582155,\n",
       "        0.99583934,  0.995857  ,  0.99587451,  0.9958919 ,  0.99590915,\n",
       "        0.99592626,  0.99594325,  0.99596011,  0.99597684,  0.99599345,\n",
       "        0.99600994,  0.9960263 ,  0.99604254,  0.99605867,  0.99607468,\n",
       "        0.99609057,  0.99610634,  0.99612201,  0.99613756,  0.996153  ,\n",
       "        0.99616833,  0.99618355,  0.99619867,  0.99621368,  0.99622859,\n",
       "        0.99624339,  0.9962581 ,  0.9962727 ,  0.9962872 ,  0.9963016 ])"
      ]
     },
     "execution_count": 645,
     "metadata": {},
     "output_type": "execute_result"
    }
   ],
   "source": [
    "m_inter"
   ]
  },
  {
   "cell_type": "code",
   "execution_count": 646,
   "metadata": {},
   "outputs": [],
   "source": [
    "m_rot=np.array([-1 if(h_inter[i]<-20) else 1 for i in range(len(h_inter))])"
   ]
  },
  {
   "cell_type": "code",
   "execution_count": 647,
   "metadata": {},
   "outputs": [
    {
     "data": {
      "text/plain": [
       "array([-1, -1, -1, -1, -1, -1, -1, -1, -1, -1, -1, -1, -1, -1, -1, -1, -1,\n",
       "       -1, -1, -1, -1, -1, -1, -1, -1, -1, -1, -1, -1, -1, -1, -1, -1, -1,\n",
       "       -1, -1, -1, -1, -1, -1, -1, -1, -1, -1, -1, -1, -1, -1, -1, -1, -1,\n",
       "       -1, -1, -1, -1, -1, -1, -1, -1, -1, -1, -1, -1, -1, -1, -1, -1, -1,\n",
       "       -1, -1, -1, -1, -1, -1, -1, -1, -1, -1, -1, -1, -1, -1, -1, -1, -1,\n",
       "       -1, -1, -1, -1, -1, -1, -1, -1, -1, -1, -1, -1, -1, -1, -1, -1, -1,\n",
       "       -1, -1, -1, -1, -1, -1, -1, -1, -1, -1, -1, -1, -1, -1, -1, -1, -1,\n",
       "       -1, -1, -1, -1, -1, -1, -1, -1, -1, -1, -1, -1, -1, -1, -1, -1, -1,\n",
       "       -1, -1, -1, -1, -1, -1, -1, -1, -1, -1, -1, -1, -1, -1, -1, -1, -1,\n",
       "       -1, -1, -1, -1, -1, -1, -1, -1, -1, -1, -1, -1, -1, -1, -1, -1, -1,\n",
       "       -1, -1, -1, -1, -1, -1, -1, -1, -1, -1, -1, -1, -1, -1, -1, -1, -1,\n",
       "       -1, -1, -1, -1, -1, -1, -1, -1, -1, -1, -1, -1, -1, -1, -1, -1, -1,\n",
       "       -1, -1, -1, -1, -1, -1, -1, -1, -1, -1, -1, -1, -1, -1, -1, -1, -1,\n",
       "       -1, -1, -1, -1, -1, -1, -1, -1, -1, -1, -1, -1, -1, -1, -1, -1, -1,\n",
       "       -1, -1, -1, -1, -1,  1,  1,  1,  1,  1,  1,  1,  1,  1,  1,  1,  1,\n",
       "        1,  1,  1,  1,  1,  1,  1,  1,  1,  1,  1,  1,  1,  1,  1,  1,  1,\n",
       "        1,  1,  1,  1,  1,  1,  1,  1,  1,  1,  1,  1,  1,  1,  1,  1,  1,\n",
       "        1,  1,  1,  1,  1,  1,  1,  1,  1,  1,  1,  1,  1,  1,  1,  1,  1,\n",
       "        1,  1,  1,  1,  1,  1,  1,  1,  1,  1,  1,  1,  1,  1,  1,  1,  1,\n",
       "        1,  1,  1,  1,  1,  1,  1,  1,  1,  1,  1,  1,  1,  1,  1,  1,  1,\n",
       "        1,  1,  1,  1,  1,  1,  1,  1,  1,  1,  1,  1,  1,  1,  1,  1,  1,\n",
       "        1,  1,  1,  1,  1,  1,  1,  1,  1,  1,  1,  1,  1,  1,  1,  1,  1,\n",
       "        1,  1,  1,  1,  1,  1,  1,  1,  1,  1,  1,  1,  1,  1,  1,  1,  1,\n",
       "        1,  1,  1,  1,  1,  1,  1,  1,  1,  1,  1,  1,  1,  1,  1,  1,  1,\n",
       "        1,  1,  1,  1,  1,  1,  1,  1,  1,  1,  1,  1,  1,  1,  1,  1,  1,\n",
       "        1,  1,  1,  1,  1,  1,  1,  1,  1,  1,  1,  1,  1,  1,  1,  1,  1,\n",
       "        1,  1,  1,  1,  1,  1,  1,  1,  1,  1,  1,  1,  1,  1,  1,  1,  1,\n",
       "        1,  1,  1,  1,  1,  1,  1,  1,  1,  1,  1,  1,  1,  1,  1,  1,  1,\n",
       "        1,  1,  1,  1,  1,  1,  1,  1,  1,  1,  1,  1,  1,  1,  1,  1,  1,\n",
       "        1,  1,  1,  1,  1,  1,  1,  1,  1,  1,  1,  1,  1,  1,  1,  1,  1,\n",
       "        1,  1,  1,  1,  1,  1,  1,  1,  1,  1,  1,  1,  1,  1,  1,  1,  1,\n",
       "        1,  1,  1,  1,  1,  1,  1,  1,  1,  1,  1,  1,  1,  1,  1,  1,  1,\n",
       "        1,  1,  1,  1,  1,  1,  1,  1,  1,  1,  1,  1,  1,  1,  1,  1,  1,\n",
       "        1,  1,  1,  1,  1,  1,  1,  1,  1,  1,  1,  1,  1,  1,  1,  1,  1,\n",
       "        1,  1,  1,  1,  1,  1,  1,  1,  1,  1,  1,  1,  1,  1,  1,  1,  1,\n",
       "        1,  1,  1,  1,  1])"
      ]
     },
     "execution_count": 647,
     "metadata": {},
     "output_type": "execute_result"
    }
   ],
   "source": [
    "m_rot"
   ]
  },
  {
   "cell_type": "code",
   "execution_count": 648,
   "metadata": {},
   "outputs": [
    {
     "data": {
      "text/plain": [
       "-5.01"
      ]
     },
     "execution_count": 648,
     "metadata": {},
     "output_type": "execute_result"
    }
   ],
   "source": [
    "h"
   ]
  },
  {
   "cell_type": "code",
   "execution_count": 649,
   "metadata": {},
   "outputs": [
    {
     "ename": "NameError",
     "evalue": "name 'hexp_on' is not defined",
     "output_type": "error",
     "traceback": [
      "\u001b[0;31m---------------------------------------------------------------------------\u001b[0m",
      "\u001b[0;31mNameError\u001b[0m                                 Traceback (most recent call last)",
      "\u001b[0;32m<ipython-input-649-19ea7171fef3>\u001b[0m in \u001b[0;36m<module>\u001b[0;34m()\u001b[0m\n\u001b[1;32m     11\u001b[0m \u001b[0mplt\u001b[0m\u001b[0;34m.\u001b[0m\u001b[0mscatter\u001b[0m\u001b[0;34m(\u001b[0m\u001b[0;34m-\u001b[0m\u001b[0mnp\u001b[0m\u001b[0;34m.\u001b[0m\u001b[0marray\u001b[0m\u001b[0;34m(\u001b[0m\u001b[0mh_inter\u001b[0m\u001b[0;34m)\u001b[0m\u001b[0;34m,\u001b[0m\u001b[0;34m-\u001b[0m\u001b[0mnp\u001b[0m\u001b[0;34m.\u001b[0m\u001b[0marray\u001b[0m\u001b[0;34m(\u001b[0m\u001b[0mm_inter\u001b[0m\u001b[0;34m)\u001b[0m\u001b[0;34m/\u001b[0m\u001b[0mnorm\u001b[0m\u001b[0;34m,\u001b[0m\u001b[0mcolor\u001b[0m\u001b[0;34m=\u001b[0m\u001b[0;34m'b'\u001b[0m\u001b[0;34m)\u001b[0m\u001b[0;34m\u001b[0m\u001b[0;34m\u001b[0m\u001b[0m\n\u001b[1;32m     12\u001b[0m \u001b[0;34m\u001b[0m\u001b[0m\n\u001b[0;32m---> 13\u001b[0;31m \u001b[0mplt\u001b[0m\u001b[0;34m.\u001b[0m\u001b[0mscatter\u001b[0m\u001b[0;34m(\u001b[0m\u001b[0mhexp_on\u001b[0m\u001b[0;34m,\u001b[0m\u001b[0mnp\u001b[0m\u001b[0;34m.\u001b[0m\u001b[0marray\u001b[0m\u001b[0;34m(\u001b[0m\u001b[0mmexp_on\u001b[0m\u001b[0;34m)\u001b[0m\u001b[0;34m/\u001b[0m\u001b[0;36m0.99\u001b[0m\u001b[0;34m)\u001b[0m\u001b[0;34m\u001b[0m\u001b[0;34m\u001b[0m\u001b[0m\n\u001b[0m\u001b[1;32m     14\u001b[0m \u001b[0;34m\u001b[0m\u001b[0m\n\u001b[1;32m     15\u001b[0m \u001b[0;31m#plt.xlim(-1600*3*3,1600*3*3)\u001b[0m\u001b[0;34m\u001b[0m\u001b[0;34m\u001b[0m\u001b[0;34m\u001b[0m\u001b[0m\n",
      "\u001b[0;31mNameError\u001b[0m: name 'hexp_on' is not defined"
     ]
    },
    {
     "data": {
      "image/png": "[encoded data removed]",
      "text/plain": [
       "<Figure size 432x432 with 1 Axes>"
      ]
     },
     "metadata": {
      "needs_background": "light"
     },
     "output_type": "display_data"
    }
   ],
   "source": [
    "import matplotlib.pyplot as plt\n",
    "\n",
    "norm=1.00\n",
    "\n",
    "plt.figure(figsize=(6,6))\n",
    "\n",
    "plt.title(\"Interacting Single Domains\",size=40)\n",
    "\n",
    "#plt.scatter(np.array(h_inter)[:int(len(h_inter)*2/2.)],np.array(m_inter)[:int(len(h_inter)*2/2.)]/norm,color='r')\n",
    "plt.scatter(np.array(h_inter),(4/4*np.array(m_inter)+0/4*m_rot)/1./norm,color='r')\n",
    "plt.scatter(-np.array(h_inter),-np.array(m_inter)/norm,color='b')\n",
    "\n",
    "plt.scatter(hexp_on,np.array(mexp_on)/0.99)\n",
    "\n",
    "#plt.xlim(-1600*3*3,1600*3*3)\n",
    "plt.xlim(-abs(hini/2.),abs(hini/2.))\n",
    "plt.ylim(-1,1)\n",
    "#plt.savefig('firstsimul_20x20_interdipol_3D.jpeg')\n",
    "#plt.savefig('firstsimul_20x20_nointer_3D.jpeg')\n",
    "##plt.savefig('firstsimul_10x10_nointer.jpeg')\n",
    "#plt.savefig('firstsimul_12x12_nointer_3D.jpeg')\n",
    "#plt.savefig('firstsimul_12x12_interdipol_3D.jpeg')\n",
    "\n",
    "\n",
    "\n"
   ]
  },
  {
   "cell_type": "code",
   "execution_count": 2409,
   "metadata": {},
   "outputs": [
    {
     "data": {
      "text/plain": [
       "1.305500914845487"
      ]
     },
     "execution_count": 2409,
     "metadata": {},
     "output_type": "execute_result"
    }
   ],
   "source": [
    "hphi/pi"
   ]
  },
  {
   "cell_type": "code",
   "execution_count": 2410,
   "metadata": {},
   "outputs": [
    {
     "name": "stdout",
     "output_type": "stream",
     "text": [
      "9999.80078\t1\n",
      "\n"
     ]
    }
   ],
   "source": [
    "# experimental data\n",
    "#path='/home/vagner/Desktop/galfenol/gal90deg.txt'\n",
    "#path='/home/vagner/Desktop/galfenol/gal50deg.txt'\n",
    "path = '/home/vagner/Desktop/galfenol/gal0deg.txt'\n",
    "\n",
    "hexp10ktube = open(path,'r')\n",
    "hexp=hexp10ktube.readlines()\n",
    "\n",
    "print(hexp[0])\n",
    "#print(a1[0][1])\n",
    "\n",
    "hexp_on=[]\n",
    "mexp_on=[]\n",
    "hexp10ktube.close()\n",
    "for i in range(len(hexp)):\n",
    "    listexp=hexp[i].split('\\t')\n",
    "    hexp_on.append(float(listexp[0]))\n",
    "    mexp_on.append(float(listexp[1].split('\\n')[0]))"
   ]
  },
  {
   "cell_type": "code",
   "execution_count": 1515,
   "metadata": {},
   "outputs": [
    {
     "data": {
      "text/plain": [
       "0.93199"
      ]
     },
     "execution_count": 1515,
     "metadata": {},
     "output_type": "execute_result"
    }
   ],
   "source": [
    "hexp_on[int(len(hexp_on)/4+4)]"
   ]
  },
  {
   "cell_type": "code",
   "execution_count": 1516,
   "metadata": {},
   "outputs": [
    {
     "data": {
      "text/plain": [
       "0.77165"
      ]
     },
     "execution_count": 1516,
     "metadata": {},
     "output_type": "execute_result"
    }
   ],
   "source": [
    "mexp_on[int(len(hexp_on)/4+4)]"
   ]
  },
  {
   "cell_type": "code",
   "execution_count": 1517,
   "metadata": {},
   "outputs": [],
   "source": [
    "mexp_on=np.array(mexp_on)\n",
    "hant=0\n",
    "for i in range(len(hexp_on)):\n",
    "    if(hexp_on[i]>-100 and hant<-100):\n",
    "        h11_index=i\n",
    "    if(hexp_on[i]>-200 and hant<-200):\n",
    "        h22_index=i\n",
    "    hant=hexp_on[i]\n"
   ]
  },
  {
   "cell_type": "code",
   "execution_count": 1518,
   "metadata": {},
   "outputs": [
    {
     "data": {
      "text/plain": [
       "1570"
      ]
     },
     "execution_count": 1518,
     "metadata": {},
     "output_type": "execute_result"
    }
   ],
   "source": [
    "h11_index\n",
    "h22_index"
   ]
  },
  {
   "cell_type": "code",
   "execution_count": 2873,
   "metadata": {},
   "outputs": [
    {
     "data": {
      "text/plain": [
       "-100.1131"
      ]
     },
     "execution_count": 2873,
     "metadata": {},
     "output_type": "execute_result"
    }
   ],
   "source": [
    "hexp_on[h22_index]-hexp_on[h11_index]"
   ]
  },
  {
   "cell_type": "code",
   "execution_count": 2874,
   "metadata": {},
   "outputs": [
    {
     "data": {
      "text/plain": [
       "-0.89326"
      ]
     },
     "execution_count": 2874,
     "metadata": {},
     "output_type": "execute_result"
    }
   ],
   "source": [
    "mexp_on[h22_index]"
   ]
  },
  {
   "cell_type": "code",
   "execution_count": 2875,
   "metadata": {},
   "outputs": [
    {
     "data": {
      "text/plain": [
       "-0.09305000000000008"
      ]
     },
     "execution_count": 2875,
     "metadata": {},
     "output_type": "execute_result"
    }
   ],
   "source": [
    "mexp_on[h22_index]-mexp_on[h11_index]"
   ]
  },
  {
   "cell_type": "code",
   "execution_count": 2876,
   "metadata": {},
   "outputs": [
    {
     "data": {
      "text/plain": [
       "array([9.29422245, 9.27334661, 9.26227491, ..., 9.26513541, 9.28456489,\n",
       "       9.29425285])"
      ]
     },
     "execution_count": 2876,
     "metadata": {},
     "output_type": "execute_result"
    }
   ],
   "source": [
    "(mexp_on[h22_index]-mexp_on[h11_index])/(hexp_on[h22_index]-hexp_on[h11_index])*np.array(hexp_on)"
   ]
  },
  {
   "cell_type": "code",
   "execution_count": 2877,
   "metadata": {},
   "outputs": [],
   "source": [
    "mexp_on=mexp_on-(mexp_on[h22_index]-mexp_on[h11_index])/(hexp_on[h22_index]-hexp_on[h11_index])*np.array(hexp_on)"
   ]
  },
  {
   "cell_type": "code",
   "execution_count": 2878,
   "metadata": {},
   "outputs": [],
   "source": [
    "norm=abs(mexp_on[h11_index])"
   ]
  },
  {
   "cell_type": "code",
   "execution_count": 2879,
   "metadata": {},
   "outputs": [],
   "source": [
    "mexp_on=mexp_on/norm"
   ]
  },
  {
   "cell_type": "code",
   "execution_count": 4680,
   "metadata": {},
   "outputs": [],
   "source": [
    "# experimental data\n",
    "path1='/home/vagner/Desktop/galfenol/gal90deg.txt'\n",
    "path2='/home/vagner/Desktop/galfenol/gal50deg.txt'\n",
    "path3 = '/home/vagner/Desktop/galfenol/gal0deg.txt'\n",
    "\n",
    "hexp10ktube = open(path1,'r')\n",
    "hexp=hexp10ktube.readlines()\n",
    "\n",
    "\n",
    "hexp_on1=[]\n",
    "mexp_on1=[]\n",
    "hexp10ktube.close()\n",
    "for i in range(len(hexp)):\n",
    "    listexp=hexp[i].split('\\t')\n",
    "    hexp_on1.append(float(listexp[0]))\n",
    "    mexp_on1.append(float(listexp[1].split('\\n')[0]))\n",
    "\n",
    "hexp10ktube = open(path2,'r')\n",
    "hexp=hexp10ktube.readlines()\n",
    "\n",
    "\n",
    "hexp_on2=[]\n",
    "mexp_on2=[]\n",
    "hexp10ktube.close()\n",
    "for i in range(len(hexp)):\n",
    "    listexp=hexp[i].split('\\t')\n",
    "    hexp_on2.append(float(listexp[0]))\n",
    "    mexp_on2.append(float(listexp[1].split('\\n')[0]))\n",
    "        \n",
    "    \n",
    "hexp10ktube = open(path3,'r')\n",
    "hexp=hexp10ktube.readlines()\n",
    "\n",
    "\n",
    "hexp_on3=[]\n",
    "mexp_on3=[]\n",
    "hexp10ktube.close()\n",
    "for i in range(len(hexp)):\n",
    "    listexp=hexp[i].split('\\t')\n",
    "    hexp_on3.append(float(listexp[0]))\n",
    "    mexp_on3.append(float(listexp[1].split('\\n')[0]))\n",
    "        "
   ]
  },
  {
   "cell_type": "code",
   "execution_count": 4689,
   "metadata": {},
   "outputs": [],
   "source": [
    "mexp_on1=np.array(mexp_on1)\n",
    "hant=0\n",
    "for i in range(len(hexp_on1)):\n",
    "    if(hexp_on1[i]>-100 and hant<-100):\n",
    "        h11_index=i\n",
    "    if(hexp_on1[i]>-200 and hant<-200):\n",
    "        h22_index=i\n",
    "    hant=hexp_on1[i]\n",
    "\n",
    "mexp_on1=mexp_on1-(mexp_on1[h22_index]-mexp_on1[h11_index])/(hexp_on1[h22_index]-hexp_on1[h11_index])*np.array(hexp_on1)    \n",
    "norm=abs(mexp_on1[h11_index])\n",
    "mexp_on1=mexp_on1/norm\n"
   ]
  },
  {
   "cell_type": "code",
   "execution_count": 4682,
   "metadata": {},
   "outputs": [],
   "source": [
    "mexp_on2=np.array(mexp_on2)\n",
    "hant=0\n",
    "for i in range(len(hexp_on2)):\n",
    "    if(hexp_on2[i]>-100 and hant<-100):\n",
    "        h11_index=i\n",
    "    if(hexp_on2[i]>-200 and hant<-200):\n",
    "        h22_index=i\n",
    "    hant=hexp_on2[i]\n",
    "\n",
    "mexp_on2=mexp_on2-(mexp_on2[h22_index]-mexp_on2[h11_index])/(hexp_on2[h22_index]-hexp_on2[h11_index])*np.array(hexp_on2)    \n",
    "norm=abs(mexp_on2[h11_index])\n",
    "mexp_on2=mexp_on2/norm\n"
   ]
  },
  {
   "cell_type": "code",
   "execution_count": 4683,
   "metadata": {},
   "outputs": [],
   "source": [
    "mexp_on3=np.array(mexp_on3)\n",
    "hant=0\n",
    "for i in range(len(hexp_on3)):\n",
    "    if(hexp_on3[i]>-100 and hant<-100):\n",
    "        h11_index=i\n",
    "    if(hexp_on3[i]>-200 and hant<-200):\n",
    "        h22_index=i\n",
    "    hant=hexp_on3[i]\n",
    "\n",
    "mexp_on3=mexp_on3-(mexp_on3[h22_index]-mexp_on3[h11_index])/(hexp_on3[h22_index]-hexp_on3[h11_index])*np.array(hexp_on3)    \n",
    "norm=abs(mexp_on3[h11_index])\n",
    "mexp_on3=mexp_on3/norm\n"
   ]
  },
  {
   "cell_type": "code",
   "execution_count": 4690,
   "metadata": {},
   "outputs": [
    {
     "data": {
      "image/png": "[encoded data removed]",
      "text/plain": [
       "<Figure size 504x504 with 1 Axes>"
      ]
     },
     "metadata": {
      "needs_background": "light"
     },
     "output_type": "display_data"
    }
   ],
   "source": [
    "import matplotlib.pyplot as plt\n",
    "\n",
    "norm=1.00\n",
    "\n",
    "plt.figure(figsize=(7,7))\n",
    "\n",
    "plt.title(\"Interacting Single Domains\",size=40)\n",
    "\n",
    "l1=plt.scatter(hexp_on1,np.array(mexp_on1),color='black',label='90 deg')\n",
    "l2=plt.scatter(hexp_on2,np.array(mexp_on2),color='blue',label='50 deg')\n",
    "l3=plt.scatter(hexp_on3,np.array(mexp_on3),color='green',label='0 deg')\n",
    "\n",
    "plt.legend((l1,l2,l3),('90 deg','50 deg','0 deg'),fontsize=20)\n",
    "\n",
    "#plt.xlim(-1600*3*3,1600*3*3)\n",
    "plt.xlim(-abs(hini/1.),abs(hini/1.))\n",
    "plt.ylim(-1,1)\n",
    "#plt.savefig('firstsimul_20x20_interdipol_3D.jpeg')\n",
    "#plt.savefig('firstsimul_20x20_nointer_3D.jpeg')\n",
    "##plt.savefig('firstsimul_10x10_nointer.jpeg')\n",
    "#plt.savefig('firstsimul_12x12_nointer_3D.jpeg')\n",
    "#plt.savefig('firstsimul_12x12_interdipol_3D.jpeg')\n",
    "\n",
    "plt.show()\n",
    "\n",
    "\n"
   ]
  },
  {
   "cell_type": "code",
   "execution_count": null,
   "metadata": {},
   "outputs": [],
   "source": []
  },
  {
   "cell_type": "code",
   "execution_count": null,
   "metadata": {},
   "outputs": [],
   "source": [
    "path = '/home/vagner/Desktop/RolledupNanomembranes/python3/data_tube_10K_perptubeaxis_h.dat'\n",
    "#path = '/home/vagner/Desktop/RolledupNanomembranes/python3/data_tube_10K_alongtubeaxis_h.dat'\n",
    "\n",
    "hexp10ktube = open(path,'r')\n",
    "hexp=hexp10ktube.readlines()\n",
    "\n",
    "print(hexp[0])\n",
    "#print(a1[0][1])\n",
    "\n",
    "hexp10ktube.close()\n",
    "\n",
    "#hexp = [float(i) for i in hexp]\n",
    "\n",
    "\n",
    "path = '/home/vagner/Desktop/RolledupNanomembranes/python3/data_tube_10K_perptubeaxis_m.dat'\n",
    "#path = '/home/vagner/Desktop/RolledupNanomembranes/python3/data_tube_10K_alongtubeaxis_m.dat'\n",
    "mexp10ktube = open(path,'r')\n",
    "mexp=mexp10ktube.readlines()\n",
    "\n",
    "print(mexp[0])\n",
    "#print(a1[0][1])\n",
    "\n",
    "mexp10ktube.close()\n",
    "\n",
    "#mexp = [float(i)*1.00 for i in mexp]\n",
    "hexp_on=[]\n",
    "mexp_on=[]\n",
    "hexp10ktube.close()\n",
    "for i in range(1,len(hexp)):\n",
    "#    listexp=hexp[i].split('\\t')\n",
    "#    hexp_on.append(float(listexp[0]))\n",
    "#    mexp_on.append(float(listexp[1].split('\\n')[0]))\n",
    "#    print(hexp[i],'e',i)\n",
    "    hexp_on.append(float(hexp[i]))\n",
    "    mexp_on.append(float(mexp[i]))    "
   ]
  },
  {
   "cell_type": "code",
   "execution_count": null,
   "metadata": {},
   "outputs": [],
   "source": [
    "mexp_on"
   ]
  },
  {
   "cell_type": "code",
   "execution_count": null,
   "metadata": {},
   "outputs": [],
   "source": [
    "stepmag"
   ]
  },
  {
   "cell_type": "code",
   "execution_count": null,
   "metadata": {},
   "outputs": [],
   "source": [
    "coefmag"
   ]
  },
  {
   "cell_type": "code",
   "execution_count": null,
   "metadata": {},
   "outputs": [],
   "source": []
  },
  {
   "cell_type": "code",
   "execution_count": null,
   "metadata": {},
   "outputs": [],
   "source": []
  },
  {
   "cell_type": "code",
   "execution_count": null,
   "metadata": {},
   "outputs": [],
   "source": []
  },
  {
   "cell_type": "code",
   "execution_count": null,
   "metadata": {},
   "outputs": [],
   "source": []
  },
  {
   "cell_type": "code",
   "execution_count": null,
   "metadata": {},
   "outputs": [],
   "source": []
  },
  {
   "cell_type": "code",
   "execution_count": null,
   "metadata": {},
   "outputs": [],
   "source": []
  },
  {
   "cell_type": "code",
   "execution_count": null,
   "metadata": {},
   "outputs": [],
   "source": []
  },
  {
   "cell_type": "code",
   "execution_count": null,
   "metadata": {},
   "outputs": [],
   "source": []
  },
  {
   "cell_type": "code",
   "execution_count": null,
   "metadata": {},
   "outputs": [],
   "source": []
  },
  {
   "cell_type": "code",
   "execution_count": null,
   "metadata": {},
   "outputs": [],
   "source": []
  },
  {
   "cell_type": "code",
   "execution_count": null,
   "metadata": {},
   "outputs": [],
   "source": []
  }
 ],
 "metadata": {
  "kernelspec": {
   "display_name": "Python 3",
   "language": "python",
   "name": "python3"
  },
  "language_info": {
   "codemirror_mode": {
    "name": "ipython",
    "version": 3
   },
   "file_extension": ".py",
   "mimetype": "text/x-python",
   "name": "python",
   "nbconvert_exporter": "python",
   "pygments_lexer": "ipython3",
   "version": "3.6.9"
  }
 },
 "nbformat": 4,
 "nbformat_minor": 2
}
