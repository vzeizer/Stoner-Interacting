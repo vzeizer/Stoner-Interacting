{
 "cells": [
  {
   "cell_type": "markdown",
   "metadata": {},
   "source": [
    "   # Extending Single Domain Approach: the effect of interactions\n",
    "\n",
    "## Here it will be implemented 'my approach' to include interactions in the free energy density within the Stoner-Wohlfarth (single-domain) framework. It will be addressed magnetic interactions, such as dipole-dipole, exchange and dzyaloshinskii-moriya to calculate magnetization curves. Basically, for a given particle 'j' of the array in the step 'k' of the hysteresis procedure, the magnetization value ( described by $(\\theta_j,\\phi_j)$) of its neighbors will be approximated by its value in the step 'k-1'th (previous computation of the magnetic moments orientation). In this way, starting from technical saturation at high fields, the magnetization angles of the whole array can be calculated through common energy minimization procedures. The approach succeeds when the field-step is small enough to assure convergence of the calculations."
   ]
  },
  {
   "cell_type": "code",
   "execution_count": null,
   "metadata": {},
   "outputs": [],
   "source": []
  },
  {
   "cell_type": "code",
   "execution_count": null,
   "metadata": {},
   "outputs": [],
   "source": []
  },
  {
   "cell_type": "code",
   "execution_count": 1,
   "metadata": {},
   "outputs": [],
   "source": [
    "# the necessary import statements!\n",
    "\n",
    "# to paralelize and accelerate the calculations\n",
    "import numba as nb\n",
    "from numba import jit\n",
    "from numba import njit\n",
    "\n",
    "\n",
    "import joblib\n",
    "from joblib import Parallel, delayed\n",
    "import multiprocessing\n",
    "\n",
    "\n",
    "# numpy for fast calculations using arrays\n",
    "import numpy as np\n",
    "\n",
    "# scipy for minimization\n",
    "import scipy\n",
    "from scipy import optimize\n",
    "from scipy.optimize import minimize as spmin\n",
    "from scipy.optimize import Bounds\n",
    "\n",
    "# some trigonometric functions\n",
    "from math import pi, sin, cos, sqrt\n",
    "import math\n",
    "\n",
    "# to plot graphics\n",
    "import matplotlib.pyplot as plt\n",
    "%matplotlib inline\n",
    "\n",
    "# the time of some calculations\n",
    "import timeit\n",
    "\n",
    "import dlib\n",
    "\n",
    "import random\n",
    "\n",
    "from tqdm import tnrange, tqdm_notebook"
   ]
  },
  {
   "cell_type": "code",
   "execution_count": 3,
   "metadata": {},
   "outputs": [],
   "source": [
    "#from numba import numba_scipy"
   ]
  },
  {
   "cell_type": "code",
   "execution_count": 1063,
   "metadata": {},
   "outputs": [],
   "source": [
    "# parameters of the simulation\n",
    "\n",
    "Msat=float(1000/(4*pi))\n",
    "Ms=float(1/Msat)\n",
    "\n",
    "#K1=float(((1*1.00)*10**4))\n",
    "K1=float(((-0*6.00)*10**4))\n",
    "K2=float((-0*0.05*10**5))\n",
    "Kuni=float((0*0.6*10**4))\n",
    "Kuni2=float((0*0.5*10**4))\n",
    "K1mel=float((0*0.5*10**4))\n",
    "K1out=float((0*2.0*10**4))\n",
    "Knucl=float((0*1.0*10**4))\n",
    "\n",
    "# EB parameters!\n",
    "Kf1=float(((1*3.000)*10**2))\n",
    "Kf1_bi=float(((0*2.000)*10**2))\n",
    "tf=10.*10**-9\n",
    "Jeff_EB=float(((1*0.0030/tf)*10**-3))/(Msat**2)\n",
    "#Jeff_EB=float(((0*0.000010/tf)*10**-3))/(Msat**2)\n",
    "Jeff_C =float(((1*0.0030/tf)*10**-3))/(Msat**2)\n",
    "Jeff_C_quad=float(((0*0.0030/tf)*10**-3))/(Msat**2)\n",
    "\n",
    "gamma_f = 0*3.1415/4.+1*pi/180.\n",
    "phi_eb = 1*3.1415/180.\n",
    "theta_eb = 3.1415/2.+1*pi/180.\n",
    "thetarma = 3.1415/2.+1*pi/180.\n",
    "tau_avg = 4000*10**-6\n",
    "tempo = 1000*tau_avg\n",
    "\n",
    "Neff=float(1.00*1.000)\n",
    "#field-dependent anisotropy\n",
    "Kfd=float(-0*0.30*10**0)\n",
    "#Krot=float((1*2.50*10**4))\n",
    "Krot=float((-0*1.65*10**4))\n",
    "Krot2=float((-0*1.80*10**3))\n",
    "htheta=float(+2*pi/4.+1.00*pi/180.)\n",
    "hphi=float(0*pi/4+5.00*pi/180.)\n",
    "\n",
    "# Nanoparticle arrangement order\n",
    "# 1-> square\n",
    "# 2-> ring\n",
    "# 3-> nanomembrane\n",
    "np_order = 1\n",
    "\n",
    "\n",
    "Nparticles=10\n",
    "\n",
    "height=1\n",
    "\n",
    "NN=Nparticles**3\n",
    "NN2=Nparticles**2\n",
    "\n",
    "NN2=2\n",
    "\n",
    "# interaction strengths!\n",
    "\n",
    "m = -0*0.008\n",
    "\n",
    "beta = 0*0.002\n",
    "\n",
    "jota = -0*0.004\n",
    "\n",
    "jotabi = -0*0.04\n",
    "\n"
   ]
  },
  {
   "cell_type": "code",
   "execution_count": 1064,
   "metadata": {},
   "outputs": [
    {
     "data": {
      "text/plain": [
       "(3.996, 4.0)"
      ]
     },
     "execution_count": 1064,
     "metadata": {},
     "output_type": "execute_result"
    }
   ],
   "source": [
    "tempo-tau_avg,tempo"
   ]
  },
  {
   "cell_type": "code",
   "execution_count": 1065,
   "metadata": {},
   "outputs": [
    {
     "data": {
      "text/plain": [
       "(0.04737410112522892, 0.04737410112522892, 0.04737410112522892, 0.0)"
      ]
     },
     "execution_count": 1065,
     "metadata": {},
     "output_type": "execute_result"
    }
   ],
   "source": [
    "Jeff_C,Jeff_EB,Kf1/Msat**2,Jeff_C_quad"
   ]
  },
  {
   "cell_type": "code",
   "execution_count": 1066,
   "metadata": {},
   "outputs": [
    {
     "data": {
      "text/plain": [
       "1.0"
      ]
     },
     "execution_count": 1066,
     "metadata": {},
     "output_type": "execute_result"
    }
   ],
   "source": [
    "Jeff_EB/(Kf1/Msat**2)"
   ]
  },
  {
   "cell_type": "code",
   "execution_count": 1067,
   "metadata": {},
   "outputs": [
    {
     "data": {
      "text/plain": [
       "1.0"
      ]
     },
     "execution_count": 1067,
     "metadata": {},
     "output_type": "execute_result"
    }
   ],
   "source": [
    "Jeff_C/(Kf1/Msat**2)"
   ]
  },
  {
   "cell_type": "code",
   "execution_count": 1068,
   "metadata": {},
   "outputs": [
    {
     "data": {
      "text/plain": [
       "0.0"
      ]
     },
     "execution_count": 1068,
     "metadata": {},
     "output_type": "execute_result"
    }
   ],
   "source": [
    "Jeff_C_quad/(Kf1/Msat**2)"
   ]
  },
  {
   "cell_type": "code",
   "execution_count": 1069,
   "metadata": {},
   "outputs": [
    {
     "data": {
      "text/plain": [
       "0.0"
      ]
     },
     "execution_count": 1069,
     "metadata": {},
     "output_type": "execute_result"
    }
   ],
   "source": [
    "beta/(Kf1/Msat**2)"
   ]
  },
  {
   "cell_type": "code",
   "execution_count": 1070,
   "metadata": {},
   "outputs": [
    {
     "data": {
      "text/plain": [
       "(1.2309594173407747, 0.9461686134701807)"
      ]
     },
     "execution_count": 1070,
     "metadata": {},
     "output_type": "execute_result"
    }
   ],
   "source": [
    "np.arccos(1/3.),np.arccos(1/1.71)"
   ]
  },
  {
   "cell_type": "code",
   "execution_count": null,
   "metadata": {},
   "outputs": [],
   "source": []
  },
  {
   "cell_type": "code",
   "execution_count": 1071,
   "metadata": {},
   "outputs": [
    {
     "data": {
      "text/plain": [
       "1.5882496193148399"
      ]
     },
     "execution_count": 1071,
     "metadata": {},
     "output_type": "execute_result"
    }
   ],
   "source": [
    "htheta"
   ]
  },
  {
   "cell_type": "code",
   "execution_count": 1072,
   "metadata": {},
   "outputs": [
    {
     "name": "stdout",
     "output_type": "stream",
     "text": [
      "0.0 0.0 0.0 0.0 0.0\n"
     ]
    }
   ],
   "source": [
    "print(beta,Krot/Msat**2,m,K1/Msat**2,Kuni)"
   ]
  },
  {
   "cell_type": "code",
   "execution_count": 1219,
   "metadata": {},
   "outputs": [
    {
     "name": "stdout",
     "output_type": "stream",
     "text": [
      "0.0 0.0 0.0 79.57747154594767 4800\n"
     ]
    }
   ],
   "source": [
    "# applied field parameters\n",
    "\n",
    "hini=36.400*1\n",
    "hfinal=-36.400*1\n",
    "step=600*8\n",
    "stepmag=0.15/step\n",
    "stepmag=0.00/step\n",
    "hpasso=(hfinal-hini)/step\n",
    "print(K1,K2,Krot,Msat,step)"
   ]
  },
  {
   "cell_type": "code",
   "execution_count": 1220,
   "metadata": {},
   "outputs": [
    {
     "data": {
      "text/plain": [
       "(0.017453292519943295, 1.5882032925199434)"
      ]
     },
     "execution_count": 1220,
     "metadata": {},
     "output_type": "execute_result"
    }
   ],
   "source": [
    "gamma_f,thetarma"
   ]
  },
  {
   "cell_type": "code",
   "execution_count": 1221,
   "metadata": {},
   "outputs": [],
   "source": [
    "# array for angle dispersion in 'phi' and 'theta'\n",
    "\n",
    "phi_np = np.array([0*random.random() for x in range(NN2)],dtype=np.float64)\n",
    "theta_np = np.array([0*random.random() for x in range(NN2)],dtype=np.float64)\n",
    "#print(phi_np)"
   ]
  },
  {
   "cell_type": "code",
   "execution_count": 1222,
   "metadata": {},
   "outputs": [],
   "source": [
    "# the function that defines the common magnetic anisotropy terms\n",
    "#@jit(nopython=True)\n",
    "@jit(nopython=True,parallel=True)\n",
    "#def anisotropy(phi,theta,K1,K2,h,htheta,hphi,Msat,i):\n",
    "def anisotropy(phi,theta,K1,K2,h,htheta,hphi,Msat,i,phiantarray,thetaantarray):\n",
    "\n",
    "    phiant=phiantarray[i]\n",
    "    thetaant=thetaantarray[i]\n",
    "\n",
    "#    anis+=Kuni/(Msat**2)*np.sin(phi-3.1415/4.)**2*np.sin(theta-3.1415/4.)**2\n",
    "#    anis=Kuni/(Msat**2)*np.sin(phi-3.1415/4.)**2*np.sin(theta-0.94)**2\n",
    "\n",
    "    anis=Kuni/(Msat**2)*np.cos(phi-3.1415/4.)**2*np.sin(phi-3.1415/4.)**2*np.sin(theta)**2\n",
    "#    anis=Kuni/(Msat**2)*(np.sin(phi-phi_np[i])**2*np.cos(phi-phi_np[i])**2*np.sin(theta-theta_np[i])**4+np.sin(phi-phi_np[i])**2*np.sin(theta-theta_np[i])**2*np.cos(theta-theta_np[i])**2+np.cos(phi-phi_np[i])**2*np.sin(theta-theta_np[i])**2*np.cos(theta-theta_np[i])**2)\n",
    "#    anis=Kuni/(Msat**2)*(np.sin(phi-phi_np[i])**2*np.cos(phi-phi_np[i])**2*np.sin(theta-theta_np[i])**4)\n",
    "    \n",
    "#    theta=theta+0.97\n",
    "#    phi=phi-3.1415/4.\n",
    "\n",
    "    \n",
    "# first-order cubic magnetocrystalline anisotropy\n",
    "#    anis=K1/(Msat**2)*(np.sin(phi-3.14/4.)**2*np.cos(phi-3.14/4.)**2*np.sin(theta-0.94)**4+np.sin(phi-3.14/4.)**2*np.sin(theta-0.94)**2*np.cos(theta-0.94)**2+np.cos(phi-3.14/4.)**2*np.sin(theta-0.94)**2*np.cos(theta-0.94)**2)\n",
    "#    anis=K1/(Msat**2)*(np.sin(phi-3.14/4.)**2*np.cos(phi-3.14/4.)**2*np.sin(theta)**4+np.sin(phi-3.14/4.)**2*np.sin(theta)**2*np.cos(theta)**2+np.cos(phi-3.14/4.)**2*np.sin(theta)**2*np.cos(theta)**2)\n",
    "    anis+=K1/(Msat**2)*(np.sin(phi-phi_np[i])**2*np.cos(phi-phi_np[i])**2*np.sin(theta-theta_np[i])**4+np.sin(phi-phi_np[i])**2*np.sin(theta-theta_np[i])**2*np.cos(theta-theta_np[i])**2+np.cos(phi-phi_np[i])**2*np.sin(theta-theta_np[i])**2*np.cos(theta-theta_np[i])**2)\n",
    "\n",
    "# second-order cubic magnetocrystalline anisotropy    \n",
    "    anis+=K2/(Msat**2)*np.sin(phi)**2*np.sin(theta)**2*np.cos(phi)**2*np.sin(theta)**2*np.cos(theta)**2\n",
    "\n",
    "# Eb anisotropy terms!\n",
    "\n",
    "    anis+= (Kf1/(Msat**2))*(np.sin(phi-gamma_f)**2)*(np.sin(theta)**2)\n",
    "    \n",
    "    anis+= Kf1_bi/(Msat**2)*np.sin(phi-gamma_f)**2*np.cos(phi-gamma_f)**2*np.sin(theta)**2\n",
    "    \n",
    "    anis+=-Jeff_EB*(np.sin(theta)*np.sin(theta_eb)*np.cos(phi-phi_eb)+np.cos(theta)*np.cos(theta_eb))\n",
    "\n",
    "#    thetarma = 3.1415/2.\n",
    "    thetarma = theta*tempo\n",
    "#    phi_rma=phi*(tempo-tau_avg)\n",
    "    phi_rma=phi*(tempo)\n",
    "    \n",
    "    \n",
    "#    anis += -Jeff_C*(np.sin(theta)*np.sin(thetarma)*np.cos(phi-phi_rma)+np.cos(theta)*np.cos(thetarma))\n",
    "#    anis += -Jeff_C_quad*(np.sin(theta)*np.sin(thetarma)*np.cos(phi-phi_rma)+np.cos(theta)*np.cos(thetarma))**2\n",
    "    \n",
    "#    anis += -Jeff_C*(np.cos(phi-phi_rma))\n",
    "#    anis += -Jeff_C_quad*(np.cos(phi-phi_rma))**2\n",
    "\n",
    "    anis += -Jeff_C*(np.cos(phi-phi_rma)*np.sin(theta-thetarma))\n",
    "    anis += -Jeff_C_quad*(np.cos(phi-phi_rma)*np.sin(theta-thetarma))**2\n",
    "    \n",
    "    # demagnetizing energy\n",
    "    anis+=2*3.1415*Neff/(Msat**2)*np.cos(theta)**2\n",
    "\n",
    "    anis+=Knucl/(Msat**2)*np.sin(theta-thetaant)*np.cos(phi-phiant)**1\n",
    "    \n",
    "    anis+=K1out/(Msat**2)*np.cos(theta)**2\n",
    "\n",
    "    \n",
    "    # magelas anisotropy \n",
    "    \n",
    "#    anis+=K1mel/(Msat**2)*np.cos(phi-phi_np[i])**2*np.sin(theta-theta_np[i])**2\n",
    "#    anis+=K1mel/(Msat**2)*np.cos(theta)**2\n",
    "    anis+=K1mel/(Msat**2)*np.cos(phi-phi_np[i])**2*np.sin(theta-theta_np[i])**2\n",
    "    \n",
    "    \n",
    "# uniaxial anisotropy \n",
    "    \n",
    "    \n",
    "# uniaxial anisotropy \n",
    "    \n",
    "    anis+=Kuni2/(Msat**2)*np.sin(phi-3.1415/4.)**4*np.sin(theta-0.94)**4\n",
    "\n",
    "# field dependent anis!\n",
    "\n",
    "#    anis+=Kfd/(Msat**2)*h*Msat*(np.sin(htheta)*np.sin(theta)*np.cos(phi-hphi)+np.cos(htheta)*np.cos(theta))\n",
    "    anis+=Kfd/(Msat**2)*h*Msat**2*(np.sin(theta)*np.cos(phi-3.1415/4.))**2\n",
    "    \n",
    "# rotatable anis!\n",
    "\n",
    "#    anis+=Krot/(Msat**2)*(h*Msat)**1*(np.sin(htheta)*np.sin(theta)*np.cos(phi-hphi)+np.cos(htheta)*np.cos(theta))**1\n",
    "    anis+=Krot/(Msat**2)*(np.sin(htheta)*np.sin(theta-theta_np[i])*np.cos(phi-phi_np[i]-hphi)+np.cos(htheta)*np.cos(theta-theta_np[i]))**2\n",
    "    \n",
    "\n",
    "    \"\"\"\n",
    "    if(abs(h*Msat)>100):\n",
    "    \n",
    "        anis+=0*Krot/(Msat**2)*(np.sin(htheta)*np.sin(theta)*np.cos(phi-hphi)+np.cos(htheta)*np.cos(theta))**2\n",
    "    else:\n",
    "        anis+=(100-abs(h*Msat))/100.*Krot/(Msat**2)*(np.sin(htheta)*np.sin(theta)*np.cos(phi-hphi)+np.cos(htheta)*np.cos(theta))**2\n",
    "    \"\"\"\n",
    "    \n",
    "    anis+=Krot2/(Msat**2)*(np.sin(htheta)*np.sin(theta)*np.cos(phi-hphi)+np.cos(htheta)*np.cos(theta))**4\n",
    "    \n",
    "#    print(Kf1_bi/(Msat**2),anis,gamma_f)\n",
    "    \n",
    "    return anis\n",
    "    "
   ]
  },
  {
   "cell_type": "code",
   "execution_count": 1223,
   "metadata": {},
   "outputs": [
    {
     "name": "stderr",
     "output_type": "stream",
     "text": [
      "/home/vagner/anaconda3/lib/python3.6/site-packages/numba/typed_passes.py:293: NumbaPerformanceWarning: \u001b[1m\n",
      "The keyword argument 'parallel=True' was specified but no transformation for parallel execution was possible.\n",
      "\n",
      "To find out why, try turning on parallel diagnostics, see http://numba.pydata.org/numba-doc/latest/user/parallel.html#diagnostics for help.\n",
      "\u001b[1m\n",
      "File \"<ipython-input-1222-ea666ca6a52e>\", line 4:\u001b[0m\n",
      "\u001b[1m@jit(nopython=True,parallel=True)\n",
      "\u001b[1m#def anisotropy(phi,theta,K1,K2,h,htheta,hphi,Msat,i):\n",
      "\u001b[0m\u001b[1m^\u001b[0m\u001b[0m\n",
      "\u001b[0m\n",
      "  state.func_ir.loc))\n"
     ]
    },
    {
     "data": {
      "text/plain": [
       "0.022281886944423672"
      ]
     },
     "execution_count": 1223,
     "metadata": {},
     "output_type": "execute_result"
    }
   ],
   "source": [
    "anisotropy(3.1415/4.,3.1415/2.,K1,K2,h,htheta,hphi,Msat,0,phiantarray,thetaantarray)"
   ]
  },
  {
   "cell_type": "code",
   "execution_count": 1224,
   "metadata": {},
   "outputs": [],
   "source": [
    "# Zeeman Energy\n",
    "\n",
    "#@jit(nopython=True)\n",
    "@jit(nopython=True,parallel=True)\n",
    "def zeeman_energy(phi,theta,K1,K2,h,htheta,hphi,Msat,i):\n",
    "    \n",
    "\n",
    "    zeeman=-h*(np.sin(htheta)*np.sin(theta)*np.cos(phi-hphi)+np.cos(htheta)*np.cos(theta))\n",
    "\n",
    "\n",
    "    return zeeman\n"
   ]
  },
  {
   "cell_type": "code",
   "execution_count": 1225,
   "metadata": {},
   "outputs": [],
   "source": [
    "# creating positions!\n",
    "# this is for creating positions!\n",
    "\n",
    "#@jit(nopython=True,parallel=True)\n",
    "#@jit(nopython=True)\n",
    "def create_pos(np_order,NN2):\n",
    "    \n",
    "    if(np_order==1):\n",
    "        \n",
    "        nnx=int(sqrt(NN2))\n",
    "        nny=int(sqrt(NN2))\n",
    "        \n",
    "        coord_pos = []\n",
    "#        coord_pos = np.zeros((nnx,nny,nnx))\n",
    "#        coord_pos = np.zeros(NN2)\n",
    "        \n",
    "        for i in range(nnx):\n",
    "\n",
    "            for j in range(nnx):\n",
    "                \n",
    "#                coord_pos.append([i,j,0])\n",
    "                coord_pos.append([1*i,1*j,0])\n",
    "#                coord_pos = np.append(coord_pos,[1*i,1*j,0])\n",
    "\n",
    "#                coord_pos[i][j][0] = np.array([1*i,1*j,0])\n",
    "    \n",
    "    elif(np_order==2):\n",
    "        \n",
    "        coord_pos=[]\n",
    "        \n",
    "        for i in range(NN2):\n",
    "            \n",
    "            coord_pos.append([NN2*math.cos(2*pi*i/NN2),NN2*math.sin(2*pi*i/NN2),0])\n",
    "    \n",
    "    elif(np_order==3):\n",
    "        \n",
    "        coord_pos=[]\n",
    "        \n",
    "        for j in range(height):\n",
    "        \n",
    "            for i in range(NN2):\n",
    "\n",
    "                coord_pos.append([NN2*math.cos(2*pi*i/NN2),j,NN2*math.sin(2*pi*i/NN2)])\n",
    "\n",
    "    return np.array(coord_pos,dtype=np.float64)\n"
   ]
  },
  {
   "cell_type": "code",
   "execution_count": 1226,
   "metadata": {},
   "outputs": [],
   "source": [
    "# this is to create the angles, which are used in the computation of the interactions!\n",
    "\n",
    "ar_pos=create_pos(np_order,NN2)\n",
    "\n",
    "\n",
    "#@jit(nopython=True,parallel=True)\n",
    "@jit(nopython=True)\n",
    "def angles_vecs(NN2):\n",
    "\n",
    "    print(np_order)\n",
    "#    ar_pos=create_pos(np_order,NN2)\n",
    "\n",
    "#    print(ar_pos)\n",
    "    \n",
    "    x_coord = [ar_pos[i][0] for i in range(NN2*height)]\n",
    "    y_coord = [ar_pos[i][1] for i in range(NN2*height)]\n",
    "    z_coord = [ar_pos[i][2] for i in range(NN2*height)]\n",
    "\n",
    "    x_ang = []\n",
    "    y_ang = []\n",
    "    \n",
    "    for i in range(NN2*height):\n",
    "        x_ang_menor=[]\n",
    "        y_ang_menor=[]\n",
    "        \n",
    "        for j in range(NN2*height):\n",
    "            \n",
    "            if(i!=j):\n",
    "                innerproduct = x_coord[i]*x_coord[j]+y_coord[i]*y_coord[j]\n",
    "\n",
    "                dist1 = sqrt(x_coord[i]**2+y_coord[i]**2+z_coord[i]**2)\n",
    "                dist2 = sqrt(x_coord[j]**2+y_coord[j]**2+z_coord[j]**2)\n",
    "                \n",
    "                distnewvec = sqrt((x_coord[j]-x_coord[i])**2+(y_coord[j]-y_coord[i])**2+(z_coord[j]-z_coord[i])**2)\n",
    "                distnewvecplane = sqrt((x_coord[j]-x_coord[i])**2+(y_coord[j]-y_coord[i])**2)\n",
    "                \n",
    "                if(distnewvecplane!=0.0):\n",
    "#                    angphi = math.acos((x_coord[j]-x_coord[i])/distnewvecplane)\n",
    "#                    angtheta = math.acos((z_coord[j]-z_coord[i])/distnewvec)\n",
    "                    angphi = math.acos((x_coord[i]-x_coord[j])/distnewvecplane)\n",
    "                    angtheta = math.acos((z_coord[i]-z_coord[j])/distnewvec)\n",
    "                elif(distnewvecplane == 0.0):\n",
    "                    angphi = 0.0\n",
    "                    angtheta = 3.1415/2.\n",
    "                x_ang_menor.append(angphi)\n",
    "                y_ang_menor.append(angtheta)\n",
    "                \n",
    "            elif(i==j):\n",
    "                \n",
    "                x_ang_menor.append(0.0)\n",
    "                y_ang_menor.append(0.0)\n",
    "                \n",
    "        x_ang.append(x_ang_menor)\n",
    "        y_ang.append(y_ang_menor)\n",
    "        x_ang_menor=[]\n",
    "        y_ang_menor=[]\n",
    "                \n",
    "\n",
    "                \n",
    "#    return np.array(x_ang,dtype=np.float64),np.array(y_ang,np.float64)\n",
    "#    return np.array(x_ang),np.array(y_ang)\n",
    "    return x_ang,y_ang"
   ]
  },
  {
   "cell_type": "code",
   "execution_count": 1227,
   "metadata": {},
   "outputs": [],
   "source": [
    "# Function to calculate the distance between particles 'i' and 'j'\n",
    "\n",
    "#@jit(nopython=True)\n",
    "def dist_dipolar(i,j):\n",
    "    sizex=int(sqrt(NN2))\n",
    "    sizey=int(sqrt(NN2))\n",
    "    \n",
    "    # distance of particle 'j' from particle 'i'\n",
    "#    distdip=[]\n",
    "    '''\n",
    "    for ii in range(sizex):\n",
    "        for jj in range(sizey):\n",
    "            distdip.append(sqrt((int(i/sizex)-ii)**2+(int(i%sizey)-jj)**2))\n",
    "    '''\n",
    "    \n",
    "    '''\n",
    "    distdip=sqrt((int(i/sizex)-int(j/sizex))**2+(int(i%sizey)-int(j%sizey))**2)\n",
    "    '''\n",
    "\n",
    "    if(np_order==1):\n",
    "\n",
    "        distdip=[]\n",
    "        for ii in range(NN2):\n",
    "            distdip1=[]\n",
    "            for jj in range(NN2):\n",
    "                distdip1.append(sqrt((int(ii/sizex)-int(jj/sizex))**2+(int(ii%sizey)-int(jj%sizey))**2))\n",
    "            distdip.append(distdip1)\n",
    "            \n",
    "    elif(np_order==2):\n",
    "        \n",
    "        distdip=[]\n",
    "#        distdip=np.empty(NN2)\n",
    "        for ii in range(NN2):\n",
    "            distmin=[]\n",
    "            distdip1=[]\n",
    "            for jj in range(NN2):\n",
    "                distdip1.append(sqrt((math.cos(2*pi*ii/NN2)-math.cos(2*pi*jj/NN2))**2+(math.sin(2*pi*ii/NN2)-math.sin(2*pi*jj/NN2))**2))\n",
    "            \n",
    "                if(ii!=jj):\n",
    "                    distmin.append(sqrt((math.cos(2*pi*ii/NN2)-math.cos(2*pi*jj/NN2))**2+(math.sin(2*pi*ii/NN2)-math.sin(2*pi*jj/NN2))**2))\n",
    "\n",
    "            arraydistmin=np.array(distmin)\n",
    "            \n",
    "            distdip1new=[]\n",
    "            \n",
    "            for u in range(NN2):\n",
    "                distdip1new.append(distdip1[u]/np.amin(arraydistmin))\n",
    "            \n",
    "            distdip.append(distdip1new)\n",
    "#            distdip1=np.array(distdip1)\n",
    "#            distmin=np.array(distmin)\n",
    "#            distdip[ii]=distdip1/np.amin(distmin)\n",
    "#            distdip=np.array(distdip)\n",
    "\n",
    "\n",
    "    elif(np_order==3):\n",
    "        \n",
    "        distdip=[]\n",
    "#        distdip=np.empty(NN2)\n",
    "        for ii in range(NN2*height):\n",
    "            distmin=[]\n",
    "            distdip1=[]\n",
    "            for jj in range(NN2*height):\n",
    "#                for kkk in range(height):\n",
    "#                    for kk in range(height):\n",
    "           \n",
    "                distdip1.append(sqrt((math.cos(2*pi*(ii%NN2)/NN2)-math.cos(2*pi*(jj%NN2)/NN2))**2+(math.sin(2*pi*(ii%NN2)/NN2)-math.sin(2*pi*(jj%NN2)/NN2))**2+((int(ii/NN2)-int(jj/NN2))/height)**2))\n",
    "\n",
    "                if(ii!=jj):\n",
    "                \n",
    "                    distmin.append(sqrt((math.cos(2*pi*(ii%NN2)/NN2)-math.cos(2*pi*(jj%NN2)/NN2))**2+(math.sin(2*pi*(ii%NN2)/NN2)-math.sin(2*pi*(jj%NN2)/NN2))**2+((int(ii/NN2)-int(jj/NN2))/height)**2))\n",
    "\n",
    "            arraydistmin=np.array(distmin)\n",
    "\n",
    "            distdip1new=[]\n",
    "            if(np.amin(arraydistmin)==0.0):\n",
    "                print(ii,'ii')\n",
    "                print(distdip1[1])\n",
    "                print('zerou',np.argmin(arraydistmin),arraydistmin[np.argmin(arraydistmin)-1])\n",
    "                break\n",
    "\n",
    "            for u in range(NN2*height):\n",
    "                distdip1new.append(distdip1[u]/np.amin(arraydistmin))\n",
    "\n",
    "            distdip.append(distdip1new)\n",
    "\n",
    "\n",
    "\n",
    "#        distdip=[]\n",
    "        \n",
    "#    return np.array(distdip,dtype=np.float64)\n",
    "#    return distdip[j]\n",
    "    return distdip\n"
   ]
  },
  {
   "cell_type": "code",
   "execution_count": 1228,
   "metadata": {},
   "outputs": [
    {
     "name": "stdout",
     "output_type": "stream",
     "text": [
      "2\n"
     ]
    }
   ],
   "source": [
    "ii=20\n",
    "jj=30\n",
    "print(len(dist_dipolar(2,3)))\n",
    "#dist_dipolar(20,30)[14][25]"
   ]
  },
  {
   "cell_type": "code",
   "execution_count": 1229,
   "metadata": {},
   "outputs": [
    {
     "data": {
      "text/plain": [
       "102400.0"
      ]
     },
     "execution_count": 1229,
     "metadata": {},
     "output_type": "execute_result"
    }
   ],
   "source": [
    "sqrt((10%height/height)**2)\n",
    "(((0%height)-(int(320/height)))/height)**2"
   ]
  },
  {
   "cell_type": "code",
   "execution_count": 1230,
   "metadata": {},
   "outputs": [
    {
     "data": {
      "text/plain": [
       "1.0"
      ]
     },
     "execution_count": 1230,
     "metadata": {},
     "output_type": "execute_result"
    }
   ],
   "source": [
    "math.cos(2*pi*(64%NN2)/NN2)"
   ]
  },
  {
   "cell_type": "code",
   "execution_count": 1231,
   "metadata": {},
   "outputs": [
    {
     "name": "stdout",
     "output_type": "stream",
     "text": [
      "0\n",
      "[0 array([1, 2]) 0 0 0 0 0 0 0]\n"
     ]
    }
   ],
   "source": [
    "dd=np.zeros((9),dtype=np.object)\n",
    "print(dd[2])\n",
    "dd[1]=np.array((1,2))\n",
    "print(dd)"
   ]
  },
  {
   "cell_type": "code",
   "execution_count": 1232,
   "metadata": {},
   "outputs": [
    {
     "name": "stdout",
     "output_type": "stream",
     "text": [
      "0 10.0\n",
      "1\n"
     ]
    }
   ],
   "source": [
    "print(10%int(sqrt(NN2)),10/int(sqrt(NN2)))\n",
    "print(int(sqrt(NN2)))"
   ]
  },
  {
   "cell_type": "code",
   "execution_count": 1233,
   "metadata": {},
   "outputs": [],
   "source": [
    "vec_dip=np.array(dist_dipolar(20,30))"
   ]
  },
  {
   "cell_type": "code",
   "execution_count": 1234,
   "metadata": {},
   "outputs": [
    {
     "data": {
      "text/plain": [
       "2"
      ]
     },
     "execution_count": 1234,
     "metadata": {},
     "output_type": "execute_result"
    }
   ],
   "source": [
    "len(vec_dip[1])"
   ]
  },
  {
   "cell_type": "code",
   "execution_count": 1235,
   "metadata": {},
   "outputs": [],
   "source": [
    "import itertools"
   ]
  },
  {
   "cell_type": "code",
   "execution_count": 1236,
   "metadata": {},
   "outputs": [
    {
     "name": "stdout",
     "output_type": "stream",
     "text": [
      "1\n"
     ]
    }
   ],
   "source": [
    "x_ang,y_ang = angles_vecs(NN2)\n",
    "#rr=dist_dipolar(i)\n",
    "x_ang=np.array(x_ang,dtype=np.float64)\n",
    "y_ang=np.array(y_ang,dtype=np.float64)"
   ]
  },
  {
   "cell_type": "code",
   "execution_count": 1237,
   "metadata": {},
   "outputs": [
    {
     "data": {
      "text/plain": [
       "2"
      ]
     },
     "execution_count": 1237,
     "metadata": {},
     "output_type": "execute_result"
    }
   ],
   "source": [
    "len(x_ang[1])"
   ]
  },
  {
   "cell_type": "code",
   "execution_count": 1238,
   "metadata": {},
   "outputs": [
    {
     "data": {
      "text/plain": [
       "array([1.57075, 0.     ])"
      ]
     },
     "execution_count": 1238,
     "metadata": {},
     "output_type": "execute_result"
    }
   ],
   "source": [
    "y_ang[1]"
   ]
  },
  {
   "cell_type": "code",
   "execution_count": 1239,
   "metadata": {},
   "outputs": [],
   "source": [
    "# the interactions\n",
    "#vec_dip_called = np.array(vec_dip)\n",
    "\n",
    "#@jit(nopython=True)\n",
    "@jit(nopython=True,parallel=True,fastmath=True)\n",
    "def energy_interdipolar(phi,theta,phiantarray,thetaantarray,K1,K2,h,htheta,hphi,i,j):\n",
    "\n",
    "    #obtaining the angles to calculate the interactions!\n",
    "\n",
    "#    print(i,'i before')\n",
    "#    print(j,'j before')\n",
    "    \n",
    "#    x_ang,y_ang = angles_vecs(NN2)\n",
    "#    print(i,'i')\n",
    "#    print(j,'j')\n",
    "#    print(phiantarray)\n",
    "    phiant = phiantarray[j]\n",
    "    thetaant = thetaantarray[j]\n",
    "# dipolar energy\n",
    "\n",
    "#    phiant=phi+phiantarray[j]-phiantarray[i]\n",
    "#    thetaant=theta+thetaantarray[j]-thetaantarray[i]\n",
    "\n",
    "#    print(beta,'beta')\n",
    "\n",
    "    rr=vec_dip[i][j]\n",
    "#    rr=vec_dip_called[i][j]\n",
    "\n",
    "#    create_pos(np_order,NN2)\n",
    "    inter_dipolar=-3*beta/(rr**3)*(np.sin(theta)*np.sin(y_ang[i][j])*np.cos(phi-x_ang[i][j])+np.cos(theta)*np.cos(y_ang[i][j]))*(np.sin(thetaant)*np.sin(y_ang[i][j])*np.cos(phiant-x_ang[i][j])+np.cos(thetaant)*np.cos(y_ang[i][j]));\n",
    "    inter_dipolar+=beta/(rr**3)*(np.sin(theta)*np.sin(thetaant)*np.cos(phi-phiant)+np.cos(theta)*np.cos(thetaant))\n",
    "\n",
    "#    print(inter_dipolar,'dipolar')\n",
    "    \n",
    "    return inter_dipolar\n",
    "    \n",
    "# exchange energy\n",
    "\n",
    "# moriya energy\n",
    "\n"
   ]
  },
  {
   "cell_type": "code",
   "execution_count": 1240,
   "metadata": {},
   "outputs": [
    {
     "name": "stderr",
     "output_type": "stream",
     "text": [
      "/home/vagner/anaconda3/lib/python3.6/site-packages/numba/typed_passes.py:293: NumbaPerformanceWarning: \u001b[1m\n",
      "The keyword argument 'parallel=True' was specified but no transformation for parallel execution was possible.\n",
      "\n",
      "To find out why, try turning on parallel diagnostics, see http://numba.pydata.org/numba-doc/latest/user/parallel.html#diagnostics for help.\n",
      "\u001b[1m\n",
      "File \"<ipython-input-1239-83dfadcaca31>\", line 6:\u001b[0m\n",
      "\u001b[1m@jit(nopython=True,parallel=True,fastmath=True)\n",
      "\u001b[1mdef energy_interdipolar(phi,theta,phiantarray,thetaantarray,K1,K2,h,htheta,hphi,i,j):\n",
      "\u001b[0m\u001b[1m^\u001b[0m\u001b[0m\n",
      "\u001b[0m\n",
      "  state.func_ir.loc))\n"
     ]
    },
    {
     "data": {
      "text/plain": [
       "0.0"
      ]
     },
     "execution_count": 1240,
     "metadata": {},
     "output_type": "execute_result"
    }
   ],
   "source": [
    "energy_interdipolar(0.2,0.5,phiantarray,thetaantarray,K1,K2,0.3,htheta,hphi,0,1)"
   ]
  },
  {
   "cell_type": "code",
   "execution_count": null,
   "metadata": {},
   "outputs": [],
   "source": []
  },
  {
   "cell_type": "code",
   "execution_count": 1241,
   "metadata": {},
   "outputs": [],
   "source": [
    "@jit(nopython=True,parallel=True,fastmath=True)\n",
    "def energy_interexchange(phi,theta,phiantarray,thetaantarray,K1,K2,h,htheta,hphi,i,j):\n",
    "    #obtaining the angles to calculate the interactions!\n",
    "\n",
    "#    print(i,'i before')\n",
    "#    print(j,'j before')\n",
    "    \n",
    "#    x_ang,y_ang = angles_vecs(NN2)\n",
    "#    print(i,'i')\n",
    "#    print(j,'j')\n",
    "#    print(phiantarray)\n",
    "    phiant = phiantarray[j]\n",
    "    thetaant = thetaantarray[j]\n",
    "# dipolar energy\n",
    "\n",
    "#    phiant=phi+phiantarray[j]-phiantarray[i]\n",
    "#    thetaant=theta+thetaantarray[j]-thetaantarray[i]\n",
    "\n",
    "#    print(beta,'beta')\n",
    "\n",
    "    rr=vec_dip[i][j]\n",
    "#    rr=vec_dip_called[i][j]\n",
    "\n",
    "#    create_pos(np_order,NN2)\n",
    "    inter_exc=jota*np.exp(-rr**9)/np.exp(-1.0)*(np.sin(theta)*np.sin(thetaant)*np.cos(phi-phiant)+np.cos(theta)*np.cos(thetaant))\n",
    "#    print(jota*np.exp(-rr)/np.exp(-1.0))\n",
    "#    print((np.sin(theta)*np.sin(thetaant)*np.cos(phi-phiant)+np.cos(theta)*np.cos(thetaant)))\n",
    "\n",
    "#    print(inter_dipolar,'dipolar')\n",
    "    \n",
    "    return inter_exc\n"
   ]
  },
  {
   "cell_type": "code",
   "execution_count": null,
   "metadata": {},
   "outputs": [],
   "source": []
  },
  {
   "cell_type": "code",
   "execution_count": null,
   "metadata": {},
   "outputs": [],
   "source": []
  },
  {
   "cell_type": "code",
   "execution_count": 1242,
   "metadata": {},
   "outputs": [],
   "source": [
    "@jit(nopython=True,parallel=True,fastmath=True)\n",
    "def energy_interexchange_eb(phi,theta,phiantarray,thetaantarray,K1,K2,h,htheta,hphi,i,j):\n",
    "    #obtaining the angles to calculate the interactions!\n",
    "\n",
    "#    print(i,'i before')\n",
    "#    print(j,'j before')\n",
    "    \n",
    "#    x_ang,y_ang = angles_vecs(NN2)\n",
    "#    print(i,'i')\n",
    "#    print(j,'j')\n",
    "#    print(phiantarray)\n",
    "    phiant = phiantarray[j]\n",
    "    thetaant = thetaantarray[j]\n",
    "# dipolar energy\n",
    "\n",
    "#    phiant=phi+phiantarray[j]-phiantarray[i]\n",
    "#    thetaant=theta+thetaantarray[j]-thetaantarray[i]\n",
    "\n",
    "#    print(beta,'beta')\n",
    "\n",
    "    rr=vec_dip[i][j]\n",
    "#    rr=vec_dip_called[i][j]\n",
    "\n",
    "#    create_pos(np_order,NN2)\n",
    "    inter_exc= -0*Jeff_EB*np.exp(-rr**9)/np.exp(-1.0)*(np.sin(theta)*np.sin(theta_eb)*np.cos(phi-phi_eb)+np.cos(theta)*np.cos(theta_eb))\n",
    "#    print(jota*np.exp(-rr)/np.exp(-1.0))\n",
    "#    print((np.sin(theta)*np.sin(thetaant)*np.cos(phi-phiant)+np.cos(theta)*np.cos(thetaant)))\n",
    "\n",
    "#    print(inter_dipolar,'dipolar')\n",
    "    \n",
    "    return inter_exc\n"
   ]
  },
  {
   "cell_type": "code",
   "execution_count": 1243,
   "metadata": {},
   "outputs": [
    {
     "data": {
      "text/plain": [
       "(0.04737410112522892, 0.01745277777777778)"
      ]
     },
     "execution_count": 1243,
     "metadata": {},
     "output_type": "execute_result"
    }
   ],
   "source": [
    "Jeff_EB,phi_eb"
   ]
  },
  {
   "cell_type": "code",
   "execution_count": null,
   "metadata": {},
   "outputs": [],
   "source": []
  },
  {
   "cell_type": "code",
   "execution_count": 1244,
   "metadata": {},
   "outputs": [],
   "source": [
    "@jit(nopython=True,parallel=True,fastmath=True)\n",
    "def energy_interexchange_rma(phi,theta,phiantarray,thetaantarray,K1,K2,h,htheta,hphi,i,j):\n",
    "    #obtaining the angles to calculate the interactions!\n",
    "\n",
    "#    print(i,'i before')\n",
    "#    print(j,'j before')\n",
    "    \n",
    "#    x_ang,y_ang = angles_vecs(NN2)\n",
    "#    print(i,'i')\n",
    "#    print(j,'j')\n",
    "#    print(phiantarray)\n",
    "    phiant = phiantarray[j]\n",
    "    thetaant = thetaantarray[j]\n",
    "# dipolar energy\n",
    "\n",
    "#    phiant=phi+phiantarray[j]-phiantarray[i]\n",
    "#    thetaant=theta+thetaantarray[j]-thetaantarray[i]\n",
    "\n",
    "#    print(beta,'beta')\n",
    "\n",
    "    rr=vec_dip[i][j]\n",
    "#    rr=vec_dip_called[i][j]\n",
    "\n",
    "#    create_pos(np_order,NN2)\n",
    "#    theta_rma = theta*(tempo-tau_avg)\n",
    "    thetarma = 3.1415/2.\n",
    "#    theta_rma = theta\n",
    "    phi_rma=phi*(tempo-tau_avg)\n",
    "    inter_exc = -0*Jeff_C*np.exp(-rr**9)/np.exp(-1.0)*(np.sin(theta)*np.sin(thetarma)*np.cos(phi-phi_rma)+np.cos(theta)*np.cos(thetarma))\n",
    "    inter_exc += -0*Jeff_C_quad*np.exp(-rr**9)/np.exp(-1.0)*(np.sin(theta)*np.sin(thetarma)*np.cos(phi-phi_rma)+np.cos(theta)*np.cos(thetarma))**2\n",
    "#    print(jota*np.exp(-rr)/np.exp(-1.0))\n",
    "#    print((np.sin(theta)*np.sin(thetaant)*np.cos(phi-phiant)+np.cos(theta)*np.cos(thetaant)))\n",
    "\n",
    "#    print(inter_dipolar,'dipolar')\n",
    "    \n",
    "    return inter_exc\n"
   ]
  },
  {
   "cell_type": "code",
   "execution_count": 1245,
   "metadata": {},
   "outputs": [
    {
     "data": {
      "text/plain": [
       "(0.01745277777777778, 0.004)"
      ]
     },
     "execution_count": 1245,
     "metadata": {},
     "output_type": "execute_result"
    }
   ],
   "source": [
    "phi_eb,tau_avg"
   ]
  },
  {
   "cell_type": "code",
   "execution_count": 1246,
   "metadata": {},
   "outputs": [
    {
     "data": {
      "text/plain": [
       "(1.0, 0.0)"
      ]
     },
     "execution_count": 1246,
     "metadata": {},
     "output_type": "execute_result"
    }
   ],
   "source": [
    "Jeff_C/(Kf1/Msat**2),Jeff_C_quad/(Kf1/Msat**2)"
   ]
  },
  {
   "cell_type": "code",
   "execution_count": null,
   "metadata": {},
   "outputs": [],
   "source": []
  },
  {
   "cell_type": "code",
   "execution_count": 1247,
   "metadata": {},
   "outputs": [],
   "source": [
    "@jit(nopython=True,parallel=True,fastmath=True)\n",
    "def energy_biinterexchange(phi,theta,phiantarray,thetaantarray,K1,K2,h,htheta,hphi,i,j):\n",
    "    #obtaining the angles to calculate the interactions!\n",
    "\n",
    "#    print(i,'i before')\n",
    "#    print(j,'j before')\n",
    "    \n",
    "#    x_ang,y_ang = angles_vecs(NN2)\n",
    "#    print(i,'i')\n",
    "#    print(j,'j')\n",
    "#    print(phiantarray)\n",
    "    phiant = phiantarray[j]\n",
    "    thetaant = thetaantarray[j]\n",
    "# dipolar energy\n",
    "\n",
    "#    phiant=phi+phiantarray[j]-phiantarray[i]\n",
    "#    thetaant=theta+thetaantarray[j]-thetaantarray[i]\n",
    "\n",
    "#    print(beta,'beta')\n",
    "\n",
    "    rr=vec_dip[i][j]\n",
    "#    rr=vec_dip_called[i][j]\n",
    "\n",
    "#    create_pos(np_order,NN2)\n",
    "    inter_excbi=jotabi*np.exp(-rr**9)/np.exp(-1.0)*(np.sin(theta)*np.sin(thetaant)*np.cos(phi-phiant)+np.cos(theta)*np.cos(thetaant))**2\n",
    "#    print(jota*np.exp(-rr)/np.exp(-1.0))\n",
    "#    print((np.sin(theta)*np.sin(thetaant)*np.cos(phi-phiant)+np.cos(theta)*np.cos(thetaant)))\n",
    "\n",
    "#    print(inter_dipolar,'dipolar')\n",
    "    \n",
    "    return inter_excbi\n"
   ]
  },
  {
   "cell_type": "code",
   "execution_count": null,
   "metadata": {},
   "outputs": [],
   "source": []
  },
  {
   "cell_type": "code",
   "execution_count": 1248,
   "metadata": {},
   "outputs": [],
   "source": [
    "# the interactions\n",
    "#vec_dip_called = np.array(vec_dip)\n",
    "\n",
    "#@jit(nopython=True)\n",
    "@jit(nopython=True,parallel=True,fastmath=True)\n",
    "def energy_moriya(phi,theta,phiantarray,thetaantarray,K1,K2,h,htheta,hphi,i,j):\n",
    "\n",
    "    #obtaining the angles to calculate the interactions!\n",
    "\n",
    "#    print(i,'i before')\n",
    "#    print(j,'j before')\n",
    "    \n",
    "#    x_ang,y_ang = angles_vecs(NN2)\n",
    "#    print(i,'i')\n",
    "#    print(j,'j')\n",
    "#    print(phiantarray)\n",
    "    phiant = phiantarray[j]\n",
    "    thetaant = thetaantarray[j]\n",
    "# dipolar energy\n",
    "\n",
    "#    phiant=phi+phiantarray[j]-phiantarray[i]\n",
    "#    thetaant=theta+thetaantarray[j]-thetaantarray[i]\n",
    "\n",
    "#    print(beta,'beta')\n",
    "\n",
    "    rr=vec_dip[i][j]\n",
    "#    rr=vec_dip_called[i][j]\n",
    "\n",
    "#    create_pos(np_order,NN2)\n",
    "\n",
    "#   vectorial product with k^ versor !\n",
    "\n",
    "    if(i<=j):\n",
    "        if(j==i+1):\n",
    "            ## produto vetorial z^ vec x^ = y^!\n",
    "#            inter_moriya=m*np.exp(-rr**9)/np.exp(-1.0)*(np.cos(phiant)*np.cos(theta)*np.sin(thetaant)-np.cos(phi)*np.cos(thetaant)*np.sin(theta));\n",
    "\n",
    "#            inter_moriya=m/2.*np.exp(-rr**9)/np.exp(-1.0)*(np.cos(phiant)*np.cos(theta)*np.sin(thetaant)-np.cos(phi)*np.cos(thetaant)*np.sin(theta));\n",
    "#            inter_moriya+=-m/2.*np.exp(-rr**9)/np.exp(-1.0)*(np.cos(thetaant)*np.sin(phi)*np.sin(theta)-np.cos(theta)*np.sin(phiant)*np.sin(thetaant));\n",
    "        \n",
    "            # biquadratic\n",
    "#            inter_moriya=m/2.*np.exp(-rr**9)/np.exp(-1.0)*(np.cos(phiant)*np.cos(theta)*np.sin(thetaant)-np.cos(phi)*np.cos(thetaant)*np.sin(theta))**2;\n",
    "#            inter_moriya+=m/2.*np.exp(-rr**9)/np.exp(-1.0)*(np.cos(thetaant)*np.sin(phi)*np.sin(theta)-np.cos(theta)*np.sin(phiant)*np.sin(thetaant))**2;\n",
    "#            inter_moriya+=m/2.*np.exp(-rr**9)/np.exp(-1.0)*(np.sin(thetaant)*np.cos(phiant)*np.sin(theta)*np.sin(phi)-np.sin(theta)*np.cos(phi)*np.sin(thetaant)*np.sin(phiant))**2;\n",
    "        \n",
    "            # chiral multi spin\n",
    "            inter_moriya=m/2.*np.exp(-rr**9)/np.exp(-1.0)*(np.cos(phiant)*np.cos(theta)*np.sin(thetaant)-np.cos(phi)*np.cos(thetaant)*np.sin(theta))*(np.sin(theta)*np.sin(thetaant)*np.cos(phi-phiant)+np.cos(theta)*np.cos(thetaant));\n",
    "            inter_moriya+=m/2.*np.exp(-rr**9)/np.exp(-1.0)*(np.cos(thetaant)*np.sin(phi)*np.sin(theta)-np.cos(theta)*np.sin(phiant)*np.sin(thetaant))*(np.sin(theta)*np.sin(thetaant)*np.cos(phi-phiant)+np.cos(theta)*np.cos(thetaant));\n",
    "            \n",
    "        else:\n",
    "            ## produto vetorial z^ vec y^ = - x^!\n",
    "#            inter_moriya=-m*np.exp(-rr**9)/np.exp(-1.0)*(np.cos(thetaant)*np.sin(phi)*np.sin(theta)-np.cos(theta)*np.sin(phiant)*np.sin(thetaant));\n",
    "\n",
    "#            inter_moriya=-m/2.*np.exp(-rr**9)/np.exp(-1.0)*(np.cos(thetaant)*np.sin(phi)*np.sin(theta)-np.cos(theta)*np.sin(phiant)*np.sin(thetaant));\n",
    "#            inter_moriya+=+m/2.*np.exp(-rr**9)/np.exp(-1.0)*(np.cos(phiant)*np.cos(theta)*np.sin(thetaant)-np.cos(phi)*np.cos(thetaant)*np.sin(theta));\n",
    "        \n",
    "            # biquadratic\n",
    "#            inter_moriya=m/2.*np.exp(-rr**9)/np.exp(-1.0)*(np.cos(thetaant)*np.sin(phi)*np.sin(theta)-np.cos(theta)*np.sin(phiant)*np.sin(thetaant))**2;\n",
    "#            inter_moriya+=+m/2.*np.exp(-rr**9)/np.exp(-1.0)*(np.cos(phiant)*np.cos(theta)*np.sin(thetaant)-np.cos(phi)*np.cos(thetaant)*np.sin(theta))**2;\n",
    "#            inter_moriya+=m/2.*np.exp(-rr**9)/np.exp(-1.0)*(np.sin(thetaant)*np.cos(phiant)*np.sin(theta)*np.sin(phi)-np.sin(theta)*np.cos(phi)*np.sin(thetaant)*np.sin(phiant))**2;\n",
    "        \n",
    "        \n",
    "            # chiral multi spin\n",
    "            inter_moriya=m/2.*np.exp(-rr**9)/np.exp(-1.0)*(np.cos(phiant)*np.cos(theta)*np.sin(thetaant)-np.cos(phi)*np.cos(thetaant)*np.sin(theta))*(np.sin(theta)*np.sin(thetaant)*np.cos(phi-phiant)+np.cos(theta)*np.cos(thetaant));\n",
    "            inter_moriya+=m/2.*np.exp(-rr**9)/np.exp(-1.0)*(np.cos(thetaant)*np.sin(phi)*np.sin(theta)-np.cos(theta)*np.sin(phiant)*np.sin(thetaant))*(np.sin(theta)*np.sin(thetaant)*np.cos(phi-phiant)+np.cos(theta)*np.cos(thetaant));\n",
    "        \n",
    "    elif(i>=j):\n",
    "        if(j==i-1):\n",
    "#            inter_moriya=-m*np.exp(-rr**9)/np.exp(-1.0)*(np.cos(phiant)*np.cos(theta)*np.sin(thetaant)-np.cos(phi)*np.cos(thetaant)*np.sin(theta));\n",
    "\n",
    "#            inter_moriya=-m/2.*np.exp(-rr**9)/np.exp(-1.0)*(np.cos(phiant)*np.cos(theta)*np.sin(thetaant)-np.cos(phi)*np.cos(thetaant)*np.sin(theta));\n",
    "#            inter_moriya+=m/2.*np.exp(-rr**9)/np.exp(-1.0)*(np.cos(thetaant)*np.sin(phi)*np.sin(theta)-np.cos(theta)*np.sin(phiant)*np.sin(thetaant));\n",
    "        \n",
    "            # biquadratic\n",
    "#            inter_moriya=m/2.*np.exp(-rr**9)/np.exp(-1.0)*(np.cos(phiant)*np.cos(theta)*np.sin(thetaant)-np.cos(phi)*np.cos(thetaant)*np.sin(theta))**2;\n",
    "#            inter_moriya+=m/2.*np.exp(-rr**9)/np.exp(-1.0)*(np.cos(thetaant)*np.sin(phi)*np.sin(theta)-np.cos(theta)*np.sin(phiant)*np.sin(thetaant))**2;\n",
    "#            inter_moriya+=m/2.*np.exp(-rr**9)/np.exp(-1.0)*(np.sin(thetaant)*np.cos(phiant)*np.sin(theta)*np.sin(phi)-np.sin(theta)*np.cos(phi)*np.sin(thetaant)*np.sin(phiant))**2;\n",
    "        \n",
    "            # chiral multi spin\n",
    "            inter_moriya=m/2.*np.exp(-rr**9)/np.exp(-1.0)*(np.cos(phiant)*np.cos(theta)*np.sin(thetaant)-np.cos(phi)*np.cos(thetaant)*np.sin(theta))*(np.sin(theta)*np.sin(thetaant)*np.cos(phi-phiant)+np.cos(theta)*np.cos(thetaant));\n",
    "            inter_moriya+=m/2.*np.exp(-rr**9)/np.exp(-1.0)*(np.cos(thetaant)*np.sin(phi)*np.sin(theta)-np.cos(theta)*np.sin(phiant)*np.sin(thetaant))*(np.sin(theta)*np.sin(thetaant)*np.cos(phi-phiant)+np.cos(theta)*np.cos(thetaant));\n",
    "            \n",
    "        else:\n",
    "#            inter_moriya=m*np.exp(-rr**9)/np.exp(-1.0)*(np.cos(thetaant)*np.sin(phi)*np.sin(theta)-np.cos(theta)*np.sin(phiant)*np.sin(thetaant));\n",
    "\n",
    "#            inter_moriya=m/2.*np.exp(-rr**9)/np.exp(-1.0)*(np.cos(thetaant)*np.sin(phi)*np.sin(theta)-np.cos(theta)*np.sin(phiant)*np.sin(thetaant));\n",
    "#            inter_moriya+=-m/2.*np.exp(-rr**9)/np.exp(-1.0)*(np.cos(phiant)*np.cos(theta)*np.sin(thetaant)-np.cos(phi)*np.cos(thetaant)*np.sin(theta));\n",
    "            \n",
    "            # biquadratic\n",
    "#            inter_moriya=m/2.*np.exp(-rr**9)/np.exp(-1.0)*(np.cos(thetaant)*np.sin(phi)*np.sin(theta)-np.cos(theta)*np.sin(phiant)*np.sin(thetaant))**2;\n",
    "#            inter_moriya+=m/2.*np.exp(-rr**9)/np.exp(-1.0)*(np.cos(phiant)*np.cos(theta)*np.sin(thetaant)-np.cos(phi)*np.cos(thetaant)*np.sin(theta))**2;\n",
    "#            inter_moriya+=m/2.*np.exp(-rr**9)/np.exp(-1.0)*(np.sin(thetaant)*np.cos(phiant)*np.sin(theta)*np.sin(phi)-np.sin(theta)*np.cos(phi)*np.sin(thetaant)*np.sin(phiant))**2;\n",
    "            \n",
    "            # chiral multi spin\n",
    "            inter_moriya=m/2.*np.exp(-rr**9)/np.exp(-1.0)*(np.cos(phiant)*np.cos(theta)*np.sin(thetaant)-np.cos(phi)*np.cos(thetaant)*np.sin(theta))*(np.sin(theta)*np.sin(thetaant)*np.cos(phi-phiant)+np.cos(theta)*np.cos(thetaant));\n",
    "            inter_moriya+=m/2.*np.exp(-rr**9)/np.exp(-1.0)*(np.cos(thetaant)*np.sin(phi)*np.sin(theta)-np.cos(theta)*np.sin(phiant)*np.sin(thetaant))*(np.sin(theta)*np.sin(thetaant)*np.cos(phi-phiant)+np.cos(theta)*np.cos(thetaant));\n",
    "\n",
    "#            inter_moriya=-m*np.exp(-rr**9)/np.exp(-1.0)*(np.cos(thetaant)*np.sin(phi)*np.sin(theta)-np.cos(theta)*np.sin(phiant)*np.sin(thetaant));\n",
    "\n",
    "\n",
    "#    inter_moriya=m*np.exp(-rr**3)/np.exp(-1.0)*(np.cos(phi)*np.sin(phiant)*np.sin(theta)*np.sin(thetaant)-np.cos(phiant)*np.sin(phi)*np.sin(theta)*np.sin(thetaant));\n",
    "#    inter_moriya=m*np.exp(-rr**9)/np.exp(-1.0)*(np.sin(theta)*np.sin(thetaant)*np.sin(phi-phiant));\n",
    "\n",
    "    \n",
    "\n",
    "    \n",
    "#    inter_moriya+=beta/(rr**3)*(np.sin(theta)*np.sin(thetaant)*np.cos(phi-phiant)+np.cos(theta)*np.cos(thetaant))\n",
    "\n",
    "#    print(m,'dipolar')\n",
    "    \n",
    "    return inter_moriya\n",
    "    \n",
    "# exchange energy\n",
    "\n",
    "# moriya energy\n",
    "\n"
   ]
  },
  {
   "cell_type": "code",
   "execution_count": null,
   "metadata": {},
   "outputs": [],
   "source": []
  },
  {
   "cell_type": "code",
   "execution_count": 1249,
   "metadata": {},
   "outputs": [
    {
     "name": "stderr",
     "output_type": "stream",
     "text": [
      "/home/vagner/anaconda3/lib/python3.6/site-packages/numba/typed_passes.py:293: NumbaPerformanceWarning: \u001b[1m\n",
      "The keyword argument 'parallel=True' was specified but no transformation for parallel execution was possible.\n",
      "\n",
      "To find out why, try turning on parallel diagnostics, see http://numba.pydata.org/numba-doc/latest/user/parallel.html#diagnostics for help.\n",
      "\u001b[1m\n",
      "File \"<ipython-input-1248-5e99dc2a3568>\", line 6:\u001b[0m\n",
      "\u001b[1m@jit(nopython=True,parallel=True,fastmath=True)\n",
      "\u001b[1mdef energy_moriya(phi,theta,phiantarray,thetaantarray,K1,K2,h,htheta,hphi,i,j):\n",
      "\u001b[0m\u001b[1m^\u001b[0m\u001b[0m\n",
      "\u001b[0m\n",
      "  state.func_ir.loc))\n"
     ]
    },
    {
     "data": {
      "text/plain": [
       "0.0"
      ]
     },
     "execution_count": 1249,
     "metadata": {},
     "output_type": "execute_result"
    }
   ],
   "source": [
    "energy_moriya(1.0,3.0,phiantarray,thetaantarray,K1,K2,0.3,htheta,hphi,11,10)"
   ]
  },
  {
   "cell_type": "code",
   "execution_count": 1250,
   "metadata": {},
   "outputs": [
    {
     "data": {
      "text/plain": [
       "(0.36787944117144233, array([1., 0.]))"
      ]
     },
     "execution_count": 1250,
     "metadata": {},
     "output_type": "execute_result"
    }
   ],
   "source": [
    "np.exp(-1.0),vec_dip[1]"
   ]
  },
  {
   "cell_type": "code",
   "execution_count": 1251,
   "metadata": {},
   "outputs": [
    {
     "name": "stderr",
     "output_type": "stream",
     "text": [
      "/home/vagner/anaconda3/lib/python3.6/site-packages/numba/typed_passes.py:293: NumbaPerformanceWarning: \u001b[1m\n",
      "The keyword argument 'parallel=True' was specified but no transformation for parallel execution was possible.\n",
      "\n",
      "To find out why, try turning on parallel diagnostics, see http://numba.pydata.org/numba-doc/latest/user/parallel.html#diagnostics for help.\n",
      "\u001b[1m\n",
      "File \"<ipython-input-1241-ced6ec3e3998>\", line 2:\u001b[0m\n",
      "\u001b[1m@jit(nopython=True,parallel=True,fastmath=True)\n",
      "\u001b[1mdef energy_interexchange(phi,theta,phiantarray,thetaantarray,K1,K2,h,htheta,hphi,i,j):\n",
      "\u001b[0m\u001b[1m^\u001b[0m\u001b[0m\n",
      "\u001b[0m\n",
      "  state.func_ir.loc))\n"
     ]
    },
    {
     "data": {
      "text/plain": [
       "0.0"
      ]
     },
     "execution_count": 1251,
     "metadata": {},
     "output_type": "execute_result"
    }
   ],
   "source": [
    "energy_interexchange(0.0,0.0,phiantarray,thetaantarray,K1,K2,0.3,htheta,hphi,4,5)"
   ]
  },
  {
   "cell_type": "code",
   "execution_count": 1252,
   "metadata": {},
   "outputs": [
    {
     "name": "stderr",
     "output_type": "stream",
     "text": [
      "/home/vagner/anaconda3/lib/python3.6/site-packages/numba/typed_passes.py:293: NumbaPerformanceWarning: \u001b[1m\n",
      "The keyword argument 'parallel=True' was specified but no transformation for parallel execution was possible.\n",
      "\n",
      "To find out why, try turning on parallel diagnostics, see http://numba.pydata.org/numba-doc/latest/user/parallel.html#diagnostics for help.\n",
      "\u001b[1m\n",
      "File \"<ipython-input-1247-c27d49cfb87b>\", line 2:\u001b[0m\n",
      "\u001b[1m@jit(nopython=True,parallel=True,fastmath=True)\n",
      "\u001b[1mdef energy_biinterexchange(phi,theta,phiantarray,thetaantarray,K1,K2,h,htheta,hphi,i,j):\n",
      "\u001b[0m\u001b[1m^\u001b[0m\u001b[0m\n",
      "\u001b[0m\n",
      "  state.func_ir.loc))\n"
     ]
    },
    {
     "data": {
      "text/plain": [
       "0.0"
      ]
     },
     "execution_count": 1252,
     "metadata": {},
     "output_type": "execute_result"
    }
   ],
   "source": [
    "energy_biinterexchange(0.0,0.0,phiantarray,thetaantarray,K1,K2,0.3,htheta,hphi,4,5)"
   ]
  },
  {
   "cell_type": "code",
   "execution_count": 1253,
   "metadata": {},
   "outputs": [],
   "source": [
    "# energy array\n",
    "\n",
    "#@jit(nopython=True,parallel=True)\n",
    "#@jit(nopython=True)\n",
    "#@njit(fastmath=True,parallel=True)\n",
    "@njit(fastmath=True)\n",
    "def energy_array_inter(phi,theta,phiantarray,thetaantarray,K1,K2,h,htheta,hphi,i,j):\n",
    "\n",
    "    '''\n",
    "    \n",
    "    listaNN1=[0. for x in range(int(sqrt(NN2))-2)]\n",
    "    \n",
    "    for x in range(0,int(sqrt(NN2))-2):\n",
    "        listaNN1[x] = int(sqrt(NN2))-x-2\n",
    "                                \n",
    "    listaNN2=[0. for x in range(int(sqrt(NN2))-2)]\n",
    "    \n",
    "    for x in range(0,int(sqrt(NN2))-2):\n",
    "        listaNN2[x] = int(sqrt(NN2))*(x+2)-1\n",
    "                                \n",
    "    listaNN3=[0. for x in range(int(sqrt(NN2))-2)]\n",
    "    \n",
    "    for x in range(0,int(sqrt(NN2))-2):\n",
    "        listaNN3[x] = NN2-x-2\n",
    "    \n",
    "    listaNN4=[0. for x in range(int(sqrt(NN2))-2)]\n",
    "    \n",
    "    for x in range(0,int(sqrt(NN2))-2):\n",
    "        listaNN4[x] = int(sqrt(NN2))*(x+1)\n",
    "\n",
    "#    print('listas',listaNN1,listaNN2,listaNN3,listaNN4)\n",
    "\n",
    "    \"\"\"\n",
    "    for x in range(NN2):\n",
    "        \n",
    "        x=i\n",
    "        for y in range(int(sqrt(NN2))-2):\n",
    "            \n",
    "            print(listaNN3[y]==x)\n",
    "#            print(x,y,'xy')\n",
    "                                \n",
    "            if(listaNN1[y]==x):\n",
    "                                \n",
    "                foi=-1\n",
    "                                \n",
    "            elif(listaNN2[y]==x):\n",
    "                                \n",
    "                foi=-2\n",
    "#                print(foi,'foi dentro',listaNN3[y],x)\n",
    "                                \n",
    "            elif(listaNN3[y]==x):\n",
    "                                \n",
    "                foi=-3\n",
    "#                print(foi,'foi dentro',listaNN3[y],x)\n",
    "                                \n",
    "            elif(listaNN4[y]==x):\n",
    "                                \n",
    "                foi=-4\n",
    "            else:\n",
    "                                \n",
    "                foi=-5\n",
    "#            print(foi,'foi dentro',listaNN3[y],x)\n",
    "    \"\"\"                         \n",
    "\n",
    "    \n",
    "        \n",
    "    x=i\n",
    "    for y in range(int(sqrt(NN2))-2):\n",
    "            \n",
    "#        print(listaNN3[y]==x)\n",
    "#            print(x,y,'xy')\n",
    "                                \n",
    "        if(listaNN1[y]==x):\n",
    "                                \n",
    "            foi=-1\n",
    "            break\n",
    "                                \n",
    "        elif(listaNN2[y]==x):\n",
    "                                \n",
    "            foi=-2\n",
    "#                print(foi,'foi dentro',listaNN3[y],x)\n",
    "            break\n",
    "                                \n",
    "        elif(listaNN3[y]==x):\n",
    "                                \n",
    "            foi=-3\n",
    "            break\n",
    "#                print(foi,'foi dentro',listaNN3[y],x)\n",
    "                                \n",
    "        elif(listaNN4[y]==x):\n",
    "                                \n",
    "            foi=-4\n",
    "            break\n",
    "        else:\n",
    "                                \n",
    "            foi=-5\n",
    "#            print(foi,'foi dentro',listaNN3[y],x)\n",
    "    \n",
    "    \n",
    "    \n",
    "#    print(foi,'foi fora')\n",
    "                                \n",
    "#    print(i,j)\n",
    "    \n",
    "    # defining the energy array!\n",
    "    energy_vec=[0.0 for x in range(NN2)]\n",
    "    \n",
    "    \n",
    "    if(np_order==1):\n",
    "        \n",
    "        if(i==0):\n",
    "        \n",
    "            dip_b=energy_interdipolar(phi,theta,phiantarray,thetaantarray,K1,K2,h,htheta,hphi,0,1)\n",
    "            dip_b+=energy_interdipolar(phi,theta,phiantarray,thetaantarray,K1,K2,h,htheta,hphi,0,int(sqrt(NN2)))\n",
    "            dip_b+=energy_interdipolar(phi,theta,phiantarray,thetaantarray,K1,K2,h,htheta,hphi,0,int(sqrt(NN2))-1)\n",
    "            dip_b+=energy_interdipolar(phi,theta,phiantarray,thetaantarray,K1,K2,h,htheta,hphi,0,NN2-int(sqrt(NN2)))\n",
    "            \n",
    "            \n",
    "            energy_vec[i]=dip_b\n",
    "\n",
    "    \n",
    "        elif(foi==-1):\n",
    "                \n",
    "                \n",
    "#            print(i,'i dentro de foi=-1')\n",
    "            \n",
    "            dip_f=energy_interdipolar(phi,theta,phiantarray,thetaantarray,K1,K2,h,htheta,hphi,i,i-1)\n",
    "            dip_f+=energy_interdipolar(phi,theta,phiantarray,thetaantarray,K1,K2,h,htheta,hphi,i,i+1)\n",
    "            dip_f+=energy_interdipolar(phi,theta,phiantarray,thetaantarray,K1,K2,h,htheta,hphi,i,i+int(sqrt(NN2)))\n",
    "            dip_f+=energy_interdipolar(phi,theta,phiantarray,thetaantarray,K1,K2,h,htheta,hphi,i,NN2-int(sqrt(NN2))+i)\n",
    "            \n",
    "#            print(dip_f,'dip_f')\n",
    "    \n",
    "            energy_vec[i]=dip_f\n",
    "\n",
    "        elif(i==int(sqrt(NN2)-1)):\n",
    "                                \n",
    "            dip_c=energy_interdipolar(phi,theta,phiantarray,thetaantarray,K1,K2,h,htheta,hphi,int(sqrt(NN2))-1,int(sqrt(NN2))-2)\n",
    "            dip_c+=energy_interdipolar(phi,theta,phiantarray,thetaantarray,K1,K2,h,htheta,hphi,int(sqrt(NN2))-1,2*int(sqrt(NN2))-1)\n",
    "            dip_c+=energy_interdipolar(phi,theta,phiantarray,thetaantarray,K1,K2,h,htheta,hphi,int(sqrt(NN2))-1,0)\n",
    "            dip_c+=energy_interdipolar(phi,theta,phiantarray,thetaantarray,K1,K2,h,htheta,hphi,int(sqrt(NN2))-1,NN2-1)\n",
    "\n",
    "            energy_vec[i]=dip_c\n",
    "\n",
    "        elif(foi==-2):\n",
    "\n",
    "            \n",
    "            dip_q=energy_interdipolar(phi,theta,phiantarray,thetaantarray,K1,K2,h,htheta,hphi,i,i-1)\n",
    "            dip_q+=energy_interdipolar(phi,theta,phiantarray,thetaantarray,K1,K2,h,htheta,hphi,i,i+int(sqrt(NN2)))\n",
    "            dip_q+=energy_interdipolar(phi,theta,phiantarray,thetaantarray,K1,K2,h,htheta,hphi,i,i-int(sqrt(NN2)))\n",
    "            dip_q+=energy_interdipolar(phi,theta,phiantarray,thetaantarray,K1,K2,h,htheta,hphi,i,i-int(sqrt(NN2))+1)\n",
    "            \n",
    "            energy_vec[i]=dip_q\n",
    "\n",
    "        elif(i==NN2-1):\n",
    "                                \n",
    "            dip_e=energy_interdipolar(phi,theta,phiantarray,thetaantarray,K1,K2,h,htheta,hphi,NN2-1,NN2-1-int(sqrt(NN2))-2)\n",
    "            dip_e+=energy_interdipolar(phi,theta,phiantarray,thetaantarray,K1,K2,h,htheta,hphi,NN2-1,NN2-1-1)\n",
    "            dip_e+=energy_interdipolar(phi,theta,phiantarray,thetaantarray,K1,K2,h,htheta,hphi,NN2-1,NN2-1-int(sqrt(NN2))+1)\n",
    "            dip_e+=energy_interdipolar(phi,theta,phiantarray,thetaantarray,K1,K2,h,htheta,hphi,NN2-1,int(sqrt(NN2))-1)\n",
    "                                \n",
    "            energy_vec[i]=dip_e\n",
    "\n",
    "        elif(i==NN2-int(sqrt(NN2))):\n",
    "                                \n",
    "            dip_d=energy_interdipolar(phi,theta,phiantarray,thetaantarray,K1,K2,h,htheta,hphi,NN2-int(sqrt(NN2)),NN2-int(sqrt(NN2))+1)\n",
    "            dip_d+=energy_interdipolar(phi,theta,phiantarray,thetaantarray,K1,K2,h,htheta,hphi,NN2-int(sqrt(NN2)),NN2-2*int(sqrt(NN2)))\n",
    "            dip_d+=energy_interdipolar(phi,theta,phiantarray,thetaantarray,K1,K2,h,htheta,hphi,NN2-int(sqrt(NN2)),NN2-1)\n",
    "            dip_d+=energy_interdipolar(phi,theta,phiantarray,thetaantarray,K1,K2,h,htheta,hphi,NN2-int(sqrt(NN2)),0)\n",
    "                                \n",
    "            energy_vec[i]=dip_d\n",
    "                                \n",
    "        elif(foi==-3):\n",
    "                                \n",
    "            dip_g=energy_interdipolar(phi,theta,phiantarray,thetaantarray,K1,K2,h,htheta,hphi,i,i-1)\n",
    "            dip_g+=energy_interdipolar(phi,theta,phiantarray,thetaantarray,K1,K2,h,htheta,hphi,i,i+1)\n",
    "            dip_g+=energy_interdipolar(phi,theta,phiantarray,thetaantarray,K1,K2,h,htheta,hphi,i,i-int(sqrt(NN2)))\n",
    "            dip_g+=energy_interdipolar(phi,theta,phiantarray,thetaantarray,K1,K2,h,htheta,hphi,i,i-i%(int(sqrt(NN2))))\n",
    "            \n",
    "            energy_vec[i]=dip_g\n",
    "                                \n",
    "        elif(foi==-4):\n",
    "            \n",
    "            \n",
    "#            print('aqui o erro!')\n",
    "            \n",
    "            dip_p=energy_interdipolar(phi,theta,phiantarray,thetaantarray,K1,K2,h,htheta,hphi,i,i+1)\n",
    "            dip_p+=energy_interdipolar(phi,theta,phiantarray,thetaantarray,K1,K2,h,htheta,hphi,i,i+int(sqrt(NN2)))\n",
    "            dip_p+=energy_interdipolar(phi,theta,phiantarray,thetaantarray,K1,K2,h,htheta,hphi,i,i-int(sqrt(NN2)))\n",
    "            dip_p=energy_interdipolar(phi,theta,phiantarray,thetaantarray,K1,K2,h,htheta,hphi,i,i+int(sqrt(NN2))-1)\n",
    "                                \n",
    "            energy_vec[i]=dip_p\n",
    "                                \n",
    "        else:\n",
    "            \n",
    "#            print('aqui o erro!')\n",
    "            \n",
    "                                \n",
    "            dip_a=energy_interdipolar(phi,theta,phiantarray,thetaantarray,K1,K2,h,htheta,hphi,i,i+1)\n",
    "            dip_a+=energy_interdipolar(phi,theta,phiantarray,thetaantarray,K1,K2,h,htheta,hphi,i,i-1)\n",
    "            dip_a+=energy_interdipolar(phi,theta,phiantarray,thetaantarray,K1,K2,h,htheta,hphi,i,i-int(sqrt(NN2)))\n",
    "            dip_a+=energy_interdipolar(phi,theta,phiantarray,thetaantarray,K1,K2,h,htheta,hphi,i,i+int(sqrt(NN2)))\n",
    "                                \n",
    "            energy_vec[i]=dip_a\n",
    "    '''                         \n",
    "    # defining the energy array!\n",
    "#    energy_vec=[0.0 for x in range(NN2)]\n",
    "\n",
    "    # summing up all the contributions    \n",
    "#    '''\n",
    "    if(np_order==1 or np_order==2):\n",
    "        soma_dip = 0.0\n",
    "        for j in nb.prange(NN2):\n",
    "            if(i!=j):\n",
    "                soma_dip+= energy_interdipolar(phi,theta,phiantarray,thetaantarray,K1,K2,h,htheta,hphi,i,j)\n",
    "                soma_dip+= energy_interexchange(phi,theta,phiantarray,thetaantarray,K1,K2,h,htheta,hphi,i,j)\n",
    "                soma_dip+= energy_biinterexchange(phi,theta,phiantarray,thetaantarray,K1,K2,h,htheta,hphi,i,j)\n",
    "                soma_dip+= energy_moriya(phi,theta,phiantarray,thetaantarray,K1,K2,h,htheta,hphi,i,j)\n",
    "                soma_dip+= energy_interexchange_eb(phi,theta,phiantarray,thetaantarray,K1,K2,h,htheta,hphi,i,j)\n",
    "                soma_dip+= energy_interexchange_rma(phi,theta,phiantarray,thetaantarray,K1,K2,h,htheta,hphi,i,j)\n",
    "    elif(np_order==3):\n",
    "        soma_dip = 0.0\n",
    "        for j in nb.prange(NN2*height):\n",
    "#        for j in range(NN2*height):\n",
    "            if(i!=j):\n",
    "                soma_dip+= energy_interdipolar(phi,theta,phiantarray,thetaantarray,K1,K2,h,htheta,hphi,i,j)\n",
    "                soma_dip+= energy_interexchange(phi,theta,phiantarray,thetaantarray,K1,K2,h,htheta,hphi,i,j)\n",
    "                soma_dip+= energy_biinterexchange(phi,theta,phiantarray,thetaantarray,K1,K2,h,htheta,hphi,i,j)\n",
    "                soma_dip+= energy_moriya(phi,theta,phiantarray,thetaantarray,K1,K2,h,htheta,hphi,i,j)\n",
    "                soma_dip+= energy_interexchange_eb(phi,theta,phiantarray,thetaantarray,K1,K2,h,htheta,hphi,i,j)\n",
    "                soma_dip+= energy_interexchange_rma(phi,theta,phiantarray,thetaantarray,K1,K2,h,htheta,hphi,i,j)\n",
    "#                print(j,soma_dip)\n",
    "#    '''\n",
    "#    soma_dip = sum(energy_interdipolar(phi,theta,phiantarray,thetaantarray,K1,K2,h,htheta,hphi,i,j) for j in range(NN2))\n",
    "    '''\n",
    "\n",
    "    soma_dip = []\n",
    "    soma_dip=np.array([energy_interdipolar(phi,theta,phiantarray,thetaantarray,K1,K2,h,htheta,hphi,i,j) for j in range(NN2) if i!=j])\n",
    "    soma_dip=np.sum(soma_dip)\n",
    "    '''\n",
    "    \n",
    "#    energy_vec[i]=soma_dip\n",
    "                                \n",
    "                                \n",
    "#    return energy_vec\n",
    "#    return np.array(energy_vec)\n",
    "    return soma_dip\n",
    "                                \n",
    "                                \n",
    "                                \n",
    "                                \n",
    "                                \n",
    "                                \n",
    "                                \n",
    "                                "
   ]
  },
  {
   "cell_type": "code",
   "execution_count": 1254,
   "metadata": {},
   "outputs": [
    {
     "name": "stdout",
     "output_type": "stream",
     "text": [
      "1\n"
     ]
    }
   ],
   "source": [
    "xx,yy=angles_vecs(NN2)"
   ]
  },
  {
   "cell_type": "code",
   "execution_count": 1255,
   "metadata": {},
   "outputs": [
    {
     "data": {
      "text/plain": [
       "list"
      ]
     },
     "execution_count": 1255,
     "metadata": {},
     "output_type": "execute_result"
    }
   ],
   "source": [
    "#xx\n",
    "type(list(range(NN2)))\n",
    "#list(range(NN2))"
   ]
  },
  {
   "cell_type": "code",
   "execution_count": 1256,
   "metadata": {},
   "outputs": [],
   "source": [
    "for k in range(int(sqrt(NN2))-2):\n",
    "    print(k)"
   ]
  },
  {
   "cell_type": "code",
   "execution_count": 1257,
   "metadata": {},
   "outputs": [
    {
     "data": {
      "text/plain": [
       "array([0.98041729, 0.7199459 ])"
      ]
     },
     "execution_count": 1257,
     "metadata": {},
     "output_type": "execute_result"
    }
   ],
   "source": [
    "phiantarray"
   ]
  },
  {
   "cell_type": "code",
   "execution_count": 1258,
   "metadata": {},
   "outputs": [
    {
     "data": {
      "text/plain": [
       "array([0.74763209, 0.11542301])"
      ]
     },
     "execution_count": 1258,
     "metadata": {},
     "output_type": "execute_result"
    }
   ],
   "source": [
    "thetaantarray"
   ]
  },
  {
   "cell_type": "code",
   "execution_count": 1259,
   "metadata": {},
   "outputs": [
    {
     "name": "stderr",
     "output_type": "stream",
     "text": [
      "<ipython-input-1253-b46c9430b6c7>:215: NumbaPerformanceWarning: \u001b[1m\u001b[1m\n",
      "The keyword argument 'parallel=True' was specified but no transformation for parallel execution was possible.\n",
      "\n",
      "To find out why, try turning on parallel diagnostics, see http://numba.pydata.org/numba-doc/latest/user/parallel.html#diagnostics for help.\n",
      "\u001b[1m\n",
      "File \"<ipython-input-1239-83dfadcaca31>\", line 6:\u001b[0m\n",
      "\u001b[1m@jit(nopython=True,parallel=True,fastmath=True)\n",
      "\u001b[1mdef energy_interdipolar(phi,theta,phiantarray,thetaantarray,K1,K2,h,htheta,hphi,i,j):\n",
      "\u001b[0m\u001b[1m^\u001b[0m\u001b[0m\n",
      "\u001b[0m\u001b[0m\n",
      "  soma_dip+= energy_interdipolar(phi,theta,phiantarray,thetaantarray,K1,K2,h,htheta,hphi,i,j)\n",
      "<ipython-input-1253-b46c9430b6c7>:216: NumbaPerformanceWarning: \u001b[1m\u001b[1m\n",
      "The keyword argument 'parallel=True' was specified but no transformation for parallel execution was possible.\n",
      "\n",
      "To find out why, try turning on parallel diagnostics, see http://numba.pydata.org/numba-doc/latest/user/parallel.html#diagnostics for help.\n",
      "\u001b[1m\n",
      "File \"<ipython-input-1241-ced6ec3e3998>\", line 2:\u001b[0m\n",
      "\u001b[1m@jit(nopython=True,parallel=True,fastmath=True)\n",
      "\u001b[1mdef energy_interexchange(phi,theta,phiantarray,thetaantarray,K1,K2,h,htheta,hphi,i,j):\n",
      "\u001b[0m\u001b[1m^\u001b[0m\u001b[0m\n",
      "\u001b[0m\u001b[0m\n",
      "  soma_dip+= energy_interexchange(phi,theta,phiantarray,thetaantarray,K1,K2,h,htheta,hphi,i,j)\n",
      "<ipython-input-1253-b46c9430b6c7>:217: NumbaPerformanceWarning: \u001b[1m\u001b[1m\n",
      "The keyword argument 'parallel=True' was specified but no transformation for parallel execution was possible.\n",
      "\n",
      "To find out why, try turning on parallel diagnostics, see http://numba.pydata.org/numba-doc/latest/user/parallel.html#diagnostics for help.\n",
      "\u001b[1m\n",
      "File \"<ipython-input-1247-c27d49cfb87b>\", line 2:\u001b[0m\n",
      "\u001b[1m@jit(nopython=True,parallel=True,fastmath=True)\n",
      "\u001b[1mdef energy_biinterexchange(phi,theta,phiantarray,thetaantarray,K1,K2,h,htheta,hphi,i,j):\n",
      "\u001b[0m\u001b[1m^\u001b[0m\u001b[0m\n",
      "\u001b[0m\u001b[0m\n",
      "  soma_dip+= energy_biinterexchange(phi,theta,phiantarray,thetaantarray,K1,K2,h,htheta,hphi,i,j)\n",
      "<ipython-input-1253-b46c9430b6c7>:218: NumbaPerformanceWarning: \u001b[1m\u001b[1m\n",
      "The keyword argument 'parallel=True' was specified but no transformation for parallel execution was possible.\n",
      "\n",
      "To find out why, try turning on parallel diagnostics, see http://numba.pydata.org/numba-doc/latest/user/parallel.html#diagnostics for help.\n",
      "\u001b[1m\n",
      "File \"<ipython-input-1248-5e99dc2a3568>\", line 6:\u001b[0m\n",
      "\u001b[1m@jit(nopython=True,parallel=True,fastmath=True)\n",
      "\u001b[1mdef energy_moriya(phi,theta,phiantarray,thetaantarray,K1,K2,h,htheta,hphi,i,j):\n",
      "\u001b[0m\u001b[1m^\u001b[0m\u001b[0m\n",
      "\u001b[0m\u001b[0m\n",
      "  soma_dip+= energy_moriya(phi,theta,phiantarray,thetaantarray,K1,K2,h,htheta,hphi,i,j)\n",
      "<ipython-input-1253-b46c9430b6c7>:219: NumbaPerformanceWarning: \u001b[1m\u001b[1m\n",
      "The keyword argument 'parallel=True' was specified but no transformation for parallel execution was possible.\n",
      "\n",
      "To find out why, try turning on parallel diagnostics, see http://numba.pydata.org/numba-doc/latest/user/parallel.html#diagnostics for help.\n",
      "\u001b[1m\n",
      "File \"<ipython-input-1242-6610c5da891e>\", line 2:\u001b[0m\n",
      "\u001b[1m@jit(nopython=True,parallel=True,fastmath=True)\n",
      "\u001b[1mdef energy_interexchange_eb(phi,theta,phiantarray,thetaantarray,K1,K2,h,htheta,hphi,i,j):\n",
      "\u001b[0m\u001b[1m^\u001b[0m\u001b[0m\n",
      "\u001b[0m\u001b[0m\n",
      "  soma_dip+= energy_interexchange_eb(phi,theta,phiantarray,thetaantarray,K1,K2,h,htheta,hphi,i,j)\n",
      "<ipython-input-1253-b46c9430b6c7>:220: NumbaPerformanceWarning: \u001b[1m\u001b[1m\n",
      "The keyword argument 'parallel=True' was specified but no transformation for parallel execution was possible.\n",
      "\n",
      "To find out why, try turning on parallel diagnostics, see http://numba.pydata.org/numba-doc/latest/user/parallel.html#diagnostics for help.\n",
      "\u001b[1m\n",
      "File \"<ipython-input-1244-640ac1147f68>\", line 2:\u001b[0m\n",
      "\u001b[1m@jit(nopython=True,parallel=True,fastmath=True)\n",
      "\u001b[1mdef energy_interexchange_rma(phi,theta,phiantarray,thetaantarray,K1,K2,h,htheta,hphi,i,j):\n",
      "\u001b[0m\u001b[1m^\u001b[0m\u001b[0m\n",
      "\u001b[0m\u001b[0m\n",
      "  soma_dip+= energy_interexchange_rma(phi,theta,phiantarray,thetaantarray,K1,K2,h,htheta,hphi,i,j)\n"
     ]
    },
    {
     "data": {
      "text/plain": [
       "0.0"
      ]
     },
     "execution_count": 1259,
     "metadata": {},
     "output_type": "execute_result"
    }
   ],
   "source": [
    "energy_array_inter(1,0,phiantarray,thetaantarray,K1,K2,h,htheta,hphi,1,0)\n",
    "#print(beta)"
   ]
  },
  {
   "cell_type": "code",
   "execution_count": 1260,
   "metadata": {},
   "outputs": [
    {
     "data": {
      "text/plain": [
       "-5.01"
      ]
     },
     "execution_count": 1260,
     "metadata": {},
     "output_type": "execute_result"
    }
   ],
   "source": [
    "h"
   ]
  },
  {
   "cell_type": "code",
   "execution_count": 1261,
   "metadata": {},
   "outputs": [
    {
     "data": {
      "text/plain": [
       "'\\nar_pos=create_pos(np_order,NN2)\\n\\nar_pos[0][0]\\n\\nx_coord = [ar_pos[i][0] for i in range(NN2)]\\ny_coord = [ar_pos[i][1] for i in range(NN2)]\\nz_coord = [ar_pos[i][2] for i in range(NN2)]\\n\\nprint(x_coord)\\nprint(y_coord)\\nprint(z_coord)\\n'"
      ]
     },
     "execution_count": 1261,
     "metadata": {},
     "output_type": "execute_result"
    }
   ],
   "source": [
    "\"\"\"\n",
    "ar_pos=create_pos(np_order,NN2)\n",
    "\n",
    "ar_pos[0][0]\n",
    "\n",
    "x_coord = [ar_pos[i][0] for i in range(NN2)]\n",
    "y_coord = [ar_pos[i][1] for i in range(NN2)]\n",
    "z_coord = [ar_pos[i][2] for i in range(NN2)]\n",
    "\n",
    "print(x_coord)\n",
    "print(y_coord)\n",
    "print(z_coord)\n",
    "\"\"\""
   ]
  },
  {
   "cell_type": "code",
   "execution_count": 1262,
   "metadata": {},
   "outputs": [
    {
     "name": "stdout",
     "output_type": "stream",
     "text": [
      "1\n"
     ]
    },
    {
     "data": {
      "text/plain": [
       "1"
      ]
     },
     "execution_count": 1262,
     "metadata": {},
     "output_type": "execute_result"
    }
   ],
   "source": [
    "a,b=angles_vecs(NN2)\n",
    "int(sqrt(NN2))"
   ]
  },
  {
   "cell_type": "code",
   "execution_count": 1263,
   "metadata": {},
   "outputs": [
    {
     "data": {
      "text/plain": [
       "[0, 2]"
      ]
     },
     "execution_count": 1263,
     "metadata": {},
     "output_type": "execute_result"
    }
   ],
   "source": [
    "energy_vec=[0 for x in range(NN2)]\n",
    "\n",
    "energy_vec[1]=2\n",
    "\n",
    "energy_vec"
   ]
  },
  {
   "cell_type": "code",
   "execution_count": 1264,
   "metadata": {},
   "outputs": [
    {
     "name": "stderr",
     "output_type": "stream",
     "text": [
      "<ipython-input-1253-b46c9430b6c7>:219: NumbaPerformanceWarning: \u001b[1m\u001b[1m\n",
      "The keyword argument 'parallel=True' was specified but no transformation for parallel execution was possible.\n",
      "\n",
      "To find out why, try turning on parallel diagnostics, see http://numba.pydata.org/numba-doc/latest/user/parallel.html#diagnostics for help.\n",
      "\u001b[1m\n",
      "File \"<ipython-input-1242-6610c5da891e>\", line 2:\u001b[0m\n",
      "\u001b[1m@jit(nopython=True,parallel=True,fastmath=True)\n",
      "\u001b[1mdef energy_interexchange_eb(phi,theta,phiantarray,thetaantarray,K1,K2,h,htheta,hphi,i,j):\n",
      "\u001b[0m\u001b[1m^\u001b[0m\u001b[0m\n",
      "\u001b[0m\u001b[0m\n",
      "  soma_dip+= energy_interexchange_eb(phi,theta,phiantarray,thetaantarray,K1,K2,h,htheta,hphi,i,j)\n",
      "<ipython-input-1253-b46c9430b6c7>:220: NumbaPerformanceWarning: \u001b[1m\u001b[1m\n",
      "The keyword argument 'parallel=True' was specified but no transformation for parallel execution was possible.\n",
      "\n",
      "To find out why, try turning on parallel diagnostics, see http://numba.pydata.org/numba-doc/latest/user/parallel.html#diagnostics for help.\n",
      "\u001b[1m\n",
      "File \"<ipython-input-1244-640ac1147f68>\", line 2:\u001b[0m\n",
      "\u001b[1m@jit(nopython=True,parallel=True,fastmath=True)\n",
      "\u001b[1mdef energy_interexchange_rma(phi,theta,phiantarray,thetaantarray,K1,K2,h,htheta,hphi,i,j):\n",
      "\u001b[0m\u001b[1m^\u001b[0m\u001b[0m\n",
      "\u001b[0m\u001b[0m\n",
      "  soma_dip+= energy_interexchange_rma(phi,theta,phiantarray,thetaantarray,K1,K2,h,htheta,hphi,i,j)\n"
     ]
    },
    {
     "name": "stdout",
     "output_type": "stream",
     "text": [
      "0.0\n"
     ]
    }
   ],
   "source": [
    "import random\n",
    "\n",
    "phiantarray=np.array([random.random() for x in range(NN2*height)],dtype=np.float64)\n",
    "thetaantarray=np.array([random.random() for x in range(NN2*height)])\n",
    "h=0.16\n",
    "ii=1\n",
    "print(energy_array_inter(-0.8,-1.2,phiantarray,thetaantarray,K1,K2,h,htheta,hphi,ii,0))\n",
    "\n",
    "#phiantarray\n",
    "#thetaantarray"
   ]
  },
  {
   "cell_type": "code",
   "execution_count": 1265,
   "metadata": {},
   "outputs": [
    {
     "data": {
      "text/plain": [
       "array([0.63512371, 0.42797685])"
      ]
     },
     "execution_count": 1265,
     "metadata": {},
     "output_type": "execute_result"
    }
   ],
   "source": [
    "phiantarray"
   ]
  },
  {
   "cell_type": "code",
   "execution_count": 1266,
   "metadata": {},
   "outputs": [],
   "source": [
    "#@jit(nopython=True,parallel=True)\n",
    "@jit(nopython=True,fastmath=True)\n",
    "def free_energy(xx,K1,K2,h,htheta,hphi,Msat,i,phiantarray,thetaantarray):\n",
    "\n",
    "#    anis = anisotropy(xx[0],xx[1],K1,K2,h,htheta,hphi,Msat,i)\n",
    "    anis = anisotropy(xx[0],xx[1],K1,K2,h,htheta,hphi,Msat,i,phiantarray,thetaantarray)\n",
    "\n",
    "    zeeman = zeeman_energy(xx[0],xx[1],K1,K2,h,htheta,hphi,Msat,i)\n",
    "\n",
    "    inter = energy_array_inter(xx[0],xx[1],phiantarray,thetaantarray,K1,K2,h,htheta,hphi,i,0)\n",
    "#    inter = energy_array_inter(xx[0],xx[1],phiantarray,thetaantarray,K1,K2,h,htheta,hphi,3,0)\n",
    "    \n",
    "    expr_calc = anis + zeeman + inter\n",
    "    \n",
    "#    return np.array(expr_calc,dtype=np.float64)\n",
    "    return expr_calc\n",
    "    \n",
    "    "
   ]
  },
  {
   "cell_type": "code",
   "execution_count": 1267,
   "metadata": {},
   "outputs": [
    {
     "name": "stdout",
     "output_type": "stream",
     "text": [
      "-2.7862484019355467\n",
      "      fun: -4.957421301900093\n",
      " hess_inv: <2x2 LbfgsInvHessProduct with dtype=float64>\n",
      "      jac: array([0.0000000e+00, 8.8817842e-08])\n",
      "  message: b'CONVERGENCE: REL_REDUCTION_OF_F_<=_FACTR*EPSMCH'\n",
      "     nfev: 45\n",
      "      nit: 8\n",
      "   status: 0\n",
      "  success: True\n",
      "        x: array([0.98137784, 1.55178476])\n"
     ]
    },
    {
     "name": "stderr",
     "output_type": "stream",
     "text": [
      "<ipython-input-1266-69ff38b5522a>:8: NumbaPerformanceWarning: \u001b[1m\u001b[1m\n",
      "The keyword argument 'parallel=True' was specified but no transformation for parallel execution was possible.\n",
      "\n",
      "To find out why, try turning on parallel diagnostics, see http://numba.pydata.org/numba-doc/latest/user/parallel.html#diagnostics for help.\n",
      "\u001b[1m\n",
      "File \"<ipython-input-1224-4696f8b24567>\", line 5:\u001b[0m\n",
      "\u001b[1m@jit(nopython=True,parallel=True)\n",
      "\u001b[1mdef zeeman_energy(phi,theta,K1,K2,h,htheta,hphi,Msat,i):\n",
      "\u001b[0m\u001b[1m^\u001b[0m\u001b[0m\n",
      "\u001b[0m\u001b[0m\n",
      "  zeeman = zeeman_energy(xx[0],xx[1],K1,K2,h,htheta,hphi,Msat,i)\n"
     ]
    }
   ],
   "source": [
    "#testing!\n",
    "h=-5.01\n",
    "ii=1\n",
    "x0=np.array([0,1.57],dtype=np.float64)\n",
    "a=free_energy(np.array([0,1.57],dtype=np.float64),K1,K2,h,htheta,hphi,Msat,ii,phiantarray,thetaantarray)\n",
    "print(a)\n",
    "minxy=spmin(free_energy,x0,args=(K1,K2,h,htheta,hphi,Msat,ii,phiantarray,thetaantarray),bounds=[[-100*3.1415,100*3.1415],[-100*3.1415,100*3.1415]],tol=1e-100,options={'ftol': 1e-30})\n",
    "print(minxy)"
   ]
  },
  {
   "cell_type": "code",
   "execution_count": 1268,
   "metadata": {},
   "outputs": [],
   "source": [
    "hini,NN2,step\n",
    "from numba import vectorize,stencil"
   ]
  },
  {
   "cell_type": "code",
   "execution_count": 1269,
   "metadata": {},
   "outputs": [],
   "source": [
    "# the main program, where minimization of overall energy is performed!\n",
    "\n",
    "\n",
    "\n",
    "#@jit(nopython=True)\n",
    "#@jit(fastmath=True)\n",
    "#@vectorize\n",
    "#@stencil\n",
    "def hysteresis_inter(NN2,Msat,hpasso,hphi):\n",
    "    \n",
    "    \n",
    "    hnow=hini/Msat\n",
    "    \n",
    "#    hnowlist=np.array([])\n",
    "#    maglist=np.array([])\n",
    "#    maglistend=np.array([])\n",
    "\n",
    "\n",
    "    hnowlist=np.empty(step+1)\n",
    "    maglist=np.zeros(NN2*height+1)\n",
    "    maglistend=np.array([])\n",
    "\n",
    "\n",
    "    Msat0=Msat\n",
    "#    for particle in range(NN2):\n",
    "#    for i in range(1,int(step+1)):\n",
    "\n",
    "    Msat=Msat0\n",
    "#    maglistend0=np.array([[]])\n",
    "    maglistend0 = np.empty(step, dtype=object)\n",
    "#    maglistend0 = np.zeros(step, dtype=np.float64)\n",
    "    \n",
    "    hnow=hini/Msat\n",
    "    htest=np.array([])\n",
    "    hlist=np.array([])\n",
    "\n",
    "\n",
    "#    for i in range(1,step+1):\n",
    "\n",
    "#    print(hphi,Kf,Kf_bi)\n",
    "    for i in range(1,step+1):\n",
    "#    for i in tnrange(step+1,desc='Calculation Progress'):\n",
    "\n",
    "        if(i==0):\n",
    "            continue\n",
    "        \n",
    "        if(hnow>=0):\n",
    "            coefmag=(1+(step/2-i)*2*stepmag)\n",
    "#            coefmag=(1-(step/2-i)*stepmag)\n",
    "        else:\n",
    "            coefmag=(1+(i-step/2)*2*stepmag)\n",
    "#            coefmag=(1-(i-step/2)*stepmag)\n",
    "        \n",
    "#        phiantarraynew=np.array([])\n",
    "#        thetaantarraynew=np.array([])\n",
    "        phiantarraynew=np.empty(NN2*height)\n",
    "        thetaantarraynew=np.empty(NN2*height)\n",
    "        \n",
    "#        for i in range(1,int(step+1)):\n",
    "        for particle in range(NN2*height):\n",
    "            \n",
    "#            print(particle,'particle')\n",
    "            \n",
    "                \n",
    "#            print(coefmag,'coefmag')\n",
    "#            print(i,'i loop')\n",
    "            if(i==1):\n",
    "            \n",
    "                angx=hphi#+np.pi\n",
    "                angy=htheta#+np.pi\n",
    "                \n",
    "                phiantarray_vai=np.array([hphi for x in range(NN2*height)],dtype=np.float64)\n",
    "                thetaantarray_vai=np.array([htheta for x in range(NN2*height)],dtype=np.float64)\n",
    "#                phiantarray=np.array(phiantarray)\n",
    "#                thetaantarray=np.array(thetaantarray)\n",
    "                \n",
    "#                print(phiantarray_vai)\n",
    "\n",
    "                h=hnow\n",
    "                    \n",
    "                Msat=Msat0*coefmag\n",
    "                \n",
    "                angx=phiantarray_vai[particle]\n",
    "                angy=thetaantarray_vai[particle]\n",
    "                \n",
    "                x0=np.array([angx,angy],dtype=np.float64)\n",
    "                \n",
    "#                print(x0,'x0')\n",
    "#                minxy=spmin(free_energy,[x0],args=(K1,K2,h,htheta,hphi,Msat),bounds=[[-100*3.1415,100*3.1415],[-100*3.1415,100*3.1415]],tol=1e-100,options={'ftol': 1e-30})\n",
    "#                minxy=spmin(free_energy,x0,args=(K1,K2,h,htheta,hphi,Msat,particle,phiantarray_vai,thetaantarray_vai),bounds=[[-100*3.1415,100*3.1415],[-100*3.1415,100*3.1415]],tol=1e-100,options={'ftol': 1e-30})\n",
    "#                minxy=spmin(free_energy,x0,args=(K1,K2,h,htheta,hphi,Msat,particle,phiantarray_vai,thetaantarray_vai),bounds=[[-2000*3.1415,4000*3.1415],[-1000*3.1415,2000*3.1415]],tol=1e-100,options={'ftol': 1e-30})\n",
    "                minxy=scipy.optimize.minimize(free_energy,x0,args=(K1,K2,h,htheta,hphi,Msat,particle,phiantarray_vai,thetaantarray_vai),bounds=[[-2000*3.1415,4000*3.1415],[-1000*3.1415,2000*3.1415]],tol=1e-400,options={'ftol': 1e-300})\n",
    "                \n",
    "#                print('chegaaqui')\n",
    "            \n",
    "                angx=minxy.x[0]\n",
    "                angy=minxy.x[1]\n",
    "                #print(angx,'angx')\n",
    "#                phiantarraynew.append(angx)\n",
    "#                thetaantarraynew.append(angy)\n",
    "#                phiantarraynew=np.append(phiantarraynew,angx)\n",
    "#                thetaantarraynew=np.append(thetaantarraynew,angy)\n",
    "                phiantarraynew[particle] = angx\n",
    "                thetaantarraynew[particle] = angy\n",
    "\n",
    "        \n",
    "        \n",
    "        \n",
    "        \n",
    "#                print(phiantarraynew,np.array([angx]))\n",
    "#                dfsol=minxy.x[2]\n",
    "#                print(phiantarraynew)\n",
    "#                hlist.append(hnow*Msat)\n",
    "#                maglist.append(coefmag*((np.sin(htheta)*np.sin(angy)*np.cos(angx-hphi)+np.cos(htheta)*np.cos(angy))))\n",
    "#                maglist=np.append(maglist,coefmag*((np.sin(htheta)*np.sin(angy)*np.cos(angx-hphi)+np.cos(htheta)*np.cos(angy))))\n",
    "                maglist[particle] = coefmag*((np.sin(htheta)*np.sin(angy)*np.cos(angx-hphi)+np.cos(htheta)*np.cos(angy)))\n",
    "\n",
    "                if(particle==NN2*height-1):\n",
    "                    phiantarraynew2=np.copy(phiantarraynew)\n",
    "                    thetaantarraynew2=np.copy(thetaantarraynew)\n",
    "#                    print(phiantarraynew)\n",
    "                    \n",
    "#                phiantarraynew=[]\n",
    "#                thetaantarraynew=[]\n",
    "#            hnow=hnow+hpasso/Msat\n",
    "\n",
    "#            hnowlist.append(hnow*Msat)\n",
    "#            hnowlist=np.append(hnowlist,hnow*Msat)\n",
    "\n",
    "            \n",
    "#            print(i,'ii')    \n",
    "#            print(phiantarraynew2,'phiant2')\n",
    "#            print(maglist,'maglist')\n",
    "\n",
    "#            phiantarraynew=[]\n",
    "#            thetaantarraynew=[]\n",
    "            \n",
    "            \n",
    "            if(i!=1):\n",
    "                \n",
    "                if(particle==0):\n",
    "                    phiantarray_vai=np.copy(phiantarraynew2)\n",
    "                    thetaantarray_vai=np.copy(thetaantarraynew2)\n",
    "#                print(phiantarray_vai)\n",
    "\n",
    "#                phiantarray=np.array(phiantarray)\n",
    "#                thetaantarray=np.array(thetaantarray)\n",
    "#                print(phiantarray,'secondphiantarray')\n",
    "\n",
    "                angx=phiantarray_vai[particle]\n",
    "                angy=thetaantarray_vai[particle]\n",
    "                \n",
    "                Msat=Msat0*coefmag\n",
    "                #            x0=np.array([angx,angy,dfsol],dtype=\"float\")\n",
    "                x0=np.array([angx,angy],dtype=np.float64)\n",
    "                h=hnow\n",
    "                \n",
    "#                minxy=spmin(free_energy,x0,args=(K1,K2,h,htheta,hphi,Msat),bounds=[[-10000*3.1415,10000*3.1415],[-10000*3.1415,10000*3.1415]],tol=1e-100,options={'ftol': 1e-30})\n",
    "#                minxy=spmin(free_energy,x0,args=(K1,K2,h,htheta,hphi,Msat,particle,phiantarray_vai,thetaantarray_vai),bounds=[[-10000*3.1415,10000*3.1415],[-10000*3.1415,10000*3.1415]],tol=1e-100,options={'ftol': 1e-30})\n",
    "#                minxy=spmin(free_energy,x0,args=(K1,K2,h,htheta,hphi,Msat,particle,phiantarray_vai,thetaantarray_vai),bounds=[[-2000*3.1415,4000*3.1415],[-1000*3.1415,2000*3.1415]],tol=1e-100,options={'ftol': 1e-30})\n",
    "#                minxy=scipy.optimize.minimize(free_energy,x0,args=(K1,K2,h,htheta,hphi,Msat,particle,phiantarray_vai,thetaantarray_vai),method='nelder-mead',tol=1e-400,options={'ftol': 1e-300})\n",
    "                minxy=scipy.optimize.minimize(free_energy,x0,args=(K1,K2,h,htheta,hphi,Msat,particle,phiantarray_vai,thetaantarray_vai),bounds=[[-2000*3.1415,4000*3.1415],[-1000*3.1415,2000*3.1415]],tol=1e-400,options={'ftol': 1e-300})\n",
    "                \n",
    "                angx=minxy.x[0]\n",
    "                angy=minxy.x[1]\n",
    "#                phiantarraynew.append(angx)\n",
    "#                thetaantarraynew.append(angy)\n",
    "#                phiantarraynew=np.append(phiantarraynew,angx)\n",
    "#                thetaantarraynew=np.append(thetaantarraynew,angy)\n",
    "                phiantarraynew[particle] = angx\n",
    "                thetaantarraynew[particle] = angy\n",
    "        \n",
    "#                maglist.append(coefmag*((np.sin(htheta)*np.sin(angy)*np.cos(angx-hphi)+np.cos(htheta)*np.cos(angy))))\n",
    "\n",
    "#                maglist=np.append(maglist,coefmag*((np.sin(htheta)*np.sin(angy)*np.cos(angx-hphi)+np.cos(htheta)*np.cos(angy))))\n",
    "                maglist[particle] = coefmag*((np.sin(htheta)*np.sin(angy)*np.cos(angx-hphi)+np.cos(htheta)*np.cos(angy)))\n",
    "            \n",
    "#                hlist.append(hnow*Msat)\n",
    "#                phiantarraynew3=np.copy(phiantarraynew)\n",
    "#                thetaantarraynew3=np.copy(thetaantarraynew)\n",
    "#                phiantarraynew=[]\n",
    "#                thetaantarraynew=[]\n",
    "\n",
    "#                htest.append(minxy)\n",
    "#                htest=np.append(htest,minxy)\n",
    "\n",
    "                \n",
    "                if(particle==NN2*height-1):\n",
    "                    phiantarraynew2=np.copy(phiantarraynew)\n",
    "                    thetaantarraynew2=np.copy(thetaantarraynew)\n",
    "                    phiantarraynew=[]\n",
    "                    thetaantarraynew=[]\n",
    "#                    print(thetaantarraynew2)\n",
    "#            hnow=hnow+hpasso/Msat\n",
    "\n",
    "#            hnowlist.append(hnow*Msat)\n",
    "#        hnowlist=np.append(hnowlist,hnow*Msat)\n",
    "        hnowlist[i] = hnow*Msat\n",
    "            \n",
    "            #phiantarraynew=[]\n",
    "            #thetaantarraynew=[]\n",
    "\n",
    "#        hlist.append(hnow*Msat)\n",
    "        hlist=np.append(hlist,hnow*Msat)\n",
    "        if(i==int(step/2)):\n",
    "            hpasso=-hpasso\n",
    "            \n",
    "            \n",
    "        hnow=hnow+2*hpasso/Msat            \n",
    "#        hnow=hnow+1*hpasso/Msat            \n",
    "#        if(hnow>0.):\n",
    "#            break\n",
    "\n",
    "#        maglistend0.append(np.array(maglist)) \n",
    "#        maglist=[]\n",
    "#        print(maglist,'maglist')\n",
    "        if(i==1):\n",
    "#            maglistend0=np.array([maglist])\n",
    "            maglistend0[i-1] = maglist\n",
    "        else:\n",
    "#            maglistend0=np.concatenate((maglistend0,np.array([maglist])),axis=0)\n",
    "            maglistend0[i-1] = maglist\n",
    "#            print(len(maglist),'lenmag')\n",
    "#        maglist=np.array([])\n",
    "        maglist=np.zeros(NN2*height+1)\n",
    "            \n",
    "#    print(maglistend0)\n",
    "#    print(len(maglistend0))\n",
    "#    maglistend2=np.array([])\n",
    "    maglistend2=np.empty(step)\n",
    "\n",
    "    for j in range(len(maglistend0)):\n",
    "        soma=0\n",
    "        for i in range(len(maglistend0[0])):\n",
    "            try:\n",
    "                soma+=maglistend0[j][i]\n",
    "            except:\n",
    "                continue\n",
    "#        maglistend2.append(soma/NN2)\n",
    "#        maglistend2=np.append(maglistend2,soma/NN2)\n",
    "#        print(soma/NN2,'soma')\n",
    "        maglistend2[j]=soma/NN2/height\n",
    "#        print(maglistend2[i],'aq')\n",
    "#    maglistend.append(np.array(maglistend2)) \n",
    "#    maglistend=np.append(maglistend,maglistend2)\n",
    "    maglistend=maglistend2\n",
    "\n",
    "#    print(len(maglistend),'lastmagend')\n",
    "#    hlist=[((hini+hpasso*x)) for x in range(step)]\n",
    "#    print(len(htest),'htest')\n",
    "    \n",
    "    return maglistend,hlist,htest,hnowlist\n",
    "\n",
    "\n"
   ]
  },
  {
   "cell_type": "code",
   "execution_count": null,
   "metadata": {},
   "outputs": [],
   "source": []
  },
  {
   "cell_type": "code",
   "execution_count": null,
   "metadata": {},
   "outputs": [],
   "source": []
  },
  {
   "cell_type": "code",
   "execution_count": null,
   "metadata": {},
   "outputs": [],
   "source": []
  },
  {
   "cell_type": "code",
   "execution_count": null,
   "metadata": {},
   "outputs": [],
   "source": []
  },
  {
   "cell_type": "code",
   "execution_count": null,
   "metadata": {},
   "outputs": [],
   "source": []
  },
  {
   "cell_type": "code",
   "execution_count": null,
   "metadata": {},
   "outputs": [],
   "source": []
  },
  {
   "cell_type": "code",
   "execution_count": null,
   "metadata": {},
   "outputs": [],
   "source": []
  },
  {
   "cell_type": "code",
   "execution_count": 1124,
   "metadata": {},
   "outputs": [
    {
     "name": "stderr",
     "output_type": "stream",
     "text": [
      "/home/vagner/anaconda3/lib/python3.6/site-packages/ipykernel_launcher.py:12: TqdmDeprecationWarning: Please use `tqdm.notebook.trange` instead of `tqdm.tnrange`\n",
      "  if sys.path[0] == '':\n"
     ]
    },
    {
     "data": {
      "application/vnd.jupyter.widget-view+json": {
       "model_id": "41194d7c303545cd9cd476ec76902fbc",
       "version_major": 2,
       "version_minor": 0
      },
      "text/plain": [
       "HBox(children=(FloatProgress(value=0.0, max=19.0), HTML(value='')))"
      ]
     },
     "metadata": {},
     "output_type": "display_data"
    },
    {
     "name": "stdout",
     "output_type": "stream",
     "text": [
      "1.93212112975516e-12 0.99999022396111\n",
      "-6.722861156660542e-11 0.9855703930629416\n",
      "6.212863001842095e-10 0.9412346812232872\n",
      "-7.632243170796471e-10 0.8683275244818647\n",
      "-1.6761653176544655e-10 0.7690600219076511\n",
      "0.38739862743255526 0.25904461257518707\n",
      "0.040854897165675 0.46334241479656113\n",
      "-0.03221596752402536 0.37885504992474683\n",
      "0.020442536565737274 -0.2743982834578371\n",
      "-2.813161120718277e-09 -0.2929489481290274\n",
      "1.6215144504894141e-09 -0.3225411312243849\n",
      "-5.501511912697765e-09 -0.34188091421471206\n",
      "-4.392038954748045e-09 -0.35041710962250805\n",
      "5.278674553022e-09 -0.3479109520101138\n",
      "1.1056289883626391e-08 -0.33444106644085925\n",
      "-4.577340451117351e-10 -0.31040073417600755\n",
      "-1.1163978075323655e-10 -0.2764879017287316\n",
      "1.735802085400806e-09 -0.23368789837463558\n",
      "3.812209756204332e-09 -0.21233798677404775\n",
      "\n",
      "70.3092086315155\n"
     ]
    }
   ],
   "source": [
    "import time\n",
    "start=time.time()\n",
    "#m_inter,h_inter,h_test,hnowlist = hysteresis_inter(NN2,Msat,hpasso)\n",
    "divphi=18\n",
    "phi_ini=0*3.14515/4.\n",
    "phi_final=1*3.1415+0*3.1415/4.\n",
    "phi_step=(phi_final-phi_ini)/divphi\n",
    "hphi=phi_ini\n",
    "\n",
    "list_mrem=[]\n",
    "list_mrem_eb=[]\n",
    "for l in tnrange(divphi+1):\n",
    "#for l in tnrange(1):\n",
    "    m_inter,h_inter,h_test,hnowlist = hysteresis_inter(NN2,Msat,hpasso,hphi)\n",
    "#    mrem=m_inter[step-1]\n",
    "    mrem_1=m_inter[int(len(m_inter)/4.)-1]\n",
    "    mrem_2=m_inter[int(3*len(m_inter)/4.)-1]\n",
    "    \n",
    "    mrem_eb=(mrem_1+mrem_2)/2.\n",
    "    mrem_c=(mrem_1-mrem_2)/2.\n",
    "    \n",
    "    print(mrem_c,mrem_eb)\n",
    "    list_mrem.append([phi_ini,mrem_c])\n",
    "    list_mrem_eb.append([phi_ini,mrem_eb])\n",
    "    phi_ini+=phi_step\n",
    "    hphi+=phi_step\n",
    "    \n",
    "    \n",
    "list_mrem=np.array(list_mrem)\n",
    "    \n",
    "stop=time.time()\n",
    "print(-start+stop)"
   ]
  },
  {
   "cell_type": "code",
   "execution_count": 1127,
   "metadata": {},
   "outputs": [
    {
     "data": {
      "text/plain": [
       "array([0.84469285, 0.84447166, 0.84425042, ..., 0.84447167, 0.84469285,\n",
       "       0.84491395])"
      ]
     },
     "execution_count": 1127,
     "metadata": {},
     "output_type": "execute_result"
    }
   ],
   "source": [
    "m_inter"
   ]
  },
  {
   "cell_type": "code",
   "execution_count": 1128,
   "metadata": {},
   "outputs": [
    {
     "data": {
      "text/plain": [
       "array([[ 0.00000000e+00,  1.93212113e-12],\n",
       "       [ 1.74527778e-01, -6.72286116e-11],\n",
       "       [ 3.49055556e-01,  6.21286300e-10],\n",
       "       [ 5.23583333e-01, -7.63224317e-10],\n",
       "       [ 6.98111111e-01, -1.67616532e-10],\n",
       "       [ 8.72638889e-01,  3.87398627e-01],\n",
       "       [ 1.04716667e+00,  4.08548972e-02],\n",
       "       [ 1.22169444e+00, -3.22159675e-02],\n",
       "       [ 1.39622222e+00,  2.04425366e-02],\n",
       "       [ 1.57075000e+00, -2.81316112e-09],\n",
       "       [ 1.74527778e+00,  1.62151445e-09],\n",
       "       [ 1.91980556e+00, -5.50151191e-09],\n",
       "       [ 2.09433333e+00, -4.39203895e-09],\n",
       "       [ 2.26886111e+00,  5.27867455e-09],\n",
       "       [ 2.44338889e+00,  1.10562899e-08],\n",
       "       [ 2.61791667e+00, -4.57734045e-10],\n",
       "       [ 2.79244444e+00, -1.11639781e-10],\n",
       "       [ 2.96697222e+00,  1.73580209e-09],\n",
       "       [ 3.14150000e+00,  3.81220976e-09]])"
      ]
     },
     "execution_count": 1128,
     "metadata": {},
     "output_type": "execute_result"
    }
   ],
   "source": [
    "list_mrem"
   ]
  },
  {
   "cell_type": "code",
   "execution_count": 1129,
   "metadata": {},
   "outputs": [],
   "source": [
    "x_rem=[]\n",
    "y_rem=[]\n",
    "\n",
    "for i in range(len(list_mrem)):\n",
    "    x_rem.append(list_mrem[i][0])\n",
    "    y_rem.append(list_mrem[i][1])    \n",
    "    \n",
    "x_rem_eb=[]\n",
    "y_rem_eb=[]\n",
    "\n",
    "for i in range(len(list_mrem_eb)):\n",
    "    x_rem_eb.append(list_mrem_eb[i][0])\n",
    "    y_rem_eb.append(list_mrem_eb[i][1])    \n",
    "    "
   ]
  },
  {
   "cell_type": "code",
   "execution_count": 1130,
   "metadata": {},
   "outputs": [],
   "source": [
    "y_rem=abs(np.array(y_rem))"
   ]
  },
  {
   "cell_type": "code",
   "execution_count": 1131,
   "metadata": {},
   "outputs": [
    {
     "data": {
      "text/plain": [
       "0.020442536565737274"
      ]
     },
     "execution_count": 1131,
     "metadata": {},
     "output_type": "execute_result"
    }
   ],
   "source": [
    "y_rem[8]"
   ]
  },
  {
   "cell_type": "code",
   "execution_count": 1132,
   "metadata": {},
   "outputs": [
    {
     "data": {
      "text/plain": [
       "[<matplotlib.lines.Line2D at 0x7f977e7337b8>]"
      ]
     },
     "execution_count": 1132,
     "metadata": {},
     "output_type": "execute_result"
    },
    {
     "data": {
      "image/png": "[encoded data removed]",
      "text/plain": [
       "<Figure size 432x288 with 1 Axes>"
      ]
     },
     "metadata": {
      "needs_background": "light"
     },
     "output_type": "display_data"
    }
   ],
   "source": [
    "\n",
    "plt.polar(x_rem,y_rem,'v')\n"
   ]
  },
  {
   "cell_type": "code",
   "execution_count": 1135,
   "metadata": {},
   "outputs": [
    {
     "data": {
      "image/png": "[encoded data removed]",
      "text/plain": [
       "<Figure size 432x288 with 1 Axes>"
      ]
     },
     "metadata": {
      "needs_background": "light"
     },
     "output_type": "display_data"
    }
   ],
   "source": [
    "import matplotlib.pyplot as plt\n",
    "\n",
    "\n",
    "plt.scatter(x_rem, abs(np.array(y_rem)), marker = 'x')\n",
    "plt.show()"
   ]
  },
  {
   "cell_type": "code",
   "execution_count": 1136,
   "metadata": {},
   "outputs": [
    {
     "data": {
      "image/png": "[encoded data removed]",
      "text/plain": [
       "<Figure size 432x288 with 1 Axes>"
      ]
     },
     "metadata": {
      "needs_background": "light"
     },
     "output_type": "display_data"
    }
   ],
   "source": [
    "import matplotlib.pyplot as plt\n",
    "\n",
    "ax = plt.subplot(111, projection='polar')\n",
    "ax.plot(x_rem, abs(np.array(y_rem)), marker = 'x')\n",
    "ax.set_rmax(0.5)\n",
    "ax.set_rmin(0)\n",
    "plt.show()"
   ]
  },
  {
   "cell_type": "code",
   "execution_count": 1137,
   "metadata": {},
   "outputs": [
    {
     "data": {
      "image/png": "[encoded data removed]",
      "text/plain": [
       "<Figure size 432x288 with 1 Axes>"
      ]
     },
     "metadata": {
      "needs_background": "light"
     },
     "output_type": "display_data"
    }
   ],
   "source": [
    "import matplotlib.pyplot as plt\n",
    "\n",
    "ax = plt.subplot(111, projection='polar')\n",
    "ax.plot(x_rem_eb, abs(np.array(y_rem_eb)), marker = 'x')\n",
    "ax.set_rmax(0.99)\n",
    "ax.set_rmin(0)\n",
    "plt.show()"
   ]
  },
  {
   "cell_type": "code",
   "execution_count": 1138,
   "metadata": {},
   "outputs": [
    {
     "name": "stdout",
     "output_type": "stream",
     "text": [
      "0\t935\n",
      "\n"
     ]
    }
   ],
   "source": [
    "# experimental data\n",
    "path='/home/vagner/Desktop/galfenol/galmrtheta.txt'\n",
    "#path='/home/vagner/Desktop/galfenol/gal90deg.txt'\n",
    "#path='/home/vagner/Desktop/galfenol/gal50deg.txt'\n",
    "#path = '/home/vagner/Desktop/galfenol/gal0deg.txt'\n",
    "\n",
    "hexp10ktube = open(path,'r')\n",
    "hexp=hexp10ktube.readlines()\n",
    "\n",
    "print(hexp[0])\n",
    "#print(a1[0][1])\n",
    "\n",
    "theta_on=[]\n",
    "mexp_on=[]\n",
    "hexp10ktube.close()\n",
    "for i in range(len(hexp)):\n",
    "    listexp=hexp[i].split('\\t')\n",
    "    theta_on.append(float(listexp[0]))\n",
    "    mexp_on.append(float(listexp[1].split('\\n')[0]))\n",
    "\n",
    "\n",
    "\n"
   ]
  },
  {
   "cell_type": "code",
   "execution_count": 1139,
   "metadata": {},
   "outputs": [],
   "source": [
    "#mexp_on=np.array(mexp_on)/1214.\n",
    "mexp_on=np.array(mexp_on)/1050."
   ]
  },
  {
   "cell_type": "code",
   "execution_count": 1140,
   "metadata": {},
   "outputs": [],
   "source": [
    "theta_on=np.array(theta_on)/180.0*3.1415"
   ]
  },
  {
   "cell_type": "code",
   "execution_count": 1141,
   "metadata": {},
   "outputs": [
    {
     "data": {
      "text/plain": [
       "array([0.89047619, 0.93761905, 0.98533333, 0.98095238, 0.96914286,\n",
       "       0.96346667, 0.95428571, 0.81571429, 0.78338095, 0.67871429,\n",
       "       0.70964762, 0.76548571, 0.79199048, 0.85672381, 0.87092381,\n",
       "       0.88038095, 0.86684762, 0.8426    , 0.82254286])"
      ]
     },
     "execution_count": 1141,
     "metadata": {},
     "output_type": "execute_result"
    }
   ],
   "source": [
    "mexp_on"
   ]
  },
  {
   "cell_type": "code",
   "execution_count": 1142,
   "metadata": {},
   "outputs": [
    {
     "data": {
      "text/plain": [
       "[<matplotlib.lines.Line2D at 0x7f977fc9f048>]"
      ]
     },
     "execution_count": 1142,
     "metadata": {},
     "output_type": "execute_result"
    },
    {
     "data": {
      "image/png": "[encoded data removed]",
      "text/plain": [
       "<Figure size 432x288 with 1 Axes>"
      ]
     },
     "metadata": {
      "needs_background": "light"
     },
     "output_type": "display_data"
    }
   ],
   "source": [
    "plt.polar(theta_on,mexp_on,'ro')"
   ]
  },
  {
   "cell_type": "code",
   "execution_count": 1143,
   "metadata": {},
   "outputs": [
    {
     "data": {
      "text/plain": [
       "0.9853333333333333"
      ]
     },
     "execution_count": 1143,
     "metadata": {},
     "output_type": "execute_result"
    }
   ],
   "source": [
    "max(mexp_on)"
   ]
  },
  {
   "cell_type": "code",
   "execution_count": 1144,
   "metadata": {},
   "outputs": [
    {
     "data": {
      "text/plain": [
       "[<matplotlib.lines.Line2D at 0x7f9784043208>]"
      ]
     },
     "execution_count": 1144,
     "metadata": {},
     "output_type": "execute_result"
    },
    {
     "data": {
      "image/png": "[encoded data removed]",
      "text/plain": [
       "<Figure size 432x288 with 1 Axes>"
      ]
     },
     "metadata": {
      "needs_background": "light"
     },
     "output_type": "display_data"
    }
   ],
   "source": [
    "plt.polar(theta_on,mexp_on/max(mexp_on),'ro')\n",
    "#plt.polar(theta_on,mexp_on/1,'ro')\n",
    "plt.polar(x_rem,np.array(y_rem)*1,'ro',color='b')\n"
   ]
  },
  {
   "cell_type": "code",
   "execution_count": 1145,
   "metadata": {},
   "outputs": [
    {
     "data": {
      "image/png": "[encoded data removed]",
      "text/plain": [
       "<Figure size 432x288 with 1 Axes>"
      ]
     },
     "metadata": {
      "needs_background": "light"
     },
     "output_type": "display_data"
    }
   ],
   "source": [
    "import matplotlib.pyplot as plt\n",
    "\n",
    "ax = plt.subplot(111, projection='polar')\n",
    "l1=ax.plot(x_rem, abs(np.array(y_rem)), marker = 'v',color='black',label='Simulation')\n",
    "#l2=ax.plot(theta_on, mexp_on/1, marker = 'o',color='red',label='Experimental')\n",
    "\n",
    "#l2=ax.plot(theta_on, mexp_on/max(mexp_on), marker = 'o',color='red',label='Experimental')\n",
    "\n",
    "ax.legend()\n",
    "#plt.legend((l1,l2),('90 deg','50 deg'),fontsize=20)\n",
    "\n",
    "ax.set_rmax(1.0)\n",
    "ax.set_rmin(0)\n",
    "\n",
    "# filme\n",
    "#plt.savefig(\"polarplot_mr_intermoriyaquadratic\")\n",
    "#plt.savefig(\"polarplot_mr_interdipolar\")\n",
    "#plt.savefig(\"polarplot_mr_interexchange\")\n",
    "#plt.savefig(\"polarplot_mr_intermoriya\")\n",
    "#plt.savefig(\"polarplot_mr_intermoriyamultichiralspin\")\n",
    "#plt.savefig(\"polarplot_mr_interexchangebiquad\")\n",
    "\n",
    "# nanomembrane!\n",
    "#plt.savefig(\"polarplot_mr_intermoriyamultichiralspin_nmb\")\n",
    "#plt.savefig(\"polarplot_mr_interdipolar_nmb\")\n",
    "#plt.savefig(\"polarplot_mr_interdipolar_nmb_longer\")\n",
    "\n",
    "\n",
    "plt.show()"
   ]
  },
  {
   "cell_type": "code",
   "execution_count": null,
   "metadata": {},
   "outputs": [],
   "source": []
  },
  {
   "cell_type": "code",
   "execution_count": null,
   "metadata": {},
   "outputs": [],
   "source": []
  },
  {
   "cell_type": "code",
   "execution_count": null,
   "metadata": {},
   "outputs": [],
   "source": []
  },
  {
   "cell_type": "code",
   "execution_count": 954,
   "metadata": {},
   "outputs": [
    {
     "data": {
      "text/plain": [
       "18.4"
      ]
     },
     "execution_count": 954,
     "metadata": {},
     "output_type": "execute_result"
    }
   ],
   "source": [
    "hini"
   ]
  },
  {
   "cell_type": "code",
   "execution_count": 1270,
   "metadata": {},
   "outputs": [
    {
     "data": {
      "text/plain": [
       "3.769911184307752"
      ]
     },
     "execution_count": 1270,
     "metadata": {},
     "output_type": "execute_result"
    }
   ],
   "source": [
    "Jeff_EB*Msat"
   ]
  },
  {
   "cell_type": "code",
   "execution_count": 1271,
   "metadata": {},
   "outputs": [
    {
     "data": {
      "text/plain": [
       "3.7699111843077517"
      ]
     },
     "execution_count": 1271,
     "metadata": {},
     "output_type": "execute_result"
    }
   ],
   "source": [
    "Kf1/Msat"
   ]
  },
  {
   "cell_type": "code",
   "execution_count": null,
   "metadata": {},
   "outputs": [],
   "source": []
  },
  {
   "cell_type": "code",
   "execution_count": 1272,
   "metadata": {},
   "outputs": [
    {
     "name": "stderr",
     "output_type": "stream",
     "text": [
      "/home/vagner/anaconda3/lib/python3.6/site-packages/ipykernel_launcher.py:12: TqdmDeprecationWarning: Please use `tqdm.notebook.trange` instead of `tqdm.tnrange`\n",
      "  if sys.path[0] == '':\n"
     ]
    },
    {
     "data": {
      "application/vnd.jupyter.widget-view+json": {
       "model_id": "6e780ce399c14b2fbe2b7c329dce6de8",
       "version_major": 2,
       "version_minor": 0
      },
      "text/plain": [
       "HBox(children=(FloatProgress(value=0.0, max=145.0), HTML(value='')))"
      ]
     },
     "metadata": {},
     "output_type": "display_data"
    },
    {
     "name": "stdout",
     "output_type": "stream",
     "text": [
      "-3.141592653589793 -20.18683333333349\n",
      "-3.097959422289935 -19.367833333333483\n",
      "-3.0543261909900767 -18.38200000000014\n",
      "-3.0106929596902186 -17.396166666666797\n",
      "-2.9670597283903604 -17.259666666666796\n",
      "-2.923426497090502 -15.940166666666787\n",
      "-2.879793265790644 -15.424500000000114\n",
      "-2.836160034490786 -14.999833333333445\n",
      "-2.7925268031909276 -14.63583333333344\n",
      "-2.7488935718910694 -14.378000000000107\n",
      "-2.7052603405912112 -14.165666666666771\n",
      "-2.661627109291353 -14.014000000000102\n",
      "-2.617993877991495 -13.923000000000103\n",
      "-2.5743606466916367 -13.892666666666768\n",
      "-2.5307274153917785 -13.907833333333436\n",
      "-2.4870941840919203 -13.968500000000102\n",
      "-2.443460952792062 -14.105000000000103\n",
      "-2.399827721492204 -14.302166666666771\n",
      "-2.3561944901923457 -14.575166666666775\n",
      "-2.3125612588924875 -14.954333333333445\n",
      "-2.2689280275926293 -15.424500000000116\n",
      "-2.225294796292771 -16.046333333333454\n",
      "-2.181661564992913 -16.895666666666795\n",
      "-2.138028333693055 -18.09383333333347\n",
      "-2.0943951023931966 -19.716666666666818\n",
      "-2.0507618710933384 -18.35166666666681\n",
      "-2.00712863979348 -17.062500000000128\n",
      "-1.963495408493622 -19.716666666666818\n",
      "-1.9198621771937638 -14.772333333333442\n",
      "-1.8762289458939057 -14.711666666666774\n",
      "-1.8325957145940475 -13.255666666666762\n",
      "-1.7889624832941893 -11.739000000000082\n",
      "-1.745329251994331 -11.405333333333413\n",
      "-1.701696020694473 -11.238500000000078\n",
      "-1.6580627893946147 -11.117166666666742\n",
      "-1.6144295580947565 -11.056500000000076\n",
      "-1.5707963267948983 -11.04133333333341\n",
      "-1.5271630954950401 -11.056500000000076\n",
      "-1.483529864195182 -11.13233333333341\n",
      "-1.4398966328953238 -11.22333333333341\n",
      "-1.3962634015954656 -11.390166666666746\n",
      "-1.3526301702956074 -11.875500000000084\n",
      "-1.3089969389957492 -11.890666666666752\n",
      "-1.265363707695891 -14.848166666666778\n",
      "-1.2217304763960328 -15.727833333333452\n",
      "-1.1780972450961746 -15.652000000000116\n",
      "-1.1344640137963165 -19.04933333333348\n",
      "-1.0908307824964583 -19.155500000000146\n",
      "-1.0471975511966 -19.049333333333482\n",
      "-1.0035643198967419 -17.441666666666798\n",
      "-0.9599310885968837 -16.349666666666792\n",
      "-0.9162978572970255 -15.576166666666785\n",
      "-0.8726646259971673 -14.999833333333443\n",
      "-0.8290313946973091 -14.54483333333344\n",
      "-0.7853981633974509 -14.211166666666772\n",
      "-0.7417649320975928 -13.968500000000104\n",
      "-0.6981317007977346 -13.7865000000001\n",
      "-0.6544984694978764 -13.665166666666767\n",
      "-0.6108652381980182 -13.6045000000001\n",
      "-0.56723200689816 -13.6045000000001\n",
      "-0.5235987755983018 -13.634833333333432\n",
      "-0.47996554429844357 -13.7410000000001\n",
      "-0.4363323129985853 -13.877500000000103\n",
      "-0.3926990816987271 -14.089833333333438\n",
      "-0.34906585039886884 -8.14450000000005\n",
      "-0.3054326190990106 -14.711666666666776\n",
      "-0.26179938779915235 -15.151500000000112\n",
      "-0.2181661564992941 -15.667166666666784\n",
      "-0.17453292519943586 -16.304166666666788\n",
      "-0.13089969389957762 -17.092833333333463\n",
      "-0.08726646259971937 -18.06350000000014\n",
      "-0.04363323129986114 -19.261666666666816\n",
      "-2.9004576518332215e-15 -20.505333333333493\n",
      "0.043633231299855336 -19.640833333333486\n",
      "0.08726646259971357 -18.548833333333477\n",
      "0.13089969389957182 -17.532666666666803\n",
      "0.17453292519943006 -17.168666666666795\n",
      "0.2181661564992883 -16.04633333333345\n",
      "0.2617993877991465 -15.50033333333345\n",
      "0.30543261909900477 -15.075666666666779\n",
      "0.349065850398863 -14.726833333333444\n",
      "0.39269908169872125 -14.423500000000105\n",
      "0.4363323129985795 -14.22633333333344\n",
      "0.47996554429843774 -14.059500000000105\n",
      "0.5235987755982959 -13.968500000000104\n",
      "0.5672320068981541 -13.907833333333436\n",
      "0.6108652381980123 -13.923000000000101\n",
      "0.6544984694978705 -13.998833333333437\n",
      "0.6981317007977287 -14.120166666666771\n",
      "0.7417649320975869 -9.312333333333395\n",
      "0.7853981633974451 -14.560000000000109\n",
      "0.8290313946973032 -14.908833333333444\n",
      "0.8726646259971614 -15.379000000000115\n",
      "0.9162978572970196 -16.000833333333453\n",
      "0.9599310885968778 -16.804666666666794\n",
      "1.0035643198967361 -17.942166666666804\n",
      "1.0471975511965943 -19.458833333333484\n",
      "1.0908307824964525 -18.13933333333347\n",
      "1.1344640137963107 -19.216166666666815\n",
      "1.1780972450961689 -15.712666666666784\n",
      "1.221730476396027 -14.59033333333344\n",
      "1.2653637076958852 -12.194000000000086\n",
      "1.3089969389957434 -13.923000000000101\n",
      "1.3526301702956016 -11.84516666666675\n",
      "1.3962634015954598 -11.37500000000008\n",
      "1.439896632895318 -10.176833333333402\n",
      "1.4835298641951762 -11.117166666666744\n",
      "1.5271630954950344 -11.056500000000076\n",
      "1.5707963267948926 -11.041333333333409\n",
      "1.6144295580947507 -11.056500000000076\n",
      "1.658062789394609 -11.132333333333412\n",
      "1.7016960206944671 -11.253666666666744\n",
      "1.7453292519943253 -11.420500000000079\n",
      "1.7889624832941835 -11.632833333333416\n",
      "1.8325957145940417 -11.921000000000085\n",
      "1.8762289458938999 -12.285000000000089\n",
      "1.919862177193758 -18.154500000000137\n",
      "1.9634954084936163 -19.595333333333485\n",
      "2.0071286397934744 -17.047333333333462\n",
      "2.0507618710933326 -18.38200000000014\n",
      "2.094395102393191 -19.322333333333482\n",
      "2.138028333693049 -17.563000000000134\n",
      "2.181661564992907 -16.440666666666793\n",
      "2.2252947962927654 -15.636833333333449\n",
      "2.2689280275926236 -15.03016666666678\n",
      "2.3125612588924818 -14.575166666666775\n",
      "2.35619449019234 -14.226333333333438\n",
      "2.399827721492198 -13.968500000000102\n",
      "2.4434609527920563 -13.771333333333436\n",
      "2.4870941840919145 -13.634833333333432\n",
      "2.5307274153917727 -13.574166666666764\n",
      "2.574360646691631 -13.559000000000099\n",
      "2.617993877991489 -13.604500000000101\n",
      "2.6616271092913473 -13.6955000000001\n",
      "2.7052603405912055 -13.8320000000001\n",
      "2.7488935718910636 -14.044333333333437\n",
      "2.792526803190922 -14.317333333333437\n",
      "2.83616003449078 -14.63583333333344\n",
      "2.879793265790638 -15.045333333333444\n",
      "2.9234264970904964 -15.758166666666785\n",
      "2.9670597283903546 -17.092833333333463\n",
      "3.0106929596902128 -18.412333333333475\n",
      "3.054326190990071 -17.91183333333347\n",
      "3.097959422289929 -19.00383333333348\n",
      "3.1415926535897873 -20.18683333333349\n",
      "\n",
      "496.38648295402527\n"
     ]
    }
   ],
   "source": [
    "import time\n",
    "start=time.time()\n",
    "#m_inter,h_inter,h_test,hnowlist = hysteresis_inter(NN2,Msat,hpasso)\n",
    "divphi=8*18\n",
    "phi_ini=-2*pi/2.\n",
    "phi_final=2/2.*pi+0*3.1415/4.\n",
    "phi_step=(phi_final-phi_ini)/divphi\n",
    "hphi=phi_ini+0.00*pi/180\n",
    "\n",
    "list_hc=[]\n",
    "list_eb=[]\n",
    "for l in tnrange(divphi+1):\n",
    "#for l in tnrange(5):\n",
    "    m_inter,h_inter,h_test,hnowlist = hysteresis_inter(NN2,Msat,hpasso,hphi)\n",
    "    hc1,hc2=None,None\n",
    "    for i in range(len(m_inter)):\n",
    "#        if(m_inter[i]>0 and h_inter[i]>=0.0):\n",
    "        if(m_inter[i]<0 and m_inter[i-1]>0):\n",
    "            hc1=(h_inter[i-1]+h_inter[i])/2.\n",
    "        if(m_inter[i]>0 and m_inter[i-1]<0):\n",
    "            hc2=(h_inter[i-1]+h_inter[i])/2.\n",
    "#            break\n",
    "#    hc=h_inter[-1]\n",
    "    hc=(hc1-hc2)/2.\n",
    "    heb=(hc1+hc2)/2.\n",
    "    print(hphi,hc)\n",
    "    list_hc.append([hphi,hc])\n",
    "    list_eb.append([hphi,heb])\n",
    "    phi_ini+=phi_step\n",
    "    hphi+=phi_step\n",
    "    \n",
    "    \n",
    "list_hc=np.array(list_hc)\n",
    "    \n",
    "stop=time.time()\n",
    "print(-start+stop)"
   ]
  },
  {
   "cell_type": "code",
   "execution_count": 1273,
   "metadata": {},
   "outputs": [
    {
     "data": {
      "text/plain": [
       "(32.8358333333333, 3.1852258848896455)"
      ]
     },
     "execution_count": 1273,
     "metadata": {},
     "output_type": "execute_result"
    }
   ],
   "source": [
    "hc2,phi_ini"
   ]
  },
  {
   "cell_type": "code",
   "execution_count": 1277,
   "metadata": {},
   "outputs": [
    {
     "data": {
      "text/plain": [
       "array([0.96466872, 0.9644422 , 0.96421494, ..., 0.9644422 , 0.96466873,\n",
       "       0.96489455])"
      ]
     },
     "execution_count": 1277,
     "metadata": {},
     "output_type": "execute_result"
    }
   ],
   "source": [
    "m_inter"
   ]
  },
  {
   "cell_type": "code",
   "execution_count": 1278,
   "metadata": {},
   "outputs": [
    {
     "data": {
      "text/plain": [
       "0.04363323129985824"
      ]
     },
     "execution_count": 1278,
     "metadata": {},
     "output_type": "execute_result"
    }
   ],
   "source": [
    "phi_step"
   ]
  },
  {
   "cell_type": "code",
   "execution_count": 1279,
   "metadata": {},
   "outputs": [
    {
     "data": {
      "text/plain": [
       "-20.18683333333349"
      ]
     },
     "execution_count": 1279,
     "metadata": {},
     "output_type": "execute_result"
    }
   ],
   "source": [
    "hc"
   ]
  },
  {
   "cell_type": "code",
   "execution_count": 1280,
   "metadata": {},
   "outputs": [
    {
     "data": {
      "text/plain": [
       "array([[-3.14159265e+00, -2.01868333e+01],\n",
       "       [-3.09795942e+00, -1.93678333e+01],\n",
       "       [-3.05432619e+00, -1.83820000e+01],\n",
       "       [-3.01069296e+00, -1.73961667e+01],\n",
       "       [-2.96705973e+00, -1.72596667e+01],\n",
       "       [-2.92342650e+00, -1.59401667e+01],\n",
       "       [-2.87979327e+00, -1.54245000e+01],\n",
       "       [-2.83616003e+00, -1.49998333e+01],\n",
       "       [-2.79252680e+00, -1.46358333e+01],\n",
       "       [-2.74889357e+00, -1.43780000e+01],\n",
       "       [-2.70526034e+00, -1.41656667e+01],\n",
       "       [-2.66162711e+00, -1.40140000e+01],\n",
       "       [-2.61799388e+00, -1.39230000e+01],\n",
       "       [-2.57436065e+00, -1.38926667e+01],\n",
       "       [-2.53072742e+00, -1.39078333e+01],\n",
       "       [-2.48709418e+00, -1.39685000e+01],\n",
       "       [-2.44346095e+00, -1.41050000e+01],\n",
       "       [-2.39982772e+00, -1.43021667e+01],\n",
       "       [-2.35619449e+00, -1.45751667e+01],\n",
       "       [-2.31256126e+00, -1.49543333e+01],\n",
       "       [-2.26892803e+00, -1.54245000e+01],\n",
       "       [-2.22529480e+00, -1.60463333e+01],\n",
       "       [-2.18166156e+00, -1.68956667e+01],\n",
       "       [-2.13802833e+00, -1.80938333e+01],\n",
       "       [-2.09439510e+00, -1.97166667e+01],\n",
       "       [-2.05076187e+00, -1.83516667e+01],\n",
       "       [-2.00712864e+00, -1.70625000e+01],\n",
       "       [-1.96349541e+00, -1.97166667e+01],\n",
       "       [-1.91986218e+00, -1.47723333e+01],\n",
       "       [-1.87622895e+00, -1.47116667e+01],\n",
       "       [-1.83259571e+00, -1.32556667e+01],\n",
       "       [-1.78896248e+00, -1.17390000e+01],\n",
       "       [-1.74532925e+00, -1.14053333e+01],\n",
       "       [-1.70169602e+00, -1.12385000e+01],\n",
       "       [-1.65806279e+00, -1.11171667e+01],\n",
       "       [-1.61442956e+00, -1.10565000e+01],\n",
       "       [-1.57079633e+00, -1.10413333e+01],\n",
       "       [-1.52716310e+00, -1.10565000e+01],\n",
       "       [-1.48352986e+00, -1.11323333e+01],\n",
       "       [-1.43989663e+00, -1.12233333e+01],\n",
       "       [-1.39626340e+00, -1.13901667e+01],\n",
       "       [-1.35263017e+00, -1.18755000e+01],\n",
       "       [-1.30899694e+00, -1.18906667e+01],\n",
       "       [-1.26536371e+00, -1.48481667e+01],\n",
       "       [-1.22173048e+00, -1.57278333e+01],\n",
       "       [-1.17809725e+00, -1.56520000e+01],\n",
       "       [-1.13446401e+00, -1.90493333e+01],\n",
       "       [-1.09083078e+00, -1.91555000e+01],\n",
       "       [-1.04719755e+00, -1.90493333e+01],\n",
       "       [-1.00356432e+00, -1.74416667e+01],\n",
       "       [-9.59931089e-01, -1.63496667e+01],\n",
       "       [-9.16297857e-01, -1.55761667e+01],\n",
       "       [-8.72664626e-01, -1.49998333e+01],\n",
       "       [-8.29031395e-01, -1.45448333e+01],\n",
       "       [-7.85398163e-01, -1.42111667e+01],\n",
       "       [-7.41764932e-01, -1.39685000e+01],\n",
       "       [-6.98131701e-01, -1.37865000e+01],\n",
       "       [-6.54498469e-01, -1.36651667e+01],\n",
       "       [-6.10865238e-01, -1.36045000e+01],\n",
       "       [-5.67232007e-01, -1.36045000e+01],\n",
       "       [-5.23598776e-01, -1.36348333e+01],\n",
       "       [-4.79965544e-01, -1.37410000e+01],\n",
       "       [-4.36332313e-01, -1.38775000e+01],\n",
       "       [-3.92699082e-01, -1.40898333e+01],\n",
       "       [-3.49065850e-01, -8.14450000e+00],\n",
       "       [-3.05432619e-01, -1.47116667e+01],\n",
       "       [-2.61799388e-01, -1.51515000e+01],\n",
       "       [-2.18166156e-01, -1.56671667e+01],\n",
       "       [-1.74532925e-01, -1.63041667e+01],\n",
       "       [-1.30899694e-01, -1.70928333e+01],\n",
       "       [-8.72664626e-02, -1.80635000e+01],\n",
       "       [-4.36332313e-02, -1.92616667e+01],\n",
       "       [-2.90045765e-15, -2.05053333e+01],\n",
       "       [ 4.36332313e-02, -1.96408333e+01],\n",
       "       [ 8.72664626e-02, -1.85488333e+01],\n",
       "       [ 1.30899694e-01, -1.75326667e+01],\n",
       "       [ 1.74532925e-01, -1.71686667e+01],\n",
       "       [ 2.18166156e-01, -1.60463333e+01],\n",
       "       [ 2.61799388e-01, -1.55003333e+01],\n",
       "       [ 3.05432619e-01, -1.50756667e+01],\n",
       "       [ 3.49065850e-01, -1.47268333e+01],\n",
       "       [ 3.92699082e-01, -1.44235000e+01],\n",
       "       [ 4.36332313e-01, -1.42263333e+01],\n",
       "       [ 4.79965544e-01, -1.40595000e+01],\n",
       "       [ 5.23598776e-01, -1.39685000e+01],\n",
       "       [ 5.67232007e-01, -1.39078333e+01],\n",
       "       [ 6.10865238e-01, -1.39230000e+01],\n",
       "       [ 6.54498469e-01, -1.39988333e+01],\n",
       "       [ 6.98131701e-01, -1.41201667e+01],\n",
       "       [ 7.41764932e-01, -9.31233333e+00],\n",
       "       [ 7.85398163e-01, -1.45600000e+01],\n",
       "       [ 8.29031395e-01, -1.49088333e+01],\n",
       "       [ 8.72664626e-01, -1.53790000e+01],\n",
       "       [ 9.16297857e-01, -1.60008333e+01],\n",
       "       [ 9.59931089e-01, -1.68046667e+01],\n",
       "       [ 1.00356432e+00, -1.79421667e+01],\n",
       "       [ 1.04719755e+00, -1.94588333e+01],\n",
       "       [ 1.09083078e+00, -1.81393333e+01],\n",
       "       [ 1.13446401e+00, -1.92161667e+01],\n",
       "       [ 1.17809725e+00, -1.57126667e+01],\n",
       "       [ 1.22173048e+00, -1.45903333e+01],\n",
       "       [ 1.26536371e+00, -1.21940000e+01],\n",
       "       [ 1.30899694e+00, -1.39230000e+01],\n",
       "       [ 1.35263017e+00, -1.18451667e+01],\n",
       "       [ 1.39626340e+00, -1.13750000e+01],\n",
       "       [ 1.43989663e+00, -1.01768333e+01],\n",
       "       [ 1.48352986e+00, -1.11171667e+01],\n",
       "       [ 1.52716310e+00, -1.10565000e+01],\n",
       "       [ 1.57079633e+00, -1.10413333e+01],\n",
       "       [ 1.61442956e+00, -1.10565000e+01],\n",
       "       [ 1.65806279e+00, -1.11323333e+01],\n",
       "       [ 1.70169602e+00, -1.12536667e+01],\n",
       "       [ 1.74532925e+00, -1.14205000e+01],\n",
       "       [ 1.78896248e+00, -1.16328333e+01],\n",
       "       [ 1.83259571e+00, -1.19210000e+01],\n",
       "       [ 1.87622895e+00, -1.22850000e+01],\n",
       "       [ 1.91986218e+00, -1.81545000e+01],\n",
       "       [ 1.96349541e+00, -1.95953333e+01],\n",
       "       [ 2.00712864e+00, -1.70473333e+01],\n",
       "       [ 2.05076187e+00, -1.83820000e+01],\n",
       "       [ 2.09439510e+00, -1.93223333e+01],\n",
       "       [ 2.13802833e+00, -1.75630000e+01],\n",
       "       [ 2.18166156e+00, -1.64406667e+01],\n",
       "       [ 2.22529480e+00, -1.56368333e+01],\n",
       "       [ 2.26892803e+00, -1.50301667e+01],\n",
       "       [ 2.31256126e+00, -1.45751667e+01],\n",
       "       [ 2.35619449e+00, -1.42263333e+01],\n",
       "       [ 2.39982772e+00, -1.39685000e+01],\n",
       "       [ 2.44346095e+00, -1.37713333e+01],\n",
       "       [ 2.48709418e+00, -1.36348333e+01],\n",
       "       [ 2.53072742e+00, -1.35741667e+01],\n",
       "       [ 2.57436065e+00, -1.35590000e+01],\n",
       "       [ 2.61799388e+00, -1.36045000e+01],\n",
       "       [ 2.66162711e+00, -1.36955000e+01],\n",
       "       [ 2.70526034e+00, -1.38320000e+01],\n",
       "       [ 2.74889357e+00, -1.40443333e+01],\n",
       "       [ 2.79252680e+00, -1.43173333e+01],\n",
       "       [ 2.83616003e+00, -1.46358333e+01],\n",
       "       [ 2.87979327e+00, -1.50453333e+01],\n",
       "       [ 2.92342650e+00, -1.57581667e+01],\n",
       "       [ 2.96705973e+00, -1.70928333e+01],\n",
       "       [ 3.01069296e+00, -1.84123333e+01],\n",
       "       [ 3.05432619e+00, -1.79118333e+01],\n",
       "       [ 3.09795942e+00, -1.90038333e+01],\n",
       "       [ 3.14159265e+00, -2.01868333e+01]])"
      ]
     },
     "execution_count": 1280,
     "metadata": {},
     "output_type": "execute_result"
    }
   ],
   "source": [
    "list_hc"
   ]
  },
  {
   "cell_type": "code",
   "execution_count": 1281,
   "metadata": {},
   "outputs": [
    {
     "data": {
      "text/plain": [
       "[[-3.141592653589793, 12.648999999999809],\n",
       " [-3.097959422289935, 11.829999999999803],\n",
       " [-3.0543261909900767, 10.358833333333122],\n",
       " [-3.0106929596902186, 9.312333333333111],\n",
       " [-2.9670597283903604, 9.08483333333311],\n",
       " [-2.923426497090502, 7.674333333333099],\n",
       " [-2.879793265790644, 7.006999999999758],\n",
       " [-2.836160034490786, 6.430666666666419],\n",
       " [-2.7925268031909276, 5.914999999999747],\n",
       " [-2.7488935718910694, 5.444833333333079],\n",
       " [-2.7052603405912112, 4.989833333333076],\n",
       " [-2.661627109291353, 4.595499999999738],\n",
       " [-2.617993877991495, 4.201166666666401],\n",
       " [-2.5743606466916367, 3.8068333333330653],\n",
       " [-2.5307274153917785, 3.4276666666663944],\n",
       " [-2.4870941840919203, 3.033333333333058],\n",
       " [-2.443460952792062, 2.654166666666388],\n",
       " [-2.399827721492204, 2.214333333333051],\n",
       " [-2.3561944901923457, 1.7593333333330463],\n",
       " [-2.3125612588924875, 1.258833333333043],\n",
       " [-2.2689280275926293, 0.6673333333330369],\n",
       " [-2.225294796292771, -0.015166666666967643],\n",
       " [-2.181661564992913, -0.8948333333336436],\n",
       " [-2.138028333693055, -2.0930000000003197],\n",
       " [-2.0943951023931966, -3.6855000000003333],\n",
       " [-2.0507618710933384, -2.3205000000003224],\n",
       " [-2.00712863979348, -1.57733333333365],\n",
       " [-1.963495408493622, -5.020166666667015],\n",
       " [-1.9198621771937638, -1.137500000000312],\n",
       " [-1.8762289458939057, -5.141500000000347],\n",
       " [-1.8325957145940475, -3.564166666666999],\n",
       " [-1.7889624832941893, -1.9261666666669868],\n",
       " [-1.745329251994331, -1.4105000000003152],\n",
       " [-1.701696020694473, -1.0616666666669783],\n",
       " [-1.6580627893946147, -0.7280000000003088],\n",
       " [-1.6144295580947565, -0.4246666666669743],\n",
       " [-1.5707963267948983, -0.1061666666669705],\n",
       " [-1.5271630954950401, 0.21233333333303328],\n",
       " [-1.483529864195182, 0.5308333333330353],\n",
       " [-1.4398966328953238, 0.8644999999997047],\n",
       " [-1.3962634015954656, 1.2133333333330416],\n",
       " [-1.3526301702956074, 1.8503333333330474],\n",
       " [-1.3089969389957492, 2.017166666666382],\n",
       " [-1.265363707695891, 5.095999999999742],\n",
       " [-1.2217304763960328, 2.21433333333305],\n",
       " [-1.1780972450961746, 1.2588333333330421],\n",
       " [-1.1344640137963165, 3.8068333333330653],\n",
       " [-1.0908307824964583, 3.3063333333330593],\n",
       " [-1.0471975511966, 3.0484999999997235],\n",
       " [-1.0035643198967419, 1.4711666666663756],\n",
       " [-0.9599310885968837, 0.3791666666663662],\n",
       " [-0.9162978572970255, -0.4246666666669743],\n",
       " [-0.8726646259971673, -1.0616666666669783],\n",
       " [-0.8290313946973091, -1.607666666666983],\n",
       " [-0.7853981633974509, -2.0930000000003215],\n",
       " [-0.7417649320975928, -2.517666666666992],\n",
       " [-0.6981317007977346, -2.9120000000003285],\n",
       " [-0.6544984694978764, -3.306333333333665],\n",
       " [-0.6108652381980182, -3.6703333333336676],\n",
       " [-0.56723200689816, -4.034333333333672],\n",
       " [-0.5235987755983018, -4.3983333333336745],\n",
       " [-0.47996554429844357, -4.777500000000344],\n",
       " [-0.4363323129985853, -5.1870000000003476],\n",
       " [-0.3926990816987271, -5.61166666666702],\n",
       " [-0.34906585039886884, 0.15166666666636486],\n",
       " [-0.3054326190990106, -6.59750000000036],\n",
       " [-0.26179938779915235, -7.158666666667031],\n",
       " [-0.2181661564992941, -7.795666666667036],\n",
       " [-0.17453292519943586, -8.554000000000377],\n",
       " [-0.13089969389957762, -9.403333333333716],\n",
       " [-0.08726646259971937, -10.465000000000394],\n",
       " [-0.04363323129986114, -11.72383333333374],\n",
       " [-2.9004576518332215e-15, -12.967500000000417],\n",
       " [0.043633231299855336, -12.10300000000041],\n",
       " [0.08726646259971357, -10.677333333333728],\n",
       " [0.13089969389957182, -9.570166666667054],\n",
       " [0.17453292519943006, -9.145500000000382],\n",
       " [0.2181661564992883, -7.901833333333704],\n",
       " [0.2617993877991465, -7.234500000000365],\n",
       " [0.30543261909900477, -6.658166666667027],\n",
       " [0.349065850398863, -6.12733333333369],\n",
       " [0.39269908169872125, -5.642000000000349],\n",
       " [0.4363323129985795, -5.202166666667015],\n",
       " [0.47996554429843774, -4.792666666667012],\n",
       " [0.5235987755982959, -4.398333333333676],\n",
       " [0.5672320068981541, -4.004000000000339],\n",
       " [0.6108652381980123, -3.624833333333669],\n",
       " [0.6544984694978705, -3.245666666666999],\n",
       " [0.6981317007977287, -2.8513333333336615],\n",
       " [0.7417649320975869, 2.563166666666387],\n",
       " [0.7853981633974451, -1.9868333333336539],\n",
       " [0.8290313946973032, -1.4863333333336506],\n",
       " [0.8726646259971614, -0.9251666666669784],\n",
       " [0.9162978572970196, -0.24266666666697034],\n",
       " [0.9599310885968778, 0.6218333333330364],\n",
       " [1.0035643198967361, 1.7593333333330463],\n",
       " [1.0471975511965943, 3.2456666666663914],\n",
       " [1.0908307824964525, 2.0171666666663803],\n",
       " [1.1344640137963107, 3.700666666666395],\n",
       " [1.1780972450961689, 1.016166666666372],\n",
       " [1.221730476396027, 0.9554999999997058],\n",
       " [1.2653637076958852, 2.4114999999997178],\n",
       " [1.3089969389957434, 2.8968333333330563],\n",
       " [1.3526301702956016, 1.8199999999997134],\n",
       " [1.3962634015954598, 1.167833333333041],\n",
       " [1.439896632895318, -0.21233333333363902],\n",
       " [1.4835298641951762, 0.48533333333303474],\n",
       " [1.5271630954950344, 0.1819999999996984],\n",
       " [1.5707963267948926, -0.1365000000003036],\n",
       " [1.6144295580947507, -0.4550000000003056],\n",
       " [1.658062789394609, -0.7735000000003094],\n",
       " [1.7016960206944671, -1.1071666666669788],\n",
       " [1.7453292519943253, -1.4560000000003157],\n",
       " [1.7889624832941835, -1.8503333333336514],\n",
       " [1.8325957145940417, -2.259833333333656],\n",
       " [1.8762289458938999, -2.745166666666993],\n",
       " [1.919862177193758, -4.641000000000343],\n",
       " [1.9634954084936163, -5.202166666667013],\n",
       " [2.0071286397934744, -1.8351666666669857],\n",
       " [2.0507618710933326, -2.623833333333657],\n",
       " [2.094395102393191, -3.503500000000333],\n",
       " [2.138028333693049, -1.8048333333336508],\n",
       " [2.181661564992907, -0.6825000000003083],\n",
       " [2.2252947962927654, 0.1516666666663662],\n",
       " [2.2689280275926236, 0.8189999999997051],\n",
       " [2.3125612588924818, 1.395333333333042],\n",
       " [2.35619449019234, 1.8654999999997148],\n",
       " [2.399827721492198, 2.30533333333305],\n",
       " [2.4434609527920563, 2.714833333333056],\n",
       " [2.4870941840919145, 3.093999999999724],\n",
       " [2.5307274153917727, 3.4579999999997266],\n",
       " [2.574360646691631, 3.8371666666663966],\n",
       " [2.617993877991489, 4.216333333333068],\n",
       " [2.6616271092913473, 4.580333333333071],\n",
       " [2.7052603405912055, 4.989833333333074],\n",
       " [2.7488935718910636, 5.4144999999997445],\n",
       " [2.792526803190922, 5.869499999999746],\n",
       " [2.83616003449078, 6.369999999999752],\n",
       " [2.879793265790638, 6.931166666666423],\n",
       " [2.9234264970904964, 7.7653333333331],\n",
       " [2.9670597283903546, 9.190999999999779],\n",
       " [3.0106929596902128, 10.601499999999792],\n",
       " [3.054326190990071, 10.161666666666454],\n",
       " [3.097959422289929, 11.465999999999799],\n",
       " [3.1415926535897873, 12.648999999999809]]"
      ]
     },
     "execution_count": 1281,
     "metadata": {},
     "output_type": "execute_result"
    }
   ],
   "source": [
    "list_eb"
   ]
  },
  {
   "cell_type": "code",
   "execution_count": 1282,
   "metadata": {},
   "outputs": [],
   "source": [
    "x_hc=[]\n",
    "y_hc=[]\n",
    "\n",
    "for i in range(len(list_hc)):\n",
    "    x_hc.append(list_hc[i][0])\n",
    "    y_hc.append(list_hc[i][1])    \n",
    "    \n",
    "x_eb=[]\n",
    "y_eb=[]\n",
    "\n",
    "for i in range(len(list_eb)):\n",
    "    x_eb.append(list_eb[i][0])\n",
    "    y_eb.append(list_eb[i][1])    \n",
    "    \n",
    "    "
   ]
  },
  {
   "cell_type": "code",
   "execution_count": 1283,
   "metadata": {},
   "outputs": [
    {
     "data": {
      "image/png": "[encoded data removed]",
      "text/plain": [
       "<Figure size 432x288 with 1 Axes>"
      ]
     },
     "metadata": {
      "needs_background": "light"
     },
     "output_type": "display_data"
    }
   ],
   "source": [
    "import matplotlib.pyplot as plt\n",
    "\n",
    "ax = plt.subplot(111, projection='polar')\n",
    "ax.plot(x_hc, abs(np.array(y_hc)), marker = 'x')\n",
    "#ax.scatter(x_hc, abs(np.array(y_hc)), marker = 'x')\n",
    "ax.set_rmax(40)\n",
    "ax.set_rmin(0)\n",
    "plt.show()"
   ]
  },
  {
   "cell_type": "code",
   "execution_count": 1284,
   "metadata": {},
   "outputs": [
    {
     "data": {
      "image/png": "[encoded data removed]",
      "text/plain": [
       "<Figure size 432x288 with 1 Axes>"
      ]
     },
     "metadata": {
      "needs_background": "light"
     },
     "output_type": "display_data"
    }
   ],
   "source": [
    "import matplotlib.pyplot as plt\n",
    "\n",
    "#plt.scatter(x_hc, abs(np.array(y_hc)), marker = 'x')\n",
    "plt.scatter(x_hc, np.array(y_hc), marker = 'x')\n",
    "plt.title(\"Coercive Field\",size=28)\n",
    "#ax.scatter(x_hc, abs(np.array(y_hc)), marker = 'x')\n",
    "plt.xlim(-2/2*3.1415,2/2*3.1415+0.1)\n",
    "plt.show()"
   ]
  },
  {
   "cell_type": "code",
   "execution_count": 1286,
   "metadata": {},
   "outputs": [
    {
     "data": {
      "image/png": "[encoded data removed]",
      "text/plain": [
       "<Figure size 432x288 with 1 Axes>"
      ]
     },
     "metadata": {
      "needs_background": "light"
     },
     "output_type": "display_data"
    }
   ],
   "source": [
    "import matplotlib.pyplot as plt\n",
    "\n",
    "ax = plt.subplot(111, projection='polar')\n",
    "ax.plot(x_eb, abs(np.array(y_eb)), marker = 'x')\n",
    "ax.set_rmax(10)\n",
    "ax.set_rmin(0)\n",
    "plt.show()\n",
    "\n"
   ]
  },
  {
   "cell_type": "code",
   "execution_count": 1287,
   "metadata": {},
   "outputs": [
    {
     "data": {
      "image/png": "[encoded data removed]",
      "text/plain": [
       "<Figure size 432x288 with 1 Axes>"
      ]
     },
     "metadata": {
      "needs_background": "light"
     },
     "output_type": "display_data"
    }
   ],
   "source": [
    "import matplotlib.pyplot as plt\n",
    "\n",
    "#plt.scatter(x_eb, abs(np.array(y_eb)), marker = 'x')\n",
    "plt.scatter(x_eb, np.array(y_eb), marker = 'x')\n",
    "#ax.scatter(x_hc, abs(np.array(y_hc)), marker = 'x')\n",
    "plt.xlim(-2/2*3.1415,2/2*3.1415+0.02)\n",
    "plt.title(\"Exc. Bias Field\",size=28)\n",
    "plt.show()"
   ]
  },
  {
   "cell_type": "code",
   "execution_count": 1048,
   "metadata": {},
   "outputs": [
    {
     "name": "stdout",
     "output_type": "stream",
     "text": [
      "0\t33.3\n",
      "\n"
     ]
    }
   ],
   "source": [
    "# experimental data\n",
    "path='/home/vagner/Desktop/galfenol/galhctheta.txt'\n",
    "#path='/home/vagner/Desktop/galfenol/gal90deg.txt'\n",
    "#path='/home/vagner/Desktop/galfenol/gal50deg.txt'\n",
    "#path = '/home/vagner/Desktop/galfenol/gal0deg.txt'\n",
    "\n",
    "hexp10ktube = open(path,'r')\n",
    "hexp=hexp10ktube.readlines()\n",
    "\n",
    "print(hexp[0])\n",
    "#print(a1[0][1])\n",
    "\n",
    "hc_on=[]\n",
    "mexp_on=[]\n",
    "hexp10ktube.close()\n",
    "for i in range(len(hexp)):\n",
    "    listexp=hexp[i].split('\\t')\n",
    "    hc_on.append(float(listexp[0]))\n",
    "    mexp_on.append(float(listexp[1].split('\\n')[0]))\n",
    "\n",
    "theta_on=np.array(hc_on)\n",
    "hc_on=np.array(mexp_on)\n",
    "\n"
   ]
  },
  {
   "cell_type": "code",
   "execution_count": 1049,
   "metadata": {},
   "outputs": [],
   "source": [
    "theta_on=theta_on*3.1415/180."
   ]
  },
  {
   "cell_type": "code",
   "execution_count": 1050,
   "metadata": {},
   "outputs": [
    {
     "data": {
      "text/plain": [
       "array([0.        , 0.17452778, 0.34905556, 0.52358333, 0.69811111,\n",
       "       0.87263889, 1.04716667, 1.22169444, 1.39622222, 1.57075   ,\n",
       "       1.74527778, 1.91980556, 2.09433333, 2.26886111, 2.44338889,\n",
       "       2.61791667, 2.79244444, 2.96697222, 3.1415    ])"
      ]
     },
     "execution_count": 1050,
     "metadata": {},
     "output_type": "execute_result"
    }
   ],
   "source": [
    "theta_on"
   ]
  },
  {
   "cell_type": "code",
   "execution_count": 1051,
   "metadata": {},
   "outputs": [
    {
     "data": {
      "text/plain": [
       "array([33.3 , 31.03, 31.29, 31.74, 28.  , 27.73, 32.33, 20.81, 20.81,\n",
       "       22.66, 20.97, 20.18, 29.93, 27.63, 27.44, 29.77, 30.04, 33.57,\n",
       "       37.03])"
      ]
     },
     "execution_count": 1051,
     "metadata": {},
     "output_type": "execute_result"
    }
   ],
   "source": [
    "hc_on"
   ]
  },
  {
   "cell_type": "code",
   "execution_count": 1053,
   "metadata": {},
   "outputs": [
    {
     "data": {
      "image/png": "[encoded data removed]",
      "text/plain": [
       "<Figure size 432x288 with 1 Axes>"
      ]
     },
     "metadata": {
      "needs_background": "light"
     },
     "output_type": "display_data"
    }
   ],
   "source": [
    "import matplotlib.pyplot as plt\n",
    "\n",
    "ax = plt.subplot(111, projection='polar')\n",
    "l1=ax.plot(x_hc, abs(np.array(y_hc)), marker = 'v',color='black',label='Simulation')\n",
    "#l2=ax.plot(theta_on, hc_on/1, marker = 'o',color='red',label='Experimental')\n",
    "\n",
    "#l2=ax.plot(theta_on, mexp_on/1, marker = 'o',color='blue',label='Experimental')\n",
    "\n",
    "ax.legend()\n",
    "#plt.legend((l1,l2),('90 deg','50 deg'),fontsize=20)\n",
    "\n",
    "ax.set_rmax(10)\n",
    "ax.set_rmin(0)\n",
    "\n",
    "# filme\n",
    "#plt.savefig(\"polarplot_hc_cubic_moriyaquad.png\")\n",
    "#plt.savefig(\"polarplot_hc_cubic_dipolar.png\")\n",
    "#plt.savefig(\"polarplot_hc_cubic_exchange.png\")\n",
    "#plt.savefig(\"polarplot_hc_cubic_moriya.png\")\n",
    "#plt.savefig(\"polarplot_hc_cubic_moriyachiralmultispin.png\")\n",
    "#plt.savefig(\"polarplot_hc_cubic_exchangebiquad.png\")\n",
    "\n",
    "# nanomembrane!\n",
    "\n",
    "#plt.savefig(\"polarplot_hc_cubic_moriyachiralmultispin_nmb.png\")\n",
    "#plt.savefig(\"polarplot_hc_cubic_dipolar_nmb.png\")\n",
    "#plt.savefig(\"polarplot_hc_cubic_dipolar_nmb_longer.png\")\n",
    "\n",
    "plt.show()"
   ]
  },
  {
   "cell_type": "code",
   "execution_count": null,
   "metadata": {},
   "outputs": [],
   "source": []
  },
  {
   "cell_type": "code",
   "execution_count": null,
   "metadata": {},
   "outputs": [],
   "source": []
  },
  {
   "cell_type": "code",
   "execution_count": null,
   "metadata": {},
   "outputs": [],
   "source": []
  },
  {
   "cell_type": "code",
   "execution_count": null,
   "metadata": {},
   "outputs": [],
   "source": []
  },
  {
   "cell_type": "code",
   "execution_count": 1299,
   "metadata": {},
   "outputs": [],
   "source": [
    "m_inter,h_inter,h_test,hnowlist = hysteresis_inter(NN2,Msat,hpasso,0*3.1515/2.+5*pi/180)"
   ]
  },
  {
   "cell_type": "code",
   "execution_count": 1300,
   "metadata": {},
   "outputs": [
    {
     "data": {
      "text/plain": [
       "array([0.99891527, 0.99891445, 0.99891364, ..., 0.99891445, 0.99891527,\n",
       "       0.99891608])"
      ]
     },
     "execution_count": 1300,
     "metadata": {},
     "output_type": "execute_result"
    }
   ],
   "source": [
    "m_inter"
   ]
  },
  {
   "cell_type": "code",
   "execution_count": 1301,
   "metadata": {},
   "outputs": [
    {
     "data": {
      "image/png": "[encoded data removed]",
      "text/plain": [
       "<Figure size 432x288 with 1 Axes>"
      ]
     },
     "metadata": {
      "needs_background": "light"
     },
     "output_type": "display_data"
    }
   ],
   "source": [
    "import matplotlib.pyplot as plt\n",
    "plt.scatter(h_inter,m_inter)\n",
    "plt.show()"
   ]
  },
  {
   "cell_type": "code",
   "execution_count": null,
   "metadata": {},
   "outputs": [],
   "source": []
  },
  {
   "cell_type": "code",
   "execution_count": null,
   "metadata": {},
   "outputs": [],
   "source": []
  },
  {
   "cell_type": "code",
   "execution_count": 873,
   "metadata": {},
   "outputs": [
    {
     "data": {
      "text/plain": [
       "0.22657827623148954"
      ]
     },
     "execution_count": 873,
     "metadata": {},
     "output_type": "execute_result"
    }
   ],
   "source": [
    "m_inter[step-1]"
   ]
  },
  {
   "cell_type": "code",
   "execution_count": 874,
   "metadata": {},
   "outputs": [
    {
     "name": "stdout",
     "output_type": "stream",
     "text": [
      "[ 3 23] 2\n"
     ]
    }
   ],
   "source": [
    "vv=[]\n",
    "vv1=np.array([2,3])\n",
    "vv1=np.array([vv1])\n",
    "#print(vv1)\n",
    "zzz=np.array([[1,2],[4,5]])\n",
    "#vv1=np.append(zzz,np.array([vv1]))\n",
    "vv1=np.concatenate((zzz,vv1),axis=0)\n",
    "vv1=np.concatenate((np.array([[3,23]]),vv1),axis=0)\n",
    "print(vv1[0],len(vv1[0]))"
   ]
  },
  {
   "cell_type": "code",
   "execution_count": 875,
   "metadata": {},
   "outputs": [],
   "source": [
    "desired_length = 50\n",
    "resultsnew = np.empty(desired_length)\n",
    "#print(resultsnew,len(maglist))"
   ]
  },
  {
   "cell_type": "code",
   "execution_count": 876,
   "metadata": {},
   "outputs": [
    {
     "data": {
      "text/plain": [
       "array([[1, 2],\n",
       "       [4, 5]])"
      ]
     },
     "execution_count": 876,
     "metadata": {},
     "output_type": "execute_result"
    }
   ],
   "source": [
    "zzz"
   ]
  },
  {
   "cell_type": "code",
   "execution_count": 877,
   "metadata": {},
   "outputs": [
    {
     "name": "stdout",
     "output_type": "stream",
     "text": [
      "[20, 2, 3] [1 2 3]\n"
     ]
    }
   ],
   "source": [
    "lis=[1,2,3]\n",
    "zz=np.copy(lis)\n",
    "zz\n",
    "lis[0]=20\n",
    "print(lis,zz)"
   ]
  },
  {
   "cell_type": "code",
   "execution_count": 878,
   "metadata": {},
   "outputs": [
    {
     "name": "stdout",
     "output_type": "stream",
     "text": [
      "0.0 -0.030333333333333334\n"
     ]
    }
   ],
   "source": [
    "Msat\n",
    "print(beta,hpasso)"
   ]
  },
  {
   "cell_type": "code",
   "execution_count": 879,
   "metadata": {},
   "outputs": [
    {
     "name": "stdout",
     "output_type": "stream",
     "text": [
      "2143.2099945545197\n"
     ]
    }
   ],
   "source": [
    "print(start-stop)"
   ]
  },
  {
   "cell_type": "code",
   "execution_count": 880,
   "metadata": {},
   "outputs": [
    {
     "data": {
      "text/plain": [
       "(36.46066666666666, 0.0)"
      ]
     },
     "execution_count": 880,
     "metadata": {},
     "output_type": "execute_result"
    }
   ],
   "source": [
    "hnowlist[-1],hnowlist[0]"
   ]
  },
  {
   "cell_type": "code",
   "execution_count": 881,
   "metadata": {},
   "outputs": [
    {
     "data": {
      "text/plain": [
       "(36.4, 36.46066666666666)"
      ]
     },
     "execution_count": 881,
     "metadata": {},
     "output_type": "execute_result"
    }
   ],
   "source": [
    "h_inter[0],h_inter[-1]"
   ]
  },
  {
   "cell_type": "code",
   "execution_count": 882,
   "metadata": {},
   "outputs": [
    {
     "name": "stdout",
     "output_type": "stream",
     "text": [
      "[0.78692922 0.78692776 0.7869263  ... 0.22655676 0.2265675  0.22657828]\n",
      "2400\n"
     ]
    }
   ],
   "source": [
    "print(m_inter)\n",
    "print(len(m_inter))"
   ]
  },
  {
   "cell_type": "code",
   "execution_count": 883,
   "metadata": {},
   "outputs": [
    {
     "ename": "TypeError",
     "evalue": "object of type 'numpy.float64' has no len()",
     "output_type": "error",
     "traceback": [
      "\u001b[0;31m---------------------------------------------------------------------------\u001b[0m",
      "\u001b[0;31mTypeError\u001b[0m                                 Traceback (most recent call last)",
      "\u001b[0;32m<ipython-input-883-2a888c6d9516>\u001b[0m in \u001b[0;36m<module>\u001b[0;34m()\u001b[0m\n\u001b[1;32m      2\u001b[0m \u001b[0;32mfor\u001b[0m \u001b[0mj\u001b[0m \u001b[0;32min\u001b[0m \u001b[0mrange\u001b[0m\u001b[0;34m(\u001b[0m\u001b[0mlen\u001b[0m\u001b[0;34m(\u001b[0m\u001b[0mm_inter\u001b[0m\u001b[0;34m)\u001b[0m\u001b[0;34m)\u001b[0m\u001b[0;34m:\u001b[0m\u001b[0;34m\u001b[0m\u001b[0;34m\u001b[0m\u001b[0m\n\u001b[1;32m      3\u001b[0m     \u001b[0msoma\u001b[0m\u001b[0;34m=\u001b[0m\u001b[0;36m0\u001b[0m\u001b[0;34m\u001b[0m\u001b[0;34m\u001b[0m\u001b[0m\n\u001b[0;32m----> 4\u001b[0;31m     \u001b[0;32mfor\u001b[0m \u001b[0mi\u001b[0m \u001b[0;32min\u001b[0m \u001b[0mrange\u001b[0m\u001b[0;34m(\u001b[0m\u001b[0mlen\u001b[0m\u001b[0;34m(\u001b[0m\u001b[0mm_inter\u001b[0m\u001b[0;34m[\u001b[0m\u001b[0;36m0\u001b[0m\u001b[0;34m]\u001b[0m\u001b[0;34m)\u001b[0m\u001b[0;34m)\u001b[0m\u001b[0;34m:\u001b[0m\u001b[0;34m\u001b[0m\u001b[0;34m\u001b[0m\u001b[0m\n\u001b[0m\u001b[1;32m      5\u001b[0m \u001b[0;31m#        print(i)\u001b[0m\u001b[0;34m\u001b[0m\u001b[0;34m\u001b[0m\u001b[0;34m\u001b[0m\u001b[0m\n\u001b[1;32m      6\u001b[0m         \u001b[0msoma\u001b[0m\u001b[0;34m+=\u001b[0m\u001b[0mm_inter\u001b[0m\u001b[0;34m[\u001b[0m\u001b[0mj\u001b[0m\u001b[0;34m]\u001b[0m\u001b[0;34m[\u001b[0m\u001b[0mi\u001b[0m\u001b[0;34m]\u001b[0m\u001b[0;34m\u001b[0m\u001b[0;34m\u001b[0m\u001b[0m\n",
      "\u001b[0;31mTypeError\u001b[0m: object of type 'numpy.float64' has no len()"
     ]
    }
   ],
   "source": [
    "maglistend2=[]\n",
    "for j in range(len(m_inter)):\n",
    "    soma=0\n",
    "    for i in range(len(m_inter[0])):\n",
    "#        print(i)\n",
    "        soma+=m_inter[j][i]\n",
    "    maglistend2.append(soma/NN2)\n",
    "        "
   ]
  },
  {
   "cell_type": "code",
   "execution_count": 884,
   "metadata": {},
   "outputs": [
    {
     "name": "stdout",
     "output_type": "stream",
     "text": [
      "[]\n",
      "0\n"
     ]
    }
   ],
   "source": [
    "print(maglistend2)\n",
    "print(len(maglistend2))"
   ]
  },
  {
   "cell_type": "code",
   "execution_count": 885,
   "metadata": {},
   "outputs": [],
   "source": [
    "#h_test[8]\n"
   ]
  },
  {
   "cell_type": "code",
   "execution_count": 886,
   "metadata": {},
   "outputs": [
    {
     "data": {
      "text/plain": [
       "2.5132741228718345"
      ]
     },
     "execution_count": 886,
     "metadata": {},
     "output_type": "execute_result"
    }
   ],
   "source": [
    "Kf1_bi/Msat"
   ]
  },
  {
   "cell_type": "code",
   "execution_count": 887,
   "metadata": {},
   "outputs": [
    {
     "data": {
      "text/plain": [
       "79.57747154594767"
      ]
     },
     "execution_count": 887,
     "metadata": {},
     "output_type": "execute_result"
    }
   ],
   "source": [
    "Msat"
   ]
  },
  {
   "cell_type": "code",
   "execution_count": 888,
   "metadata": {},
   "outputs": [
    {
     "data": {
      "text/plain": [
       "36.4"
      ]
     },
     "execution_count": 888,
     "metadata": {},
     "output_type": "execute_result"
    }
   ],
   "source": [
    "hini"
   ]
  },
  {
   "cell_type": "code",
   "execution_count": 889,
   "metadata": {},
   "outputs": [
    {
     "data": {
      "text/plain": [
       "array([0.78692922, 0.78692776, 0.7869263 , ..., 0.22655676, 0.2265675 ,\n",
       "       0.22657828])"
      ]
     },
     "execution_count": 889,
     "metadata": {},
     "output_type": "execute_result"
    }
   ],
   "source": [
    "m_inter"
   ]
  },
  {
   "cell_type": "code",
   "execution_count": 467,
   "metadata": {},
   "outputs": [],
   "source": [
    "m_rot=np.array([-1 if(h_inter[i]<-20) else 1 for i in range(len(h_inter))])"
   ]
  },
  {
   "cell_type": "code",
   "execution_count": 468,
   "metadata": {},
   "outputs": [
    {
     "data": {
      "text/plain": [
       "array([1, 1, 1, ..., 1, 1, 1])"
      ]
     },
     "execution_count": 468,
     "metadata": {},
     "output_type": "execute_result"
    }
   ],
   "source": [
    "m_rot"
   ]
  },
  {
   "cell_type": "code",
   "execution_count": 469,
   "metadata": {},
   "outputs": [
    {
     "data": {
      "text/plain": [
       "-5.01"
      ]
     },
     "execution_count": 469,
     "metadata": {},
     "output_type": "execute_result"
    }
   ],
   "source": [
    "h"
   ]
  },
  {
   "cell_type": "code",
   "execution_count": 470,
   "metadata": {},
   "outputs": [
    {
     "data": {
      "text/plain": [
       "(-1, 1)"
      ]
     },
     "execution_count": 470,
     "metadata": {},
     "output_type": "execute_result"
    },
    {
     "data": {
      "image/png": "[encoded data removed]",
      "text/plain": [
       "<Figure size 432x432 with 1 Axes>"
      ]
     },
     "metadata": {
      "needs_background": "light"
     },
     "output_type": "display_data"
    }
   ],
   "source": [
    "import matplotlib.pyplot as plt\n",
    "\n",
    "norm=1.00\n",
    "\n",
    "plt.figure(figsize=(6,6))\n",
    "\n",
    "plt.title(\"Interacting Single Domains\",size=40)\n",
    "\n",
    "#plt.scatter(np.array(h_inter)[:int(len(h_inter)*2/2.)],np.array(m_inter)[:int(len(h_inter)*2/2.)]/norm,color='r')\n",
    "plt.scatter(np.array(h_inter),(4/4*np.array(m_inter)+0/4*m_rot)/1./norm,color='r')\n",
    "#plt.scatter(-np.array(h_inter),-np.array(m_inter)/norm,color='b')\n",
    "\n",
    "#plt.scatter(hexp_on,np.array(mexp_on)/0.99)\n",
    "\n",
    "#plt.xlim(-1600*3*3,1600*3*3)\n",
    "plt.xlim(-abs(hini/1.),abs(hini/1.))\n",
    "plt.ylim(-1,1)\n",
    "#plt.savefig('firstsimul_20x20_interdipol_3D.jpeg')\n",
    "#plt.savefig('firstsimul_20x20_nointer_3D.jpeg')\n",
    "##plt.savefig('firstsimul_10x10_nointer.jpeg')\n",
    "#plt.savefig('firstsimul_12x12_nointer_3D.jpeg')\n",
    "#plt.savefig('firstsimul_12x12_interdipol_3D.jpeg')\n",
    "\n",
    "\n",
    "\n"
   ]
  },
  {
   "cell_type": "code",
   "execution_count": 894,
   "metadata": {},
   "outputs": [
    {
     "data": {
      "text/plain": [
       "0.2638888888888888"
      ]
     },
     "execution_count": 894,
     "metadata": {},
     "output_type": "execute_result"
    }
   ],
   "source": [
    "hphi/pi"
   ]
  },
  {
   "cell_type": "code",
   "execution_count": 164,
   "metadata": {},
   "outputs": [
    {
     "name": "stdout",
     "output_type": "stream",
     "text": [
      "9999.80078\t1\n",
      "\n"
     ]
    }
   ],
   "source": [
    "# experimental data\n",
    "#path='/home/vagner/Desktop/galfenol/gal90deg.txt'\n",
    "#path='/home/vagner/Desktop/galfenol/gal50deg.txt'\n",
    "path = '/home/vagner/Desktop/galfenol/gal0deg.txt'\n",
    "\n",
    "hexp10ktube = open(path,'r')\n",
    "hexp=hexp10ktube.readlines()\n",
    "\n",
    "print(hexp[0])\n",
    "#print(a1[0][1])\n",
    "\n",
    "hexp_on=[]\n",
    "mexp_on=[]\n",
    "hexp10ktube.close()\n",
    "for i in range(len(hexp)):\n",
    "    listexp=hexp[i].split('\\t')\n",
    "    hexp_on.append(float(listexp[0]))\n",
    "    mexp_on.append(float(listexp[1].split('\\n')[0]))"
   ]
  },
  {
   "cell_type": "code",
   "execution_count": 1515,
   "metadata": {},
   "outputs": [
    {
     "data": {
      "text/plain": [
       "0.93199"
      ]
     },
     "execution_count": 1515,
     "metadata": {},
     "output_type": "execute_result"
    }
   ],
   "source": [
    "hexp_on[int(len(hexp_on)/4+4)]"
   ]
  },
  {
   "cell_type": "code",
   "execution_count": 1516,
   "metadata": {},
   "outputs": [
    {
     "data": {
      "text/plain": [
       "0.77165"
      ]
     },
     "execution_count": 1516,
     "metadata": {},
     "output_type": "execute_result"
    }
   ],
   "source": [
    "mexp_on[int(len(hexp_on)/4+4)]"
   ]
  },
  {
   "cell_type": "code",
   "execution_count": 1517,
   "metadata": {},
   "outputs": [],
   "source": [
    "mexp_on=np.array(mexp_on)\n",
    "hant=0\n",
    "for i in range(len(hexp_on)):\n",
    "    if(hexp_on[i]>-100 and hant<-100):\n",
    "        h11_index=i\n",
    "    if(hexp_on[i]>-200 and hant<-200):\n",
    "        h22_index=i\n",
    "    hant=hexp_on[i]\n"
   ]
  },
  {
   "cell_type": "code",
   "execution_count": 1518,
   "metadata": {},
   "outputs": [
    {
     "data": {
      "text/plain": [
       "1570"
      ]
     },
     "execution_count": 1518,
     "metadata": {},
     "output_type": "execute_result"
    }
   ],
   "source": [
    "h11_index\n",
    "h22_index"
   ]
  },
  {
   "cell_type": "code",
   "execution_count": 2873,
   "metadata": {},
   "outputs": [
    {
     "data": {
      "text/plain": [
       "-100.1131"
      ]
     },
     "execution_count": 2873,
     "metadata": {},
     "output_type": "execute_result"
    }
   ],
   "source": [
    "hexp_on[h22_index]-hexp_on[h11_index]"
   ]
  },
  {
   "cell_type": "code",
   "execution_count": 2874,
   "metadata": {},
   "outputs": [
    {
     "data": {
      "text/plain": [
       "-0.89326"
      ]
     },
     "execution_count": 2874,
     "metadata": {},
     "output_type": "execute_result"
    }
   ],
   "source": [
    "mexp_on[h22_index]"
   ]
  },
  {
   "cell_type": "code",
   "execution_count": 2875,
   "metadata": {},
   "outputs": [
    {
     "data": {
      "text/plain": [
       "-0.09305000000000008"
      ]
     },
     "execution_count": 2875,
     "metadata": {},
     "output_type": "execute_result"
    }
   ],
   "source": [
    "mexp_on[h22_index]-mexp_on[h11_index]"
   ]
  },
  {
   "cell_type": "code",
   "execution_count": 2876,
   "metadata": {},
   "outputs": [
    {
     "data": {
      "text/plain": [
       "array([9.29422245, 9.27334661, 9.26227491, ..., 9.26513541, 9.28456489,\n",
       "       9.29425285])"
      ]
     },
     "execution_count": 2876,
     "metadata": {},
     "output_type": "execute_result"
    }
   ],
   "source": [
    "(mexp_on[h22_index]-mexp_on[h11_index])/(hexp_on[h22_index]-hexp_on[h11_index])*np.array(hexp_on)"
   ]
  },
  {
   "cell_type": "code",
   "execution_count": 2877,
   "metadata": {},
   "outputs": [],
   "source": [
    "mexp_on=mexp_on-(mexp_on[h22_index]-mexp_on[h11_index])/(hexp_on[h22_index]-hexp_on[h11_index])*np.array(hexp_on)"
   ]
  },
  {
   "cell_type": "code",
   "execution_count": 2878,
   "metadata": {},
   "outputs": [],
   "source": [
    "norm=abs(mexp_on[h11_index])"
   ]
  },
  {
   "cell_type": "code",
   "execution_count": 2879,
   "metadata": {},
   "outputs": [],
   "source": [
    "mexp_on=mexp_on/norm"
   ]
  },
  {
   "cell_type": "code",
   "execution_count": 4680,
   "metadata": {},
   "outputs": [],
   "source": [
    "# experimental data\n",
    "path1='/home/vagner/Desktop/galfenol/gal90deg.txt'\n",
    "path2='/home/vagner/Desktop/galfenol/gal50deg.txt'\n",
    "path3 = '/home/vagner/Desktop/galfenol/gal0deg.txt'\n",
    "\n",
    "hexp10ktube = open(path1,'r')\n",
    "hexp=hexp10ktube.readlines()\n",
    "\n",
    "\n",
    "hexp_on1=[]\n",
    "mexp_on1=[]\n",
    "hexp10ktube.close()\n",
    "for i in range(len(hexp)):\n",
    "    listexp=hexp[i].split('\\t')\n",
    "    hexp_on1.append(float(listexp[0]))\n",
    "    mexp_on1.append(float(listexp[1].split('\\n')[0]))\n",
    "\n",
    "hexp10ktube = open(path2,'r')\n",
    "hexp=hexp10ktube.readlines()\n",
    "\n",
    "\n",
    "hexp_on2=[]\n",
    "mexp_on2=[]\n",
    "hexp10ktube.close()\n",
    "for i in range(len(hexp)):\n",
    "    listexp=hexp[i].split('\\t')\n",
    "    hexp_on2.append(float(listexp[0]))\n",
    "    mexp_on2.append(float(listexp[1].split('\\n')[0]))\n",
    "        \n",
    "    \n",
    "hexp10ktube = open(path3,'r')\n",
    "hexp=hexp10ktube.readlines()\n",
    "\n",
    "\n",
    "hexp_on3=[]\n",
    "mexp_on3=[]\n",
    "hexp10ktube.close()\n",
    "for i in range(len(hexp)):\n",
    "    listexp=hexp[i].split('\\t')\n",
    "    hexp_on3.append(float(listexp[0]))\n",
    "    mexp_on3.append(float(listexp[1].split('\\n')[0]))\n",
    "        "
   ]
  },
  {
   "cell_type": "code",
   "execution_count": 4689,
   "metadata": {},
   "outputs": [],
   "source": [
    "mexp_on1=np.array(mexp_on1)\n",
    "hant=0\n",
    "for i in range(len(hexp_on1)):\n",
    "    if(hexp_on1[i]>-100 and hant<-100):\n",
    "        h11_index=i\n",
    "    if(hexp_on1[i]>-200 and hant<-200):\n",
    "        h22_index=i\n",
    "    hant=hexp_on1[i]\n",
    "\n",
    "mexp_on1=mexp_on1-(mexp_on1[h22_index]-mexp_on1[h11_index])/(hexp_on1[h22_index]-hexp_on1[h11_index])*np.array(hexp_on1)    \n",
    "norm=abs(mexp_on1[h11_index])\n",
    "mexp_on1=mexp_on1/norm\n"
   ]
  },
  {
   "cell_type": "code",
   "execution_count": 4682,
   "metadata": {},
   "outputs": [],
   "source": [
    "mexp_on2=np.array(mexp_on2)\n",
    "hant=0\n",
    "for i in range(len(hexp_on2)):\n",
    "    if(hexp_on2[i]>-100 and hant<-100):\n",
    "        h11_index=i\n",
    "    if(hexp_on2[i]>-200 and hant<-200):\n",
    "        h22_index=i\n",
    "    hant=hexp_on2[i]\n",
    "\n",
    "mexp_on2=mexp_on2-(mexp_on2[h22_index]-mexp_on2[h11_index])/(hexp_on2[h22_index]-hexp_on2[h11_index])*np.array(hexp_on2)    \n",
    "norm=abs(mexp_on2[h11_index])\n",
    "mexp_on2=mexp_on2/norm\n"
   ]
  },
  {
   "cell_type": "code",
   "execution_count": 4683,
   "metadata": {},
   "outputs": [],
   "source": [
    "mexp_on3=np.array(mexp_on3)\n",
    "hant=0\n",
    "for i in range(len(hexp_on3)):\n",
    "    if(hexp_on3[i]>-100 and hant<-100):\n",
    "        h11_index=i\n",
    "    if(hexp_on3[i]>-200 and hant<-200):\n",
    "        h22_index=i\n",
    "    hant=hexp_on3[i]\n",
    "\n",
    "mexp_on3=mexp_on3-(mexp_on3[h22_index]-mexp_on3[h11_index])/(hexp_on3[h22_index]-hexp_on3[h11_index])*np.array(hexp_on3)    \n",
    "norm=abs(mexp_on3[h11_index])\n",
    "mexp_on3=mexp_on3/norm\n"
   ]
  },
  {
   "cell_type": "code",
   "execution_count": 4690,
   "metadata": {},
   "outputs": [
    {
     "data": {
      "image/png": "[encoded data removed]",
      "text/plain": [
       "<Figure size 504x504 with 1 Axes>"
      ]
     },
     "metadata": {
      "needs_background": "light"
     },
     "output_type": "display_data"
    }
   ],
   "source": [
    "import matplotlib.pyplot as plt\n",
    "\n",
    "norm=1.00\n",
    "\n",
    "plt.figure(figsize=(7,7))\n",
    "\n",
    "plt.title(\"Interacting Single Domains\",size=40)\n",
    "\n",
    "l1=plt.scatter(hexp_on1,np.array(mexp_on1),color='black',label='90 deg')\n",
    "l2=plt.scatter(hexp_on2,np.array(mexp_on2),color='blue',label='50 deg')\n",
    "l3=plt.scatter(hexp_on3,np.array(mexp_on3),color='green',label='0 deg')\n",
    "\n",
    "plt.legend((l1,l2,l3),('90 deg','50 deg','0 deg'),fontsize=20)\n",
    "\n",
    "#plt.xlim(-1600*3*3,1600*3*3)\n",
    "plt.xlim(-abs(hini/1.),abs(hini/1.))\n",
    "plt.ylim(-1,1)\n",
    "#plt.savefig('firstsimul_20x20_interdipol_3D.jpeg')\n",
    "#plt.savefig('firstsimul_20x20_nointer_3D.jpeg')\n",
    "##plt.savefig('firstsimul_10x10_nointer.jpeg')\n",
    "#plt.savefig('firstsimul_12x12_nointer_3D.jpeg')\n",
    "#plt.savefig('firstsimul_12x12_interdipol_3D.jpeg')\n",
    "\n",
    "plt.show()\n",
    "\n",
    "\n"
   ]
  },
  {
   "cell_type": "code",
   "execution_count": null,
   "metadata": {},
   "outputs": [],
   "source": []
  },
  {
   "cell_type": "code",
   "execution_count": null,
   "metadata": {},
   "outputs": [],
   "source": [
    "path = '/home/vagner/Desktop/RolledupNanomembranes/python3/data_tube_10K_perptubeaxis_h.dat'\n",
    "#path = '/home/vagner/Desktop/RolledupNanomembranes/python3/data_tube_10K_alongtubeaxis_h.dat'\n",
    "\n",
    "hexp10ktube = open(path,'r')\n",
    "hexp=hexp10ktube.readlines()\n",
    "\n",
    "print(hexp[0])\n",
    "#print(a1[0][1])\n",
    "\n",
    "hexp10ktube.close()\n",
    "\n",
    "#hexp = [float(i) for i in hexp]\n",
    "\n",
    "\n",
    "path = '/home/vagner/Desktop/RolledupNanomembranes/python3/data_tube_10K_perptubeaxis_m.dat'\n",
    "#path = '/home/vagner/Desktop/RolledupNanomembranes/python3/data_tube_10K_alongtubeaxis_m.dat'\n",
    "mexp10ktube = open(path,'r')\n",
    "mexp=mexp10ktube.readlines()\n",
    "\n",
    "print(mexp[0])\n",
    "#print(a1[0][1])\n",
    "\n",
    "mexp10ktube.close()\n",
    "\n",
    "#mexp = [float(i)*1.00 for i in mexp]\n",
    "hexp_on=[]\n",
    "mexp_on=[]\n",
    "hexp10ktube.close()\n",
    "for i in range(1,len(hexp)):\n",
    "#    listexp=hexp[i].split('\\t')\n",
    "#    hexp_on.append(float(listexp[0]))\n",
    "#    mexp_on.append(float(listexp[1].split('\\n')[0]))\n",
    "#    print(hexp[i],'e',i)\n",
    "    hexp_on.append(float(hexp[i]))\n",
    "    mexp_on.append(float(mexp[i]))    "
   ]
  },
  {
   "cell_type": "code",
   "execution_count": null,
   "metadata": {},
   "outputs": [],
   "source": [
    "mexp_on"
   ]
  },
  {
   "cell_type": "code",
   "execution_count": null,
   "metadata": {},
   "outputs": [],
   "source": [
    "stepmag"
   ]
  },
  {
   "cell_type": "code",
   "execution_count": null,
   "metadata": {},
   "outputs": [],
   "source": [
    "coefmag"
   ]
  },
  {
   "cell_type": "code",
   "execution_count": null,
   "metadata": {},
   "outputs": [],
   "source": []
  },
  {
   "cell_type": "code",
   "execution_count": null,
   "metadata": {},
   "outputs": [],
   "source": []
  },
  {
   "cell_type": "code",
   "execution_count": null,
   "metadata": {},
   "outputs": [],
   "source": []
  },
  {
   "cell_type": "code",
   "execution_count": null,
   "metadata": {},
   "outputs": [],
   "source": []
  },
  {
   "cell_type": "code",
   "execution_count": null,
   "metadata": {},
   "outputs": [],
   "source": []
  },
  {
   "cell_type": "code",
   "execution_count": null,
   "metadata": {},
   "outputs": [],
   "source": []
  },
  {
   "cell_type": "code",
   "execution_count": null,
   "metadata": {},
   "outputs": [],
   "source": []
  },
  {
   "cell_type": "code",
   "execution_count": null,
   "metadata": {},
   "outputs": [],
   "source": []
  },
  {
   "cell_type": "code",
   "execution_count": null,
   "metadata": {},
   "outputs": [],
   "source": []
  },
  {
   "cell_type": "code",
   "execution_count": null,
   "metadata": {},
   "outputs": [],
   "source": []
  },
  {
   "cell_type": "code",
   "execution_count": null,
   "metadata": {},
   "outputs": [],
   "source": []
  }
 ],
 "metadata": {
  "kernelspec": {
   "display_name": "Python 3",
   "language": "python",
   "name": "python3"
  },
  "language_info": {
   "codemirror_mode": {
    "name": "ipython",
    "version": 3
   },
   "file_extension": ".py",
   "mimetype": "text/x-python",
   "name": "python",
   "nbconvert_exporter": "python",
   "pygments_lexer": "ipython3",
   "version": "3.6.10"
  }
 },
 "nbformat": 4,
 "nbformat_minor": 2
}
