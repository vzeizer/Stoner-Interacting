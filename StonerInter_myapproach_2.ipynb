{
 "cells": [
  {
   "cell_type": "markdown",
   "metadata": {},
   "source": [
    "   # Extending Single Domain Approach: the effect of interactions\n",
    "\n",
    "## Here it will be implemented 'my approach' to include interactions in the free energy density within the Stoner-Wohlfarth (single-domain) framework. It will be addressed magnetic interactions, such as dipole-dipole, exchange and dzyaloshinskii-moriya to calculate magnetization curves. Basically, for a given particle 'j' of the array in the step 'k' of the hysteresis procedure, the magnetization value ( described by $(\\theta_j,\\phi_j)$) of its neighbors will be approximated by its value in the step 'k-1'th (previous computation of the magnetic moments orientation). In this way, starting from technical saturation at high fields, the magnetization angles of the whole array can be calculated through common energy minimization procedures. The approach succeeds when the field-step is small enough to assure convergence of the calculations."
   ]
  },
  {
   "cell_type": "code",
   "execution_count": null,
   "metadata": {},
   "outputs": [],
   "source": []
  },
  {
   "cell_type": "code",
   "execution_count": null,
   "metadata": {},
   "outputs": [],
   "source": []
  },
  {
   "cell_type": "code",
   "execution_count": 176,
   "metadata": {},
   "outputs": [],
   "source": [
    "# the necessary import statements!\n",
    "\n",
    "# to paralelize and accelerate the calculations\n",
    "import numba as nb\n",
    "from numba import jit\n",
    "from numba import njit\n",
    "\n",
    "\n",
    "import joblib\n",
    "from joblib import Parallel, delayed\n",
    "import multiprocessing\n",
    "\n",
    "\n",
    "# numpy for fast calculations using arrays\n",
    "import numpy as np\n",
    "\n",
    "# scipy for minimization\n",
    "import scipy\n",
    "from scipy import optimize\n",
    "from scipy.optimize import minimize as spmin\n",
    "from scipy.optimize import Bounds\n",
    "\n",
    "# some trigonometric functions\n",
    "from math import pi, sin, cos, sqrt\n",
    "import math\n",
    "\n",
    "# to plot graphics\n",
    "import matplotlib.pyplot as plt\n",
    "%matplotlib inline\n",
    "\n",
    "# the time of some calculations\n",
    "import timeit\n",
    "\n",
    "import dlib\n",
    "\n",
    "import random\n",
    "\n",
    "from tqdm import tnrange, tqdm_notebook"
   ]
  },
  {
   "cell_type": "code",
   "execution_count": 177,
   "metadata": {},
   "outputs": [],
   "source": [
    "#from numba import numba_scipy"
   ]
  },
  {
   "cell_type": "code",
   "execution_count": 6165,
   "metadata": {},
   "outputs": [],
   "source": [
    "# parameters of the simulation\n",
    "\n",
    "Msat=float(1000)\n",
    "Ms=float(1/1000)\n",
    "\n",
    "K1=float(((-0*2.50)*10**4))\n",
    "K2=float((-0*1.0*10**5))\n",
    "Kuni=float((-1*1*5.5*10**4))\n",
    "Kuni2=float((0*0.5*10**4))\n",
    "K1mel=float((-0*1.5*10**4))\n",
    "K1out=float((0*2.0*10**4))\n",
    "Knucl=float((0*1.0*10**4))\n",
    "\n",
    "Neff=float(-0.00*1.000)\n",
    "#field-dependent anisotropy\n",
    "Kfd=float(-0*0.30*10**0)\n",
    "#Krot=float((1*2.50*10**4))\n",
    "Krot=float((-0*0.55*10**4))\n",
    "Krot2=float((-0*1.80*10**3))\n",
    "htheta=float(+2*pi/4.-0.97+1.00*pi/180.)\n",
    "hphi=float(2*pi/4+5.00*pi/180.)\n",
    "\n",
    "# Nanoparticle arrangement order\n",
    "# 1-> square\n",
    "# 2-> ring\n",
    "# 3-> nanomembrane\n",
    "np_order = 1\n",
    "\n",
    "\n",
    "Nparticles=2\n",
    "\n",
    "height=1\n",
    "\n",
    "NN=Nparticles**3\n",
    "NN2=Nparticles**2\n",
    "\n",
    "# interaction strengths!\n",
    "\n",
    "m = 0*0.005\n",
    "\n",
    "beta = 0*0.002\n",
    "\n",
    "jota = -0*0.002\n",
    "\n",
    "jotabi = 0*0.01\n",
    "\n"
   ]
  },
  {
   "cell_type": "code",
   "execution_count": 6166,
   "metadata": {},
   "outputs": [
    {
     "data": {
      "text/plain": [
       "(1.2309594173407747, 0.9461686134701807)"
      ]
     },
     "execution_count": 6166,
     "metadata": {},
     "output_type": "execute_result"
    }
   ],
   "source": [
    "np.arccos(1/3.),np.arccos(1/1.71)"
   ]
  },
  {
   "cell_type": "code",
   "execution_count": 6167,
   "metadata": {},
   "outputs": [
    {
     "data": {
      "text/plain": [
       "0.6182496193148399"
      ]
     },
     "execution_count": 6167,
     "metadata": {},
     "output_type": "execute_result"
    }
   ],
   "source": [
    "htheta"
   ]
  },
  {
   "cell_type": "code",
   "execution_count": 6168,
   "metadata": {},
   "outputs": [
    {
     "name": "stdout",
     "output_type": "stream",
     "text": [
      "0.0 0.0 0.0 -55000.0\n"
     ]
    }
   ],
   "source": [
    "print(beta,m,K1/Msat**2,Kuni)"
   ]
  },
  {
   "cell_type": "code",
   "execution_count": 6169,
   "metadata": {},
   "outputs": [
    {
     "name": "stdout",
     "output_type": "stream",
     "text": [
      "0.0 0.0 0.0 1000.0 600\n"
     ]
    }
   ],
   "source": [
    "# applied field parameters\n",
    "\n",
    "hini=204.00*1\n",
    "hfinal=-204.00*1\n",
    "step=600*1\n",
    "stepmag=0.15/step\n",
    "stepmag=0.00/step\n",
    "hpasso=(hfinal-hini)/step\n",
    "print(K1,K2,Krot,Msat,step)"
   ]
  },
  {
   "cell_type": "code",
   "execution_count": 6170,
   "metadata": {},
   "outputs": [],
   "source": [
    "# array for angle dispersion in 'phi' and 'theta'\n",
    "\n",
    "phi_np = np.array([0*random.random() for x in range(NN2)],dtype=np.float64)\n",
    "theta_np = np.array([0*random.random() for x in range(NN2)],dtype=np.float64)\n",
    "#print(phi_np)"
   ]
  },
  {
   "cell_type": "code",
   "execution_count": 6171,
   "metadata": {},
   "outputs": [],
   "source": [
    "# the function that defines the common magnetic anisotropy terms\n",
    "#@jit(nopython=True)\n",
    "@jit(nopython=True,parallel=True)\n",
    "#def anisotropy(phi,theta,K1,K2,h,htheta,hphi,Msat,i):\n",
    "def anisotropy(phi,theta,K1,K2,h,htheta,hphi,Msat,i,j,phiantarray,thetaantarray):\n",
    "\n",
    "    phiant=phiantarray[j]\n",
    "    thetaant=thetaantarray[j]\n",
    "\n",
    "#    anis+=Kuni/(Msat**2)*np.sin(phi-3.1415/4.)**2*np.sin(theta-3.1415/4.)**2\n",
    "#    anis=Kuni/(Msat**2)*np.sin(phi-3.1415/4.)**2*np.sin(theta-0.94)**2\n",
    "\n",
    "    anis=Kuni/(Msat**2)*np.sin(phi)**2*np.sin(theta)**2\n",
    "#    anis=Kuni/(Msat**2)*(np.sin(phi-phi_np[i])**2*np.cos(phi-phi_np[i])**2*np.sin(theta-theta_np[i])**4+np.sin(phi-phi_np[i])**2*np.sin(theta-theta_np[i])**2*np.cos(theta-theta_np[i])**2+np.cos(phi-phi_np[i])**2*np.sin(theta-theta_np[i])**2*np.cos(theta-theta_np[i])**2)\n",
    "#    anis=Kuni/(Msat**2)*(np.sin(phi-phi_np[i])**2*np.cos(phi-phi_np[i])**2*np.sin(theta-theta_np[i])**4)\n",
    "    \n",
    "#    theta=theta+0.97\n",
    "#    phi=phi-3.1415/4.\n",
    "\n",
    "    \n",
    "# first-order cubic magnetocrystalline anisotropy\n",
    "#    anis=K1/(Msat**2)*(np.sin(phi-3.14/4.)**2*np.cos(phi-3.14/4.)**2*np.sin(theta-0.94)**4+np.sin(phi-3.14/4.)**2*np.sin(theta-0.94)**2*np.cos(theta-0.94)**2+np.cos(phi-3.14/4.)**2*np.sin(theta-0.94)**2*np.cos(theta-0.94)**2)\n",
    "#    anis=K1/(Msat**2)*(np.sin(phi-3.14/4.)**2*np.cos(phi-3.14/4.)**2*np.sin(theta)**4+np.sin(phi-3.14/4.)**2*np.sin(theta)**2*np.cos(theta)**2+np.cos(phi-3.14/4.)**2*np.sin(theta)**2*np.cos(theta)**2)\n",
    "    anis+=K1/(Msat**2)*(np.sin(phi-phi_np[i])**2*np.cos(phi-phi_np[i])**2*np.sin(theta-theta_np[i])**4+np.sin(phi-phi_np[i])**2*np.sin(theta-theta_np[i])**2*np.cos(theta-theta_np[i])**2+np.cos(phi-phi_np[i])**2*np.sin(theta-theta_np[i])**2*np.cos(theta-theta_np[i])**2)\n",
    "\n",
    "# second-order cubic magnetocrystalline anisotropy    \n",
    "    anis+=K2/(Msat**2)*np.sin(phi)**2*np.sin(theta)**2*np.cos(phi)**2*np.sin(theta)**2*np.cos(theta)**2\n",
    "\n",
    "    \n",
    "    \n",
    "    \n",
    "# demagnetizing energy\n",
    "    anis+=2*3.1415*Neff*np.cos(theta)**2\n",
    "\n",
    "    anis+=Knucl/(Msat**2)*np.sin(theta-thetaant)*np.cos(phi-phiant)**1\n",
    "    \n",
    "    anis+=K1out/(Msat**2)*np.cos(theta)**2\n",
    "\n",
    "    \n",
    "    # magelas anisotropy \n",
    "    \n",
    "#    anis+=K1mel/(Msat**2)*np.cos(phi-phi_np[i])**2*np.sin(theta-theta_np[i])**2\n",
    "#    anis+=K1mel/(Msat**2)*np.cos(theta)**2\n",
    "    anis+=K1mel/(Msat**2)*np.cos(phi-phi_np[i])**2*np.sin(theta-theta_np[i])**2\n",
    "    \n",
    "    \n",
    "# uniaxial anisotropy \n",
    "    \n",
    "    \n",
    "# uniaxial anisotropy \n",
    "    \n",
    "    anis+=Kuni2/(Msat**2)*np.sin(phi-3.1415/4.)**4*np.sin(theta-0.94)**4\n",
    "\n",
    "# field dependent anis!\n",
    "\n",
    "#    anis+=Kfd/(Msat**2)*h*Msat*(np.sin(htheta)*np.sin(theta)*np.cos(phi-hphi)+np.cos(htheta)*np.cos(theta))\n",
    "    anis+=Kfd/(Msat**2)*h*Msat**2*(np.sin(theta)*np.cos(phi-3.1415/4.))**2\n",
    "    \n",
    "# rotatable anis!\n",
    "\n",
    "#    anis+=Krot/(Msat**2)*(h*Msat)**1*(np.sin(htheta)*np.sin(theta)*np.cos(phi-hphi)+np.cos(htheta)*np.cos(theta))**1\n",
    "#    anis+=Krot/(Msat**2)*(np.sin(htheta)*np.sin(theta-theta_np[i])*np.cos(phi-phi_np[i]-hphi)+np.cos(htheta)*np.cos(theta-theta_np[i]))**2\n",
    "    \n",
    "    if(abs(h*Msat)>100):\n",
    "    \n",
    "        anis+=0*Krot/(Msat**2)*(np.sin(htheta)*np.sin(theta)*np.cos(phi-hphi)+np.cos(htheta)*np.cos(theta))**2\n",
    "    else:\n",
    "        anis+=(100-abs(h*Msat))/100.*Krot/(Msat**2)*(np.sin(htheta)*np.sin(theta)*np.cos(phi-hphi)+np.cos(htheta)*np.cos(theta))**2\n",
    "        \n",
    "    anis+=Krot2/(Msat**2)*(np.sin(htheta)*np.sin(theta)*np.cos(phi-hphi)+np.cos(htheta)*np.cos(theta))**4\n",
    "    \n",
    "    \n",
    "    return anis\n",
    "    "
   ]
  },
  {
   "cell_type": "code",
   "execution_count": 6172,
   "metadata": {},
   "outputs": [],
   "source": [
    "# Zeeman Energy\n",
    "\n",
    "#@jit(nopython=True)\n",
    "@jit(nopython=True,parallel=True)\n",
    "def zeeman_energy(phi,theta,K1,K2,h,htheta,hphi,Msat,i):\n",
    "    \n",
    "\n",
    "    zeeman=-h*(np.sin(htheta)*np.sin(theta)*np.cos(phi-hphi)+np.cos(htheta)*np.cos(theta))\n",
    "\n",
    "\n",
    "    return zeeman\n"
   ]
  },
  {
   "cell_type": "code",
   "execution_count": 6173,
   "metadata": {},
   "outputs": [],
   "source": [
    "# creating positions!\n",
    "# this is for creating positions!\n",
    "\n",
    "#@jit(nopython=True,parallel=True)\n",
    "#@jit(nopython=True)\n",
    "def create_pos(np_order,NN2):\n",
    "    \n",
    "    if(np_order==1):\n",
    "        \n",
    "        nnx=int(sqrt(NN2))\n",
    "        nny=int(sqrt(NN2))\n",
    "        \n",
    "        coord_pos = []\n",
    "#        coord_pos = np.zeros((nnx,nny,nnx))\n",
    "#        coord_pos = np.zeros(NN2)\n",
    "        \n",
    "        for i in range(nnx):\n",
    "\n",
    "            for j in range(nnx):\n",
    "                \n",
    "#                coord_pos.append([i,j,0])\n",
    "                coord_pos.append([1*i,1*j,0])\n",
    "#                coord_pos = np.append(coord_pos,[1*i,1*j,0])\n",
    "\n",
    "#                coord_pos[i][j][0] = np.array([1*i,1*j,0])\n",
    "    \n",
    "    elif(np_order==2):\n",
    "        \n",
    "        coord_pos=[]\n",
    "        \n",
    "        for i in range(NN2):\n",
    "            \n",
    "            coord_pos.append([NN2*math.cos(2*pi*i/NN2),NN2*math.sin(2*pi*i/NN2),0])\n",
    "    \n",
    "    elif(np_order==3):\n",
    "        \n",
    "        coord_pos=[]\n",
    "        \n",
    "        for j in range(height):\n",
    "        \n",
    "            for i in range(NN2):\n",
    "\n",
    "                coord_pos.append([NN2*math.cos(2*pi*i/NN2),j,NN2*math.sin(2*pi*i/NN2)])\n",
    "\n",
    "    return np.array(coord_pos,dtype=np.float64)\n"
   ]
  },
  {
   "cell_type": "code",
   "execution_count": 6174,
   "metadata": {},
   "outputs": [],
   "source": [
    "# this is to create the angles, which are used in the computation of the interactions!\n",
    "\n",
    "ar_pos=create_pos(np_order,NN2)\n",
    "\n",
    "\n",
    "#@jit(nopython=True,parallel=True)\n",
    "@jit(nopython=True)\n",
    "def angles_vecs(NN2):\n",
    "\n",
    "    print(np_order)\n",
    "#    ar_pos=create_pos(np_order,NN2)\n",
    "\n",
    "#    print(ar_pos)\n",
    "    \n",
    "    x_coord = [ar_pos[i][0] for i in range(NN2*height)]\n",
    "    y_coord = [ar_pos[i][1] for i in range(NN2*height)]\n",
    "    z_coord = [ar_pos[i][2] for i in range(NN2*height)]\n",
    "\n",
    "    x_ang = []\n",
    "    y_ang = []\n",
    "    \n",
    "    for i in range(NN2*height):\n",
    "        x_ang_menor=[]\n",
    "        y_ang_menor=[]\n",
    "        \n",
    "        for j in range(NN2*height):\n",
    "            \n",
    "            if(i!=j):\n",
    "                innerproduct = x_coord[i]*x_coord[j]+y_coord[i]*y_coord[j]\n",
    "\n",
    "                dist1 = sqrt(x_coord[i]**2+y_coord[i]**2+z_coord[i]**2)\n",
    "                dist2 = sqrt(x_coord[j]**2+y_coord[j]**2+z_coord[j]**2)\n",
    "                \n",
    "                distnewvec = sqrt((x_coord[j]-x_coord[i])**2+(y_coord[j]-y_coord[i])**2+(z_coord[j]-z_coord[i])**2)\n",
    "                distnewvecplane = sqrt((x_coord[j]-x_coord[i])**2+(y_coord[j]-y_coord[i])**2)\n",
    "                \n",
    "                if(distnewvecplane!=0.0):\n",
    "#                    angphi = math.acos((x_coord[j]-x_coord[i])/distnewvecplane)\n",
    "#                    angtheta = math.acos((z_coord[j]-z_coord[i])/distnewvec)\n",
    "                    angphi = math.acos((x_coord[i]-x_coord[j])/distnewvecplane)\n",
    "                    angtheta = math.acos((z_coord[i]-z_coord[j])/distnewvec)\n",
    "                elif(distnewvecplane == 0.0):\n",
    "                    angphi = 0.0\n",
    "                    angtheta = 3.1415/2.\n",
    "                x_ang_menor.append(angphi)\n",
    "                y_ang_menor.append(angtheta)\n",
    "                \n",
    "            elif(i==j):\n",
    "                \n",
    "                x_ang_menor.append(0.0)\n",
    "                y_ang_menor.append(0.0)\n",
    "                \n",
    "        x_ang.append(x_ang_menor)\n",
    "        y_ang.append(y_ang_menor)\n",
    "        x_ang_menor=[]\n",
    "        y_ang_menor=[]\n",
    "                \n",
    "\n",
    "                \n",
    "#    return np.array(x_ang,dtype=np.float64),np.array(y_ang,np.float64)\n",
    "#    return np.array(x_ang),np.array(y_ang)\n",
    "    return x_ang,y_ang"
   ]
  },
  {
   "cell_type": "code",
   "execution_count": 6175,
   "metadata": {},
   "outputs": [],
   "source": [
    "# Function to calculate the distance between particles 'i' and 'j'\n",
    "\n",
    "#@jit(nopython=True)\n",
    "def dist_dipolar(i,j):\n",
    "    sizex=int(sqrt(NN2))\n",
    "    sizey=int(sqrt(NN2))\n",
    "    \n",
    "    # distance of particle 'j' from particle 'i'\n",
    "#    distdip=[]\n",
    "    '''\n",
    "    for ii in range(sizex):\n",
    "        for jj in range(sizey):\n",
    "            distdip.append(sqrt((int(i/sizex)-ii)**2+(int(i%sizey)-jj)**2))\n",
    "    '''\n",
    "    \n",
    "    '''\n",
    "    distdip=sqrt((int(i/sizex)-int(j/sizex))**2+(int(i%sizey)-int(j%sizey))**2)\n",
    "    '''\n",
    "\n",
    "    if(np_order==1):\n",
    "\n",
    "        distdip=[]\n",
    "        for ii in range(NN2):\n",
    "            distdip1=[]\n",
    "            for jj in range(NN2):\n",
    "                distdip1.append(sqrt((int(ii/sizex)-int(jj/sizex))**2+(int(ii%sizey)-int(jj%sizey))**2))\n",
    "            distdip.append(distdip1)\n",
    "            \n",
    "    elif(np_order==2):\n",
    "        \n",
    "        distdip=[]\n",
    "#        distdip=np.empty(NN2)\n",
    "        for ii in range(NN2):\n",
    "            distmin=[]\n",
    "            distdip1=[]\n",
    "            for jj in range(NN2):\n",
    "                distdip1.append(sqrt((math.cos(2*pi*ii/NN2)-math.cos(2*pi*jj/NN2))**2+(math.sin(2*pi*ii/NN2)-math.sin(2*pi*jj/NN2))**2))\n",
    "            \n",
    "                if(ii!=jj):\n",
    "                    distmin.append(sqrt((math.cos(2*pi*ii/NN2)-math.cos(2*pi*jj/NN2))**2+(math.sin(2*pi*ii/NN2)-math.sin(2*pi*jj/NN2))**2))\n",
    "\n",
    "            arraydistmin=np.array(distmin)\n",
    "            \n",
    "            distdip1new=[]\n",
    "            \n",
    "            for u in range(NN2):\n",
    "                distdip1new.append(distdip1[u]/np.amin(arraydistmin))\n",
    "            \n",
    "            distdip.append(distdip1new)\n",
    "#            distdip1=np.array(distdip1)\n",
    "#            distmin=np.array(distmin)\n",
    "#            distdip[ii]=distdip1/np.amin(distmin)\n",
    "#            distdip=np.array(distdip)\n",
    "\n",
    "\n",
    "    elif(np_order==3):\n",
    "        \n",
    "        distdip=[]\n",
    "#        distdip=np.empty(NN2)\n",
    "        for ii in range(NN2*height):\n",
    "            distmin=[]\n",
    "            distdip1=[]\n",
    "            for jj in range(NN2*height):\n",
    "#                for kkk in range(height):\n",
    "#                    for kk in range(height):\n",
    "           \n",
    "                distdip1.append(sqrt((math.cos(2*pi*(ii%NN2)/NN2)-math.cos(2*pi*(jj%NN2)/NN2))**2+(math.sin(2*pi*(ii%NN2)/NN2)-math.sin(2*pi*(jj%NN2)/NN2))**2+((int(ii/NN2)-int(jj/NN2))/height)**2))\n",
    "\n",
    "                if(ii!=jj):\n",
    "                \n",
    "                    distmin.append(sqrt((math.cos(2*pi*(ii%NN2)/NN2)-math.cos(2*pi*(jj%NN2)/NN2))**2+(math.sin(2*pi*(ii%NN2)/NN2)-math.sin(2*pi*(jj%NN2)/NN2))**2+((int(ii/NN2)-int(jj/NN2))/height)**2))\n",
    "\n",
    "            arraydistmin=np.array(distmin)\n",
    "\n",
    "            distdip1new=[]\n",
    "            if(np.amin(arraydistmin)==0.0):\n",
    "                print(ii,'ii')\n",
    "                print(distdip1[1])\n",
    "                print('zerou',np.argmin(arraydistmin),arraydistmin[np.argmin(arraydistmin)-1])\n",
    "                break\n",
    "\n",
    "            for u in range(NN2*height):\n",
    "                distdip1new.append(distdip1[u]/np.amin(arraydistmin))\n",
    "\n",
    "            distdip.append(distdip1new)\n",
    "\n",
    "\n",
    "\n",
    "#        distdip=[]\n",
    "        \n",
    "#    return np.array(distdip,dtype=np.float64)\n",
    "#    return distdip[j]\n",
    "    return distdip\n"
   ]
  },
  {
   "cell_type": "code",
   "execution_count": 6176,
   "metadata": {},
   "outputs": [
    {
     "name": "stdout",
     "output_type": "stream",
     "text": [
      "4\n"
     ]
    },
    {
     "ename": "IndexError",
     "evalue": "list index out of range",
     "output_type": "error",
     "traceback": [
      "\u001b[0;31m---------------------------------------------------------------------------\u001b[0m",
      "\u001b[0;31mIndexError\u001b[0m                                Traceback (most recent call last)",
      "\u001b[0;32m<ipython-input-6176-8a497f13774d>\u001b[0m in \u001b[0;36m<module>\u001b[0;34m()\u001b[0m\n\u001b[1;32m      2\u001b[0m \u001b[0mjj\u001b[0m\u001b[0;34m=\u001b[0m\u001b[0;36m30\u001b[0m\u001b[0;34m\u001b[0m\u001b[0;34m\u001b[0m\u001b[0m\n\u001b[1;32m      3\u001b[0m \u001b[0mprint\u001b[0m\u001b[0;34m(\u001b[0m\u001b[0mlen\u001b[0m\u001b[0;34m(\u001b[0m\u001b[0mdist_dipolar\u001b[0m\u001b[0;34m(\u001b[0m\u001b[0;36m2\u001b[0m\u001b[0;34m,\u001b[0m\u001b[0;36m3\u001b[0m\u001b[0;34m)\u001b[0m\u001b[0;34m)\u001b[0m\u001b[0;34m)\u001b[0m\u001b[0;34m\u001b[0m\u001b[0;34m\u001b[0m\u001b[0m\n\u001b[0;32m----> 4\u001b[0;31m \u001b[0mdist_dipolar\u001b[0m\u001b[0;34m(\u001b[0m\u001b[0;36m20\u001b[0m\u001b[0;34m,\u001b[0m\u001b[0;36m30\u001b[0m\u001b[0;34m)\u001b[0m\u001b[0;34m[\u001b[0m\u001b[0;36m14\u001b[0m\u001b[0;34m]\u001b[0m\u001b[0;34m[\u001b[0m\u001b[0;36m25\u001b[0m\u001b[0;34m]\u001b[0m\u001b[0;34m\u001b[0m\u001b[0;34m\u001b[0m\u001b[0m\n\u001b[0m",
      "\u001b[0;31mIndexError\u001b[0m: list index out of range"
     ]
    }
   ],
   "source": [
    "ii=20\n",
    "jj=30\n",
    "print(len(dist_dipolar(2,3)))\n",
    "dist_dipolar(20,30)[14][25]"
   ]
  },
  {
   "cell_type": "code",
   "execution_count": 6177,
   "metadata": {},
   "outputs": [
    {
     "data": {
      "text/plain": [
       "102400.0"
      ]
     },
     "execution_count": 6177,
     "metadata": {},
     "output_type": "execute_result"
    }
   ],
   "source": [
    "sqrt((10%height/height)**2)\n",
    "(((0%height)-(int(320/height)))/height)**2"
   ]
  },
  {
   "cell_type": "code",
   "execution_count": 6178,
   "metadata": {},
   "outputs": [
    {
     "data": {
      "text/plain": [
       "1.0"
      ]
     },
     "execution_count": 6178,
     "metadata": {},
     "output_type": "execute_result"
    }
   ],
   "source": [
    "math.cos(2*pi*(64%NN2)/NN2)"
   ]
  },
  {
   "cell_type": "code",
   "execution_count": 6179,
   "metadata": {},
   "outputs": [
    {
     "name": "stdout",
     "output_type": "stream",
     "text": [
      "0\n",
      "[0 array([1, 2]) 0 0 0 0 0 0 0]\n"
     ]
    }
   ],
   "source": [
    "dd=np.zeros((9),dtype=np.object)\n",
    "print(dd[2])\n",
    "dd[1]=np.array((1,2))\n",
    "print(dd)"
   ]
  },
  {
   "cell_type": "code",
   "execution_count": 6180,
   "metadata": {},
   "outputs": [
    {
     "name": "stdout",
     "output_type": "stream",
     "text": [
      "0 5.0\n",
      "2\n"
     ]
    }
   ],
   "source": [
    "print(10%int(sqrt(NN2)),10/int(sqrt(NN2)))\n",
    "print(int(sqrt(NN2)))"
   ]
  },
  {
   "cell_type": "code",
   "execution_count": 6181,
   "metadata": {},
   "outputs": [],
   "source": [
    "vec_dip=np.array(dist_dipolar(20,30))"
   ]
  },
  {
   "cell_type": "code",
   "execution_count": 6182,
   "metadata": {},
   "outputs": [
    {
     "ename": "IndexError",
     "evalue": "index 13 is out of bounds for axis 0 with size 4",
     "output_type": "error",
     "traceback": [
      "\u001b[0;31m---------------------------------------------------------------------------\u001b[0m",
      "\u001b[0;31mIndexError\u001b[0m                                Traceback (most recent call last)",
      "\u001b[0;32m<ipython-input-6182-815c161f3639>\u001b[0m in \u001b[0;36m<module>\u001b[0;34m()\u001b[0m\n\u001b[0;32m----> 1\u001b[0;31m \u001b[0mlen\u001b[0m\u001b[0;34m(\u001b[0m\u001b[0mvec_dip\u001b[0m\u001b[0;34m[\u001b[0m\u001b[0;36m13\u001b[0m\u001b[0;34m]\u001b[0m\u001b[0;34m)\u001b[0m\u001b[0;34m\u001b[0m\u001b[0;34m\u001b[0m\u001b[0m\n\u001b[0m",
      "\u001b[0;31mIndexError\u001b[0m: index 13 is out of bounds for axis 0 with size 4"
     ]
    }
   ],
   "source": [
    "len(vec_dip[13])"
   ]
  },
  {
   "cell_type": "code",
   "execution_count": 6183,
   "metadata": {},
   "outputs": [],
   "source": [
    "import itertools"
   ]
  },
  {
   "cell_type": "code",
   "execution_count": 6184,
   "metadata": {},
   "outputs": [
    {
     "name": "stdout",
     "output_type": "stream",
     "text": [
      "1\n"
     ]
    }
   ],
   "source": [
    "x_ang,y_ang = angles_vecs(NN2)\n",
    "#rr=dist_dipolar(i)\n",
    "x_ang=np.array(x_ang,dtype=np.float64)\n",
    "y_ang=np.array(y_ang,dtype=np.float64)"
   ]
  },
  {
   "cell_type": "code",
   "execution_count": 6185,
   "metadata": {},
   "outputs": [
    {
     "ename": "IndexError",
     "evalue": "index 13 is out of bounds for axis 0 with size 4",
     "output_type": "error",
     "traceback": [
      "\u001b[0;31m---------------------------------------------------------------------------\u001b[0m",
      "\u001b[0;31mIndexError\u001b[0m                                Traceback (most recent call last)",
      "\u001b[0;32m<ipython-input-6185-f26734758683>\u001b[0m in \u001b[0;36m<module>\u001b[0;34m()\u001b[0m\n\u001b[0;32m----> 1\u001b[0;31m \u001b[0mlen\u001b[0m\u001b[0;34m(\u001b[0m\u001b[0mx_ang\u001b[0m\u001b[0;34m[\u001b[0m\u001b[0;36m13\u001b[0m\u001b[0;34m]\u001b[0m\u001b[0;34m)\u001b[0m\u001b[0;34m\u001b[0m\u001b[0;34m\u001b[0m\u001b[0m\n\u001b[0m",
      "\u001b[0;31mIndexError\u001b[0m: index 13 is out of bounds for axis 0 with size 4"
     ]
    }
   ],
   "source": [
    "len(x_ang[13])"
   ]
  },
  {
   "cell_type": "code",
   "execution_count": null,
   "metadata": {},
   "outputs": [],
   "source": [
    "y_ang[13]"
   ]
  },
  {
   "cell_type": "code",
   "execution_count": null,
   "metadata": {},
   "outputs": [],
   "source": [
    "# the interactions\n",
    "#vec_dip_called = np.array(vec_dip)\n",
    "\n",
    "#@jit(nopython=True)\n",
    "@jit(nopython=True,parallel=True,fastmath=True)\n",
    "def energy_interdipolar(phi,theta,phiantarray,thetaantarray,K1,K2,h,htheta,hphi,i,j):\n",
    "\n",
    "    #obtaining the angles to calculate the interactions!\n",
    "\n",
    "#    print(i,'i before')\n",
    "#    print(j,'j before')\n",
    "    \n",
    "#    x_ang,y_ang = angles_vecs(NN2)\n",
    "#    print(i,'i')\n",
    "#    print(j,'j')\n",
    "#    print(phiantarray)\n",
    "    phiant = phiantarray[j]\n",
    "    thetaant = thetaantarray[j]\n",
    "# dipolar energy\n",
    "\n",
    "#    phiant=phi+phiantarray[j]-phiantarray[i]\n",
    "#    thetaant=theta+thetaantarray[j]-thetaantarray[i]\n",
    "\n",
    "#    print(beta,'beta')\n",
    "\n",
    "    rr=vec_dip[i][j]\n",
    "#    rr=vec_dip_called[i][j]\n",
    "\n",
    "#    create_pos(np_order,NN2)\n",
    "    inter_dipolar=-3*beta/(rr**3)*(np.sin(theta)*np.sin(y_ang[i][j])*np.cos(phi-x_ang[i][j])+np.cos(theta)*np.cos(y_ang[i][j]))*(np.sin(thetaant)*np.sin(y_ang[i][j])*np.cos(phiant-x_ang[i][j])+np.cos(thetaant)*np.cos(y_ang[i][j]));\n",
    "    inter_dipolar+=beta/(rr**3)*(np.sin(theta)*np.sin(thetaant)*np.cos(phi-phiant)+np.cos(theta)*np.cos(thetaant))\n",
    "\n",
    "#    print(inter_dipolar,'dipolar')\n",
    "    \n",
    "    return inter_dipolar\n",
    "    \n",
    "# exchange energy\n",
    "\n",
    "# moriya energy\n",
    "\n"
   ]
  },
  {
   "cell_type": "code",
   "execution_count": 6186,
   "metadata": {},
   "outputs": [
    {
     "data": {
      "text/plain": [
       "0.0"
      ]
     },
     "execution_count": 6186,
     "metadata": {},
     "output_type": "execute_result"
    }
   ],
   "source": [
    "energy_interdipolar(0.2,0.5,phiantarray,thetaantarray,K1,K2,0.3,htheta,hphi,4,5)"
   ]
  },
  {
   "cell_type": "code",
   "execution_count": null,
   "metadata": {},
   "outputs": [],
   "source": []
  },
  {
   "cell_type": "code",
   "execution_count": 6187,
   "metadata": {},
   "outputs": [],
   "source": [
    "@jit(nopython=True,parallel=True,fastmath=True)\n",
    "def energy_interexchange(phi,theta,phiantarray,thetaantarray,K1,K2,h,htheta,hphi,i,j):\n",
    "    #obtaining the angles to calculate the interactions!\n",
    "\n",
    "#    print(i,'i before')\n",
    "#    print(j,'j before')\n",
    "    \n",
    "#    x_ang,y_ang = angles_vecs(NN2)\n",
    "#    print(i,'i')\n",
    "#    print(j,'j')\n",
    "#    print(phiantarray)\n",
    "    phiant = phiantarray[j]\n",
    "    thetaant = thetaantarray[j]\n",
    "# dipolar energy\n",
    "\n",
    "#    phiant=phi+phiantarray[j]-phiantarray[i]\n",
    "#    thetaant=theta+thetaantarray[j]-thetaantarray[i]\n",
    "\n",
    "#    print(beta,'beta')\n",
    "\n",
    "    rr=vec_dip[i][j]\n",
    "#    rr=vec_dip_called[i][j]\n",
    "\n",
    "#    create_pos(np_order,NN2)\n",
    "    inter_exc=jota*np.exp(-rr**9)/np.exp(-1.0)*(np.sin(theta)*np.sin(thetaant)*np.cos(phi-phiant)+np.cos(theta)*np.cos(thetaant))\n",
    "#    print(jota*np.exp(-rr)/np.exp(-1.0))\n",
    "#    print((np.sin(theta)*np.sin(thetaant)*np.cos(phi-phiant)+np.cos(theta)*np.cos(thetaant)))\n",
    "\n",
    "#    print(inter_dipolar,'dipolar')\n",
    "    \n",
    "    return inter_exc\n"
   ]
  },
  {
   "cell_type": "code",
   "execution_count": null,
   "metadata": {},
   "outputs": [],
   "source": []
  },
  {
   "cell_type": "code",
   "execution_count": null,
   "metadata": {},
   "outputs": [],
   "source": []
  },
  {
   "cell_type": "code",
   "execution_count": 6188,
   "metadata": {},
   "outputs": [],
   "source": [
    "@jit(nopython=True,parallel=True,fastmath=True)\n",
    "def energy_biinterexchange(phi,theta,phiantarray,thetaantarray,K1,K2,h,htheta,hphi,i,j):\n",
    "    #obtaining the angles to calculate the interactions!\n",
    "\n",
    "#    print(i,'i before')\n",
    "#    print(j,'j before')\n",
    "    \n",
    "#    x_ang,y_ang = angles_vecs(NN2)\n",
    "#    print(i,'i')\n",
    "#    print(j,'j')\n",
    "#    print(phiantarray)\n",
    "    phiant = phiantarray[j]\n",
    "    thetaant = thetaantarray[j]\n",
    "# dipolar energy\n",
    "\n",
    "#    phiant=phi+phiantarray[j]-phiantarray[i]\n",
    "#    thetaant=theta+thetaantarray[j]-thetaantarray[i]\n",
    "\n",
    "#    print(beta,'beta')\n",
    "\n",
    "    rr=vec_dip[i][j]\n",
    "#    rr=vec_dip_called[i][j]\n",
    "\n",
    "#    create_pos(np_order,NN2)\n",
    "    inter_excbi=jotabi*np.exp(-rr**9)/np.exp(-1.0)*(np.sin(theta)*np.sin(thetaant)*np.cos(phi-phiant)+np.cos(theta)*np.cos(thetaant))**2\n",
    "#    print(jota*np.exp(-rr)/np.exp(-1.0))\n",
    "#    print((np.sin(theta)*np.sin(thetaant)*np.cos(phi-phiant)+np.cos(theta)*np.cos(thetaant)))\n",
    "\n",
    "#    print(inter_dipolar,'dipolar')\n",
    "    \n",
    "    return inter_excbi\n"
   ]
  },
  {
   "cell_type": "code",
   "execution_count": null,
   "metadata": {},
   "outputs": [],
   "source": []
  },
  {
   "cell_type": "code",
   "execution_count": 6189,
   "metadata": {},
   "outputs": [],
   "source": [
    "# the interactions\n",
    "#vec_dip_called = np.array(vec_dip)\n",
    "\n",
    "#@jit(nopython=True)\n",
    "@jit(nopython=True,parallel=True,fastmath=True)\n",
    "def energy_moriya(phi,theta,phiantarray,thetaantarray,K1,K2,h,htheta,hphi,i,j):\n",
    "\n",
    "    #obtaining the angles to calculate the interactions!\n",
    "\n",
    "#    print(i,'i before')\n",
    "#    print(j,'j before')\n",
    "    \n",
    "#    x_ang,y_ang = angles_vecs(NN2)\n",
    "#    print(i,'i')\n",
    "#    print(j,'j')\n",
    "#    print(phiantarray)\n",
    "    phiant = phiantarray[j]\n",
    "    thetaant = thetaantarray[j]\n",
    "# dipolar energy\n",
    "\n",
    "#    phiant=phi+phiantarray[j]-phiantarray[i]\n",
    "#    thetaant=theta+thetaantarray[j]-thetaantarray[i]\n",
    "\n",
    "#    print(beta,'beta')\n",
    "\n",
    "    rr=vec_dip[i][j]\n",
    "#    rr=vec_dip_called[i][j]\n",
    "\n",
    "#    create_pos(np_order,NN2)\n",
    "\n",
    "#   vectorial product with k^ versor !\n",
    "\n",
    "    if(i<=j):\n",
    "        if(j==i+1):\n",
    "            ## produto vetorial z^ vec x^ = y^!\n",
    "#            inter_moriya=m*np.exp(-rr**9)/np.exp(-1.0)*(np.cos(phiant)*np.cos(theta)*np.sin(thetaant)-np.cos(phi)*np.cos(thetaant)*np.sin(theta));\n",
    "\n",
    "#            inter_moriya=m/2.*np.exp(-rr**9)/np.exp(-1.0)*(np.cos(phiant)*np.cos(theta)*np.sin(thetaant)-np.cos(phi)*np.cos(thetaant)*np.sin(theta));\n",
    "#            inter_moriya+=-m/2.*np.exp(-rr**9)/np.exp(-1.0)*(np.cos(thetaant)*np.sin(phi)*np.sin(theta)-np.cos(theta)*np.sin(phiant)*np.sin(thetaant));\n",
    "        \n",
    "            # biquadratic\n",
    "            inter_moriya=m/2.*np.exp(-rr**9)/np.exp(-1.0)*(np.cos(phiant)*np.cos(theta)*np.sin(thetaant)-np.cos(phi)*np.cos(thetaant)*np.sin(theta))**2;\n",
    "            inter_moriya+=m/2.*np.exp(-rr**9)/np.exp(-1.0)*(np.cos(thetaant)*np.sin(phi)*np.sin(theta)-np.cos(theta)*np.sin(phiant)*np.sin(thetaant))**2;\n",
    "            inter_moriya+=m/2.*np.exp(-rr**9)/np.exp(-1.0)*(np.sin(thetaant)*np.cos(phiant)*np.sin(theta)*np.sin(phi)-np.sin(theta)*np.cos(phi)*np.sin(thetaant)*np.sin(phiant))**2;\n",
    "        \n",
    "            # chiral multi spin\n",
    "#            inter_moriya=m/2.*np.exp(-rr**9)/np.exp(-1.0)*(np.cos(phiant)*np.cos(theta)*np.sin(thetaant)-np.cos(phi)*np.cos(thetaant)*np.sin(theta))*(np.sin(theta)*np.sin(thetaant)*np.cos(phi-phiant)+np.cos(theta)*np.cos(thetaant));\n",
    "#            inter_moriya+=m/2.*np.exp(-rr**9)/np.exp(-1.0)*(np.cos(thetaant)*np.sin(phi)*np.sin(theta)-np.cos(theta)*np.sin(phiant)*np.sin(thetaant))*(np.sin(theta)*np.sin(thetaant)*np.cos(phi-phiant)+np.cos(theta)*np.cos(thetaant));\n",
    "            \n",
    "        else:\n",
    "            ## produto vetorial z^ vec y^ = - x^!\n",
    "#            inter_moriya=-m*np.exp(-rr**9)/np.exp(-1.0)*(np.cos(thetaant)*np.sin(phi)*np.sin(theta)-np.cos(theta)*np.sin(phiant)*np.sin(thetaant));\n",
    "\n",
    "#            inter_moriya=-m/2.*np.exp(-rr**9)/np.exp(-1.0)*(np.cos(thetaant)*np.sin(phi)*np.sin(theta)-np.cos(theta)*np.sin(phiant)*np.sin(thetaant));\n",
    "#            inter_moriya+=+m/2.*np.exp(-rr**9)/np.exp(-1.0)*(np.cos(phiant)*np.cos(theta)*np.sin(thetaant)-np.cos(phi)*np.cos(thetaant)*np.sin(theta));\n",
    "        \n",
    "            # biquadratic\n",
    "            inter_moriya=m/2.*np.exp(-rr**9)/np.exp(-1.0)*(np.cos(thetaant)*np.sin(phi)*np.sin(theta)-np.cos(theta)*np.sin(phiant)*np.sin(thetaant))**2;\n",
    "            inter_moriya+=+m/2.*np.exp(-rr**9)/np.exp(-1.0)*(np.cos(phiant)*np.cos(theta)*np.sin(thetaant)-np.cos(phi)*np.cos(thetaant)*np.sin(theta))**2;\n",
    "            inter_moriya+=m/2.*np.exp(-rr**9)/np.exp(-1.0)*(np.sin(thetaant)*np.cos(phiant)*np.sin(theta)*np.sin(phi)-np.sin(theta)*np.cos(phi)*np.sin(thetaant)*np.sin(phiant))**2;\n",
    "        \n",
    "        \n",
    "            # chiral multi spin\n",
    "#            inter_moriya=m/2.*np.exp(-rr**9)/np.exp(-1.0)*(np.cos(phiant)*np.cos(theta)*np.sin(thetaant)-np.cos(phi)*np.cos(thetaant)*np.sin(theta))*(np.sin(theta)*np.sin(thetaant)*np.cos(phi-phiant)+np.cos(theta)*np.cos(thetaant));\n",
    "#            inter_moriya+=m/2.*np.exp(-rr**9)/np.exp(-1.0)*(np.cos(thetaant)*np.sin(phi)*np.sin(theta)-np.cos(theta)*np.sin(phiant)*np.sin(thetaant))*(np.sin(theta)*np.sin(thetaant)*np.cos(phi-phiant)+np.cos(theta)*np.cos(thetaant));\n",
    "        \n",
    "    elif(i>=j):\n",
    "        if(j==i-1):\n",
    "#            inter_moriya=-m*np.exp(-rr**9)/np.exp(-1.0)*(np.cos(phiant)*np.cos(theta)*np.sin(thetaant)-np.cos(phi)*np.cos(thetaant)*np.sin(theta));\n",
    "\n",
    "#            inter_moriya=-m/2.*np.exp(-rr**9)/np.exp(-1.0)*(np.cos(phiant)*np.cos(theta)*np.sin(thetaant)-np.cos(phi)*np.cos(thetaant)*np.sin(theta));\n",
    "#            inter_moriya+=m/2.*np.exp(-rr**9)/np.exp(-1.0)*(np.cos(thetaant)*np.sin(phi)*np.sin(theta)-np.cos(theta)*np.sin(phiant)*np.sin(thetaant));\n",
    "        \n",
    "            # biquadratic\n",
    "            inter_moriya=m/2.*np.exp(-rr**9)/np.exp(-1.0)*(np.cos(phiant)*np.cos(theta)*np.sin(thetaant)-np.cos(phi)*np.cos(thetaant)*np.sin(theta))**2;\n",
    "            inter_moriya+=m/2.*np.exp(-rr**9)/np.exp(-1.0)*(np.cos(thetaant)*np.sin(phi)*np.sin(theta)-np.cos(theta)*np.sin(phiant)*np.sin(thetaant))**2;\n",
    "            inter_moriya+=m/2.*np.exp(-rr**9)/np.exp(-1.0)*(np.sin(thetaant)*np.cos(phiant)*np.sin(theta)*np.sin(phi)-np.sin(theta)*np.cos(phi)*np.sin(thetaant)*np.sin(phiant))**2;\n",
    "        \n",
    "            # chiral multi spin\n",
    "#            inter_moriya=m/2.*np.exp(-rr**9)/np.exp(-1.0)*(np.cos(phiant)*np.cos(theta)*np.sin(thetaant)-np.cos(phi)*np.cos(thetaant)*np.sin(theta))*(np.sin(theta)*np.sin(thetaant)*np.cos(phi-phiant)+np.cos(theta)*np.cos(thetaant));\n",
    "#            inter_moriya+=m/2.*np.exp(-rr**9)/np.exp(-1.0)*(np.cos(thetaant)*np.sin(phi)*np.sin(theta)-np.cos(theta)*np.sin(phiant)*np.sin(thetaant))*(np.sin(theta)*np.sin(thetaant)*np.cos(phi-phiant)+np.cos(theta)*np.cos(thetaant));\n",
    "            \n",
    "        else:\n",
    "#            inter_moriya=m*np.exp(-rr**9)/np.exp(-1.0)*(np.cos(thetaant)*np.sin(phi)*np.sin(theta)-np.cos(theta)*np.sin(phiant)*np.sin(thetaant));\n",
    "\n",
    "#            inter_moriya=m/2.*np.exp(-rr**9)/np.exp(-1.0)*(np.cos(thetaant)*np.sin(phi)*np.sin(theta)-np.cos(theta)*np.sin(phiant)*np.sin(thetaant));\n",
    "#            inter_moriya+=-m/2.*np.exp(-rr**9)/np.exp(-1.0)*(np.cos(phiant)*np.cos(theta)*np.sin(thetaant)-np.cos(phi)*np.cos(thetaant)*np.sin(theta));\n",
    "            \n",
    "            # biquadratic\n",
    "            inter_moriya=m/2.*np.exp(-rr**9)/np.exp(-1.0)*(np.cos(thetaant)*np.sin(phi)*np.sin(theta)-np.cos(theta)*np.sin(phiant)*np.sin(thetaant))**2;\n",
    "            inter_moriya+=m/2.*np.exp(-rr**9)/np.exp(-1.0)*(np.cos(phiant)*np.cos(theta)*np.sin(thetaant)-np.cos(phi)*np.cos(thetaant)*np.sin(theta))**2;\n",
    "            inter_moriya+=m/2.*np.exp(-rr**9)/np.exp(-1.0)*(np.sin(thetaant)*np.cos(phiant)*np.sin(theta)*np.sin(phi)-np.sin(theta)*np.cos(phi)*np.sin(thetaant)*np.sin(phiant))**2;\n",
    "            \n",
    "            # chiral multi spin\n",
    "#            inter_moriya=m/2.*np.exp(-rr**9)/np.exp(-1.0)*(np.cos(phiant)*np.cos(theta)*np.sin(thetaant)-np.cos(phi)*np.cos(thetaant)*np.sin(theta))*(np.sin(theta)*np.sin(thetaant)*np.cos(phi-phiant)+np.cos(theta)*np.cos(thetaant));\n",
    "#            inter_moriya+=m/2.*np.exp(-rr**9)/np.exp(-1.0)*(np.cos(thetaant)*np.sin(phi)*np.sin(theta)-np.cos(theta)*np.sin(phiant)*np.sin(thetaant))*(np.sin(theta)*np.sin(thetaant)*np.cos(phi-phiant)+np.cos(theta)*np.cos(thetaant));\n",
    "\n",
    "#            inter_moriya=-m*np.exp(-rr**9)/np.exp(-1.0)*(np.cos(thetaant)*np.sin(phi)*np.sin(theta)-np.cos(theta)*np.sin(phiant)*np.sin(thetaant));\n",
    "\n",
    "\n",
    "#    inter_moriya=m*np.exp(-rr**3)/np.exp(-1.0)*(np.cos(phi)*np.sin(phiant)*np.sin(theta)*np.sin(thetaant)-np.cos(phiant)*np.sin(phi)*np.sin(theta)*np.sin(thetaant));\n",
    "#    inter_moriya=m*np.exp(-rr**9)/np.exp(-1.0)*(np.sin(theta)*np.sin(thetaant)*np.sin(phi-phiant));\n",
    "\n",
    "    \n",
    "\n",
    "    \n",
    "#    inter_moriya+=beta/(rr**3)*(np.sin(theta)*np.sin(thetaant)*np.cos(phi-phiant)+np.cos(theta)*np.cos(thetaant))\n",
    "\n",
    "#    print(m,'dipolar')\n",
    "    \n",
    "    return inter_moriya\n",
    "    \n",
    "# exchange energy\n",
    "\n",
    "# moriya energy\n",
    "\n"
   ]
  },
  {
   "cell_type": "code",
   "execution_count": null,
   "metadata": {},
   "outputs": [],
   "source": []
  },
  {
   "cell_type": "code",
   "execution_count": 6190,
   "metadata": {},
   "outputs": [
    {
     "name": "stderr",
     "output_type": "stream",
     "text": [
      "/home/vagner/anaconda3/lib/python3.6/site-packages/numba/compiler.py:602: NumbaPerformanceWarning: \u001b[1m\n",
      "The keyword argument 'parallel=True' was specified but no transformation for parallel execution was possible.\n",
      "\n",
      "To find out why, try turning on parallel diagnostics, see http://numba.pydata.org/numba-doc/latest/user/parallel.html#diagnostics for help.\n",
      "\u001b[1m\n",
      "File \"<ipython-input-6189-102298d21f12>\", line 6:\u001b[0m\n",
      "\u001b[1m@jit(nopython=True,parallel=True,fastmath=True)\n",
      "\u001b[1mdef energy_moriya(phi,theta,phiantarray,thetaantarray,K1,K2,h,htheta,hphi,i,j):\n",
      "\u001b[0m\u001b[1m^\u001b[0m\u001b[0m\n",
      "\u001b[0m\n",
      "  self.func_ir.loc))\n"
     ]
    },
    {
     "data": {
      "text/plain": [
       "0.0"
      ]
     },
     "execution_count": 6190,
     "metadata": {},
     "output_type": "execute_result"
    }
   ],
   "source": [
    "energy_moriya(1.0,1.0,phiantarray,thetaantarray,K1,K2,0.3,htheta,hphi,10,3)"
   ]
  },
  {
   "cell_type": "code",
   "execution_count": 6191,
   "metadata": {},
   "outputs": [
    {
     "ename": "IndexError",
     "evalue": "index 4 is out of bounds for axis 0 with size 4",
     "output_type": "error",
     "traceback": [
      "\u001b[0;31m---------------------------------------------------------------------------\u001b[0m",
      "\u001b[0;31mIndexError\u001b[0m                                Traceback (most recent call last)",
      "\u001b[0;32m<ipython-input-6191-fa73535f0e17>\u001b[0m in \u001b[0;36m<module>\u001b[0;34m()\u001b[0m\n\u001b[0;32m----> 1\u001b[0;31m \u001b[0mnp\u001b[0m\u001b[0;34m.\u001b[0m\u001b[0mexp\u001b[0m\u001b[0;34m(\u001b[0m\u001b[0;34m-\u001b[0m\u001b[0;36m1.0\u001b[0m\u001b[0;34m)\u001b[0m\u001b[0;34m,\u001b[0m\u001b[0mvec_dip\u001b[0m\u001b[0;34m[\u001b[0m\u001b[0;36m4\u001b[0m\u001b[0;34m]\u001b[0m\u001b[0;34m\u001b[0m\u001b[0;34m\u001b[0m\u001b[0m\n\u001b[0m",
      "\u001b[0;31mIndexError\u001b[0m: index 4 is out of bounds for axis 0 with size 4"
     ]
    }
   ],
   "source": [
    "np.exp(-1.0),vec_dip[4]"
   ]
  },
  {
   "cell_type": "code",
   "execution_count": 6192,
   "metadata": {},
   "outputs": [
    {
     "name": "stderr",
     "output_type": "stream",
     "text": [
      "/home/vagner/anaconda3/lib/python3.6/site-packages/numba/compiler.py:602: NumbaPerformanceWarning: \u001b[1m\n",
      "The keyword argument 'parallel=True' was specified but no transformation for parallel execution was possible.\n",
      "\n",
      "To find out why, try turning on parallel diagnostics, see http://numba.pydata.org/numba-doc/latest/user/parallel.html#diagnostics for help.\n",
      "\u001b[1m\n",
      "File \"<ipython-input-6187-ced6ec3e3998>\", line 2:\u001b[0m\n",
      "\u001b[1m@jit(nopython=True,parallel=True,fastmath=True)\n",
      "\u001b[1mdef energy_interexchange(phi,theta,phiantarray,thetaantarray,K1,K2,h,htheta,hphi,i,j):\n",
      "\u001b[0m\u001b[1m^\u001b[0m\u001b[0m\n",
      "\u001b[0m\n",
      "  self.func_ir.loc))\n"
     ]
    },
    {
     "data": {
      "text/plain": [
       "0.0"
      ]
     },
     "execution_count": 6192,
     "metadata": {},
     "output_type": "execute_result"
    }
   ],
   "source": [
    "energy_interexchange(0.0,0.0,phiantarray,thetaantarray,K1,K2,0.3,htheta,hphi,4,5)"
   ]
  },
  {
   "cell_type": "code",
   "execution_count": 6193,
   "metadata": {},
   "outputs": [
    {
     "name": "stderr",
     "output_type": "stream",
     "text": [
      "/home/vagner/anaconda3/lib/python3.6/site-packages/numba/compiler.py:602: NumbaPerformanceWarning: \u001b[1m\n",
      "The keyword argument 'parallel=True' was specified but no transformation for parallel execution was possible.\n",
      "\n",
      "To find out why, try turning on parallel diagnostics, see http://numba.pydata.org/numba-doc/latest/user/parallel.html#diagnostics for help.\n",
      "\u001b[1m\n",
      "File \"<ipython-input-6188-c27d49cfb87b>\", line 2:\u001b[0m\n",
      "\u001b[1m@jit(nopython=True,parallel=True,fastmath=True)\n",
      "\u001b[1mdef energy_biinterexchange(phi,theta,phiantarray,thetaantarray,K1,K2,h,htheta,hphi,i,j):\n",
      "\u001b[0m\u001b[1m^\u001b[0m\u001b[0m\n",
      "\u001b[0m\n",
      "  self.func_ir.loc))\n"
     ]
    },
    {
     "data": {
      "text/plain": [
       "0.0"
      ]
     },
     "execution_count": 6193,
     "metadata": {},
     "output_type": "execute_result"
    }
   ],
   "source": [
    "energy_biinterexchange(0.0,0.0,phiantarray,thetaantarray,K1,K2,0.3,htheta,hphi,4,5)"
   ]
  },
  {
   "cell_type": "code",
   "execution_count": 6194,
   "metadata": {},
   "outputs": [],
   "source": [
    "# energy array\n",
    "\n",
    "#@jit(nopython=True,parallel=True)\n",
    "#@jit(nopython=True)\n",
    "@njit(fastmath=True,parallel=True)\n",
    "def energy_array_inter(phi,theta,phiantarray,thetaantarray,K1,K2,h,htheta,hphi,i,j):\n",
    "\n",
    "    '''\n",
    "    \n",
    "    listaNN1=[0. for x in range(int(sqrt(NN2))-2)]\n",
    "    \n",
    "    for x in range(0,int(sqrt(NN2))-2):\n",
    "        listaNN1[x] = int(sqrt(NN2))-x-2\n",
    "                                \n",
    "    listaNN2=[0. for x in range(int(sqrt(NN2))-2)]\n",
    "    \n",
    "    for x in range(0,int(sqrt(NN2))-2):\n",
    "        listaNN2[x] = int(sqrt(NN2))*(x+2)-1\n",
    "                                \n",
    "    listaNN3=[0. for x in range(int(sqrt(NN2))-2)]\n",
    "    \n",
    "    for x in range(0,int(sqrt(NN2))-2):\n",
    "        listaNN3[x] = NN2-x-2\n",
    "    \n",
    "    listaNN4=[0. for x in range(int(sqrt(NN2))-2)]\n",
    "    \n",
    "    for x in range(0,int(sqrt(NN2))-2):\n",
    "        listaNN4[x] = int(sqrt(NN2))*(x+1)\n",
    "\n",
    "#    print('listas',listaNN1,listaNN2,listaNN3,listaNN4)\n",
    "\n",
    "    \"\"\"\n",
    "    for x in range(NN2):\n",
    "        \n",
    "        x=i\n",
    "        for y in range(int(sqrt(NN2))-2):\n",
    "            \n",
    "            print(listaNN3[y]==x)\n",
    "#            print(x,y,'xy')\n",
    "                                \n",
    "            if(listaNN1[y]==x):\n",
    "                                \n",
    "                foi=-1\n",
    "                                \n",
    "            elif(listaNN2[y]==x):\n",
    "                                \n",
    "                foi=-2\n",
    "#                print(foi,'foi dentro',listaNN3[y],x)\n",
    "                                \n",
    "            elif(listaNN3[y]==x):\n",
    "                                \n",
    "                foi=-3\n",
    "#                print(foi,'foi dentro',listaNN3[y],x)\n",
    "                                \n",
    "            elif(listaNN4[y]==x):\n",
    "                                \n",
    "                foi=-4\n",
    "            else:\n",
    "                                \n",
    "                foi=-5\n",
    "#            print(foi,'foi dentro',listaNN3[y],x)\n",
    "    \"\"\"                         \n",
    "\n",
    "    \n",
    "        \n",
    "    x=i\n",
    "    for y in range(int(sqrt(NN2))-2):\n",
    "            \n",
    "#        print(listaNN3[y]==x)\n",
    "#            print(x,y,'xy')\n",
    "                                \n",
    "        if(listaNN1[y]==x):\n",
    "                                \n",
    "            foi=-1\n",
    "            break\n",
    "                                \n",
    "        elif(listaNN2[y]==x):\n",
    "                                \n",
    "            foi=-2\n",
    "#                print(foi,'foi dentro',listaNN3[y],x)\n",
    "            break\n",
    "                                \n",
    "        elif(listaNN3[y]==x):\n",
    "                                \n",
    "            foi=-3\n",
    "            break\n",
    "#                print(foi,'foi dentro',listaNN3[y],x)\n",
    "                                \n",
    "        elif(listaNN4[y]==x):\n",
    "                                \n",
    "            foi=-4\n",
    "            break\n",
    "        else:\n",
    "                                \n",
    "            foi=-5\n",
    "#            print(foi,'foi dentro',listaNN3[y],x)\n",
    "    \n",
    "    \n",
    "    \n",
    "#    print(foi,'foi fora')\n",
    "                                \n",
    "#    print(i,j)\n",
    "    \n",
    "    # defining the energy array!\n",
    "    energy_vec=[0.0 for x in range(NN2)]\n",
    "    \n",
    "    \n",
    "    if(np_order==1):\n",
    "        \n",
    "        if(i==0):\n",
    "        \n",
    "            dip_b=energy_interdipolar(phi,theta,phiantarray,thetaantarray,K1,K2,h,htheta,hphi,0,1)\n",
    "            dip_b+=energy_interdipolar(phi,theta,phiantarray,thetaantarray,K1,K2,h,htheta,hphi,0,int(sqrt(NN2)))\n",
    "            dip_b+=energy_interdipolar(phi,theta,phiantarray,thetaantarray,K1,K2,h,htheta,hphi,0,int(sqrt(NN2))-1)\n",
    "            dip_b+=energy_interdipolar(phi,theta,phiantarray,thetaantarray,K1,K2,h,htheta,hphi,0,NN2-int(sqrt(NN2)))\n",
    "            \n",
    "            \n",
    "            energy_vec[i]=dip_b\n",
    "\n",
    "    \n",
    "        elif(foi==-1):\n",
    "                \n",
    "                \n",
    "#            print(i,'i dentro de foi=-1')\n",
    "            \n",
    "            dip_f=energy_interdipolar(phi,theta,phiantarray,thetaantarray,K1,K2,h,htheta,hphi,i,i-1)\n",
    "            dip_f+=energy_interdipolar(phi,theta,phiantarray,thetaantarray,K1,K2,h,htheta,hphi,i,i+1)\n",
    "            dip_f+=energy_interdipolar(phi,theta,phiantarray,thetaantarray,K1,K2,h,htheta,hphi,i,i+int(sqrt(NN2)))\n",
    "            dip_f+=energy_interdipolar(phi,theta,phiantarray,thetaantarray,K1,K2,h,htheta,hphi,i,NN2-int(sqrt(NN2))+i)\n",
    "            \n",
    "#            print(dip_f,'dip_f')\n",
    "    \n",
    "            energy_vec[i]=dip_f\n",
    "\n",
    "        elif(i==int(sqrt(NN2)-1)):\n",
    "                                \n",
    "            dip_c=energy_interdipolar(phi,theta,phiantarray,thetaantarray,K1,K2,h,htheta,hphi,int(sqrt(NN2))-1,int(sqrt(NN2))-2)\n",
    "            dip_c+=energy_interdipolar(phi,theta,phiantarray,thetaantarray,K1,K2,h,htheta,hphi,int(sqrt(NN2))-1,2*int(sqrt(NN2))-1)\n",
    "            dip_c+=energy_interdipolar(phi,theta,phiantarray,thetaantarray,K1,K2,h,htheta,hphi,int(sqrt(NN2))-1,0)\n",
    "            dip_c+=energy_interdipolar(phi,theta,phiantarray,thetaantarray,K1,K2,h,htheta,hphi,int(sqrt(NN2))-1,NN2-1)\n",
    "\n",
    "            energy_vec[i]=dip_c\n",
    "\n",
    "        elif(foi==-2):\n",
    "\n",
    "            \n",
    "            dip_q=energy_interdipolar(phi,theta,phiantarray,thetaantarray,K1,K2,h,htheta,hphi,i,i-1)\n",
    "            dip_q+=energy_interdipolar(phi,theta,phiantarray,thetaantarray,K1,K2,h,htheta,hphi,i,i+int(sqrt(NN2)))\n",
    "            dip_q+=energy_interdipolar(phi,theta,phiantarray,thetaantarray,K1,K2,h,htheta,hphi,i,i-int(sqrt(NN2)))\n",
    "            dip_q+=energy_interdipolar(phi,theta,phiantarray,thetaantarray,K1,K2,h,htheta,hphi,i,i-int(sqrt(NN2))+1)\n",
    "            \n",
    "            energy_vec[i]=dip_q\n",
    "\n",
    "        elif(i==NN2-1):\n",
    "                                \n",
    "            dip_e=energy_interdipolar(phi,theta,phiantarray,thetaantarray,K1,K2,h,htheta,hphi,NN2-1,NN2-1-int(sqrt(NN2))-2)\n",
    "            dip_e+=energy_interdipolar(phi,theta,phiantarray,thetaantarray,K1,K2,h,htheta,hphi,NN2-1,NN2-1-1)\n",
    "            dip_e+=energy_interdipolar(phi,theta,phiantarray,thetaantarray,K1,K2,h,htheta,hphi,NN2-1,NN2-1-int(sqrt(NN2))+1)\n",
    "            dip_e+=energy_interdipolar(phi,theta,phiantarray,thetaantarray,K1,K2,h,htheta,hphi,NN2-1,int(sqrt(NN2))-1)\n",
    "                                \n",
    "            energy_vec[i]=dip_e\n",
    "\n",
    "        elif(i==NN2-int(sqrt(NN2))):\n",
    "                                \n",
    "            dip_d=energy_interdipolar(phi,theta,phiantarray,thetaantarray,K1,K2,h,htheta,hphi,NN2-int(sqrt(NN2)),NN2-int(sqrt(NN2))+1)\n",
    "            dip_d+=energy_interdipolar(phi,theta,phiantarray,thetaantarray,K1,K2,h,htheta,hphi,NN2-int(sqrt(NN2)),NN2-2*int(sqrt(NN2)))\n",
    "            dip_d+=energy_interdipolar(phi,theta,phiantarray,thetaantarray,K1,K2,h,htheta,hphi,NN2-int(sqrt(NN2)),NN2-1)\n",
    "            dip_d+=energy_interdipolar(phi,theta,phiantarray,thetaantarray,K1,K2,h,htheta,hphi,NN2-int(sqrt(NN2)),0)\n",
    "                                \n",
    "            energy_vec[i]=dip_d\n",
    "                                \n",
    "        elif(foi==-3):\n",
    "                                \n",
    "            dip_g=energy_interdipolar(phi,theta,phiantarray,thetaantarray,K1,K2,h,htheta,hphi,i,i-1)\n",
    "            dip_g+=energy_interdipolar(phi,theta,phiantarray,thetaantarray,K1,K2,h,htheta,hphi,i,i+1)\n",
    "            dip_g+=energy_interdipolar(phi,theta,phiantarray,thetaantarray,K1,K2,h,htheta,hphi,i,i-int(sqrt(NN2)))\n",
    "            dip_g+=energy_interdipolar(phi,theta,phiantarray,thetaantarray,K1,K2,h,htheta,hphi,i,i-i%(int(sqrt(NN2))))\n",
    "            \n",
    "            energy_vec[i]=dip_g\n",
    "                                \n",
    "        elif(foi==-4):\n",
    "            \n",
    "            \n",
    "#            print('aqui o erro!')\n",
    "            \n",
    "            dip_p=energy_interdipolar(phi,theta,phiantarray,thetaantarray,K1,K2,h,htheta,hphi,i,i+1)\n",
    "            dip_p+=energy_interdipolar(phi,theta,phiantarray,thetaantarray,K1,K2,h,htheta,hphi,i,i+int(sqrt(NN2)))\n",
    "            dip_p+=energy_interdipolar(phi,theta,phiantarray,thetaantarray,K1,K2,h,htheta,hphi,i,i-int(sqrt(NN2)))\n",
    "            dip_p=energy_interdipolar(phi,theta,phiantarray,thetaantarray,K1,K2,h,htheta,hphi,i,i+int(sqrt(NN2))-1)\n",
    "                                \n",
    "            energy_vec[i]=dip_p\n",
    "                                \n",
    "        else:\n",
    "            \n",
    "#            print('aqui o erro!')\n",
    "            \n",
    "                                \n",
    "            dip_a=energy_interdipolar(phi,theta,phiantarray,thetaantarray,K1,K2,h,htheta,hphi,i,i+1)\n",
    "            dip_a+=energy_interdipolar(phi,theta,phiantarray,thetaantarray,K1,K2,h,htheta,hphi,i,i-1)\n",
    "            dip_a+=energy_interdipolar(phi,theta,phiantarray,thetaantarray,K1,K2,h,htheta,hphi,i,i-int(sqrt(NN2)))\n",
    "            dip_a+=energy_interdipolar(phi,theta,phiantarray,thetaantarray,K1,K2,h,htheta,hphi,i,i+int(sqrt(NN2)))\n",
    "                                \n",
    "            energy_vec[i]=dip_a\n",
    "    '''                         \n",
    "    # defining the energy array!\n",
    "#    energy_vec=[0.0 for x in range(NN2)]\n",
    "\n",
    "    # summing up all the contributions    \n",
    "#    '''\n",
    "    if(np_order==1 or np_order==2):\n",
    "        soma_dip = 0.0\n",
    "        for j in nb.prange(NN2):\n",
    "            if(i!=j):\n",
    "                soma_dip+= energy_interdipolar(phi,theta,phiantarray,thetaantarray,K1,K2,h,htheta,hphi,i,j)\n",
    "                soma_dip+= energy_interexchange(phi,theta,phiantarray,thetaantarray,K1,K2,h,htheta,hphi,i,j)\n",
    "                soma_dip+= energy_biinterexchange(phi,theta,phiantarray,thetaantarray,K1,K2,h,htheta,hphi,i,j)\n",
    "                soma_dip+= energy_moriya(phi,theta,phiantarray,thetaantarray,K1,K2,h,htheta,hphi,i,j)\n",
    "    elif(np_order==3):\n",
    "        soma_dip = 0.0\n",
    "        for j in nb.prange(NN2*height):\n",
    "#        for j in range(NN2*height):\n",
    "            if(i!=j):\n",
    "                soma_dip+= energy_interdipolar(phi,theta,phiantarray,thetaantarray,K1,K2,h,htheta,hphi,i,j)\n",
    "                soma_dip+= energy_interexchange(phi,theta,phiantarray,thetaantarray,K1,K2,h,htheta,hphi,i,j)\n",
    "#                print(j,soma_dip)\n",
    "#    '''\n",
    "#    soma_dip = sum(energy_interdipolar(phi,theta,phiantarray,thetaantarray,K1,K2,h,htheta,hphi,i,j) for j in range(NN2))\n",
    "    '''\n",
    "\n",
    "    soma_dip = []\n",
    "    soma_dip=np.array([energy_interdipolar(phi,theta,phiantarray,thetaantarray,K1,K2,h,htheta,hphi,i,j) for j in range(NN2) if i!=j])\n",
    "    soma_dip=np.sum(soma_dip)\n",
    "    '''\n",
    "    \n",
    "#    energy_vec[i]=soma_dip\n",
    "                                \n",
    "                                \n",
    "#    return energy_vec\n",
    "#    return np.array(energy_vec)\n",
    "    return soma_dip\n",
    "                                \n",
    "                                \n",
    "                                \n",
    "                                \n",
    "                                \n",
    "                                \n",
    "                                \n",
    "                                "
   ]
  },
  {
   "cell_type": "code",
   "execution_count": 6195,
   "metadata": {},
   "outputs": [
    {
     "name": "stdout",
     "output_type": "stream",
     "text": [
      "1\n"
     ]
    }
   ],
   "source": [
    "xx,yy=angles_vecs(NN2)"
   ]
  },
  {
   "cell_type": "code",
   "execution_count": 6196,
   "metadata": {},
   "outputs": [
    {
     "data": {
      "text/plain": [
       "list"
      ]
     },
     "execution_count": 6196,
     "metadata": {},
     "output_type": "execute_result"
    }
   ],
   "source": [
    "#xx\n",
    "type(list(range(NN2)))\n",
    "#list(range(NN2))"
   ]
  },
  {
   "cell_type": "code",
   "execution_count": 6197,
   "metadata": {},
   "outputs": [],
   "source": [
    "for k in range(int(sqrt(NN2))-2):\n",
    "    print(k)"
   ]
  },
  {
   "cell_type": "code",
   "execution_count": 6198,
   "metadata": {},
   "outputs": [
    {
     "data": {
      "text/plain": [
       "array([0.34103543, 0.37502098, 0.70894345, 0.43840255])"
      ]
     },
     "execution_count": 6198,
     "metadata": {},
     "output_type": "execute_result"
    }
   ],
   "source": [
    "phiantarray"
   ]
  },
  {
   "cell_type": "code",
   "execution_count": 6199,
   "metadata": {},
   "outputs": [
    {
     "data": {
      "text/plain": [
       "array([0.33734444, 0.69469922, 0.73032757, 0.48574139])"
      ]
     },
     "execution_count": 6199,
     "metadata": {},
     "output_type": "execute_result"
    }
   ],
   "source": [
    "thetaantarray"
   ]
  },
  {
   "cell_type": "code",
   "execution_count": 6200,
   "metadata": {},
   "outputs": [
    {
     "name": "stderr",
     "output_type": "stream",
     "text": [
      "<ipython-input-6194-99a4e3765717>:214: NumbaPerformanceWarning: \u001b[1m\u001b[1m\n",
      "The keyword argument 'parallel=True' was specified but no transformation for parallel execution was possible.\n",
      "\n",
      "To find out why, try turning on parallel diagnostics, see http://numba.pydata.org/numba-doc/latest/user/parallel.html#diagnostics for help.\n",
      "\u001b[1m\n",
      "File \"<ipython-input-6125-48bf7c2af5c4>\", line 6:\u001b[0m\n",
      "\u001b[1m@jit(nopython=True,parallel=True,fastmath=True)\n",
      "\u001b[1mdef energy_interdipolar(phi,theta,phiantarray,thetaantarray,K1,K2,h,htheta,hphi,i,j):\n",
      "\u001b[0m\u001b[1m^\u001b[0m\u001b[0m\n",
      "\u001b[0m\u001b[0m\n",
      "  soma_dip+= energy_interdipolar(phi,theta,phiantarray,thetaantarray,K1,K2,h,htheta,hphi,i,j)\n",
      "<ipython-input-6194-99a4e3765717>:215: NumbaPerformanceWarning: \u001b[1m\u001b[1m\n",
      "The keyword argument 'parallel=True' was specified but no transformation for parallel execution was possible.\n",
      "\n",
      "To find out why, try turning on parallel diagnostics, see http://numba.pydata.org/numba-doc/latest/user/parallel.html#diagnostics for help.\n",
      "\u001b[1m\n",
      "File \"<ipython-input-6187-ced6ec3e3998>\", line 2:\u001b[0m\n",
      "\u001b[1m@jit(nopython=True,parallel=True,fastmath=True)\n",
      "\u001b[1mdef energy_interexchange(phi,theta,phiantarray,thetaantarray,K1,K2,h,htheta,hphi,i,j):\n",
      "\u001b[0m\u001b[1m^\u001b[0m\u001b[0m\n",
      "\u001b[0m\u001b[0m\n",
      "  soma_dip+= energy_interexchange(phi,theta,phiantarray,thetaantarray,K1,K2,h,htheta,hphi,i,j)\n",
      "<ipython-input-6194-99a4e3765717>:216: NumbaPerformanceWarning: \u001b[1m\u001b[1m\n",
      "The keyword argument 'parallel=True' was specified but no transformation for parallel execution was possible.\n",
      "\n",
      "To find out why, try turning on parallel diagnostics, see http://numba.pydata.org/numba-doc/latest/user/parallel.html#diagnostics for help.\n",
      "\u001b[1m\n",
      "File \"<ipython-input-6188-c27d49cfb87b>\", line 2:\u001b[0m\n",
      "\u001b[1m@jit(nopython=True,parallel=True,fastmath=True)\n",
      "\u001b[1mdef energy_biinterexchange(phi,theta,phiantarray,thetaantarray,K1,K2,h,htheta,hphi,i,j):\n",
      "\u001b[0m\u001b[1m^\u001b[0m\u001b[0m\n",
      "\u001b[0m\u001b[0m\n",
      "  soma_dip+= energy_biinterexchange(phi,theta,phiantarray,thetaantarray,K1,K2,h,htheta,hphi,i,j)\n",
      "<ipython-input-6194-99a4e3765717>:217: NumbaPerformanceWarning: \u001b[1m\u001b[1m\n",
      "The keyword argument 'parallel=True' was specified but no transformation for parallel execution was possible.\n",
      "\n",
      "To find out why, try turning on parallel diagnostics, see http://numba.pydata.org/numba-doc/latest/user/parallel.html#diagnostics for help.\n",
      "\u001b[1m\n",
      "File \"<ipython-input-6189-102298d21f12>\", line 6:\u001b[0m\n",
      "\u001b[1m@jit(nopython=True,parallel=True,fastmath=True)\n",
      "\u001b[1mdef energy_moriya(phi,theta,phiantarray,thetaantarray,K1,K2,h,htheta,hphi,i,j):\n",
      "\u001b[0m\u001b[1m^\u001b[0m\u001b[0m\n",
      "\u001b[0m\u001b[0m\n",
      "  soma_dip+= energy_moriya(phi,theta,phiantarray,thetaantarray,K1,K2,h,htheta,hphi,i,j)\n",
      "<ipython-input-6194-99a4e3765717>:214: NumbaPerformanceWarning: \u001b[1m\u001b[1m\n",
      "The keyword argument 'parallel=True' was specified but no transformation for parallel execution was possible.\n",
      "\n",
      "To find out why, try turning on parallel diagnostics, see http://numba.pydata.org/numba-doc/latest/user/parallel.html#diagnostics for help.\n",
      "\u001b[1m\n",
      "File \"<ipython-input-6125-48bf7c2af5c4>\", line 6:\u001b[0m\n",
      "\u001b[1m@jit(nopython=True,parallel=True,fastmath=True)\n",
      "\u001b[1mdef energy_interdipolar(phi,theta,phiantarray,thetaantarray,K1,K2,h,htheta,hphi,i,j):\n",
      "\u001b[0m\u001b[1m^\u001b[0m\u001b[0m\n",
      "\u001b[0m\u001b[0m\n",
      "  soma_dip+= energy_interdipolar(phi,theta,phiantarray,thetaantarray,K1,K2,h,htheta,hphi,i,j)\n",
      "<ipython-input-6194-99a4e3765717>:215: NumbaPerformanceWarning: \u001b[1m\u001b[1m\n",
      "The keyword argument 'parallel=True' was specified but no transformation for parallel execution was possible.\n",
      "\n",
      "To find out why, try turning on parallel diagnostics, see http://numba.pydata.org/numba-doc/latest/user/parallel.html#diagnostics for help.\n",
      "\u001b[1m\n",
      "File \"<ipython-input-6187-ced6ec3e3998>\", line 2:\u001b[0m\n",
      "\u001b[1m@jit(nopython=True,parallel=True,fastmath=True)\n",
      "\u001b[1mdef energy_interexchange(phi,theta,phiantarray,thetaantarray,K1,K2,h,htheta,hphi,i,j):\n",
      "\u001b[0m\u001b[1m^\u001b[0m\u001b[0m\n",
      "\u001b[0m\u001b[0m\n",
      "  soma_dip+= energy_interexchange(phi,theta,phiantarray,thetaantarray,K1,K2,h,htheta,hphi,i,j)\n",
      "<ipython-input-6194-99a4e3765717>:216: NumbaPerformanceWarning: \u001b[1m\u001b[1m\n",
      "The keyword argument 'parallel=True' was specified but no transformation for parallel execution was possible.\n",
      "\n",
      "To find out why, try turning on parallel diagnostics, see http://numba.pydata.org/numba-doc/latest/user/parallel.html#diagnostics for help.\n",
      "\u001b[1m\n",
      "File \"<ipython-input-6188-c27d49cfb87b>\", line 2:\u001b[0m\n",
      "\u001b[1m@jit(nopython=True,parallel=True,fastmath=True)\n",
      "\u001b[1mdef energy_biinterexchange(phi,theta,phiantarray,thetaantarray,K1,K2,h,htheta,hphi,i,j):\n",
      "\u001b[0m\u001b[1m^\u001b[0m\u001b[0m\n",
      "\u001b[0m\u001b[0m\n",
      "  soma_dip+= energy_biinterexchange(phi,theta,phiantarray,thetaantarray,K1,K2,h,htheta,hphi,i,j)\n",
      "<ipython-input-6194-99a4e3765717>:217: NumbaPerformanceWarning: \u001b[1m\u001b[1m\n",
      "The keyword argument 'parallel=True' was specified but no transformation for parallel execution was possible.\n",
      "\n",
      "To find out why, try turning on parallel diagnostics, see http://numba.pydata.org/numba-doc/latest/user/parallel.html#diagnostics for help.\n",
      "\u001b[1m\n",
      "File \"<ipython-input-6189-102298d21f12>\", line 6:\u001b[0m\n",
      "\u001b[1m@jit(nopython=True,parallel=True,fastmath=True)\n",
      "\u001b[1mdef energy_moriya(phi,theta,phiantarray,thetaantarray,K1,K2,h,htheta,hphi,i,j):\n",
      "\u001b[0m\u001b[1m^\u001b[0m\u001b[0m\n",
      "\u001b[0m\u001b[0m\n",
      "  soma_dip+= energy_moriya(phi,theta,phiantarray,thetaantarray,K1,K2,h,htheta,hphi,i,j)\n"
     ]
    },
    {
     "ename": "SystemError",
     "evalue": "CPUDispatcher(<function energy_array_inter at 0x7febda642400>) returned a result with an error set",
     "output_type": "error",
     "traceback": [
      "\u001b[0;31m---------------------------------------------------------------------------\u001b[0m",
      "\u001b[0;31mZeroDivisionError\u001b[0m                         Traceback (most recent call last)",
      "\u001b[0;31mZeroDivisionError\u001b[0m: division by zero",
      "\nThe above exception was the direct cause of the following exception:\n",
      "\u001b[0;31mSystemError\u001b[0m                               Traceback (most recent call last)",
      "\u001b[0;32m<ipython-input-6200-842bad2ea914>\u001b[0m in \u001b[0;36m<module>\u001b[0;34m()\u001b[0m\n\u001b[0;32m----> 1\u001b[0;31m \u001b[0menergy_array_inter\u001b[0m\u001b[0;34m(\u001b[0m\u001b[0;36m1\u001b[0m\u001b[0;34m,\u001b[0m\u001b[0;36m0\u001b[0m\u001b[0;34m,\u001b[0m\u001b[0mphiantarray\u001b[0m\u001b[0;34m,\u001b[0m\u001b[0mthetaantarray\u001b[0m\u001b[0;34m,\u001b[0m\u001b[0mK1\u001b[0m\u001b[0;34m,\u001b[0m\u001b[0mK2\u001b[0m\u001b[0;34m,\u001b[0m\u001b[0mh\u001b[0m\u001b[0;34m,\u001b[0m\u001b[0mhtheta\u001b[0m\u001b[0;34m,\u001b[0m\u001b[0mhphi\u001b[0m\u001b[0;34m,\u001b[0m\u001b[0;36m4\u001b[0m\u001b[0;34m,\u001b[0m\u001b[0;36m5\u001b[0m\u001b[0;34m)\u001b[0m\u001b[0;34m\u001b[0m\u001b[0;34m\u001b[0m\u001b[0m\n\u001b[0m\u001b[1;32m      2\u001b[0m \u001b[0;31m#print(beta)\u001b[0m\u001b[0;34m\u001b[0m\u001b[0;34m\u001b[0m\u001b[0;34m\u001b[0m\u001b[0m\n",
      "\u001b[0;31mSystemError\u001b[0m: CPUDispatcher(<function energy_array_inter at 0x7febda642400>) returned a result with an error set"
     ]
    }
   ],
   "source": [
    "energy_array_inter(1,0,phiantarray,thetaantarray,K1,K2,h,htheta,hphi,4,5)\n",
    "#print(beta)"
   ]
  },
  {
   "cell_type": "code",
   "execution_count": null,
   "metadata": {},
   "outputs": [],
   "source": [
    "h"
   ]
  },
  {
   "cell_type": "code",
   "execution_count": null,
   "metadata": {},
   "outputs": [],
   "source": [
    "\n",
    "ar_pos=create_pos(np_order,NN2)\n",
    "\n",
    "ar_pos[0][0]\n",
    "\n",
    "x_coord = [ar_pos[i][0] for i in range(NN2)]\n",
    "y_coord = [ar_pos[i][1] for i in range(NN2)]\n",
    "z_coord = [ar_pos[i][2] for i in range(NN2)]\n",
    "\n",
    "print(x_coord)\n",
    "print(y_coord)\n",
    "print(z_coord)\n"
   ]
  },
  {
   "cell_type": "code",
   "execution_count": null,
   "metadata": {},
   "outputs": [],
   "source": [
    "a,b=angles_vecs(NN2)\n",
    "int(sqrt(NN2))"
   ]
  },
  {
   "cell_type": "code",
   "execution_count": null,
   "metadata": {},
   "outputs": [],
   "source": [
    "energy_vec=[0 for x in range(NN2)]\n",
    "\n",
    "energy_vec[1]=2\n",
    "\n",
    "energy_vec"
   ]
  },
  {
   "cell_type": "code",
   "execution_count": null,
   "metadata": {},
   "outputs": [],
   "source": [
    "import random\n",
    "\n",
    "phiantarray=np.array([random.random() for x in range(NN2*height)],dtype=np.float64)\n",
    "thetaantarray=np.array([random.random() for x in range(NN2*height)])\n",
    "h=0.16\n",
    "ii=3\n",
    "print(energy_array_inter(-0.8,-1.2,phiantarray,thetaantarray,K1,K2,h,htheta,hphi,ii,2))\n",
    "\n",
    "#phiantarray\n",
    "#thetaantarray"
   ]
  },
  {
   "cell_type": "code",
   "execution_count": null,
   "metadata": {},
   "outputs": [],
   "source": [
    "phiantarray"
   ]
  },
  {
   "cell_type": "code",
   "execution_count": null,
   "metadata": {},
   "outputs": [],
   "source": [
    "#@jit(nopython=True,parallel=True)\n",
    "@jit(nopython=True,fastmath=True)\n",
    "def free_energy(xx,K1,K2,h,htheta,hphi,Msat,i,phiantarray,thetaantarray):\n",
    "\n",
    "#    anis = anisotropy(xx[0],xx[1],K1,K2,h,htheta,hphi,Msat,i)\n",
    "    anis = anisotropy(xx[0],xx[1],K1,K2,h,htheta,hphi,Msat,i,j,phiantarray,thetaantarray)\n",
    "\n",
    "    zeeman = zeeman_energy(xx[0],xx[1],K1,K2,h,htheta,hphi,Msat,i)\n",
    "\n",
    "    inter = energy_array_inter(xx[0],xx[1],phiantarray,thetaantarray,K1,K2,h,htheta,hphi,i,0)\n",
    "#    inter = energy_array_inter(xx[0],xx[1],phiantarray,thetaantarray,K1,K2,h,htheta,hphi,3,0)\n",
    "    \n",
    "    expr_calc = anis + zeeman + inter\n",
    "    \n",
    "#    return np.array(expr_calc,dtype=np.float64)\n",
    "    return expr_calc\n",
    "    \n",
    "    "
   ]
  },
  {
   "cell_type": "code",
   "execution_count": null,
   "metadata": {},
   "outputs": [],
   "source": [
    "#testing!\n",
    "h=-5.01\n",
    "ii=3\n",
    "x0=np.array([0,1.57],dtype=np.float64)\n",
    "a=free_energy(np.array([0,1.57],dtype=np.float64),K1,K2,h,htheta,hphi,Msat,ii,phiantarray,thetaantarray)\n",
    "print(a)\n",
    "minxy=spmin(free_energy,x0,args=(K1,K2,h,htheta,hphi,Msat,ii,phiantarray,thetaantarray),bounds=[[-100*3.1415,100*3.1415],[-100*3.1415,100*3.1415]],tol=1e-100,options={'ftol': 1e-30})\n",
    "print(minxy)"
   ]
  },
  {
   "cell_type": "code",
   "execution_count": null,
   "metadata": {},
   "outputs": [],
   "source": [
    "hini,NN2,step\n",
    "from numba import vectorize,stencil"
   ]
  },
  {
   "cell_type": "code",
   "execution_count": 6201,
   "metadata": {},
   "outputs": [],
   "source": [
    "# the main program, where minimization of overall energy is performed!\n",
    "\n",
    "\n",
    "\n",
    "#@jit(nopython=True)\n",
    "#@jit(fastmath=True)\n",
    "#@vectorize\n",
    "#@stencil\n",
    "def hysteresis_inter(NN2,Msat,hpasso):\n",
    "    \n",
    "    \n",
    "    hnow=hini/Msat\n",
    "    \n",
    "#    hnowlist=np.array([])\n",
    "#    maglist=np.array([])\n",
    "#    maglistend=np.array([])\n",
    "\n",
    "\n",
    "    hnowlist=np.empty(step+1)\n",
    "    maglist=np.zeros(NN2*height+1)\n",
    "    maglistend=np.array([])\n",
    "\n",
    "\n",
    "    Msat0=Msat\n",
    "#    for particle in range(NN2):\n",
    "#    for i in range(1,int(step+1)):\n",
    "\n",
    "    Msat=Msat0\n",
    "#    maglistend0=np.array([[]])\n",
    "    maglistend0 = np.empty(step, dtype=object)\n",
    "#    maglistend0 = np.zeros(step, dtype=np.float64)\n",
    "    \n",
    "    hnow=hini/Msat\n",
    "    htest=np.array([])\n",
    "    hlist=np.array([])\n",
    "\n",
    "\n",
    "#    for i in range(1,step+1):\n",
    "\n",
    "\n",
    "#    for i in range(1,step+1):\n",
    "    for i in tnrange(step+1,desc='Calculation Progress'):\n",
    "\n",
    "        if(i==0):\n",
    "            continue\n",
    "        \n",
    "        if(hnow>=0):\n",
    "            coefmag=(1+(step/2-i)*2*stepmag)\n",
    "#            coefmag=(1-(step/2-i)*stepmag)\n",
    "        else:\n",
    "            coefmag=(1+(i-step/2)*2*stepmag)\n",
    "#            coefmag=(1-(i-step/2)*stepmag)\n",
    "        \n",
    "#        phiantarraynew=np.array([])\n",
    "#        thetaantarraynew=np.array([])\n",
    "        phiantarraynew=np.empty(NN2*height)\n",
    "        thetaantarraynew=np.empty(NN2*height)\n",
    "        \n",
    "#        for i in range(1,int(step+1)):\n",
    "        for particle in range(NN2*height):\n",
    "            \n",
    "#            print(particle,'particle')\n",
    "            \n",
    "                \n",
    "#            print(coefmag,'coefmag')\n",
    "#            print(i,'i loop')\n",
    "            if(i==1):\n",
    "            \n",
    "                angx=hphi#+np.pi\n",
    "                angy=htheta#+np.pi\n",
    "                \n",
    "                phiantarray_vai=np.array([hphi for x in range(NN2*height)],dtype=np.float64)\n",
    "                thetaantarray_vai=np.array([htheta for x in range(NN2*height)],dtype=np.float64)\n",
    "#                phiantarray=np.array(phiantarray)\n",
    "#                thetaantarray=np.array(thetaantarray)\n",
    "                \n",
    "#                print(phiantarray_vai)\n",
    "\n",
    "                h=hnow\n",
    "                    \n",
    "                Msat=Msat0*coefmag\n",
    "                \n",
    "                angx=phiantarray_vai[particle]\n",
    "                angy=thetaantarray_vai[particle]\n",
    "                \n",
    "                x0=np.array([angx,angy],dtype=np.float64)\n",
    "                \n",
    "#                print(x0,'x0')\n",
    "#                minxy=spmin(free_energy,[x0],args=(K1,K2,h,htheta,hphi,Msat),bounds=[[-100*3.1415,100*3.1415],[-100*3.1415,100*3.1415]],tol=1e-100,options={'ftol': 1e-30})\n",
    "#                minxy=spmin(free_energy,x0,args=(K1,K2,h,htheta,hphi,Msat,particle,phiantarray_vai,thetaantarray_vai),bounds=[[-100*3.1415,100*3.1415],[-100*3.1415,100*3.1415]],tol=1e-100,options={'ftol': 1e-30})\n",
    "#                minxy=spmin(free_energy,x0,args=(K1,K2,h,htheta,hphi,Msat,particle,phiantarray_vai,thetaantarray_vai),bounds=[[-2000*3.1415,4000*3.1415],[-1000*3.1415,2000*3.1415]],tol=1e-100,options={'ftol': 1e-30})\n",
    "                minxy=scipy.optimize.minimize(free_energy,x0,args=(K1,K2,h,htheta,hphi,Msat,particle,phiantarray_vai,thetaantarray_vai),bounds=[[-2000*3.1415,4000*3.1415],[-1000*3.1415,2000*3.1415]],tol=1e-400,options={'ftol': 1e-300})\n",
    "                \n",
    "#                print('chegaaqui')\n",
    "            \n",
    "                angx=minxy.x[0]\n",
    "                angy=minxy.x[1]\n",
    "                #print(angx,'angx')\n",
    "#                phiantarraynew.append(angx)\n",
    "#                thetaantarraynew.append(angy)\n",
    "#                phiantarraynew=np.append(phiantarraynew,angx)\n",
    "#                thetaantarraynew=np.append(thetaantarraynew,angy)\n",
    "                phiantarraynew[particle] = angx\n",
    "                thetaantarraynew[particle] = angy\n",
    "\n",
    "        \n",
    "        \n",
    "        \n",
    "        \n",
    "#                print(phiantarraynew,np.array([angx]))\n",
    "#                dfsol=minxy.x[2]\n",
    "#                print(phiantarraynew)\n",
    "#                hlist.append(hnow*Msat)\n",
    "#                maglist.append(coefmag*((np.sin(htheta)*np.sin(angy)*np.cos(angx-hphi)+np.cos(htheta)*np.cos(angy))))\n",
    "#                maglist=np.append(maglist,coefmag*((np.sin(htheta)*np.sin(angy)*np.cos(angx-hphi)+np.cos(htheta)*np.cos(angy))))\n",
    "                maglist[particle] = coefmag*((np.sin(htheta)*np.sin(angy)*np.cos(angx-hphi)+np.cos(htheta)*np.cos(angy)))\n",
    "\n",
    "                if(particle==NN2*height-1):\n",
    "                    phiantarraynew2=np.copy(phiantarraynew)\n",
    "                    thetaantarraynew2=np.copy(thetaantarraynew)\n",
    "                    print(phiantarraynew)\n",
    "                    \n",
    "#                phiantarraynew=[]\n",
    "#                thetaantarraynew=[]\n",
    "#            hnow=hnow+hpasso/Msat\n",
    "\n",
    "#            hnowlist.append(hnow*Msat)\n",
    "#            hnowlist=np.append(hnowlist,hnow*Msat)\n",
    "\n",
    "            \n",
    "#            print(i,'ii')    \n",
    "#            print(phiantarraynew2,'phiant2')\n",
    "#            print(maglist,'maglist')\n",
    "\n",
    "#            phiantarraynew=[]\n",
    "#            thetaantarraynew=[]\n",
    "            \n",
    "            \n",
    "            if(i!=1):\n",
    "                \n",
    "                if(particle==0):\n",
    "                    phiantarray_vai=np.copy(phiantarraynew2)\n",
    "                    thetaantarray_vai=np.copy(thetaantarraynew2)\n",
    "#                print(phiantarray_vai)\n",
    "\n",
    "#                phiantarray=np.array(phiantarray)\n",
    "#                thetaantarray=np.array(thetaantarray)\n",
    "#                print(phiantarray,'secondphiantarray')\n",
    "\n",
    "                angx=phiantarray_vai[particle]\n",
    "                angy=thetaantarray_vai[particle]\n",
    "                \n",
    "                Msat=Msat0*coefmag\n",
    "                #            x0=np.array([angx,angy,dfsol],dtype=\"float\")\n",
    "                x0=np.array([angx,angy],dtype=np.float64)\n",
    "                h=hnow\n",
    "                \n",
    "#                minxy=spmin(free_energy,x0,args=(K1,K2,h,htheta,hphi,Msat),bounds=[[-10000*3.1415,10000*3.1415],[-10000*3.1415,10000*3.1415]],tol=1e-100,options={'ftol': 1e-30})\n",
    "#                minxy=spmin(free_energy,x0,args=(K1,K2,h,htheta,hphi,Msat,particle,phiantarray_vai,thetaantarray_vai),bounds=[[-10000*3.1415,10000*3.1415],[-10000*3.1415,10000*3.1415]],tol=1e-100,options={'ftol': 1e-30})\n",
    "#                minxy=spmin(free_energy,x0,args=(K1,K2,h,htheta,hphi,Msat,particle,phiantarray_vai,thetaantarray_vai),bounds=[[-2000*3.1415,4000*3.1415],[-1000*3.1415,2000*3.1415]],tol=1e-100,options={'ftol': 1e-30})\n",
    "#                minxy=scipy.optimize.minimize(free_energy,x0,args=(K1,K2,h,htheta,hphi,Msat,particle,phiantarray_vai,thetaantarray_vai),method='nelder-mead',tol=1e-400,options={'ftol': 1e-300})\n",
    "                minxy=scipy.optimize.minimize(free_energy,x0,args=(K1,K2,h,htheta,hphi,Msat,particle,phiantarray_vai,thetaantarray_vai),bounds=[[-2000*3.1415,4000*3.1415],[-1000*3.1415,2000*3.1415]],tol=1e-400,options={'ftol': 1e-300})\n",
    "                \n",
    "                angx=minxy.x[0]\n",
    "                angy=minxy.x[1]\n",
    "#                phiantarraynew.append(angx)\n",
    "#                thetaantarraynew.append(angy)\n",
    "#                phiantarraynew=np.append(phiantarraynew,angx)\n",
    "#                thetaantarraynew=np.append(thetaantarraynew,angy)\n",
    "                phiantarraynew[particle] = angx\n",
    "                thetaantarraynew[particle] = angy\n",
    "        \n",
    "#                maglist.append(coefmag*((np.sin(htheta)*np.sin(angy)*np.cos(angx-hphi)+np.cos(htheta)*np.cos(angy))))\n",
    "\n",
    "#                maglist=np.append(maglist,coefmag*((np.sin(htheta)*np.sin(angy)*np.cos(angx-hphi)+np.cos(htheta)*np.cos(angy))))\n",
    "                maglist[particle] = coefmag*((np.sin(htheta)*np.sin(angy)*np.cos(angx-hphi)+np.cos(htheta)*np.cos(angy)))\n",
    "            \n",
    "#                hlist.append(hnow*Msat)\n",
    "#                phiantarraynew3=np.copy(phiantarraynew)\n",
    "#                thetaantarraynew3=np.copy(thetaantarraynew)\n",
    "#                phiantarraynew=[]\n",
    "#                thetaantarraynew=[]\n",
    "\n",
    "#                htest.append(minxy)\n",
    "#                htest=np.append(htest,minxy)\n",
    "\n",
    "                \n",
    "                if(particle==NN2*height-1):\n",
    "                    phiantarraynew2=np.copy(phiantarraynew)\n",
    "                    thetaantarraynew2=np.copy(thetaantarraynew)\n",
    "                    phiantarraynew=[]\n",
    "                    thetaantarraynew=[]\n",
    "#                    print(thetaantarraynew2)\n",
    "#            hnow=hnow+hpasso/Msat\n",
    "\n",
    "#            hnowlist.append(hnow*Msat)\n",
    "#        hnowlist=np.append(hnowlist,hnow*Msat)\n",
    "        hnowlist[i] = hnow*Msat\n",
    "            \n",
    "            #phiantarraynew=[]\n",
    "            #thetaantarraynew=[]\n",
    "\n",
    "#        hlist.append(hnow*Msat)\n",
    "        hlist=np.append(hlist,hnow*Msat)\n",
    "#        if(i==int(step/2)):\n",
    "#            hpasso=-hpasso\n",
    "            \n",
    "            \n",
    "#        hnow=hnow+2*hpasso/Msat            \n",
    "        hnow=hnow+1*hpasso/Msat            \n",
    "\n",
    "#        maglistend0.append(np.array(maglist)) \n",
    "#        maglist=[]\n",
    "#        print(maglist,'maglist')\n",
    "        if(i==1):\n",
    "#            maglistend0=np.array([maglist])\n",
    "            maglistend0[i-1] = maglist\n",
    "        else:\n",
    "#            maglistend0=np.concatenate((maglistend0,np.array([maglist])),axis=0)\n",
    "            maglistend0[i-1] = maglist\n",
    "#            print(len(maglist),'lenmag')\n",
    "#        maglist=np.array([])\n",
    "        maglist=np.zeros(NN2*height+1)\n",
    "            \n",
    "#    print(maglistend0)\n",
    "#    print(len(maglistend0))\n",
    "#    maglistend2=np.array([])\n",
    "    maglistend2=np.empty(step)\n",
    "\n",
    "    for j in range(len(maglistend0)):\n",
    "        soma=0\n",
    "        for i in range(len(maglistend0[0])):\n",
    "            soma+=maglistend0[j][i]\n",
    "\n",
    "#        maglistend2.append(soma/NN2)\n",
    "#        maglistend2=np.append(maglistend2,soma/NN2)\n",
    "#        print(soma/NN2,'soma')\n",
    "        maglistend2[j]=soma/NN2/height\n",
    "#        print(maglistend2[i],'aq')\n",
    "#    maglistend.append(np.array(maglistend2)) \n",
    "#    maglistend=np.append(maglistend,maglistend2)\n",
    "    maglistend=maglistend2\n",
    "\n",
    "#    print(len(maglistend),'lastmagend')\n",
    "#    hlist=[((hini+hpasso*x)) for x in range(step)]\n",
    "#    print(len(htest),'htest')\n",
    "    \n",
    "    return maglistend,hlist,htest,hnowlist\n",
    "\n",
    "\n"
   ]
  },
  {
   "cell_type": "code",
   "execution_count": 6202,
   "metadata": {},
   "outputs": [
    {
     "data": {
      "application/vnd.jupyter.widget-view+json": {
       "model_id": "15534a37f19a4c5a9bffc3a2654f34a6",
       "version_major": 2,
       "version_minor": 0
      },
      "text/plain": [
       "HBox(children=(IntProgress(value=0, description='Calculation Progress', max=601, style=ProgressStyle(descripti…"
      ]
     },
     "metadata": {},
     "output_type": "display_data"
    },
    {
     "name": "stdout",
     "output_type": "stream",
     "text": [
      "[1.71024542 1.71024542 1.71024542 1.71024542]\n",
      "\n",
      "2.4576077461242676\n"
     ]
    }
   ],
   "source": [
    "import time\n",
    "start=time.time()\n",
    "m_inter,h_inter,h_test,hnowlist = hysteresis_inter(NN2,Msat,hpasso)\n",
    "stop=time.time()\n",
    "print(-start+stop)"
   ]
  },
  {
   "cell_type": "code",
   "execution_count": 6203,
   "metadata": {},
   "outputs": [
    {
     "name": "stdout",
     "output_type": "stream",
     "text": [
      "[ 3 23] 2\n"
     ]
    }
   ],
   "source": [
    "vv=[]\n",
    "vv1=np.array([2,3])\n",
    "vv1=np.array([vv1])\n",
    "#print(vv1)\n",
    "zzz=np.array([[1,2],[4,5]])\n",
    "#vv1=np.append(zzz,np.array([vv1]))\n",
    "vv1=np.concatenate((zzz,vv1),axis=0)\n",
    "vv1=np.concatenate((np.array([[3,23]]),vv1),axis=0)\n",
    "print(vv1[0],len(vv1[0]))"
   ]
  },
  {
   "cell_type": "code",
   "execution_count": 6204,
   "metadata": {},
   "outputs": [],
   "source": [
    "desired_length = 50\n",
    "resultsnew = np.empty(desired_length)\n",
    "#print(resultsnew,len(maglist))"
   ]
  },
  {
   "cell_type": "code",
   "execution_count": 6205,
   "metadata": {},
   "outputs": [
    {
     "data": {
      "text/plain": [
       "array([[1, 2],\n",
       "       [4, 5]])"
      ]
     },
     "execution_count": 6205,
     "metadata": {},
     "output_type": "execute_result"
    }
   ],
   "source": [
    "zzz"
   ]
  },
  {
   "cell_type": "code",
   "execution_count": 6206,
   "metadata": {},
   "outputs": [
    {
     "name": "stdout",
     "output_type": "stream",
     "text": [
      "[20, 2, 3] [1 2 3]\n"
     ]
    }
   ],
   "source": [
    "lis=[1,2,3]\n",
    "zz=np.copy(lis)\n",
    "zz\n",
    "lis[0]=20\n",
    "print(lis,zz)"
   ]
  },
  {
   "cell_type": "code",
   "execution_count": 6207,
   "metadata": {},
   "outputs": [
    {
     "name": "stdout",
     "output_type": "stream",
     "text": [
      "0.0 -0.68\n"
     ]
    }
   ],
   "source": [
    "Msat\n",
    "print(beta,hpasso)"
   ]
  },
  {
   "cell_type": "code",
   "execution_count": 6208,
   "metadata": {},
   "outputs": [
    {
     "name": "stdout",
     "output_type": "stream",
     "text": [
      "-2.4576077461242676\n"
     ]
    }
   ],
   "source": [
    "print(start-stop)"
   ]
  },
  {
   "cell_type": "code",
   "execution_count": 6209,
   "metadata": {},
   "outputs": [
    {
     "data": {
      "text/plain": [
       "(-203.32000000000323, 4.676868064033e-310)"
      ]
     },
     "execution_count": 6209,
     "metadata": {},
     "output_type": "execute_result"
    }
   ],
   "source": [
    "hnowlist[-1],hnowlist[0]"
   ]
  },
  {
   "cell_type": "code",
   "execution_count": 6210,
   "metadata": {},
   "outputs": [
    {
     "data": {
      "text/plain": [
       "(204.0, -203.32000000000323)"
      ]
     },
     "execution_count": 6210,
     "metadata": {},
     "output_type": "execute_result"
    }
   ],
   "source": [
    "h_inter[0],h_inter[-1]"
   ]
  },
  {
   "cell_type": "code",
   "execution_count": 6211,
   "metadata": {},
   "outputs": [
    {
     "name": "stdout",
     "output_type": "stream",
     "text": [
      "[ 0.97999537  0.97989676  0.97979746  0.97969745  0.97959672  0.97949527\n",
      "  0.97939309  0.97929018  0.97918654  0.97908214  0.97897698  0.97887107\n",
      "  0.97876439  0.97865693  0.97854869  0.97843965  0.97832983  0.97821919\n",
      "  0.97810774  0.97799547  0.97788238  0.97776844  0.97765367  0.97753804\n",
      "  0.97742155  0.97730419  0.97718596  0.97706684  0.97694683  0.97682592\n",
      "  0.97670409  0.97658135  0.97645768  0.97633307  0.97620752  0.97608101\n",
      "  0.97595353  0.97582508  0.97569565  0.97556523  0.9754338   0.97530136\n",
      "  0.97516789  0.9750334   0.97489786  0.97476126  0.97462361  0.97448488\n",
      "  0.97434506  0.97420415  0.97406213  0.973919    0.97377474  0.97362933\n",
      "  0.97348278  0.97333506  0.97318616  0.97303608  0.9728848   0.97273231\n",
      "  0.9725786   0.97242365  0.97226745  0.97210999  0.97195126  0.97179123\n",
      "  0.97162991  0.97146728  0.97130332  0.97113801  0.97097136  0.97080332\n",
      "  0.97063391  0.9704631   0.97029088  0.97011723  0.96994214  0.96976559\n",
      "  0.96958757  0.96940806  0.96922704  0.96904451  0.96886044  0.96867481\n",
      "  0.96848762  0.96829884  0.96810846  0.96791646  0.96772282  0.96752753\n",
      "  0.96733057  0.96713191  0.96693155  0.96672945  0.96652561  0.96632001\n",
      "  0.96611262  0.96590342  0.9656924   0.96547954  0.96526481  0.96504821\n",
      "  0.96482969  0.96460924  0.96438685  0.96416249  0.96393613  0.96370777\n",
      "  0.96347736  0.9632449   0.96301035  0.9627737   0.96253492  0.96229398\n",
      "  0.96205087  0.96180555  0.96155801  0.96130822  0.96105614  0.96080176\n",
      "  0.96054505  0.96028599  0.96002453  0.95976067  0.95949436  0.95922558\n",
      "  0.95895431  0.95868052  0.95840416  0.95812523  0.95784367  0.95755948\n",
      "  0.9572726   0.95698302  0.95669069  0.95639559  0.95609769  0.95579695\n",
      "  0.95549333  0.95518681  0.95487735  0.95456491  0.95424946  0.95393096\n",
      "  0.95360938  0.95328468  0.95295681  0.95262575  0.95229145  0.95195388\n",
      "  0.95161298  0.95126874  0.95092109  0.95057001  0.95021545  0.94985736\n",
      "  0.94949571  0.94913044  0.94876152  0.9483889   0.94801253  0.94763237\n",
      "  0.94724836  0.94686047  0.94646864  0.94607282  0.94567297  0.94526903\n",
      "  0.94486094  0.94444866  0.94403215  0.94361133  0.94318615  0.94275656\n",
      "  0.94232251  0.94188394  0.94144078  0.94099299  0.94054049  0.94008323\n",
      "  0.93962115  0.93915419  0.93868227  0.93820534  0.93772334  0.93723618\n",
      "  0.93674381  0.93624616  0.93574316  0.93523474  0.93472082  0.93420133\n",
      "  0.9336762   0.93314537  0.93260873  0.93206622  0.93151777  0.93096328\n",
      "  0.93040269  0.9298359   0.92926283  0.92868341  0.92809753  0.92750511\n",
      "  0.92690607  0.92630032  0.92568775  0.92506828  0.92444181  0.92380825\n",
      "  0.92316748  0.92251943  0.92186398  0.92120104  0.92053048  0.91985222\n",
      "  0.91916614  0.91847213  0.91777007  0.91705986  0.91634138  0.91561451\n",
      "  0.91487913  0.91413511  0.91338234  0.91262069  0.91185003  0.91107022\n",
      "  0.91028115  0.90948266  0.90867462  0.90785689  0.90702935  0.90619184\n",
      "  0.90534419  0.90448628  0.90361794  0.90273903  0.90184938  0.90094883\n",
      "  0.90003722  0.89911438  0.89818014  0.89723433  0.89627678  0.8953073\n",
      "  0.8943257   0.89333181  0.89232544  0.89130639  0.89027446  0.88922946\n",
      "  0.88817117  0.8870994   0.88601392  0.88491453  0.883801    0.8826731\n",
      "  0.88153062  0.8803733   0.87920091  0.87801322  0.87680997  0.8755909\n",
      "  0.87435576  0.8731043   0.87183621  0.87055125  0.86924914  0.86792957\n",
      "  0.86659226  0.86523691  0.86386321  0.86247085  0.86105952  0.85962888\n",
      "  0.85817859  0.85670833  0.85521775  0.85370646  0.85217414  0.85062038\n",
      "  0.84904482  0.84744706  0.84582669  0.84418332  0.84251652  0.84082584\n",
      "  0.83911087  0.83737114  0.8356062   0.83381555  0.83199873  0.83015522\n",
      "  0.8282845   0.82638607  0.82445937  0.82250384  0.82051892  0.81850402\n",
      "  0.11467048 -0.81850402 -0.82051892 -0.82250384 -0.82445937 -0.82638607\n",
      " -0.82828451 -0.83015521 -0.83199873 -0.83381556 -0.8356062  -0.83737114\n",
      " -0.83911087 -0.84082584 -0.84251652 -0.84418332 -0.84582669 -0.84744707\n",
      " -0.84904482 -0.85062038 -0.85217414 -0.85370647 -0.85521774 -0.85670833\n",
      " -0.8581786  -0.85962888 -0.86105952 -0.86247085 -0.86386321 -0.86523691\n",
      " -0.86659226 -0.86792957 -0.86924914 -0.87055125 -0.87183621 -0.87310429\n",
      " -0.87435576 -0.87559089 -0.87680996 -0.87801322 -0.87920092 -0.8803733\n",
      " -0.88153062 -0.88267311 -0.883801   -0.88491453 -0.88601393 -0.8870994\n",
      " -0.88817118 -0.88922946 -0.89027446 -0.89130639 -0.89232544 -0.89333182\n",
      " -0.8943257  -0.89530729 -0.89627678 -0.89723433 -0.89818014 -0.89911438\n",
      " -0.90003721 -0.90094883 -0.90184938 -0.90273903 -0.90361794 -0.90448628\n",
      " -0.90534419 -0.90619183 -0.90702935 -0.9078569  -0.90867462 -0.90948265\n",
      " -0.91028115 -0.91107022 -0.91185003 -0.91262069 -0.91338234 -0.91413511\n",
      " -0.91487913 -0.91561451 -0.91634138 -0.91705986 -0.91777007 -0.91847213\n",
      " -0.91916614 -0.91985222 -0.92053048 -0.92120104 -0.92186398 -0.92251943\n",
      " -0.92316749 -0.92380824 -0.92444181 -0.92506828 -0.92568775 -0.92630032\n",
      " -0.92690608 -0.92750511 -0.92809753 -0.9286834  -0.92926283 -0.9298359\n",
      " -0.93040269 -0.93096329 -0.93151777 -0.93206622 -0.93260873 -0.93314536\n",
      " -0.93367621 -0.93420133 -0.93472082 -0.93523474 -0.93574316 -0.93624616\n",
      " -0.93674381 -0.93723618 -0.93772333 -0.93820534 -0.93868227 -0.93915419\n",
      " -0.93962115 -0.94008323 -0.94054049 -0.94099299 -0.94144078 -0.94188394\n",
      " -0.94232252 -0.94275656 -0.94318615 -0.94361132 -0.94403214 -0.94444867\n",
      " -0.94486094 -0.94526902 -0.94567297 -0.94607282 -0.94646864 -0.94686047\n",
      " -0.94724837 -0.94763237 -0.94801253 -0.9483889  -0.94876152 -0.94913044\n",
      " -0.94949571 -0.94985736 -0.95021545 -0.95057001 -0.95092109 -0.95126874\n",
      " -0.95161298 -0.95195388 -0.95229145 -0.95262575 -0.95295681 -0.95328468\n",
      " -0.95360938 -0.95393097 -0.95424946 -0.95456491 -0.95487735 -0.95518681\n",
      " -0.95549334 -0.95579695 -0.95609769 -0.95639559 -0.95669069 -0.95698302\n",
      " -0.9572726  -0.95755948 -0.95784368 -0.95812523 -0.95840417 -0.95868052\n",
      " -0.95895431 -0.95922559 -0.95949436 -0.95976066 -0.96002453 -0.96028598\n",
      " -0.96054505 -0.96080176 -0.96105614 -0.96130822 -0.96155801 -0.96180556\n",
      " -0.96205087 -0.96229398 -0.96253492 -0.9627737  -0.96301035 -0.9632449\n",
      " -0.96347736 -0.96370777 -0.96393613 -0.96416249 -0.96438685 -0.96460924\n",
      " -0.96482969 -0.9650482  -0.96526482 -0.96547954 -0.9656924  -0.96590342\n",
      " -0.96611261 -0.96632001 -0.96652561 -0.96672945 -0.96693154 -0.96713191\n",
      " -0.96733057 -0.96752753 -0.96772282 -0.96791646 -0.96810846 -0.96829885\n",
      " -0.96848762 -0.9686748  -0.96886044 -0.96904451 -0.96922704 -0.96940806\n",
      " -0.96958757 -0.96976559 -0.96994214 -0.97011723 -0.97029088 -0.9704631\n",
      " -0.97063391 -0.97080332 -0.97097135 -0.97113801 -0.97130331 -0.97146728\n",
      " -0.97162991 -0.97179123 -0.97195126 -0.97210999 -0.97226745 -0.97242365\n",
      " -0.9725786  -0.97273231 -0.9728848  -0.97303608 -0.97318616 -0.97333506\n",
      " -0.97348277 -0.97362933 -0.97377474 -0.973919   -0.97406213 -0.97420415\n",
      " -0.97434506 -0.97448488 -0.97462361 -0.97476126 -0.97489786 -0.9750334\n",
      " -0.97516789 -0.97530136 -0.9754338  -0.97556523 -0.97569565 -0.97582508\n",
      " -0.97595353 -0.97608101 -0.97620752 -0.97633307 -0.97645768 -0.97658135\n",
      " -0.97670409 -0.97682592 -0.97694683 -0.97706684 -0.97718596 -0.97730419\n",
      " -0.97742155 -0.97753804 -0.97765367 -0.97776844 -0.97788238 -0.97799547\n",
      " -0.97810774 -0.97821919 -0.97832983 -0.97843965 -0.97854869 -0.97865693\n",
      " -0.97876439 -0.97887107 -0.97897698 -0.97908214 -0.97918654 -0.97929019\n",
      " -0.9793931  -0.97949527 -0.97959672 -0.97969745 -0.97979746 -0.97989676]\n",
      "600\n"
     ]
    }
   ],
   "source": [
    "print(m_inter)\n",
    "print(len(m_inter))"
   ]
  },
  {
   "cell_type": "code",
   "execution_count": 6212,
   "metadata": {},
   "outputs": [
    {
     "ename": "TypeError",
     "evalue": "object of type 'numpy.float64' has no len()",
     "output_type": "error",
     "traceback": [
      "\u001b[0;31m---------------------------------------------------------------------------\u001b[0m",
      "\u001b[0;31mTypeError\u001b[0m                                 Traceback (most recent call last)",
      "\u001b[0;32m<ipython-input-6212-2a888c6d9516>\u001b[0m in \u001b[0;36m<module>\u001b[0;34m()\u001b[0m\n\u001b[1;32m      2\u001b[0m \u001b[0;32mfor\u001b[0m \u001b[0mj\u001b[0m \u001b[0;32min\u001b[0m \u001b[0mrange\u001b[0m\u001b[0;34m(\u001b[0m\u001b[0mlen\u001b[0m\u001b[0;34m(\u001b[0m\u001b[0mm_inter\u001b[0m\u001b[0;34m)\u001b[0m\u001b[0;34m)\u001b[0m\u001b[0;34m:\u001b[0m\u001b[0;34m\u001b[0m\u001b[0;34m\u001b[0m\u001b[0m\n\u001b[1;32m      3\u001b[0m     \u001b[0msoma\u001b[0m\u001b[0;34m=\u001b[0m\u001b[0;36m0\u001b[0m\u001b[0;34m\u001b[0m\u001b[0;34m\u001b[0m\u001b[0m\n\u001b[0;32m----> 4\u001b[0;31m     \u001b[0;32mfor\u001b[0m \u001b[0mi\u001b[0m \u001b[0;32min\u001b[0m \u001b[0mrange\u001b[0m\u001b[0;34m(\u001b[0m\u001b[0mlen\u001b[0m\u001b[0;34m(\u001b[0m\u001b[0mm_inter\u001b[0m\u001b[0;34m[\u001b[0m\u001b[0;36m0\u001b[0m\u001b[0;34m]\u001b[0m\u001b[0;34m)\u001b[0m\u001b[0;34m)\u001b[0m\u001b[0;34m:\u001b[0m\u001b[0;34m\u001b[0m\u001b[0;34m\u001b[0m\u001b[0m\n\u001b[0m\u001b[1;32m      5\u001b[0m \u001b[0;31m#        print(i)\u001b[0m\u001b[0;34m\u001b[0m\u001b[0;34m\u001b[0m\u001b[0;34m\u001b[0m\u001b[0m\n\u001b[1;32m      6\u001b[0m         \u001b[0msoma\u001b[0m\u001b[0;34m+=\u001b[0m\u001b[0mm_inter\u001b[0m\u001b[0;34m[\u001b[0m\u001b[0mj\u001b[0m\u001b[0;34m]\u001b[0m\u001b[0;34m[\u001b[0m\u001b[0mi\u001b[0m\u001b[0;34m]\u001b[0m\u001b[0;34m\u001b[0m\u001b[0;34m\u001b[0m\u001b[0m\n",
      "\u001b[0;31mTypeError\u001b[0m: object of type 'numpy.float64' has no len()"
     ]
    }
   ],
   "source": [
    "maglistend2=[]\n",
    "for j in range(len(m_inter)):\n",
    "    soma=0\n",
    "    for i in range(len(m_inter[0])):\n",
    "#        print(i)\n",
    "        soma+=m_inter[j][i]\n",
    "    maglistend2.append(soma/NN2)\n",
    "        "
   ]
  },
  {
   "cell_type": "code",
   "execution_count": 6213,
   "metadata": {},
   "outputs": [
    {
     "name": "stdout",
     "output_type": "stream",
     "text": [
      "[]\n",
      "0\n"
     ]
    }
   ],
   "source": [
    "print(maglistend2)\n",
    "print(len(maglistend2))"
   ]
  },
  {
   "cell_type": "code",
   "execution_count": 6214,
   "metadata": {},
   "outputs": [],
   "source": [
    "#h_test[8]\n"
   ]
  },
  {
   "cell_type": "code",
   "execution_count": 6215,
   "metadata": {},
   "outputs": [
    {
     "data": {
      "text/plain": [
       "1000.0"
      ]
     },
     "execution_count": 6215,
     "metadata": {},
     "output_type": "execute_result"
    }
   ],
   "source": [
    "Msat"
   ]
  },
  {
   "cell_type": "code",
   "execution_count": 6216,
   "metadata": {},
   "outputs": [
    {
     "data": {
      "text/plain": [
       "204.0"
      ]
     },
     "execution_count": 6216,
     "metadata": {},
     "output_type": "execute_result"
    }
   ],
   "source": [
    "hini"
   ]
  },
  {
   "cell_type": "code",
   "execution_count": 6217,
   "metadata": {},
   "outputs": [
    {
     "data": {
      "text/plain": [
       "array([ 0.97999537,  0.97989676,  0.97979746,  0.97969745,  0.97959672,\n",
       "        0.97949527,  0.97939309,  0.97929018,  0.97918654,  0.97908214,\n",
       "        0.97897698,  0.97887107,  0.97876439,  0.97865693,  0.97854869,\n",
       "        0.97843965,  0.97832983,  0.97821919,  0.97810774,  0.97799547,\n",
       "        0.97788238,  0.97776844,  0.97765367,  0.97753804,  0.97742155,\n",
       "        0.97730419,  0.97718596,  0.97706684,  0.97694683,  0.97682592,\n",
       "        0.97670409,  0.97658135,  0.97645768,  0.97633307,  0.97620752,\n",
       "        0.97608101,  0.97595353,  0.97582508,  0.97569565,  0.97556523,\n",
       "        0.9754338 ,  0.97530136,  0.97516789,  0.9750334 ,  0.97489786,\n",
       "        0.97476126,  0.97462361,  0.97448488,  0.97434506,  0.97420415,\n",
       "        0.97406213,  0.973919  ,  0.97377474,  0.97362933,  0.97348278,\n",
       "        0.97333506,  0.97318616,  0.97303608,  0.9728848 ,  0.97273231,\n",
       "        0.9725786 ,  0.97242365,  0.97226745,  0.97210999,  0.97195126,\n",
       "        0.97179123,  0.97162991,  0.97146728,  0.97130332,  0.97113801,\n",
       "        0.97097136,  0.97080332,  0.97063391,  0.9704631 ,  0.97029088,\n",
       "        0.97011723,  0.96994214,  0.96976559,  0.96958757,  0.96940806,\n",
       "        0.96922704,  0.96904451,  0.96886044,  0.96867481,  0.96848762,\n",
       "        0.96829884,  0.96810846,  0.96791646,  0.96772282,  0.96752753,\n",
       "        0.96733057,  0.96713191,  0.96693155,  0.96672945,  0.96652561,\n",
       "        0.96632001,  0.96611262,  0.96590342,  0.9656924 ,  0.96547954,\n",
       "        0.96526481,  0.96504821,  0.96482969,  0.96460924,  0.96438685,\n",
       "        0.96416249,  0.96393613,  0.96370777,  0.96347736,  0.9632449 ,\n",
       "        0.96301035,  0.9627737 ,  0.96253492,  0.96229398,  0.96205087,\n",
       "        0.96180555,  0.96155801,  0.96130822,  0.96105614,  0.96080176,\n",
       "        0.96054505,  0.96028599,  0.96002453,  0.95976067,  0.95949436,\n",
       "        0.95922558,  0.95895431,  0.95868052,  0.95840416,  0.95812523,\n",
       "        0.95784367,  0.95755948,  0.9572726 ,  0.95698302,  0.95669069,\n",
       "        0.95639559,  0.95609769,  0.95579695,  0.95549333,  0.95518681,\n",
       "        0.95487735,  0.95456491,  0.95424946,  0.95393096,  0.95360938,\n",
       "        0.95328468,  0.95295681,  0.95262575,  0.95229145,  0.95195388,\n",
       "        0.95161298,  0.95126874,  0.95092109,  0.95057001,  0.95021545,\n",
       "        0.94985736,  0.94949571,  0.94913044,  0.94876152,  0.9483889 ,\n",
       "        0.94801253,  0.94763237,  0.94724836,  0.94686047,  0.94646864,\n",
       "        0.94607282,  0.94567297,  0.94526903,  0.94486094,  0.94444866,\n",
       "        0.94403215,  0.94361133,  0.94318615,  0.94275656,  0.94232251,\n",
       "        0.94188394,  0.94144078,  0.94099299,  0.94054049,  0.94008323,\n",
       "        0.93962115,  0.93915419,  0.93868227,  0.93820534,  0.93772334,\n",
       "        0.93723618,  0.93674381,  0.93624616,  0.93574316,  0.93523474,\n",
       "        0.93472082,  0.93420133,  0.9336762 ,  0.93314537,  0.93260873,\n",
       "        0.93206622,  0.93151777,  0.93096328,  0.93040269,  0.9298359 ,\n",
       "        0.92926283,  0.92868341,  0.92809753,  0.92750511,  0.92690607,\n",
       "        0.92630032,  0.92568775,  0.92506828,  0.92444181,  0.92380825,\n",
       "        0.92316748,  0.92251943,  0.92186398,  0.92120104,  0.92053048,\n",
       "        0.91985222,  0.91916614,  0.91847213,  0.91777007,  0.91705986,\n",
       "        0.91634138,  0.91561451,  0.91487913,  0.91413511,  0.91338234,\n",
       "        0.91262069,  0.91185003,  0.91107022,  0.91028115,  0.90948266,\n",
       "        0.90867462,  0.90785689,  0.90702935,  0.90619184,  0.90534419,\n",
       "        0.90448628,  0.90361794,  0.90273903,  0.90184938,  0.90094883,\n",
       "        0.90003722,  0.89911438,  0.89818014,  0.89723433,  0.89627678,\n",
       "        0.8953073 ,  0.8943257 ,  0.89333181,  0.89232544,  0.89130639,\n",
       "        0.89027446,  0.88922946,  0.88817117,  0.8870994 ,  0.88601392,\n",
       "        0.88491453,  0.883801  ,  0.8826731 ,  0.88153062,  0.8803733 ,\n",
       "        0.87920091,  0.87801322,  0.87680997,  0.8755909 ,  0.87435576,\n",
       "        0.8731043 ,  0.87183621,  0.87055125,  0.86924914,  0.86792957,\n",
       "        0.86659226,  0.86523691,  0.86386321,  0.86247085,  0.86105952,\n",
       "        0.85962888,  0.85817859,  0.85670833,  0.85521775,  0.85370646,\n",
       "        0.85217414,  0.85062038,  0.84904482,  0.84744706,  0.84582669,\n",
       "        0.84418332,  0.84251652,  0.84082584,  0.83911087,  0.83737114,\n",
       "        0.8356062 ,  0.83381555,  0.83199873,  0.83015522,  0.8282845 ,\n",
       "        0.82638607,  0.82445937,  0.82250384,  0.82051892,  0.81850402,\n",
       "        0.11467048, -0.81850402, -0.82051892, -0.82250384, -0.82445937,\n",
       "       -0.82638607, -0.82828451, -0.83015521, -0.83199873, -0.83381556,\n",
       "       -0.8356062 , -0.83737114, -0.83911087, -0.84082584, -0.84251652,\n",
       "       -0.84418332, -0.84582669, -0.84744707, -0.84904482, -0.85062038,\n",
       "       -0.85217414, -0.85370647, -0.85521774, -0.85670833, -0.8581786 ,\n",
       "       -0.85962888, -0.86105952, -0.86247085, -0.86386321, -0.86523691,\n",
       "       -0.86659226, -0.86792957, -0.86924914, -0.87055125, -0.87183621,\n",
       "       -0.87310429, -0.87435576, -0.87559089, -0.87680996, -0.87801322,\n",
       "       -0.87920092, -0.8803733 , -0.88153062, -0.88267311, -0.883801  ,\n",
       "       -0.88491453, -0.88601393, -0.8870994 , -0.88817118, -0.88922946,\n",
       "       -0.89027446, -0.89130639, -0.89232544, -0.89333182, -0.8943257 ,\n",
       "       -0.89530729, -0.89627678, -0.89723433, -0.89818014, -0.89911438,\n",
       "       -0.90003721, -0.90094883, -0.90184938, -0.90273903, -0.90361794,\n",
       "       -0.90448628, -0.90534419, -0.90619183, -0.90702935, -0.9078569 ,\n",
       "       -0.90867462, -0.90948265, -0.91028115, -0.91107022, -0.91185003,\n",
       "       -0.91262069, -0.91338234, -0.91413511, -0.91487913, -0.91561451,\n",
       "       -0.91634138, -0.91705986, -0.91777007, -0.91847213, -0.91916614,\n",
       "       -0.91985222, -0.92053048, -0.92120104, -0.92186398, -0.92251943,\n",
       "       -0.92316749, -0.92380824, -0.92444181, -0.92506828, -0.92568775,\n",
       "       -0.92630032, -0.92690608, -0.92750511, -0.92809753, -0.9286834 ,\n",
       "       -0.92926283, -0.9298359 , -0.93040269, -0.93096329, -0.93151777,\n",
       "       -0.93206622, -0.93260873, -0.93314536, -0.93367621, -0.93420133,\n",
       "       -0.93472082, -0.93523474, -0.93574316, -0.93624616, -0.93674381,\n",
       "       -0.93723618, -0.93772333, -0.93820534, -0.93868227, -0.93915419,\n",
       "       -0.93962115, -0.94008323, -0.94054049, -0.94099299, -0.94144078,\n",
       "       -0.94188394, -0.94232252, -0.94275656, -0.94318615, -0.94361132,\n",
       "       -0.94403214, -0.94444867, -0.94486094, -0.94526902, -0.94567297,\n",
       "       -0.94607282, -0.94646864, -0.94686047, -0.94724837, -0.94763237,\n",
       "       -0.94801253, -0.9483889 , -0.94876152, -0.94913044, -0.94949571,\n",
       "       -0.94985736, -0.95021545, -0.95057001, -0.95092109, -0.95126874,\n",
       "       -0.95161298, -0.95195388, -0.95229145, -0.95262575, -0.95295681,\n",
       "       -0.95328468, -0.95360938, -0.95393097, -0.95424946, -0.95456491,\n",
       "       -0.95487735, -0.95518681, -0.95549334, -0.95579695, -0.95609769,\n",
       "       -0.95639559, -0.95669069, -0.95698302, -0.9572726 , -0.95755948,\n",
       "       -0.95784368, -0.95812523, -0.95840417, -0.95868052, -0.95895431,\n",
       "       -0.95922559, -0.95949436, -0.95976066, -0.96002453, -0.96028598,\n",
       "       -0.96054505, -0.96080176, -0.96105614, -0.96130822, -0.96155801,\n",
       "       -0.96180556, -0.96205087, -0.96229398, -0.96253492, -0.9627737 ,\n",
       "       -0.96301035, -0.9632449 , -0.96347736, -0.96370777, -0.96393613,\n",
       "       -0.96416249, -0.96438685, -0.96460924, -0.96482969, -0.9650482 ,\n",
       "       -0.96526482, -0.96547954, -0.9656924 , -0.96590342, -0.96611261,\n",
       "       -0.96632001, -0.96652561, -0.96672945, -0.96693154, -0.96713191,\n",
       "       -0.96733057, -0.96752753, -0.96772282, -0.96791646, -0.96810846,\n",
       "       -0.96829885, -0.96848762, -0.9686748 , -0.96886044, -0.96904451,\n",
       "       -0.96922704, -0.96940806, -0.96958757, -0.96976559, -0.96994214,\n",
       "       -0.97011723, -0.97029088, -0.9704631 , -0.97063391, -0.97080332,\n",
       "       -0.97097135, -0.97113801, -0.97130331, -0.97146728, -0.97162991,\n",
       "       -0.97179123, -0.97195126, -0.97210999, -0.97226745, -0.97242365,\n",
       "       -0.9725786 , -0.97273231, -0.9728848 , -0.97303608, -0.97318616,\n",
       "       -0.97333506, -0.97348277, -0.97362933, -0.97377474, -0.973919  ,\n",
       "       -0.97406213, -0.97420415, -0.97434506, -0.97448488, -0.97462361,\n",
       "       -0.97476126, -0.97489786, -0.9750334 , -0.97516789, -0.97530136,\n",
       "       -0.9754338 , -0.97556523, -0.97569565, -0.97582508, -0.97595353,\n",
       "       -0.97608101, -0.97620752, -0.97633307, -0.97645768, -0.97658135,\n",
       "       -0.97670409, -0.97682592, -0.97694683, -0.97706684, -0.97718596,\n",
       "       -0.97730419, -0.97742155, -0.97753804, -0.97765367, -0.97776844,\n",
       "       -0.97788238, -0.97799547, -0.97810774, -0.97821919, -0.97832983,\n",
       "       -0.97843965, -0.97854869, -0.97865693, -0.97876439, -0.97887107,\n",
       "       -0.97897698, -0.97908214, -0.97918654, -0.97929019, -0.9793931 ,\n",
       "       -0.97949527, -0.97959672, -0.97969745, -0.97979746, -0.97989676])"
      ]
     },
     "execution_count": 6217,
     "metadata": {},
     "output_type": "execute_result"
    }
   ],
   "source": [
    "m_inter"
   ]
  },
  {
   "cell_type": "code",
   "execution_count": 6218,
   "metadata": {},
   "outputs": [],
   "source": [
    "m_rot=np.array([-1 if(h_inter[i]<-20) else 1 for i in range(len(h_inter))])"
   ]
  },
  {
   "cell_type": "code",
   "execution_count": 6219,
   "metadata": {},
   "outputs": [
    {
     "data": {
      "text/plain": [
       "array([ 1,  1,  1,  1,  1,  1,  1,  1,  1,  1,  1,  1,  1,  1,  1,  1,  1,\n",
       "        1,  1,  1,  1,  1,  1,  1,  1,  1,  1,  1,  1,  1,  1,  1,  1,  1,\n",
       "        1,  1,  1,  1,  1,  1,  1,  1,  1,  1,  1,  1,  1,  1,  1,  1,  1,\n",
       "        1,  1,  1,  1,  1,  1,  1,  1,  1,  1,  1,  1,  1,  1,  1,  1,  1,\n",
       "        1,  1,  1,  1,  1,  1,  1,  1,  1,  1,  1,  1,  1,  1,  1,  1,  1,\n",
       "        1,  1,  1,  1,  1,  1,  1,  1,  1,  1,  1,  1,  1,  1,  1,  1,  1,\n",
       "        1,  1,  1,  1,  1,  1,  1,  1,  1,  1,  1,  1,  1,  1,  1,  1,  1,\n",
       "        1,  1,  1,  1,  1,  1,  1,  1,  1,  1,  1,  1,  1,  1,  1,  1,  1,\n",
       "        1,  1,  1,  1,  1,  1,  1,  1,  1,  1,  1,  1,  1,  1,  1,  1,  1,\n",
       "        1,  1,  1,  1,  1,  1,  1,  1,  1,  1,  1,  1,  1,  1,  1,  1,  1,\n",
       "        1,  1,  1,  1,  1,  1,  1,  1,  1,  1,  1,  1,  1,  1,  1,  1,  1,\n",
       "        1,  1,  1,  1,  1,  1,  1,  1,  1,  1,  1,  1,  1,  1,  1,  1,  1,\n",
       "        1,  1,  1,  1,  1,  1,  1,  1,  1,  1,  1,  1,  1,  1,  1,  1,  1,\n",
       "        1,  1,  1,  1,  1,  1,  1,  1,  1,  1,  1,  1,  1,  1,  1,  1,  1,\n",
       "        1,  1,  1,  1,  1,  1,  1,  1,  1,  1,  1,  1,  1,  1,  1,  1,  1,\n",
       "        1,  1,  1,  1,  1,  1,  1,  1,  1,  1,  1,  1,  1,  1,  1,  1,  1,\n",
       "        1,  1,  1,  1,  1,  1,  1,  1,  1,  1,  1,  1,  1,  1,  1,  1,  1,\n",
       "        1,  1,  1,  1,  1,  1,  1,  1,  1,  1,  1,  1,  1,  1,  1,  1,  1,\n",
       "        1,  1,  1,  1,  1,  1,  1,  1,  1,  1,  1,  1,  1,  1,  1,  1,  1,\n",
       "        1,  1,  1,  1,  1,  1,  1, -1, -1, -1, -1, -1, -1, -1, -1, -1, -1,\n",
       "       -1, -1, -1, -1, -1, -1, -1, -1, -1, -1, -1, -1, -1, -1, -1, -1, -1,\n",
       "       -1, -1, -1, -1, -1, -1, -1, -1, -1, -1, -1, -1, -1, -1, -1, -1, -1,\n",
       "       -1, -1, -1, -1, -1, -1, -1, -1, -1, -1, -1, -1, -1, -1, -1, -1, -1,\n",
       "       -1, -1, -1, -1, -1, -1, -1, -1, -1, -1, -1, -1, -1, -1, -1, -1, -1,\n",
       "       -1, -1, -1, -1, -1, -1, -1, -1, -1, -1, -1, -1, -1, -1, -1, -1, -1,\n",
       "       -1, -1, -1, -1, -1, -1, -1, -1, -1, -1, -1, -1, -1, -1, -1, -1, -1,\n",
       "       -1, -1, -1, -1, -1, -1, -1, -1, -1, -1, -1, -1, -1, -1, -1, -1, -1,\n",
       "       -1, -1, -1, -1, -1, -1, -1, -1, -1, -1, -1, -1, -1, -1, -1, -1, -1,\n",
       "       -1, -1, -1, -1, -1, -1, -1, -1, -1, -1, -1, -1, -1, -1, -1, -1, -1,\n",
       "       -1, -1, -1, -1, -1, -1, -1, -1, -1, -1, -1, -1, -1, -1, -1, -1, -1,\n",
       "       -1, -1, -1, -1, -1, -1, -1, -1, -1, -1, -1, -1, -1, -1, -1, -1, -1,\n",
       "       -1, -1, -1, -1, -1, -1, -1, -1, -1, -1, -1, -1, -1, -1, -1, -1, -1,\n",
       "       -1, -1, -1, -1, -1, -1, -1, -1, -1, -1, -1, -1, -1, -1, -1, -1, -1,\n",
       "       -1, -1, -1, -1, -1, -1, -1, -1, -1, -1, -1, -1, -1, -1, -1, -1, -1,\n",
       "       -1, -1, -1, -1, -1, -1, -1, -1, -1, -1, -1, -1, -1, -1, -1, -1, -1,\n",
       "       -1, -1, -1, -1, -1])"
      ]
     },
     "execution_count": 6219,
     "metadata": {},
     "output_type": "execute_result"
    }
   ],
   "source": [
    "m_rot"
   ]
  },
  {
   "cell_type": "code",
   "execution_count": 6220,
   "metadata": {},
   "outputs": [
    {
     "data": {
      "text/plain": [
       "-5.01"
      ]
     },
     "execution_count": 6220,
     "metadata": {},
     "output_type": "execute_result"
    }
   ],
   "source": [
    "h"
   ]
  },
  {
   "cell_type": "code",
   "execution_count": 6221,
   "metadata": {},
   "outputs": [
    {
     "data": {
      "text/plain": [
       "(-1, 1)"
      ]
     },
     "execution_count": 6221,
     "metadata": {},
     "output_type": "execute_result"
    },
    {
     "data": {
      "image/png": "[encoded data removed]",
      "text/plain": [
       "<Figure size 576x576 with 1 Axes>"
      ]
     },
     "metadata": {
      "needs_background": "light"
     },
     "output_type": "display_data"
    }
   ],
   "source": [
    "import matplotlib.pyplot as plt\n",
    "\n",
    "norm=1.00\n",
    "\n",
    "plt.figure(figsize=(8,8))\n",
    "\n",
    "plt.title(\"Interacting Single Domains\",size=40)\n",
    "\n",
    "#plt.scatter(np.array(h_inter)[:int(len(h_inter)*2/2.)],np.array(m_inter)[:int(len(h_inter)*2/2.)]/norm,color='r')\n",
    "plt.scatter(np.array(h_inter),(3/4*np.array(m_inter)+1/4*m_rot)/1./norm,color='r')\n",
    "#plt.scatter(-np.array(h_inter),-np.array(m_inter)/norm,color='b')\n",
    "\n",
    "plt.scatter(hexp_on,np.array(mexp_on)/0.99)\n",
    "\n",
    "#plt.xlim(-1600*3*3,1600*3*3)\n",
    "plt.xlim(-abs(hini/2.),abs(hini/2.))\n",
    "plt.ylim(-1,1)\n",
    "#plt.savefig('firstsimul_20x20_interdipol_3D.jpeg')\n",
    "#plt.savefig('firstsimul_20x20_nointer_3D.jpeg')\n",
    "##plt.savefig('firstsimul_10x10_nointer.jpeg')\n",
    "#plt.savefig('firstsimul_12x12_nointer_3D.jpeg')\n",
    "#plt.savefig('firstsimul_12x12_interdipol_3D.jpeg')\n",
    "\n",
    "\n",
    "\n"
   ]
  },
  {
   "cell_type": "code",
   "execution_count": 6036,
   "metadata": {},
   "outputs": [
    {
     "data": {
      "text/plain": [
       "0.5277777777777778"
      ]
     },
     "execution_count": 6036,
     "metadata": {},
     "output_type": "execute_result"
    }
   ],
   "source": [
    "hphi/pi"
   ]
  },
  {
   "cell_type": "code",
   "execution_count": 4584,
   "metadata": {},
   "outputs": [
    {
     "name": "stdout",
     "output_type": "stream",
     "text": [
      "9999.71436\t1\n",
      "\n"
     ]
    }
   ],
   "source": [
    "# experimental data\n",
    "path='/home/vagner/Desktop/galfenol/gal90deg.txt'\n",
    "#path='/home/vagner/Desktop/galfenol/gal50deg.txt'\n",
    "#path = '/home/vagner/Desktop/galfenol/gal0deg.txt'\n",
    "\n",
    "hexp10ktube = open(path,'r')\n",
    "hexp=hexp10ktube.readlines()\n",
    "\n",
    "print(hexp[0])\n",
    "#print(a1[0][1])\n",
    "\n",
    "hexp_on=[]\n",
    "mexp_on=[]\n",
    "hexp10ktube.close()\n",
    "for i in range(len(hexp)):\n",
    "    listexp=hexp[i].split('\\t')\n",
    "    hexp_on.append(float(listexp[0]))\n",
    "    mexp_on.append(float(listexp[1].split('\\n')[0]))"
   ]
  },
  {
   "cell_type": "code",
   "execution_count": null,
   "metadata": {},
   "outputs": [],
   "source": []
  },
  {
   "cell_type": "code",
   "execution_count": 4370,
   "metadata": {},
   "outputs": [],
   "source": [
    "mexp_on=np.array(mexp_on)\n",
    "hant=0\n",
    "for i in range(len(hexp_on)):\n",
    "    if(hexp_on[i]>-100 and hant<-100):\n",
    "        h11_index=i\n",
    "    if(hexp_on[i]>-200 and hant<-200):\n",
    "        h22_index=i\n",
    "    hant=hexp_on[i]\n"
   ]
  },
  {
   "cell_type": "code",
   "execution_count": 2872,
   "metadata": {},
   "outputs": [
    {
     "data": {
      "text/plain": [
       "1684"
      ]
     },
     "execution_count": 2872,
     "metadata": {},
     "output_type": "execute_result"
    }
   ],
   "source": [
    "h11_index\n",
    "h22_index"
   ]
  },
  {
   "cell_type": "code",
   "execution_count": 2873,
   "metadata": {},
   "outputs": [
    {
     "data": {
      "text/plain": [
       "-100.1131"
      ]
     },
     "execution_count": 2873,
     "metadata": {},
     "output_type": "execute_result"
    }
   ],
   "source": [
    "hexp_on[h22_index]-hexp_on[h11_index]"
   ]
  },
  {
   "cell_type": "code",
   "execution_count": 2874,
   "metadata": {},
   "outputs": [
    {
     "data": {
      "text/plain": [
       "-0.89326"
      ]
     },
     "execution_count": 2874,
     "metadata": {},
     "output_type": "execute_result"
    }
   ],
   "source": [
    "mexp_on[h22_index]"
   ]
  },
  {
   "cell_type": "code",
   "execution_count": 2875,
   "metadata": {},
   "outputs": [
    {
     "data": {
      "text/plain": [
       "-0.09305000000000008"
      ]
     },
     "execution_count": 2875,
     "metadata": {},
     "output_type": "execute_result"
    }
   ],
   "source": [
    "mexp_on[h22_index]-mexp_on[h11_index]"
   ]
  },
  {
   "cell_type": "code",
   "execution_count": 2876,
   "metadata": {},
   "outputs": [
    {
     "data": {
      "text/plain": [
       "array([9.29422245, 9.27334661, 9.26227491, ..., 9.26513541, 9.28456489,\n",
       "       9.29425285])"
      ]
     },
     "execution_count": 2876,
     "metadata": {},
     "output_type": "execute_result"
    }
   ],
   "source": [
    "(mexp_on[h22_index]-mexp_on[h11_index])/(hexp_on[h22_index]-hexp_on[h11_index])*np.array(hexp_on)"
   ]
  },
  {
   "cell_type": "code",
   "execution_count": 2877,
   "metadata": {},
   "outputs": [],
   "source": [
    "mexp_on=mexp_on-(mexp_on[h22_index]-mexp_on[h11_index])/(hexp_on[h22_index]-hexp_on[h11_index])*np.array(hexp_on)"
   ]
  },
  {
   "cell_type": "code",
   "execution_count": 2878,
   "metadata": {},
   "outputs": [],
   "source": [
    "norm=abs(mexp_on[h11_index])"
   ]
  },
  {
   "cell_type": "code",
   "execution_count": 2879,
   "metadata": {},
   "outputs": [],
   "source": [
    "mexp_on=mexp_on/norm"
   ]
  },
  {
   "cell_type": "code",
   "execution_count": 4680,
   "metadata": {},
   "outputs": [],
   "source": [
    "# experimental data\n",
    "path1='/home/vagner/Desktop/galfenol/gal90deg.txt'\n",
    "path2='/home/vagner/Desktop/galfenol/gal50deg.txt'\n",
    "path3 = '/home/vagner/Desktop/galfenol/gal0deg.txt'\n",
    "\n",
    "hexp10ktube = open(path1,'r')\n",
    "hexp=hexp10ktube.readlines()\n",
    "\n",
    "\n",
    "hexp_on1=[]\n",
    "mexp_on1=[]\n",
    "hexp10ktube.close()\n",
    "for i in range(len(hexp)):\n",
    "    listexp=hexp[i].split('\\t')\n",
    "    hexp_on1.append(float(listexp[0]))\n",
    "    mexp_on1.append(float(listexp[1].split('\\n')[0]))\n",
    "\n",
    "hexp10ktube = open(path2,'r')\n",
    "hexp=hexp10ktube.readlines()\n",
    "\n",
    "\n",
    "hexp_on2=[]\n",
    "mexp_on2=[]\n",
    "hexp10ktube.close()\n",
    "for i in range(len(hexp)):\n",
    "    listexp=hexp[i].split('\\t')\n",
    "    hexp_on2.append(float(listexp[0]))\n",
    "    mexp_on2.append(float(listexp[1].split('\\n')[0]))\n",
    "        \n",
    "    \n",
    "hexp10ktube = open(path3,'r')\n",
    "hexp=hexp10ktube.readlines()\n",
    "\n",
    "\n",
    "hexp_on3=[]\n",
    "mexp_on3=[]\n",
    "hexp10ktube.close()\n",
    "for i in range(len(hexp)):\n",
    "    listexp=hexp[i].split('\\t')\n",
    "    hexp_on3.append(float(listexp[0]))\n",
    "    mexp_on3.append(float(listexp[1].split('\\n')[0]))\n",
    "        "
   ]
  },
  {
   "cell_type": "code",
   "execution_count": 4689,
   "metadata": {},
   "outputs": [],
   "source": [
    "mexp_on1=np.array(mexp_on1)\n",
    "hant=0\n",
    "for i in range(len(hexp_on1)):\n",
    "    if(hexp_on1[i]>-100 and hant<-100):\n",
    "        h11_index=i\n",
    "    if(hexp_on1[i]>-200 and hant<-200):\n",
    "        h22_index=i\n",
    "    hant=hexp_on1[i]\n",
    "\n",
    "mexp_on1=mexp_on1-(mexp_on1[h22_index]-mexp_on1[h11_index])/(hexp_on1[h22_index]-hexp_on1[h11_index])*np.array(hexp_on1)    \n",
    "norm=abs(mexp_on1[h11_index])\n",
    "mexp_on1=mexp_on1/norm\n"
   ]
  },
  {
   "cell_type": "code",
   "execution_count": 4682,
   "metadata": {},
   "outputs": [],
   "source": [
    "mexp_on2=np.array(mexp_on2)\n",
    "hant=0\n",
    "for i in range(len(hexp_on2)):\n",
    "    if(hexp_on2[i]>-100 and hant<-100):\n",
    "        h11_index=i\n",
    "    if(hexp_on2[i]>-200 and hant<-200):\n",
    "        h22_index=i\n",
    "    hant=hexp_on2[i]\n",
    "\n",
    "mexp_on2=mexp_on2-(mexp_on2[h22_index]-mexp_on2[h11_index])/(hexp_on2[h22_index]-hexp_on2[h11_index])*np.array(hexp_on2)    \n",
    "norm=abs(mexp_on2[h11_index])\n",
    "mexp_on2=mexp_on2/norm\n"
   ]
  },
  {
   "cell_type": "code",
   "execution_count": 4683,
   "metadata": {},
   "outputs": [],
   "source": [
    "mexp_on3=np.array(mexp_on3)\n",
    "hant=0\n",
    "for i in range(len(hexp_on3)):\n",
    "    if(hexp_on3[i]>-100 and hant<-100):\n",
    "        h11_index=i\n",
    "    if(hexp_on3[i]>-200 and hant<-200):\n",
    "        h22_index=i\n",
    "    hant=hexp_on3[i]\n",
    "\n",
    "mexp_on3=mexp_on3-(mexp_on3[h22_index]-mexp_on3[h11_index])/(hexp_on3[h22_index]-hexp_on3[h11_index])*np.array(hexp_on3)    \n",
    "norm=abs(mexp_on3[h11_index])\n",
    "mexp_on3=mexp_on3/norm\n"
   ]
  },
  {
   "cell_type": "code",
   "execution_count": 4690,
   "metadata": {},
   "outputs": [
    {
     "data": {
      "image/png": "[encoded data removed]",
      "text/plain": [
       "<Figure size 504x504 with 1 Axes>"
      ]
     },
     "metadata": {
      "needs_background": "light"
     },
     "output_type": "display_data"
    }
   ],
   "source": [
    "import matplotlib.pyplot as plt\n",
    "\n",
    "norm=1.00\n",
    "\n",
    "plt.figure(figsize=(7,7))\n",
    "\n",
    "plt.title(\"Interacting Single Domains\",size=40)\n",
    "\n",
    "l1=plt.scatter(hexp_on1,np.array(mexp_on1),color='black',label='90 deg')\n",
    "l2=plt.scatter(hexp_on2,np.array(mexp_on2),color='blue',label='50 deg')\n",
    "l3=plt.scatter(hexp_on3,np.array(mexp_on3),color='green',label='0 deg')\n",
    "\n",
    "plt.legend((l1,l2,l3),('90 deg','50 deg','0 deg'),fontsize=20)\n",
    "\n",
    "#plt.xlim(-1600*3*3,1600*3*3)\n",
    "plt.xlim(-abs(hini/1.),abs(hini/1.))\n",
    "plt.ylim(-1,1)\n",
    "#plt.savefig('firstsimul_20x20_interdipol_3D.jpeg')\n",
    "#plt.savefig('firstsimul_20x20_nointer_3D.jpeg')\n",
    "##plt.savefig('firstsimul_10x10_nointer.jpeg')\n",
    "#plt.savefig('firstsimul_12x12_nointer_3D.jpeg')\n",
    "#plt.savefig('firstsimul_12x12_interdipol_3D.jpeg')\n",
    "\n",
    "plt.show()\n",
    "\n",
    "\n"
   ]
  },
  {
   "cell_type": "code",
   "execution_count": null,
   "metadata": {},
   "outputs": [],
   "source": []
  },
  {
   "cell_type": "code",
   "execution_count": null,
   "metadata": {},
   "outputs": [],
   "source": [
    "path = '/home/vagner/Desktop/RolledupNanomembranes/python3/data_tube_10K_perptubeaxis_h.dat'\n",
    "#path = '/home/vagner/Desktop/RolledupNanomembranes/python3/data_tube_10K_alongtubeaxis_h.dat'\n",
    "\n",
    "hexp10ktube = open(path,'r')\n",
    "hexp=hexp10ktube.readlines()\n",
    "\n",
    "print(hexp[0])\n",
    "#print(a1[0][1])\n",
    "\n",
    "hexp10ktube.close()\n",
    "\n",
    "#hexp = [float(i) for i in hexp]\n",
    "\n",
    "\n",
    "path = '/home/vagner/Desktop/RolledupNanomembranes/python3/data_tube_10K_perptubeaxis_m.dat'\n",
    "#path = '/home/vagner/Desktop/RolledupNanomembranes/python3/data_tube_10K_alongtubeaxis_m.dat'\n",
    "mexp10ktube = open(path,'r')\n",
    "mexp=mexp10ktube.readlines()\n",
    "\n",
    "print(mexp[0])\n",
    "#print(a1[0][1])\n",
    "\n",
    "mexp10ktube.close()\n",
    "\n",
    "#mexp = [float(i)*1.00 for i in mexp]\n",
    "hexp_on=[]\n",
    "mexp_on=[]\n",
    "hexp10ktube.close()\n",
    "for i in range(1,len(hexp)):\n",
    "#    listexp=hexp[i].split('\\t')\n",
    "#    hexp_on.append(float(listexp[0]))\n",
    "#    mexp_on.append(float(listexp[1].split('\\n')[0]))\n",
    "#    print(hexp[i],'e',i)\n",
    "    hexp_on.append(float(hexp[i]))\n",
    "    mexp_on.append(float(mexp[i]))    "
   ]
  },
  {
   "cell_type": "code",
   "execution_count": null,
   "metadata": {},
   "outputs": [],
   "source": [
    "mexp_on"
   ]
  },
  {
   "cell_type": "code",
   "execution_count": null,
   "metadata": {},
   "outputs": [],
   "source": [
    "stepmag"
   ]
  },
  {
   "cell_type": "code",
   "execution_count": null,
   "metadata": {},
   "outputs": [],
   "source": [
    "coefmag"
   ]
  },
  {
   "cell_type": "code",
   "execution_count": null,
   "metadata": {},
   "outputs": [],
   "source": []
  },
  {
   "cell_type": "code",
   "execution_count": null,
   "metadata": {},
   "outputs": [],
   "source": []
  },
  {
   "cell_type": "code",
   "execution_count": null,
   "metadata": {},
   "outputs": [],
   "source": []
  },
  {
   "cell_type": "code",
   "execution_count": null,
   "metadata": {},
   "outputs": [],
   "source": []
  },
  {
   "cell_type": "code",
   "execution_count": null,
   "metadata": {},
   "outputs": [],
   "source": []
  },
  {
   "cell_type": "code",
   "execution_count": null,
   "metadata": {},
   "outputs": [],
   "source": []
  },
  {
   "cell_type": "code",
   "execution_count": null,
   "metadata": {},
   "outputs": [],
   "source": []
  },
  {
   "cell_type": "code",
   "execution_count": null,
   "metadata": {},
   "outputs": [],
   "source": []
  },
  {
   "cell_type": "code",
   "execution_count": null,
   "metadata": {},
   "outputs": [],
   "source": []
  },
  {
   "cell_type": "code",
   "execution_count": null,
   "metadata": {},
   "outputs": [],
   "source": []
  },
  {
   "cell_type": "code",
   "execution_count": null,
   "metadata": {},
   "outputs": [],
   "source": []
  }
 ],
 "metadata": {
  "kernelspec": {
   "display_name": "Python 3",
   "language": "python",
   "name": "python3"
  },
  "language_info": {
   "codemirror_mode": {
    "name": "ipython",
    "version": 3
   },
   "file_extension": ".py",
   "mimetype": "text/x-python",
   "name": "python",
   "nbconvert_exporter": "python",
   "pygments_lexer": "ipython3",
   "version": "3.6.9"
  }
 },
 "nbformat": 4,
 "nbformat_minor": 2
}
